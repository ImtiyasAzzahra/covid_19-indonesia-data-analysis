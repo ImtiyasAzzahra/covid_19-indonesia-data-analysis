{
 "cells": [
  {
   "cell_type": "code",
   "execution_count": 1,
   "metadata": {},
   "outputs": [],
   "source": [
    "import pandas as pd\n",
    "import numpy as np\n",
    "from dateutil import parser\n",
    "import duckdb as db\n",
    "import plotly.express as px\n",
    "from plotly.subplots import make_subplots\n",
    "import plotly.graph_objects as go\n",
    "import matplotlib.pyplot as plt"
   ]
  },
  {
   "cell_type": "code",
   "execution_count": 2,
   "metadata": {},
   "outputs": [
    {
     "data": {
      "text/html": [
       "<div>\n",
       "<style scoped>\n",
       "    .dataframe tbody tr th:only-of-type {\n",
       "        vertical-align: middle;\n",
       "    }\n",
       "\n",
       "    .dataframe tbody tr th {\n",
       "        vertical-align: top;\n",
       "    }\n",
       "\n",
       "    .dataframe thead th {\n",
       "        text-align: right;\n",
       "    }\n",
       "</style>\n",
       "<table border=\"1\" class=\"dataframe\">\n",
       "  <thead>\n",
       "    <tr style=\"text-align: right;\">\n",
       "      <th></th>\n",
       "      <th>Date</th>\n",
       "      <th>Location ISO Code</th>\n",
       "      <th>Location</th>\n",
       "      <th>New Cases</th>\n",
       "      <th>New Deaths</th>\n",
       "      <th>New Recovered</th>\n",
       "      <th>New Active Cases</th>\n",
       "      <th>Total Cases</th>\n",
       "      <th>Total Deaths</th>\n",
       "      <th>Total Recovered</th>\n",
       "      <th>...</th>\n",
       "      <th>Latitude</th>\n",
       "      <th>New Cases per Million</th>\n",
       "      <th>Total Cases per Million</th>\n",
       "      <th>New Deaths per Million</th>\n",
       "      <th>Total Deaths per Million</th>\n",
       "      <th>Total Deaths per 100rb</th>\n",
       "      <th>Case Fatality Rate</th>\n",
       "      <th>Case Recovered Rate</th>\n",
       "      <th>Growth Factor of New Cases</th>\n",
       "      <th>Growth Factor of New Deaths</th>\n",
       "    </tr>\n",
       "  </thead>\n",
       "  <tbody>\n",
       "    <tr>\n",
       "      <th>0</th>\n",
       "      <td>3/1/2020</td>\n",
       "      <td>ID-JK</td>\n",
       "      <td>DKI Jakarta</td>\n",
       "      <td>2</td>\n",
       "      <td>0</td>\n",
       "      <td>0</td>\n",
       "      <td>2</td>\n",
       "      <td>39</td>\n",
       "      <td>20</td>\n",
       "      <td>75</td>\n",
       "      <td>...</td>\n",
       "      <td>-6.204699</td>\n",
       "      <td>0.18</td>\n",
       "      <td>3.60</td>\n",
       "      <td>0.0</td>\n",
       "      <td>1.84</td>\n",
       "      <td>0.18</td>\n",
       "      <td>51.28%</td>\n",
       "      <td>192.31%</td>\n",
       "      <td>NaN</td>\n",
       "      <td>NaN</td>\n",
       "    </tr>\n",
       "    <tr>\n",
       "      <th>1</th>\n",
       "      <td>3/2/2020</td>\n",
       "      <td>ID-JK</td>\n",
       "      <td>DKI Jakarta</td>\n",
       "      <td>2</td>\n",
       "      <td>0</td>\n",
       "      <td>0</td>\n",
       "      <td>2</td>\n",
       "      <td>41</td>\n",
       "      <td>20</td>\n",
       "      <td>75</td>\n",
       "      <td>...</td>\n",
       "      <td>-6.204699</td>\n",
       "      <td>0.18</td>\n",
       "      <td>3.78</td>\n",
       "      <td>0.0</td>\n",
       "      <td>1.84</td>\n",
       "      <td>0.18</td>\n",
       "      <td>48.78%</td>\n",
       "      <td>182.93%</td>\n",
       "      <td>1.0</td>\n",
       "      <td>1.0</td>\n",
       "    </tr>\n",
       "    <tr>\n",
       "      <th>2</th>\n",
       "      <td>3/2/2020</td>\n",
       "      <td>IDN</td>\n",
       "      <td>Indonesia</td>\n",
       "      <td>2</td>\n",
       "      <td>0</td>\n",
       "      <td>0</td>\n",
       "      <td>2</td>\n",
       "      <td>2</td>\n",
       "      <td>0</td>\n",
       "      <td>0</td>\n",
       "      <td>...</td>\n",
       "      <td>-0.789275</td>\n",
       "      <td>0.01</td>\n",
       "      <td>0.01</td>\n",
       "      <td>0.0</td>\n",
       "      <td>0.00</td>\n",
       "      <td>0.00</td>\n",
       "      <td>0.00%</td>\n",
       "      <td>0.00%</td>\n",
       "      <td>NaN</td>\n",
       "      <td>NaN</td>\n",
       "    </tr>\n",
       "    <tr>\n",
       "      <th>3</th>\n",
       "      <td>3/2/2020</td>\n",
       "      <td>ID-RI</td>\n",
       "      <td>Riau</td>\n",
       "      <td>1</td>\n",
       "      <td>0</td>\n",
       "      <td>0</td>\n",
       "      <td>1</td>\n",
       "      <td>1</td>\n",
       "      <td>0</td>\n",
       "      <td>1</td>\n",
       "      <td>...</td>\n",
       "      <td>0.511648</td>\n",
       "      <td>0.16</td>\n",
       "      <td>0.16</td>\n",
       "      <td>0.0</td>\n",
       "      <td>0.00</td>\n",
       "      <td>0.00</td>\n",
       "      <td>0.00%</td>\n",
       "      <td>100.00%</td>\n",
       "      <td>NaN</td>\n",
       "      <td>NaN</td>\n",
       "    </tr>\n",
       "    <tr>\n",
       "      <th>4</th>\n",
       "      <td>3/3/2020</td>\n",
       "      <td>ID-JK</td>\n",
       "      <td>DKI Jakarta</td>\n",
       "      <td>2</td>\n",
       "      <td>0</td>\n",
       "      <td>0</td>\n",
       "      <td>2</td>\n",
       "      <td>43</td>\n",
       "      <td>20</td>\n",
       "      <td>75</td>\n",
       "      <td>...</td>\n",
       "      <td>-6.204699</td>\n",
       "      <td>0.18</td>\n",
       "      <td>3.96</td>\n",
       "      <td>0.0</td>\n",
       "      <td>1.84</td>\n",
       "      <td>0.18</td>\n",
       "      <td>46.51%</td>\n",
       "      <td>174.42%</td>\n",
       "      <td>1.0</td>\n",
       "      <td>1.0</td>\n",
       "    </tr>\n",
       "  </tbody>\n",
       "</table>\n",
       "<p>5 rows × 38 columns</p>\n",
       "</div>"
      ],
      "text/plain": [
       "       Date Location ISO Code     Location  New Cases  New Deaths  \\\n",
       "0  3/1/2020             ID-JK  DKI Jakarta          2           0   \n",
       "1  3/2/2020             ID-JK  DKI Jakarta          2           0   \n",
       "2  3/2/2020               IDN    Indonesia          2           0   \n",
       "3  3/2/2020             ID-RI         Riau          1           0   \n",
       "4  3/3/2020             ID-JK  DKI Jakarta          2           0   \n",
       "\n",
       "   New Recovered  New Active Cases  Total Cases  Total Deaths  \\\n",
       "0              0                 2           39            20   \n",
       "1              0                 2           41            20   \n",
       "2              0                 2            2             0   \n",
       "3              0                 1            1             0   \n",
       "4              0                 2           43            20   \n",
       "\n",
       "   Total Recovered  ...  Latitude New Cases per Million  \\\n",
       "0               75  ... -6.204699                  0.18   \n",
       "1               75  ... -6.204699                  0.18   \n",
       "2                0  ... -0.789275                  0.01   \n",
       "3                1  ...  0.511648                  0.16   \n",
       "4               75  ... -6.204699                  0.18   \n",
       "\n",
       "   Total Cases per Million New Deaths per Million Total Deaths per Million  \\\n",
       "0                     3.60                    0.0                     1.84   \n",
       "1                     3.78                    0.0                     1.84   \n",
       "2                     0.01                    0.0                     0.00   \n",
       "3                     0.16                    0.0                     0.00   \n",
       "4                     3.96                    0.0                     1.84   \n",
       "\n",
       "  Total Deaths per 100rb Case Fatality Rate Case Recovered Rate  \\\n",
       "0                   0.18             51.28%             192.31%   \n",
       "1                   0.18             48.78%             182.93%   \n",
       "2                   0.00              0.00%               0.00%   \n",
       "3                   0.00              0.00%             100.00%   \n",
       "4                   0.18             46.51%             174.42%   \n",
       "\n",
       "  Growth Factor of New Cases  Growth Factor of New Deaths  \n",
       "0                        NaN                          NaN  \n",
       "1                        1.0                          1.0  \n",
       "2                        NaN                          NaN  \n",
       "3                        NaN                          NaN  \n",
       "4                        1.0                          1.0  \n",
       "\n",
       "[5 rows x 38 columns]"
      ]
     },
     "execution_count": 2,
     "metadata": {},
     "output_type": "execute_result"
    }
   ],
   "source": [
    "data = pd.read_csv(\"covid_19_indonesia_time_series_all.csv\")\n",
    "data.head()"
   ]
  },
  {
   "cell_type": "code",
   "execution_count": 3,
   "metadata": {},
   "outputs": [
    {
     "name": "stdout",
     "output_type": "stream",
     "text": [
      "<class 'pandas.core.frame.DataFrame'>\n",
      "RangeIndex: 31822 entries, 0 to 31821\n",
      "Data columns (total 38 columns):\n",
      " #   Column                       Non-Null Count  Dtype  \n",
      "---  ------                       --------------  -----  \n",
      " 0   Date                         31822 non-null  object \n",
      " 1   Location ISO Code            31822 non-null  object \n",
      " 2   Location                     31822 non-null  object \n",
      " 3   New Cases                    31822 non-null  int64  \n",
      " 4   New Deaths                   31822 non-null  int64  \n",
      " 5   New Recovered                31822 non-null  int64  \n",
      " 6   New Active Cases             31822 non-null  int64  \n",
      " 7   Total Cases                  31822 non-null  int64  \n",
      " 8   Total Deaths                 31822 non-null  int64  \n",
      " 9   Total Recovered              31822 non-null  int64  \n",
      " 10  Total Active Cases           31822 non-null  int64  \n",
      " 11  Location Level               31822 non-null  object \n",
      " 12  City or Regency              0 non-null      float64\n",
      " 13  Province                     30893 non-null  object \n",
      " 14  Country                      31822 non-null  object \n",
      " 15  Continent                    31822 non-null  object \n",
      " 16  Island                       30893 non-null  object \n",
      " 17  Time Zone                    30893 non-null  object \n",
      " 18  Special Status               4558 non-null   object \n",
      " 19  Total Regencies              31822 non-null  int64  \n",
      " 20  Total Cities                 30921 non-null  float64\n",
      " 21  Total Districts              31822 non-null  int64  \n",
      " 22  Total Urban Villages         30918 non-null  float64\n",
      " 23  Total Rural Villages         30893 non-null  float64\n",
      " 24  Area (km2)                   31822 non-null  int64  \n",
      " 25  Population                   31822 non-null  int64  \n",
      " 26  Population Density           31822 non-null  float64\n",
      " 27  Longitude                    31822 non-null  float64\n",
      " 28  Latitude                     31822 non-null  float64\n",
      " 29  New Cases per Million        31822 non-null  float64\n",
      " 30  Total Cases per Million      31822 non-null  float64\n",
      " 31  New Deaths per Million       31822 non-null  float64\n",
      " 32  Total Deaths per Million     31822 non-null  float64\n",
      " 33  Total Deaths per 100rb       31822 non-null  float64\n",
      " 34  Case Fatality Rate           31822 non-null  object \n",
      " 35  Case Recovered Rate          31822 non-null  object \n",
      " 36  Growth Factor of New Cases   29883 non-null  float64\n",
      " 37  Growth Factor of New Deaths  28375 non-null  float64\n",
      "dtypes: float64(14), int64(12), object(12)\n",
      "memory usage: 9.2+ MB\n"
     ]
    }
   ],
   "source": [
    "data.info()"
   ]
  },
  {
   "cell_type": "code",
   "execution_count": 4,
   "metadata": {},
   "outputs": [
    {
     "name": "stdout",
     "output_type": "stream",
     "text": [
      "<class 'pandas.core.frame.DataFrame'>\n",
      "RangeIndex: 31822 entries, 0 to 31821\n",
      "Data columns (total 38 columns):\n",
      " #   Column                       Non-Null Count  Dtype         \n",
      "---  ------                       --------------  -----         \n",
      " 0   Date                         31822 non-null  datetime64[ns]\n",
      " 1   Location ISO Code            31822 non-null  object        \n",
      " 2   Location                     31822 non-null  object        \n",
      " 3   New Cases                    31822 non-null  int64         \n",
      " 4   New Deaths                   31822 non-null  int64         \n",
      " 5   New Recovered                31822 non-null  int64         \n",
      " 6   New Active Cases             31822 non-null  int64         \n",
      " 7   Total Cases                  31822 non-null  int64         \n",
      " 8   Total Deaths                 31822 non-null  int64         \n",
      " 9   Total Recovered              31822 non-null  int64         \n",
      " 10  Total Active Cases           31822 non-null  int64         \n",
      " 11  Location Level               31822 non-null  object        \n",
      " 12  City or Regency              0 non-null      float64       \n",
      " 13  Province                     30893 non-null  object        \n",
      " 14  Country                      31822 non-null  object        \n",
      " 15  Continent                    31822 non-null  object        \n",
      " 16  Island                       30893 non-null  object        \n",
      " 17  Time Zone                    30893 non-null  object        \n",
      " 18  Special Status               4558 non-null   object        \n",
      " 19  Total Regencies              31822 non-null  int64         \n",
      " 20  Total Cities                 30921 non-null  float64       \n",
      " 21  Total Districts              31822 non-null  int64         \n",
      " 22  Total Urban Villages         30918 non-null  float64       \n",
      " 23  Total Rural Villages         30893 non-null  float64       \n",
      " 24  Area (km2)                   31822 non-null  int64         \n",
      " 25  Population                   31822 non-null  int64         \n",
      " 26  Population Density           31822 non-null  float64       \n",
      " 27  Longitude                    31822 non-null  float64       \n",
      " 28  Latitude                     31822 non-null  float64       \n",
      " 29  New Cases per Million        31822 non-null  float64       \n",
      " 30  Total Cases per Million      31822 non-null  float64       \n",
      " 31  New Deaths per Million       31822 non-null  float64       \n",
      " 32  Total Deaths per Million     31822 non-null  float64       \n",
      " 33  Total Deaths per 100rb       31822 non-null  float64       \n",
      " 34  Case Fatality Rate           31822 non-null  object        \n",
      " 35  Case Recovered Rate          31822 non-null  object        \n",
      " 36  Growth Factor of New Cases   29883 non-null  float64       \n",
      " 37  Growth Factor of New Deaths  28375 non-null  float64       \n",
      "dtypes: datetime64[ns](1), float64(14), int64(12), object(11)\n",
      "memory usage: 9.2+ MB\n"
     ]
    }
   ],
   "source": [
    "data['Date'] = data['Date'].map(parser.parse)\n",
    "data.info()"
   ]
  },
  {
   "cell_type": "code",
   "execution_count": 5,
   "metadata": {},
   "outputs": [],
   "source": [
    "def query(sql_query:str) -> pd.DataFrame:\n",
    "    return db.sql(sql_query).df()"
   ]
  },
  {
   "cell_type": "code",
   "execution_count": 6,
   "metadata": {},
   "outputs": [
    {
     "name": "stdout",
     "output_type": "stream",
     "text": [
      "<class 'pandas.core.frame.DataFrame'>\n",
      "RangeIndex: 31822 entries, 0 to 31821\n",
      "Data columns (total 38 columns):\n",
      " #   Column                       Non-Null Count  Dtype         \n",
      "---  ------                       --------------  -----         \n",
      " 0   Date                         31822 non-null  datetime64[ns]\n",
      " 1   Location ISO Code            31822 non-null  object        \n",
      " 2   Location                     31822 non-null  object        \n",
      " 3   New Cases                    31822 non-null  int64         \n",
      " 4   New Deaths                   31822 non-null  int64         \n",
      " 5   New Recovered                31822 non-null  int64         \n",
      " 6   New Active Cases             31822 non-null  int64         \n",
      " 7   Total Cases                  31822 non-null  int64         \n",
      " 8   Total Deaths                 31822 non-null  int64         \n",
      " 9   Total Recovered              31822 non-null  int64         \n",
      " 10  Total Active Cases           31822 non-null  int64         \n",
      " 11  Location Level               31822 non-null  object        \n",
      " 12  City or Regency              0 non-null      float64       \n",
      " 13  Province                     30893 non-null  object        \n",
      " 14  Country                      31822 non-null  object        \n",
      " 15  Continent                    31822 non-null  object        \n",
      " 16  Island                       30893 non-null  object        \n",
      " 17  Time Zone                    30893 non-null  object        \n",
      " 18  Special Status               4558 non-null   object        \n",
      " 19  Total Regencies              31822 non-null  int64         \n",
      " 20  Total Cities                 30921 non-null  float64       \n",
      " 21  Total Districts              31822 non-null  int64         \n",
      " 22  Total Urban Villages         30918 non-null  float64       \n",
      " 23  Total Rural Villages         30893 non-null  float64       \n",
      " 24  Area (km2)                   31822 non-null  int64         \n",
      " 25  Population                   31822 non-null  int64         \n",
      " 26  Population Density           31822 non-null  float64       \n",
      " 27  Longitude                    31822 non-null  float64       \n",
      " 28  Latitude                     31822 non-null  float64       \n",
      " 29  New Cases per Million        31822 non-null  float64       \n",
      " 30  Total Cases per Million      31822 non-null  float64       \n",
      " 31  New Deaths per Million       31822 non-null  float64       \n",
      " 32  Total Deaths per Million     31822 non-null  float64       \n",
      " 33  Total Deaths per 100rb       31822 non-null  float64       \n",
      " 34  Case Fatality Rate           31822 non-null  object        \n",
      " 35  Case Recovered Rate          31822 non-null  object        \n",
      " 36  Growth Factor of New Cases   29883 non-null  float64       \n",
      " 37  Growth Factor of New Deaths  28375 non-null  float64       \n",
      "dtypes: datetime64[ns](1), float64(14), int64(12), object(11)\n",
      "memory usage: 9.2+ MB\n"
     ]
    }
   ],
   "source": [
    "data.info()"
   ]
  },
  {
   "cell_type": "markdown",
   "metadata": {},
   "source": [
    "Analisis Kasus Covid Indonesia Berdasarkan Tahun"
   ]
  },
  {
   "cell_type": "code",
   "execution_count": 7,
   "metadata": {},
   "outputs": [
    {
     "name": "stdout",
     "output_type": "stream",
     "text": [
      "<class 'pandas.core.frame.DataFrame'>\n",
      "Index: 30893 entries, 0 to 31820\n",
      "Data columns (total 7 columns):\n",
      " #   Column                       Non-Null Count  Dtype         \n",
      "---  ------                       --------------  -----         \n",
      " 0   Date                         30893 non-null  datetime64[ns]\n",
      " 1   New Cases                    30893 non-null  int64         \n",
      " 2   New Deaths                   30893 non-null  int64         \n",
      " 3   New Recovered                30893 non-null  int64         \n",
      " 4   New Active Cases             30893 non-null  int64         \n",
      " 5   Growth Factor of New Cases   28958 non-null  float64       \n",
      " 6   Growth Factor of New Deaths  27451 non-null  float64       \n",
      "dtypes: datetime64[ns](1), float64(2), int64(4)\n",
      "memory usage: 1.9 MB\n"
     ]
    }
   ],
   "source": [
    "analisis_1 = data.dropna(subset=['Island'])\n",
    "analisis_1 = analisis_1.select_dtypes(exclude=['object'])\n",
    "\n",
    "columns_to_keep = list(analisis_1.columns[:5]) + list(analisis_1.columns[-2:])\n",
    "\n",
    "analisis_1 = analisis_1[columns_to_keep]\n",
    "analisis_1.info()"
   ]
  },
  {
   "cell_type": "code",
   "execution_count": 8,
   "metadata": {},
   "outputs": [
    {
     "data": {
      "text/html": [
       "<div>\n",
       "<style scoped>\n",
       "    .dataframe tbody tr th:only-of-type {\n",
       "        vertical-align: middle;\n",
       "    }\n",
       "\n",
       "    .dataframe tbody tr th {\n",
       "        vertical-align: top;\n",
       "    }\n",
       "\n",
       "    .dataframe thead th {\n",
       "        text-align: right;\n",
       "    }\n",
       "</style>\n",
       "<table border=\"1\" class=\"dataframe\">\n",
       "  <thead>\n",
       "    <tr style=\"text-align: right;\">\n",
       "      <th></th>\n",
       "      <th>Year</th>\n",
       "      <th>New Cases</th>\n",
       "      <th>New Deaths</th>\n",
       "      <th>New Recovered</th>\n",
       "      <th>New Active Cases</th>\n",
       "      <th>Growth Factor of New Cases</th>\n",
       "      <th>Growth Factor of New Deaths</th>\n",
       "    </tr>\n",
       "  </thead>\n",
       "  <tbody>\n",
       "    <tr>\n",
       "      <th>0</th>\n",
       "      <td>2020</td>\n",
       "      <td>750848.0</td>\n",
       "      <td>22993.0</td>\n",
       "      <td>623760.0</td>\n",
       "      <td>104095.0</td>\n",
       "      <td>13074.25</td>\n",
       "      <td>8551.09</td>\n",
       "    </tr>\n",
       "    <tr>\n",
       "      <th>1</th>\n",
       "      <td>2021</td>\n",
       "      <td>3511801.0</td>\n",
       "      <td>121143.0</td>\n",
       "      <td>3490312.0</td>\n",
       "      <td>-99654.0</td>\n",
       "      <td>15970.01</td>\n",
       "      <td>12321.18</td>\n",
       "    </tr>\n",
       "    <tr>\n",
       "      <th>2</th>\n",
       "      <td>2022</td>\n",
       "      <td>2134660.0</td>\n",
       "      <td>13683.0</td>\n",
       "      <td>2090481.0</td>\n",
       "      <td>30496.0</td>\n",
       "      <td>9647.51</td>\n",
       "      <td>7435.50</td>\n",
       "    </tr>\n",
       "  </tbody>\n",
       "</table>\n",
       "</div>"
      ],
      "text/plain": [
       "   Year  New Cases  New Deaths  New Recovered  New Active Cases  \\\n",
       "0  2020   750848.0     22993.0       623760.0          104095.0   \n",
       "1  2021  3511801.0    121143.0      3490312.0          -99654.0   \n",
       "2  2022  2134660.0     13683.0      2090481.0           30496.0   \n",
       "\n",
       "   Growth Factor of New Cases  Growth Factor of New Deaths  \n",
       "0                    13074.25                      8551.09  \n",
       "1                    15970.01                     12321.18  \n",
       "2                     9647.51                      7435.50  "
      ]
     },
     "execution_count": 8,
     "metadata": {},
     "output_type": "execute_result"
    }
   ],
   "source": [
    "sum_col = \", \".join([f'SUM(\"{col}\") AS \"{col}\"' for col in analisis_1.iloc[:, 1:]])\n",
    "\n",
    "analisis_1 = query(f'''SELECT YEAR(Date) AS Year, {sum_col}\n",
    "                    FROM analisis_1 GROUP BY YEAR(Date)\n",
    "                    ORDER BY YEAR(Date)''')\n",
    "analisis_1"
   ]
  },
  {
   "cell_type": "code",
   "execution_count": 9,
   "metadata": {},
   "outputs": [
    {
     "data": {
      "application/vnd.plotly.v1+json": {
       "config": {
        "plotlyServerURL": "https://plot.ly"
       },
       "data": [
        {
         "fill": "tozeroy",
         "mode": "lines",
         "name": "Kasus Baru",
         "type": "scatter",
         "x": [
          2020,
          2021,
          2022
         ],
         "y": [
          13074.249999999996,
          15970.009999999957,
          9647.51000000001
         ]
        },
        {
         "fill": "tozeroy",
         "mode": "lines",
         "name": "Kasus Kematian",
         "type": "scatter",
         "x": [
          2020,
          2021,
          2022
         ],
         "y": [
          8551.08999999999,
          12321.179999999977,
          7435.500000000003
         ]
        }
       ],
       "layout": {
        "template": {
         "data": {
          "bar": [
           {
            "error_x": {
             "color": "#2a3f5f"
            },
            "error_y": {
             "color": "#2a3f5f"
            },
            "marker": {
             "line": {
              "color": "#E5ECF6",
              "width": 0.5
             },
             "pattern": {
              "fillmode": "overlay",
              "size": 10,
              "solidity": 0.2
             }
            },
            "type": "bar"
           }
          ],
          "barpolar": [
           {
            "marker": {
             "line": {
              "color": "#E5ECF6",
              "width": 0.5
             },
             "pattern": {
              "fillmode": "overlay",
              "size": 10,
              "solidity": 0.2
             }
            },
            "type": "barpolar"
           }
          ],
          "carpet": [
           {
            "aaxis": {
             "endlinecolor": "#2a3f5f",
             "gridcolor": "white",
             "linecolor": "white",
             "minorgridcolor": "white",
             "startlinecolor": "#2a3f5f"
            },
            "baxis": {
             "endlinecolor": "#2a3f5f",
             "gridcolor": "white",
             "linecolor": "white",
             "minorgridcolor": "white",
             "startlinecolor": "#2a3f5f"
            },
            "type": "carpet"
           }
          ],
          "choropleth": [
           {
            "colorbar": {
             "outlinewidth": 0,
             "ticks": ""
            },
            "type": "choropleth"
           }
          ],
          "contour": [
           {
            "colorbar": {
             "outlinewidth": 0,
             "ticks": ""
            },
            "colorscale": [
             [
              0,
              "#0d0887"
             ],
             [
              0.1111111111111111,
              "#46039f"
             ],
             [
              0.2222222222222222,
              "#7201a8"
             ],
             [
              0.3333333333333333,
              "#9c179e"
             ],
             [
              0.4444444444444444,
              "#bd3786"
             ],
             [
              0.5555555555555556,
              "#d8576b"
             ],
             [
              0.6666666666666666,
              "#ed7953"
             ],
             [
              0.7777777777777778,
              "#fb9f3a"
             ],
             [
              0.8888888888888888,
              "#fdca26"
             ],
             [
              1,
              "#f0f921"
             ]
            ],
            "type": "contour"
           }
          ],
          "contourcarpet": [
           {
            "colorbar": {
             "outlinewidth": 0,
             "ticks": ""
            },
            "type": "contourcarpet"
           }
          ],
          "heatmap": [
           {
            "colorbar": {
             "outlinewidth": 0,
             "ticks": ""
            },
            "colorscale": [
             [
              0,
              "#0d0887"
             ],
             [
              0.1111111111111111,
              "#46039f"
             ],
             [
              0.2222222222222222,
              "#7201a8"
             ],
             [
              0.3333333333333333,
              "#9c179e"
             ],
             [
              0.4444444444444444,
              "#bd3786"
             ],
             [
              0.5555555555555556,
              "#d8576b"
             ],
             [
              0.6666666666666666,
              "#ed7953"
             ],
             [
              0.7777777777777778,
              "#fb9f3a"
             ],
             [
              0.8888888888888888,
              "#fdca26"
             ],
             [
              1,
              "#f0f921"
             ]
            ],
            "type": "heatmap"
           }
          ],
          "heatmapgl": [
           {
            "colorbar": {
             "outlinewidth": 0,
             "ticks": ""
            },
            "colorscale": [
             [
              0,
              "#0d0887"
             ],
             [
              0.1111111111111111,
              "#46039f"
             ],
             [
              0.2222222222222222,
              "#7201a8"
             ],
             [
              0.3333333333333333,
              "#9c179e"
             ],
             [
              0.4444444444444444,
              "#bd3786"
             ],
             [
              0.5555555555555556,
              "#d8576b"
             ],
             [
              0.6666666666666666,
              "#ed7953"
             ],
             [
              0.7777777777777778,
              "#fb9f3a"
             ],
             [
              0.8888888888888888,
              "#fdca26"
             ],
             [
              1,
              "#f0f921"
             ]
            ],
            "type": "heatmapgl"
           }
          ],
          "histogram": [
           {
            "marker": {
             "pattern": {
              "fillmode": "overlay",
              "size": 10,
              "solidity": 0.2
             }
            },
            "type": "histogram"
           }
          ],
          "histogram2d": [
           {
            "colorbar": {
             "outlinewidth": 0,
             "ticks": ""
            },
            "colorscale": [
             [
              0,
              "#0d0887"
             ],
             [
              0.1111111111111111,
              "#46039f"
             ],
             [
              0.2222222222222222,
              "#7201a8"
             ],
             [
              0.3333333333333333,
              "#9c179e"
             ],
             [
              0.4444444444444444,
              "#bd3786"
             ],
             [
              0.5555555555555556,
              "#d8576b"
             ],
             [
              0.6666666666666666,
              "#ed7953"
             ],
             [
              0.7777777777777778,
              "#fb9f3a"
             ],
             [
              0.8888888888888888,
              "#fdca26"
             ],
             [
              1,
              "#f0f921"
             ]
            ],
            "type": "histogram2d"
           }
          ],
          "histogram2dcontour": [
           {
            "colorbar": {
             "outlinewidth": 0,
             "ticks": ""
            },
            "colorscale": [
             [
              0,
              "#0d0887"
             ],
             [
              0.1111111111111111,
              "#46039f"
             ],
             [
              0.2222222222222222,
              "#7201a8"
             ],
             [
              0.3333333333333333,
              "#9c179e"
             ],
             [
              0.4444444444444444,
              "#bd3786"
             ],
             [
              0.5555555555555556,
              "#d8576b"
             ],
             [
              0.6666666666666666,
              "#ed7953"
             ],
             [
              0.7777777777777778,
              "#fb9f3a"
             ],
             [
              0.8888888888888888,
              "#fdca26"
             ],
             [
              1,
              "#f0f921"
             ]
            ],
            "type": "histogram2dcontour"
           }
          ],
          "mesh3d": [
           {
            "colorbar": {
             "outlinewidth": 0,
             "ticks": ""
            },
            "type": "mesh3d"
           }
          ],
          "parcoords": [
           {
            "line": {
             "colorbar": {
              "outlinewidth": 0,
              "ticks": ""
             }
            },
            "type": "parcoords"
           }
          ],
          "pie": [
           {
            "automargin": true,
            "type": "pie"
           }
          ],
          "scatter": [
           {
            "fillpattern": {
             "fillmode": "overlay",
             "size": 10,
             "solidity": 0.2
            },
            "type": "scatter"
           }
          ],
          "scatter3d": [
           {
            "line": {
             "colorbar": {
              "outlinewidth": 0,
              "ticks": ""
             }
            },
            "marker": {
             "colorbar": {
              "outlinewidth": 0,
              "ticks": ""
             }
            },
            "type": "scatter3d"
           }
          ],
          "scattercarpet": [
           {
            "marker": {
             "colorbar": {
              "outlinewidth": 0,
              "ticks": ""
             }
            },
            "type": "scattercarpet"
           }
          ],
          "scattergeo": [
           {
            "marker": {
             "colorbar": {
              "outlinewidth": 0,
              "ticks": ""
             }
            },
            "type": "scattergeo"
           }
          ],
          "scattergl": [
           {
            "marker": {
             "colorbar": {
              "outlinewidth": 0,
              "ticks": ""
             }
            },
            "type": "scattergl"
           }
          ],
          "scattermapbox": [
           {
            "marker": {
             "colorbar": {
              "outlinewidth": 0,
              "ticks": ""
             }
            },
            "type": "scattermapbox"
           }
          ],
          "scatterpolar": [
           {
            "marker": {
             "colorbar": {
              "outlinewidth": 0,
              "ticks": ""
             }
            },
            "type": "scatterpolar"
           }
          ],
          "scatterpolargl": [
           {
            "marker": {
             "colorbar": {
              "outlinewidth": 0,
              "ticks": ""
             }
            },
            "type": "scatterpolargl"
           }
          ],
          "scatterternary": [
           {
            "marker": {
             "colorbar": {
              "outlinewidth": 0,
              "ticks": ""
             }
            },
            "type": "scatterternary"
           }
          ],
          "surface": [
           {
            "colorbar": {
             "outlinewidth": 0,
             "ticks": ""
            },
            "colorscale": [
             [
              0,
              "#0d0887"
             ],
             [
              0.1111111111111111,
              "#46039f"
             ],
             [
              0.2222222222222222,
              "#7201a8"
             ],
             [
              0.3333333333333333,
              "#9c179e"
             ],
             [
              0.4444444444444444,
              "#bd3786"
             ],
             [
              0.5555555555555556,
              "#d8576b"
             ],
             [
              0.6666666666666666,
              "#ed7953"
             ],
             [
              0.7777777777777778,
              "#fb9f3a"
             ],
             [
              0.8888888888888888,
              "#fdca26"
             ],
             [
              1,
              "#f0f921"
             ]
            ],
            "type": "surface"
           }
          ],
          "table": [
           {
            "cells": {
             "fill": {
              "color": "#EBF0F8"
             },
             "line": {
              "color": "white"
             }
            },
            "header": {
             "fill": {
              "color": "#C8D4E3"
             },
             "line": {
              "color": "white"
             }
            },
            "type": "table"
           }
          ]
         },
         "layout": {
          "annotationdefaults": {
           "arrowcolor": "#2a3f5f",
           "arrowhead": 0,
           "arrowwidth": 1
          },
          "autotypenumbers": "strict",
          "coloraxis": {
           "colorbar": {
            "outlinewidth": 0,
            "ticks": ""
           }
          },
          "colorscale": {
           "diverging": [
            [
             0,
             "#8e0152"
            ],
            [
             0.1,
             "#c51b7d"
            ],
            [
             0.2,
             "#de77ae"
            ],
            [
             0.3,
             "#f1b6da"
            ],
            [
             0.4,
             "#fde0ef"
            ],
            [
             0.5,
             "#f7f7f7"
            ],
            [
             0.6,
             "#e6f5d0"
            ],
            [
             0.7,
             "#b8e186"
            ],
            [
             0.8,
             "#7fbc41"
            ],
            [
             0.9,
             "#4d9221"
            ],
            [
             1,
             "#276419"
            ]
           ],
           "sequential": [
            [
             0,
             "#0d0887"
            ],
            [
             0.1111111111111111,
             "#46039f"
            ],
            [
             0.2222222222222222,
             "#7201a8"
            ],
            [
             0.3333333333333333,
             "#9c179e"
            ],
            [
             0.4444444444444444,
             "#bd3786"
            ],
            [
             0.5555555555555556,
             "#d8576b"
            ],
            [
             0.6666666666666666,
             "#ed7953"
            ],
            [
             0.7777777777777778,
             "#fb9f3a"
            ],
            [
             0.8888888888888888,
             "#fdca26"
            ],
            [
             1,
             "#f0f921"
            ]
           ],
           "sequentialminus": [
            [
             0,
             "#0d0887"
            ],
            [
             0.1111111111111111,
             "#46039f"
            ],
            [
             0.2222222222222222,
             "#7201a8"
            ],
            [
             0.3333333333333333,
             "#9c179e"
            ],
            [
             0.4444444444444444,
             "#bd3786"
            ],
            [
             0.5555555555555556,
             "#d8576b"
            ],
            [
             0.6666666666666666,
             "#ed7953"
            ],
            [
             0.7777777777777778,
             "#fb9f3a"
            ],
            [
             0.8888888888888888,
             "#fdca26"
            ],
            [
             1,
             "#f0f921"
            ]
           ]
          },
          "colorway": [
           "#636efa",
           "#EF553B",
           "#00cc96",
           "#ab63fa",
           "#FFA15A",
           "#19d3f3",
           "#FF6692",
           "#B6E880",
           "#FF97FF",
           "#FECB52"
          ],
          "font": {
           "color": "#2a3f5f"
          },
          "geo": {
           "bgcolor": "white",
           "lakecolor": "white",
           "landcolor": "#E5ECF6",
           "showlakes": true,
           "showland": true,
           "subunitcolor": "white"
          },
          "hoverlabel": {
           "align": "left"
          },
          "hovermode": "closest",
          "mapbox": {
           "style": "light"
          },
          "paper_bgcolor": "white",
          "plot_bgcolor": "#E5ECF6",
          "polar": {
           "angularaxis": {
            "gridcolor": "white",
            "linecolor": "white",
            "ticks": ""
           },
           "bgcolor": "#E5ECF6",
           "radialaxis": {
            "gridcolor": "white",
            "linecolor": "white",
            "ticks": ""
           }
          },
          "scene": {
           "xaxis": {
            "backgroundcolor": "#E5ECF6",
            "gridcolor": "white",
            "gridwidth": 2,
            "linecolor": "white",
            "showbackground": true,
            "ticks": "",
            "zerolinecolor": "white"
           },
           "yaxis": {
            "backgroundcolor": "#E5ECF6",
            "gridcolor": "white",
            "gridwidth": 2,
            "linecolor": "white",
            "showbackground": true,
            "ticks": "",
            "zerolinecolor": "white"
           },
           "zaxis": {
            "backgroundcolor": "#E5ECF6",
            "gridcolor": "white",
            "gridwidth": 2,
            "linecolor": "white",
            "showbackground": true,
            "ticks": "",
            "zerolinecolor": "white"
           }
          },
          "shapedefaults": {
           "line": {
            "color": "#2a3f5f"
           }
          },
          "ternary": {
           "aaxis": {
            "gridcolor": "white",
            "linecolor": "white",
            "ticks": ""
           },
           "baxis": {
            "gridcolor": "white",
            "linecolor": "white",
            "ticks": ""
           },
           "bgcolor": "#E5ECF6",
           "caxis": {
            "gridcolor": "white",
            "linecolor": "white",
            "ticks": ""
           }
          },
          "title": {
           "x": 0.05
          },
          "xaxis": {
           "automargin": true,
           "gridcolor": "white",
           "linecolor": "white",
           "ticks": "",
           "title": {
            "standoff": 15
           },
           "zerolinecolor": "white",
           "zerolinewidth": 2
          },
          "yaxis": {
           "automargin": true,
           "gridcolor": "white",
           "linecolor": "white",
           "ticks": "",
           "title": {
            "standoff": 15
           },
           "zerolinecolor": "white",
           "zerolinewidth": 2
          }
         }
        },
        "title": {
         "text": "Rasio Pertumbuhan Kasus Covid di Indonesia pada Tahun 2020 - 2022"
        },
        "xaxis": {
         "anchor": "y",
         "domain": [
          0,
          1
         ],
         "ticktext": [
          "2020",
          "2021",
          "2022"
         ],
         "tickvals": [
          2020,
          2021,
          2022
         ],
         "title": {
          "text": "Tahun"
         }
        },
        "yaxis": {
         "anchor": "x",
         "domain": [
          0,
          1
         ],
         "title": {
          "text": "Jumlah"
         }
        }
       }
      }
     },
     "metadata": {},
     "output_type": "display_data"
    }
   ],
   "source": [
    "fig = make_subplots(rows=1, cols=1)\n",
    "\n",
    "fig.add_trace(go.Scatter(x=analisis_1['Year'], y=analisis_1['Growth Factor of New Cases'], mode='lines', name='Kasus Baru', fill='tozeroy'))\n",
    "fig.add_trace(go.Scatter(x=analisis_1['Year'], y=analisis_1['Growth Factor of New Deaths'], mode='lines', name='Kasus Kematian', fill='tozeroy'))\n",
    "\n",
    "fig.update_xaxes(title='Tahun', tickvals=analisis_1['Year'], ticktext=[str(year) for year in analisis_1['Year']])\n",
    "fig.update_yaxes(title='Jumlah')\n",
    "fig.update_layout(title='Rasio Pertumbuhan Kasus Covid di Indonesia pada Tahun 2020 - 2022')\n",
    "\n",
    "fig.write_html(\"g_1.html\")\n",
    "fig.show()"
   ]
  },
  {
   "cell_type": "code",
   "execution_count": 10,
   "metadata": {},
   "outputs": [
    {
     "data": {
      "application/vnd.plotly.v1+json": {
       "config": {
        "plotlyServerURL": "https://plot.ly"
       },
       "data": [
        {
         "hovertemplate": "Category: New Cases<br>Value: %{y:.2f}<extra></extra>",
         "mode": "lines",
         "name": "New Cases",
         "type": "scatter",
         "x": [
          2020,
          2021,
          2022
         ],
         "y": [
          750848,
          3511801,
          2134660
         ]
        },
        {
         "hovertemplate": "Category: New Deaths<br>Value: %{y:.2f}<extra></extra>",
         "mode": "lines",
         "name": "New Deaths",
         "type": "scatter",
         "x": [
          2020,
          2021,
          2022
         ],
         "y": [
          22993,
          121143,
          13683
         ]
        },
        {
         "hovertemplate": "Category: New Recovered<br>Value: %{y:.2f}<extra></extra>",
         "mode": "lines",
         "name": "New Recovered",
         "type": "scatter",
         "x": [
          2020,
          2021,
          2022
         ],
         "y": [
          623760,
          3490312,
          2090481
         ]
        },
        {
         "hovertemplate": "Category: New Active Cases<br>Value: %{y:.2f}<extra></extra>",
         "mode": "lines",
         "name": "New Active Cases",
         "type": "scatter",
         "x": [
          2020,
          2021,
          2022
         ],
         "y": [
          104095,
          -99654,
          30496
         ]
        }
       ],
       "layout": {
        "barmode": "group",
        "template": {
         "data": {
          "bar": [
           {
            "error_x": {
             "color": "#2a3f5f"
            },
            "error_y": {
             "color": "#2a3f5f"
            },
            "marker": {
             "line": {
              "color": "#E5ECF6",
              "width": 0.5
             },
             "pattern": {
              "fillmode": "overlay",
              "size": 10,
              "solidity": 0.2
             }
            },
            "type": "bar"
           }
          ],
          "barpolar": [
           {
            "marker": {
             "line": {
              "color": "#E5ECF6",
              "width": 0.5
             },
             "pattern": {
              "fillmode": "overlay",
              "size": 10,
              "solidity": 0.2
             }
            },
            "type": "barpolar"
           }
          ],
          "carpet": [
           {
            "aaxis": {
             "endlinecolor": "#2a3f5f",
             "gridcolor": "white",
             "linecolor": "white",
             "minorgridcolor": "white",
             "startlinecolor": "#2a3f5f"
            },
            "baxis": {
             "endlinecolor": "#2a3f5f",
             "gridcolor": "white",
             "linecolor": "white",
             "minorgridcolor": "white",
             "startlinecolor": "#2a3f5f"
            },
            "type": "carpet"
           }
          ],
          "choropleth": [
           {
            "colorbar": {
             "outlinewidth": 0,
             "ticks": ""
            },
            "type": "choropleth"
           }
          ],
          "contour": [
           {
            "colorbar": {
             "outlinewidth": 0,
             "ticks": ""
            },
            "colorscale": [
             [
              0,
              "#0d0887"
             ],
             [
              0.1111111111111111,
              "#46039f"
             ],
             [
              0.2222222222222222,
              "#7201a8"
             ],
             [
              0.3333333333333333,
              "#9c179e"
             ],
             [
              0.4444444444444444,
              "#bd3786"
             ],
             [
              0.5555555555555556,
              "#d8576b"
             ],
             [
              0.6666666666666666,
              "#ed7953"
             ],
             [
              0.7777777777777778,
              "#fb9f3a"
             ],
             [
              0.8888888888888888,
              "#fdca26"
             ],
             [
              1,
              "#f0f921"
             ]
            ],
            "type": "contour"
           }
          ],
          "contourcarpet": [
           {
            "colorbar": {
             "outlinewidth": 0,
             "ticks": ""
            },
            "type": "contourcarpet"
           }
          ],
          "heatmap": [
           {
            "colorbar": {
             "outlinewidth": 0,
             "ticks": ""
            },
            "colorscale": [
             [
              0,
              "#0d0887"
             ],
             [
              0.1111111111111111,
              "#46039f"
             ],
             [
              0.2222222222222222,
              "#7201a8"
             ],
             [
              0.3333333333333333,
              "#9c179e"
             ],
             [
              0.4444444444444444,
              "#bd3786"
             ],
             [
              0.5555555555555556,
              "#d8576b"
             ],
             [
              0.6666666666666666,
              "#ed7953"
             ],
             [
              0.7777777777777778,
              "#fb9f3a"
             ],
             [
              0.8888888888888888,
              "#fdca26"
             ],
             [
              1,
              "#f0f921"
             ]
            ],
            "type": "heatmap"
           }
          ],
          "heatmapgl": [
           {
            "colorbar": {
             "outlinewidth": 0,
             "ticks": ""
            },
            "colorscale": [
             [
              0,
              "#0d0887"
             ],
             [
              0.1111111111111111,
              "#46039f"
             ],
             [
              0.2222222222222222,
              "#7201a8"
             ],
             [
              0.3333333333333333,
              "#9c179e"
             ],
             [
              0.4444444444444444,
              "#bd3786"
             ],
             [
              0.5555555555555556,
              "#d8576b"
             ],
             [
              0.6666666666666666,
              "#ed7953"
             ],
             [
              0.7777777777777778,
              "#fb9f3a"
             ],
             [
              0.8888888888888888,
              "#fdca26"
             ],
             [
              1,
              "#f0f921"
             ]
            ],
            "type": "heatmapgl"
           }
          ],
          "histogram": [
           {
            "marker": {
             "pattern": {
              "fillmode": "overlay",
              "size": 10,
              "solidity": 0.2
             }
            },
            "type": "histogram"
           }
          ],
          "histogram2d": [
           {
            "colorbar": {
             "outlinewidth": 0,
             "ticks": ""
            },
            "colorscale": [
             [
              0,
              "#0d0887"
             ],
             [
              0.1111111111111111,
              "#46039f"
             ],
             [
              0.2222222222222222,
              "#7201a8"
             ],
             [
              0.3333333333333333,
              "#9c179e"
             ],
             [
              0.4444444444444444,
              "#bd3786"
             ],
             [
              0.5555555555555556,
              "#d8576b"
             ],
             [
              0.6666666666666666,
              "#ed7953"
             ],
             [
              0.7777777777777778,
              "#fb9f3a"
             ],
             [
              0.8888888888888888,
              "#fdca26"
             ],
             [
              1,
              "#f0f921"
             ]
            ],
            "type": "histogram2d"
           }
          ],
          "histogram2dcontour": [
           {
            "colorbar": {
             "outlinewidth": 0,
             "ticks": ""
            },
            "colorscale": [
             [
              0,
              "#0d0887"
             ],
             [
              0.1111111111111111,
              "#46039f"
             ],
             [
              0.2222222222222222,
              "#7201a8"
             ],
             [
              0.3333333333333333,
              "#9c179e"
             ],
             [
              0.4444444444444444,
              "#bd3786"
             ],
             [
              0.5555555555555556,
              "#d8576b"
             ],
             [
              0.6666666666666666,
              "#ed7953"
             ],
             [
              0.7777777777777778,
              "#fb9f3a"
             ],
             [
              0.8888888888888888,
              "#fdca26"
             ],
             [
              1,
              "#f0f921"
             ]
            ],
            "type": "histogram2dcontour"
           }
          ],
          "mesh3d": [
           {
            "colorbar": {
             "outlinewidth": 0,
             "ticks": ""
            },
            "type": "mesh3d"
           }
          ],
          "parcoords": [
           {
            "line": {
             "colorbar": {
              "outlinewidth": 0,
              "ticks": ""
             }
            },
            "type": "parcoords"
           }
          ],
          "pie": [
           {
            "automargin": true,
            "type": "pie"
           }
          ],
          "scatter": [
           {
            "fillpattern": {
             "fillmode": "overlay",
             "size": 10,
             "solidity": 0.2
            },
            "type": "scatter"
           }
          ],
          "scatter3d": [
           {
            "line": {
             "colorbar": {
              "outlinewidth": 0,
              "ticks": ""
             }
            },
            "marker": {
             "colorbar": {
              "outlinewidth": 0,
              "ticks": ""
             }
            },
            "type": "scatter3d"
           }
          ],
          "scattercarpet": [
           {
            "marker": {
             "colorbar": {
              "outlinewidth": 0,
              "ticks": ""
             }
            },
            "type": "scattercarpet"
           }
          ],
          "scattergeo": [
           {
            "marker": {
             "colorbar": {
              "outlinewidth": 0,
              "ticks": ""
             }
            },
            "type": "scattergeo"
           }
          ],
          "scattergl": [
           {
            "marker": {
             "colorbar": {
              "outlinewidth": 0,
              "ticks": ""
             }
            },
            "type": "scattergl"
           }
          ],
          "scattermapbox": [
           {
            "marker": {
             "colorbar": {
              "outlinewidth": 0,
              "ticks": ""
             }
            },
            "type": "scattermapbox"
           }
          ],
          "scatterpolar": [
           {
            "marker": {
             "colorbar": {
              "outlinewidth": 0,
              "ticks": ""
             }
            },
            "type": "scatterpolar"
           }
          ],
          "scatterpolargl": [
           {
            "marker": {
             "colorbar": {
              "outlinewidth": 0,
              "ticks": ""
             }
            },
            "type": "scatterpolargl"
           }
          ],
          "scatterternary": [
           {
            "marker": {
             "colorbar": {
              "outlinewidth": 0,
              "ticks": ""
             }
            },
            "type": "scatterternary"
           }
          ],
          "surface": [
           {
            "colorbar": {
             "outlinewidth": 0,
             "ticks": ""
            },
            "colorscale": [
             [
              0,
              "#0d0887"
             ],
             [
              0.1111111111111111,
              "#46039f"
             ],
             [
              0.2222222222222222,
              "#7201a8"
             ],
             [
              0.3333333333333333,
              "#9c179e"
             ],
             [
              0.4444444444444444,
              "#bd3786"
             ],
             [
              0.5555555555555556,
              "#d8576b"
             ],
             [
              0.6666666666666666,
              "#ed7953"
             ],
             [
              0.7777777777777778,
              "#fb9f3a"
             ],
             [
              0.8888888888888888,
              "#fdca26"
             ],
             [
              1,
              "#f0f921"
             ]
            ],
            "type": "surface"
           }
          ],
          "table": [
           {
            "cells": {
             "fill": {
              "color": "#EBF0F8"
             },
             "line": {
              "color": "white"
             }
            },
            "header": {
             "fill": {
              "color": "#C8D4E3"
             },
             "line": {
              "color": "white"
             }
            },
            "type": "table"
           }
          ]
         },
         "layout": {
          "annotationdefaults": {
           "arrowcolor": "#2a3f5f",
           "arrowhead": 0,
           "arrowwidth": 1
          },
          "autotypenumbers": "strict",
          "coloraxis": {
           "colorbar": {
            "outlinewidth": 0,
            "ticks": ""
           }
          },
          "colorscale": {
           "diverging": [
            [
             0,
             "#8e0152"
            ],
            [
             0.1,
             "#c51b7d"
            ],
            [
             0.2,
             "#de77ae"
            ],
            [
             0.3,
             "#f1b6da"
            ],
            [
             0.4,
             "#fde0ef"
            ],
            [
             0.5,
             "#f7f7f7"
            ],
            [
             0.6,
             "#e6f5d0"
            ],
            [
             0.7,
             "#b8e186"
            ],
            [
             0.8,
             "#7fbc41"
            ],
            [
             0.9,
             "#4d9221"
            ],
            [
             1,
             "#276419"
            ]
           ],
           "sequential": [
            [
             0,
             "#0d0887"
            ],
            [
             0.1111111111111111,
             "#46039f"
            ],
            [
             0.2222222222222222,
             "#7201a8"
            ],
            [
             0.3333333333333333,
             "#9c179e"
            ],
            [
             0.4444444444444444,
             "#bd3786"
            ],
            [
             0.5555555555555556,
             "#d8576b"
            ],
            [
             0.6666666666666666,
             "#ed7953"
            ],
            [
             0.7777777777777778,
             "#fb9f3a"
            ],
            [
             0.8888888888888888,
             "#fdca26"
            ],
            [
             1,
             "#f0f921"
            ]
           ],
           "sequentialminus": [
            [
             0,
             "#0d0887"
            ],
            [
             0.1111111111111111,
             "#46039f"
            ],
            [
             0.2222222222222222,
             "#7201a8"
            ],
            [
             0.3333333333333333,
             "#9c179e"
            ],
            [
             0.4444444444444444,
             "#bd3786"
            ],
            [
             0.5555555555555556,
             "#d8576b"
            ],
            [
             0.6666666666666666,
             "#ed7953"
            ],
            [
             0.7777777777777778,
             "#fb9f3a"
            ],
            [
             0.8888888888888888,
             "#fdca26"
            ],
            [
             1,
             "#f0f921"
            ]
           ]
          },
          "colorway": [
           "#636efa",
           "#EF553B",
           "#00cc96",
           "#ab63fa",
           "#FFA15A",
           "#19d3f3",
           "#FF6692",
           "#B6E880",
           "#FF97FF",
           "#FECB52"
          ],
          "font": {
           "color": "#2a3f5f"
          },
          "geo": {
           "bgcolor": "white",
           "lakecolor": "white",
           "landcolor": "#E5ECF6",
           "showlakes": true,
           "showland": true,
           "subunitcolor": "white"
          },
          "hoverlabel": {
           "align": "left"
          },
          "hovermode": "closest",
          "mapbox": {
           "style": "light"
          },
          "paper_bgcolor": "white",
          "plot_bgcolor": "#E5ECF6",
          "polar": {
           "angularaxis": {
            "gridcolor": "white",
            "linecolor": "white",
            "ticks": ""
           },
           "bgcolor": "#E5ECF6",
           "radialaxis": {
            "gridcolor": "white",
            "linecolor": "white",
            "ticks": ""
           }
          },
          "scene": {
           "xaxis": {
            "backgroundcolor": "#E5ECF6",
            "gridcolor": "white",
            "gridwidth": 2,
            "linecolor": "white",
            "showbackground": true,
            "ticks": "",
            "zerolinecolor": "white"
           },
           "yaxis": {
            "backgroundcolor": "#E5ECF6",
            "gridcolor": "white",
            "gridwidth": 2,
            "linecolor": "white",
            "showbackground": true,
            "ticks": "",
            "zerolinecolor": "white"
           },
           "zaxis": {
            "backgroundcolor": "#E5ECF6",
            "gridcolor": "white",
            "gridwidth": 2,
            "linecolor": "white",
            "showbackground": true,
            "ticks": "",
            "zerolinecolor": "white"
           }
          },
          "shapedefaults": {
           "line": {
            "color": "#2a3f5f"
           }
          },
          "ternary": {
           "aaxis": {
            "gridcolor": "white",
            "linecolor": "white",
            "ticks": ""
           },
           "baxis": {
            "gridcolor": "white",
            "linecolor": "white",
            "ticks": ""
           },
           "bgcolor": "#E5ECF6",
           "caxis": {
            "gridcolor": "white",
            "linecolor": "white",
            "ticks": ""
           }
          },
          "title": {
           "x": 0.05
          },
          "xaxis": {
           "automargin": true,
           "gridcolor": "white",
           "linecolor": "white",
           "ticks": "",
           "title": {
            "standoff": 15
           },
           "zerolinecolor": "white",
           "zerolinewidth": 2
          },
          "yaxis": {
           "automargin": true,
           "gridcolor": "white",
           "linecolor": "white",
           "ticks": "",
           "title": {
            "standoff": 15
           },
           "zerolinecolor": "white",
           "zerolinewidth": 2
          }
         }
        },
        "title": {
         "text": "Rincian Kasus Covid di Indonesia pada Tahun 2020 - 2022"
        },
        "xaxis": {
         "anchor": "y",
         "domain": [
          0,
          1
         ],
         "ticktext": [
          "2020",
          "2021",
          "2022"
         ],
         "tickvals": [
          2020,
          2021,
          2022
         ],
         "title": {
          "text": "Tahun"
         }
        },
        "yaxis": {
         "anchor": "x",
         "domain": [
          0,
          1
         ],
         "title": {
          "text": "Jumlah"
         }
        }
       }
      }
     },
     "metadata": {},
     "output_type": "display_data"
    }
   ],
   "source": [
    "values = analisis_1.iloc[:, 1:5]\n",
    "\n",
    "fig = make_subplots(rows=1, cols=1)\n",
    "\n",
    "for col in values.columns:\n",
    "    fig.add_trace(go.Scatter(x=analisis_1['Year'], y=values[col], name=col, mode='lines',\n",
    "                            hovertemplate=f'Category: {col}<br>' +\n",
    "                                        'Value: %{y:.2f}<extra></extra>'))\n",
    "\n",
    "fig.update_xaxes(title='Tahun', tickvals=analisis_1['Year'], ticktext=[str(year) for year in analisis_1['Year']])\n",
    "fig.update_yaxes(title='Jumlah')\n",
    "fig.update_layout(title='Rincian Kasus Covid di Indonesia pada Tahun 2020 - 2022', barmode='group')\n",
    "\n",
    "fig.write_html(\"g_2.html\")\n",
    "fig.show()"
   ]
  },
  {
   "cell_type": "markdown",
   "metadata": {},
   "source": [
    "Analisis Kasus Covid Indonesia Berdasarkan Pulau"
   ]
  },
  {
   "cell_type": "code",
   "execution_count": 11,
   "metadata": {},
   "outputs": [
    {
     "name": "stdout",
     "output_type": "stream",
     "text": [
      "<class 'pandas.core.frame.DataFrame'>\n",
      "Index: 30893 entries, 0 to 31820\n",
      "Data columns (total 12 columns):\n",
      " #   Column                       Non-Null Count  Dtype  \n",
      "---  ------                       --------------  -----  \n",
      " 0   New Cases                    30893 non-null  int64  \n",
      " 1   New Deaths                   30893 non-null  int64  \n",
      " 2   New Recovered                30893 non-null  int64  \n",
      " 3   New Active Cases             30893 non-null  int64  \n",
      " 4   Area (km2)                   30893 non-null  int64  \n",
      " 5   Population                   30893 non-null  int64  \n",
      " 6   Population Density           30893 non-null  float64\n",
      " 7   New Cases per Million        30893 non-null  float64\n",
      " 8   New Deaths per Million       30893 non-null  float64\n",
      " 9   Growth Factor of New Cases   28958 non-null  float64\n",
      " 10  Growth Factor of New Deaths  27451 non-null  float64\n",
      " 11  Island                       30893 non-null  object \n",
      "dtypes: float64(5), int64(6), object(1)\n",
      "memory usage: 3.1+ MB\n"
     ]
    }
   ],
   "source": [
    "analisis_2 = data.dropna(subset=['Island'])\n",
    "analisis_2 = analisis_2.select_dtypes(exclude=['object']) \n",
    "\n",
    "columns_to_keep = list(analisis_2.columns[np.r_[1:5, 15:23]]) + list(analisis_2.columns[-2:])\n",
    "\n",
    "analisis_2 = analisis_2[columns_to_keep]\n",
    "analisis_2 = analisis_2.drop(columns=[\"Longitude\", \"Latitude\", \"Total Cases per Million\"])\n",
    "analisis_2 = analisis_2.join(data[\"Island\"])\n",
    "analisis_2.info()"
   ]
  },
  {
   "cell_type": "code",
   "execution_count": 12,
   "metadata": {},
   "outputs": [
    {
     "data": {
      "text/html": [
       "<div>\n",
       "<style scoped>\n",
       "    .dataframe tbody tr th:only-of-type {\n",
       "        vertical-align: middle;\n",
       "    }\n",
       "\n",
       "    .dataframe tbody tr th {\n",
       "        vertical-align: top;\n",
       "    }\n",
       "\n",
       "    .dataframe thead th {\n",
       "        text-align: right;\n",
       "    }\n",
       "</style>\n",
       "<table border=\"1\" class=\"dataframe\">\n",
       "  <thead>\n",
       "    <tr style=\"text-align: right;\">\n",
       "      <th></th>\n",
       "      <th>Island</th>\n",
       "      <th>New Cases</th>\n",
       "      <th>New Deaths</th>\n",
       "      <th>New Recovered</th>\n",
       "      <th>New Active Cases</th>\n",
       "      <th>Area (km2)</th>\n",
       "      <th>Population</th>\n",
       "      <th>Population Density</th>\n",
       "      <th>New Cases per Million</th>\n",
       "      <th>New Deaths per Million</th>\n",
       "      <th>Growth Factor of New Cases</th>\n",
       "      <th>Growth Factor of New Deaths</th>\n",
       "    </tr>\n",
       "  </thead>\n",
       "  <tbody>\n",
       "    <tr>\n",
       "      <th>0</th>\n",
       "      <td>Jawa</td>\n",
       "      <td>4382330.0</td>\n",
       "      <td>105515.0</td>\n",
       "      <td>4246611.0</td>\n",
       "      <td>30204.0</td>\n",
       "      <td>119043294.0</td>\n",
       "      <td>1.356114e+11</td>\n",
       "      <td>2.023691e+07</td>\n",
       "      <td>281491.88</td>\n",
       "      <td>5391.30</td>\n",
       "      <td>6746.63</td>\n",
       "      <td>5830.97</td>\n",
       "    </tr>\n",
       "    <tr>\n",
       "      <th>1</th>\n",
       "      <td>Kalimantan</td>\n",
       "      <td>465732.0</td>\n",
       "      <td>11862.0</td>\n",
       "      <td>453092.0</td>\n",
       "      <td>778.0</td>\n",
       "      <td>492713475.0</td>\n",
       "      <td>1.466891e+10</td>\n",
       "      <td>1.747113e+05</td>\n",
       "      <td>185377.11</td>\n",
       "      <td>4397.09</td>\n",
       "      <td>5274.34</td>\n",
       "      <td>4096.53</td>\n",
       "    </tr>\n",
       "    <tr>\n",
       "      <th>2</th>\n",
       "      <td>Maluku</td>\n",
       "      <td>33331.0</td>\n",
       "      <td>628.0</td>\n",
       "      <td>32640.0</td>\n",
       "      <td>63.0</td>\n",
       "      <td>71606493.0</td>\n",
       "      <td>2.863341e+09</td>\n",
       "      <td>7.283519e+04</td>\n",
       "      <td>21302.73</td>\n",
       "      <td>413.88</td>\n",
       "      <td>2240.63</td>\n",
       "      <td>1429.22</td>\n",
       "    </tr>\n",
       "    <tr>\n",
       "      <th>3</th>\n",
       "      <td>Nusa Tenggara</td>\n",
       "      <td>297493.0</td>\n",
       "      <td>7160.0</td>\n",
       "      <td>289742.0</td>\n",
       "      <td>591.0</td>\n",
       "      <td>65367068.0</td>\n",
       "      <td>1.342869e+10</td>\n",
       "      <td>1.024308e+06</td>\n",
       "      <td>63894.55</td>\n",
       "      <td>1574.76</td>\n",
       "      <td>3652.40</td>\n",
       "      <td>2521.60</td>\n",
       "    </tr>\n",
       "    <tr>\n",
       "      <th>4</th>\n",
       "      <td>Papua</td>\n",
       "      <td>82097.0</td>\n",
       "      <td>963.0</td>\n",
       "      <td>80760.0</td>\n",
       "      <td>374.0</td>\n",
       "      <td>382653053.0</td>\n",
       "      <td>4.971089e+09</td>\n",
       "      <td>2.235404e+04</td>\n",
       "      <td>39704.80</td>\n",
       "      <td>470.16</td>\n",
       "      <td>2687.72</td>\n",
       "      <td>1443.43</td>\n",
       "    </tr>\n",
       "    <tr>\n",
       "      <th>5</th>\n",
       "      <td>Sulawesi</td>\n",
       "      <td>313608.0</td>\n",
       "      <td>6880.0</td>\n",
       "      <td>305849.0</td>\n",
       "      <td>879.0</td>\n",
       "      <td>171165682.0</td>\n",
       "      <td>1.852658e+10</td>\n",
       "      <td>6.394924e+05</td>\n",
       "      <td>87541.48</td>\n",
       "      <td>2191.23</td>\n",
       "      <td>7360.35</td>\n",
       "      <td>4493.80</td>\n",
       "    </tr>\n",
       "    <tr>\n",
       "      <th>6</th>\n",
       "      <td>Sumatera</td>\n",
       "      <td>822718.0</td>\n",
       "      <td>24811.0</td>\n",
       "      <td>795859.0</td>\n",
       "      <td>2048.0</td>\n",
       "      <td>437849524.0</td>\n",
       "      <td>5.260220e+10</td>\n",
       "      <td>1.213989e+06</td>\n",
       "      <td>191792.03</td>\n",
       "      <td>5342.04</td>\n",
       "      <td>10729.70</td>\n",
       "      <td>8492.22</td>\n",
       "    </tr>\n",
       "  </tbody>\n",
       "</table>\n",
       "</div>"
      ],
      "text/plain": [
       "          Island  New Cases  New Deaths  New Recovered  New Active Cases  \\\n",
       "0           Jawa  4382330.0    105515.0      4246611.0           30204.0   \n",
       "1     Kalimantan   465732.0     11862.0       453092.0             778.0   \n",
       "2         Maluku    33331.0       628.0        32640.0              63.0   \n",
       "3  Nusa Tenggara   297493.0      7160.0       289742.0             591.0   \n",
       "4          Papua    82097.0       963.0        80760.0             374.0   \n",
       "5       Sulawesi   313608.0      6880.0       305849.0             879.0   \n",
       "6       Sumatera   822718.0     24811.0       795859.0            2048.0   \n",
       "\n",
       "    Area (km2)    Population  Population Density  New Cases per Million  \\\n",
       "0  119043294.0  1.356114e+11        2.023691e+07              281491.88   \n",
       "1  492713475.0  1.466891e+10        1.747113e+05              185377.11   \n",
       "2   71606493.0  2.863341e+09        7.283519e+04               21302.73   \n",
       "3   65367068.0  1.342869e+10        1.024308e+06               63894.55   \n",
       "4  382653053.0  4.971089e+09        2.235404e+04               39704.80   \n",
       "5  171165682.0  1.852658e+10        6.394924e+05               87541.48   \n",
       "6  437849524.0  5.260220e+10        1.213989e+06              191792.03   \n",
       "\n",
       "   New Deaths per Million  Growth Factor of New Cases  \\\n",
       "0                 5391.30                     6746.63   \n",
       "1                 4397.09                     5274.34   \n",
       "2                  413.88                     2240.63   \n",
       "3                 1574.76                     3652.40   \n",
       "4                  470.16                     2687.72   \n",
       "5                 2191.23                     7360.35   \n",
       "6                 5342.04                    10729.70   \n",
       "\n",
       "   Growth Factor of New Deaths  \n",
       "0                      5830.97  \n",
       "1                      4096.53  \n",
       "2                      1429.22  \n",
       "3                      2521.60  \n",
       "4                      1443.43  \n",
       "5                      4493.80  \n",
       "6                      8492.22  "
      ]
     },
     "execution_count": 12,
     "metadata": {},
     "output_type": "execute_result"
    }
   ],
   "source": [
    "sum_col = \", \".join([f'SUM(\"{col}\") AS \"{col}\"' for col in analisis_2.iloc[:, :11]])\n",
    "\n",
    "analisis_2 = query(f'''SELECT Island, {sum_col}\n",
    "                    FROM analisis_2 GROUP BY Island\n",
    "                    ORDER BY Island''')\n",
    "analisis_2"
   ]
  },
  {
   "cell_type": "code",
   "execution_count": 13,
   "metadata": {},
   "outputs": [],
   "source": [
    "data_new = data.dropna(subset=['Island'])"
   ]
  },
  {
   "cell_type": "code",
   "execution_count": 14,
   "metadata": {},
   "outputs": [
    {
     "data": {
      "text/plain": [
       "{'Sulawesi': {'Area (km2)': 188562,\n",
       "  'Population': 20400432,\n",
       "  'Population Density': 706.78},\n",
       " 'Nusa Tenggara': {'Area (km2)': 73070,\n",
       "  'Population': 14897739,\n",
       "  'Population Density': 1124.27},\n",
       " 'Papua': {'Area (km2)': 421991,\n",
       "  'Population': 5481049,\n",
       "  'Population Density': 24.68},\n",
       " 'Jawa': {'Area (km2)': 129442,\n",
       "  'Population': 147203954,\n",
       "  'Population Density': 21834.82},\n",
       " 'Kalimantan': {'Area (km2)': 544151,\n",
       "  'Population': 16216750,\n",
       "  'Population Density': 193.5},\n",
       " 'Sumatera': {'Area (km2)': 480793,\n",
       "  'Population': 57830696,\n",
       "  'Population Density': 1337.37},\n",
       " 'Maluku': {'Area (km2)': 78897,\n",
       "  'Population': 3154900,\n",
       "  'Population Density': 80.25999999999999}}"
      ]
     },
     "execution_count": 14,
     "metadata": {},
     "output_type": "execute_result"
    }
   ],
   "source": [
    "x = set(data_new.iloc[:, np.r_[16, 24:27]].apply(tuple, axis=1).unique())\n",
    "df = pd.DataFrame(x, columns=['Island', 'Area (km2)', 'Population', 'Population Density'])\n",
    "\n",
    "island_areas = {}\n",
    "\n",
    "for index, row in df.iterrows():\n",
    "    island = row['Island']\n",
    "    area = row['Area (km2)']\n",
    "    population = row['Population']\n",
    "    density = row['Population Density']\n",
    "    \n",
    "    if island in island_areas:\n",
    "        island_areas[island]['Area (km2)'] += area\n",
    "        island_areas[island]['Population'] += population\n",
    "        island_areas[island]['Population Density'] += density\n",
    "    else:\n",
    "        island_areas[island] = {'Area (km2)': area, 'Population': population, 'Population Density': density}\n",
    "\n",
    "unique_island_area = dict(island_areas.items())\n",
    "unique_island_area"
   ]
  },
  {
   "cell_type": "code",
   "execution_count": 15,
   "metadata": {},
   "outputs": [
    {
     "data": {
      "text/plain": [
       "{'Sulawesi': [188562, 20400432, 706.78],\n",
       " 'Nusa Tenggara': [73070, 14897739, 1124.27],\n",
       " 'Papua': [421991, 5481049, 24.68],\n",
       " 'Jawa': [129442, 147203954, 21834.82],\n",
       " 'Kalimantan': [544151, 16216750, 193.5],\n",
       " 'Sumatera': [480793, 57830696, 1337.37],\n",
       " 'Maluku': [78897, 3154900, 80.25999999999999]}"
      ]
     },
     "execution_count": 15,
     "metadata": {},
     "output_type": "execute_result"
    }
   ],
   "source": [
    "new_dict = {}\n",
    "\n",
    "for key, value in unique_island_area.items():\n",
    "    numeric_values = list(value.values())\n",
    "    new_dict[key] = numeric_values\n",
    "\n",
    "new_dict"
   ]
  },
  {
   "cell_type": "code",
   "execution_count": 16,
   "metadata": {},
   "outputs": [
    {
     "data": {
      "text/html": [
       "<div>\n",
       "<style scoped>\n",
       "    .dataframe tbody tr th:only-of-type {\n",
       "        vertical-align: middle;\n",
       "    }\n",
       "\n",
       "    .dataframe tbody tr th {\n",
       "        vertical-align: top;\n",
       "    }\n",
       "\n",
       "    .dataframe thead th {\n",
       "        text-align: right;\n",
       "    }\n",
       "</style>\n",
       "<table border=\"1\" class=\"dataframe\">\n",
       "  <thead>\n",
       "    <tr style=\"text-align: right;\">\n",
       "      <th></th>\n",
       "      <th>Island</th>\n",
       "      <th>New Cases</th>\n",
       "      <th>New Deaths</th>\n",
       "      <th>New Recovered</th>\n",
       "      <th>New Active Cases</th>\n",
       "      <th>Area (km2)</th>\n",
       "      <th>Population</th>\n",
       "      <th>Population Density</th>\n",
       "      <th>New Cases per Million</th>\n",
       "      <th>New Deaths per Million</th>\n",
       "      <th>Growth Factor of New Cases</th>\n",
       "      <th>Growth Factor of New Deaths</th>\n",
       "    </tr>\n",
       "  </thead>\n",
       "  <tbody>\n",
       "    <tr>\n",
       "      <th>0</th>\n",
       "      <td>Jawa</td>\n",
       "      <td>4382330.0</td>\n",
       "      <td>105515.0</td>\n",
       "      <td>4246611.0</td>\n",
       "      <td>30204.0</td>\n",
       "      <td>129442</td>\n",
       "      <td>147203954</td>\n",
       "      <td>21834.82</td>\n",
       "      <td>281491.88</td>\n",
       "      <td>5391.30</td>\n",
       "      <td>6746.63</td>\n",
       "      <td>5830.97</td>\n",
       "    </tr>\n",
       "    <tr>\n",
       "      <th>1</th>\n",
       "      <td>Kalimantan</td>\n",
       "      <td>465732.0</td>\n",
       "      <td>11862.0</td>\n",
       "      <td>453092.0</td>\n",
       "      <td>778.0</td>\n",
       "      <td>544151</td>\n",
       "      <td>16216750</td>\n",
       "      <td>193.50</td>\n",
       "      <td>185377.11</td>\n",
       "      <td>4397.09</td>\n",
       "      <td>5274.34</td>\n",
       "      <td>4096.53</td>\n",
       "    </tr>\n",
       "    <tr>\n",
       "      <th>2</th>\n",
       "      <td>Maluku</td>\n",
       "      <td>33331.0</td>\n",
       "      <td>628.0</td>\n",
       "      <td>32640.0</td>\n",
       "      <td>63.0</td>\n",
       "      <td>78897</td>\n",
       "      <td>3154900</td>\n",
       "      <td>80.26</td>\n",
       "      <td>21302.73</td>\n",
       "      <td>413.88</td>\n",
       "      <td>2240.63</td>\n",
       "      <td>1429.22</td>\n",
       "    </tr>\n",
       "    <tr>\n",
       "      <th>3</th>\n",
       "      <td>Nusa Tenggara</td>\n",
       "      <td>297493.0</td>\n",
       "      <td>7160.0</td>\n",
       "      <td>289742.0</td>\n",
       "      <td>591.0</td>\n",
       "      <td>73070</td>\n",
       "      <td>14897739</td>\n",
       "      <td>1124.27</td>\n",
       "      <td>63894.55</td>\n",
       "      <td>1574.76</td>\n",
       "      <td>3652.40</td>\n",
       "      <td>2521.60</td>\n",
       "    </tr>\n",
       "    <tr>\n",
       "      <th>4</th>\n",
       "      <td>Papua</td>\n",
       "      <td>82097.0</td>\n",
       "      <td>963.0</td>\n",
       "      <td>80760.0</td>\n",
       "      <td>374.0</td>\n",
       "      <td>421991</td>\n",
       "      <td>5481049</td>\n",
       "      <td>24.68</td>\n",
       "      <td>39704.80</td>\n",
       "      <td>470.16</td>\n",
       "      <td>2687.72</td>\n",
       "      <td>1443.43</td>\n",
       "    </tr>\n",
       "    <tr>\n",
       "      <th>5</th>\n",
       "      <td>Sulawesi</td>\n",
       "      <td>313608.0</td>\n",
       "      <td>6880.0</td>\n",
       "      <td>305849.0</td>\n",
       "      <td>879.0</td>\n",
       "      <td>188562</td>\n",
       "      <td>20400432</td>\n",
       "      <td>706.78</td>\n",
       "      <td>87541.48</td>\n",
       "      <td>2191.23</td>\n",
       "      <td>7360.35</td>\n",
       "      <td>4493.80</td>\n",
       "    </tr>\n",
       "    <tr>\n",
       "      <th>6</th>\n",
       "      <td>Sumatera</td>\n",
       "      <td>822718.0</td>\n",
       "      <td>24811.0</td>\n",
       "      <td>795859.0</td>\n",
       "      <td>2048.0</td>\n",
       "      <td>480793</td>\n",
       "      <td>57830696</td>\n",
       "      <td>1337.37</td>\n",
       "      <td>191792.03</td>\n",
       "      <td>5342.04</td>\n",
       "      <td>10729.70</td>\n",
       "      <td>8492.22</td>\n",
       "    </tr>\n",
       "  </tbody>\n",
       "</table>\n",
       "</div>"
      ],
      "text/plain": [
       "          Island  New Cases  New Deaths  New Recovered  New Active Cases  \\\n",
       "0           Jawa  4382330.0    105515.0      4246611.0           30204.0   \n",
       "1     Kalimantan   465732.0     11862.0       453092.0             778.0   \n",
       "2         Maluku    33331.0       628.0        32640.0              63.0   \n",
       "3  Nusa Tenggara   297493.0      7160.0       289742.0             591.0   \n",
       "4          Papua    82097.0       963.0        80760.0             374.0   \n",
       "5       Sulawesi   313608.0      6880.0       305849.0             879.0   \n",
       "6       Sumatera   822718.0     24811.0       795859.0            2048.0   \n",
       "\n",
       "   Area (km2)  Population  Population Density  New Cases per Million  \\\n",
       "0      129442   147203954            21834.82              281491.88   \n",
       "1      544151    16216750              193.50              185377.11   \n",
       "2       78897     3154900               80.26               21302.73   \n",
       "3       73070    14897739             1124.27               63894.55   \n",
       "4      421991     5481049               24.68               39704.80   \n",
       "5      188562    20400432              706.78               87541.48   \n",
       "6      480793    57830696             1337.37              191792.03   \n",
       "\n",
       "   New Deaths per Million  Growth Factor of New Cases  \\\n",
       "0                 5391.30                     6746.63   \n",
       "1                 4397.09                     5274.34   \n",
       "2                  413.88                     2240.63   \n",
       "3                 1574.76                     3652.40   \n",
       "4                  470.16                     2687.72   \n",
       "5                 2191.23                     7360.35   \n",
       "6                 5342.04                    10729.70   \n",
       "\n",
       "   Growth Factor of New Deaths  \n",
       "0                      5830.97  \n",
       "1                      4096.53  \n",
       "2                      1429.22  \n",
       "3                      2521.60  \n",
       "4                      1443.43  \n",
       "5                      4493.80  \n",
       "6                      8492.22  "
      ]
     },
     "execution_count": 16,
     "metadata": {},
     "output_type": "execute_result"
    }
   ],
   "source": [
    "for column in ['Area (km2)', 'Population', 'Population Density']:\n",
    "    if column == 'Area (km2)':\n",
    "        analisis_2['Area (km2)'] = analisis_2['Island'].map(lambda x: new_dict[x][0])\n",
    "    if column == 'Population':\n",
    "        analisis_2['Population'] = analisis_2['Island'].map(lambda x: new_dict[x][1])    \n",
    "    if column == 'Population Density':\n",
    "        analisis_2['Population Density'] = analisis_2['Island'].map(lambda x: new_dict[x][2])  \n",
    "\n",
    "analisis_2"
   ]
  },
  {
   "cell_type": "code",
   "execution_count": 17,
   "metadata": {},
   "outputs": [
    {
     "data": {
      "application/vnd.plotly.v1+json": {
       "config": {
        "plotlyServerURL": "https://plot.ly"
       },
       "data": [
        {
         "name": "Kasus Baru",
         "type": "bar",
         "x": [
          "Jawa",
          "Kalimantan",
          "Maluku",
          "Nusa Tenggara",
          "Papua",
          "Sulawesi",
          "Sumatera"
         ],
         "y": [
          6746.630000000019,
          5274.3400000000165,
          2240.6300000000015,
          3652.399999999999,
          2687.7200000000016,
          7360.35000000001,
          10729.699999999993
         ]
        },
        {
         "name": "Kasus Kematian",
         "type": "bar",
         "x": [
          "Jawa",
          "Kalimantan",
          "Maluku",
          "Nusa Tenggara",
          "Papua",
          "Sulawesi",
          "Sumatera"
         ],
         "y": [
          5830.97000000001,
          4096.530000000001,
          1429.2200000000003,
          2521.600000000005,
          1443.4299999999998,
          4493.800000000003,
          8492.220000000008
         ]
        }
       ],
       "layout": {
        "barmode": "stack",
        "template": {
         "data": {
          "bar": [
           {
            "error_x": {
             "color": "#2a3f5f"
            },
            "error_y": {
             "color": "#2a3f5f"
            },
            "marker": {
             "line": {
              "color": "#E5ECF6",
              "width": 0.5
             },
             "pattern": {
              "fillmode": "overlay",
              "size": 10,
              "solidity": 0.2
             }
            },
            "type": "bar"
           }
          ],
          "barpolar": [
           {
            "marker": {
             "line": {
              "color": "#E5ECF6",
              "width": 0.5
             },
             "pattern": {
              "fillmode": "overlay",
              "size": 10,
              "solidity": 0.2
             }
            },
            "type": "barpolar"
           }
          ],
          "carpet": [
           {
            "aaxis": {
             "endlinecolor": "#2a3f5f",
             "gridcolor": "white",
             "linecolor": "white",
             "minorgridcolor": "white",
             "startlinecolor": "#2a3f5f"
            },
            "baxis": {
             "endlinecolor": "#2a3f5f",
             "gridcolor": "white",
             "linecolor": "white",
             "minorgridcolor": "white",
             "startlinecolor": "#2a3f5f"
            },
            "type": "carpet"
           }
          ],
          "choropleth": [
           {
            "colorbar": {
             "outlinewidth": 0,
             "ticks": ""
            },
            "type": "choropleth"
           }
          ],
          "contour": [
           {
            "colorbar": {
             "outlinewidth": 0,
             "ticks": ""
            },
            "colorscale": [
             [
              0,
              "#0d0887"
             ],
             [
              0.1111111111111111,
              "#46039f"
             ],
             [
              0.2222222222222222,
              "#7201a8"
             ],
             [
              0.3333333333333333,
              "#9c179e"
             ],
             [
              0.4444444444444444,
              "#bd3786"
             ],
             [
              0.5555555555555556,
              "#d8576b"
             ],
             [
              0.6666666666666666,
              "#ed7953"
             ],
             [
              0.7777777777777778,
              "#fb9f3a"
             ],
             [
              0.8888888888888888,
              "#fdca26"
             ],
             [
              1,
              "#f0f921"
             ]
            ],
            "type": "contour"
           }
          ],
          "contourcarpet": [
           {
            "colorbar": {
             "outlinewidth": 0,
             "ticks": ""
            },
            "type": "contourcarpet"
           }
          ],
          "heatmap": [
           {
            "colorbar": {
             "outlinewidth": 0,
             "ticks": ""
            },
            "colorscale": [
             [
              0,
              "#0d0887"
             ],
             [
              0.1111111111111111,
              "#46039f"
             ],
             [
              0.2222222222222222,
              "#7201a8"
             ],
             [
              0.3333333333333333,
              "#9c179e"
             ],
             [
              0.4444444444444444,
              "#bd3786"
             ],
             [
              0.5555555555555556,
              "#d8576b"
             ],
             [
              0.6666666666666666,
              "#ed7953"
             ],
             [
              0.7777777777777778,
              "#fb9f3a"
             ],
             [
              0.8888888888888888,
              "#fdca26"
             ],
             [
              1,
              "#f0f921"
             ]
            ],
            "type": "heatmap"
           }
          ],
          "heatmapgl": [
           {
            "colorbar": {
             "outlinewidth": 0,
             "ticks": ""
            },
            "colorscale": [
             [
              0,
              "#0d0887"
             ],
             [
              0.1111111111111111,
              "#46039f"
             ],
             [
              0.2222222222222222,
              "#7201a8"
             ],
             [
              0.3333333333333333,
              "#9c179e"
             ],
             [
              0.4444444444444444,
              "#bd3786"
             ],
             [
              0.5555555555555556,
              "#d8576b"
             ],
             [
              0.6666666666666666,
              "#ed7953"
             ],
             [
              0.7777777777777778,
              "#fb9f3a"
             ],
             [
              0.8888888888888888,
              "#fdca26"
             ],
             [
              1,
              "#f0f921"
             ]
            ],
            "type": "heatmapgl"
           }
          ],
          "histogram": [
           {
            "marker": {
             "pattern": {
              "fillmode": "overlay",
              "size": 10,
              "solidity": 0.2
             }
            },
            "type": "histogram"
           }
          ],
          "histogram2d": [
           {
            "colorbar": {
             "outlinewidth": 0,
             "ticks": ""
            },
            "colorscale": [
             [
              0,
              "#0d0887"
             ],
             [
              0.1111111111111111,
              "#46039f"
             ],
             [
              0.2222222222222222,
              "#7201a8"
             ],
             [
              0.3333333333333333,
              "#9c179e"
             ],
             [
              0.4444444444444444,
              "#bd3786"
             ],
             [
              0.5555555555555556,
              "#d8576b"
             ],
             [
              0.6666666666666666,
              "#ed7953"
             ],
             [
              0.7777777777777778,
              "#fb9f3a"
             ],
             [
              0.8888888888888888,
              "#fdca26"
             ],
             [
              1,
              "#f0f921"
             ]
            ],
            "type": "histogram2d"
           }
          ],
          "histogram2dcontour": [
           {
            "colorbar": {
             "outlinewidth": 0,
             "ticks": ""
            },
            "colorscale": [
             [
              0,
              "#0d0887"
             ],
             [
              0.1111111111111111,
              "#46039f"
             ],
             [
              0.2222222222222222,
              "#7201a8"
             ],
             [
              0.3333333333333333,
              "#9c179e"
             ],
             [
              0.4444444444444444,
              "#bd3786"
             ],
             [
              0.5555555555555556,
              "#d8576b"
             ],
             [
              0.6666666666666666,
              "#ed7953"
             ],
             [
              0.7777777777777778,
              "#fb9f3a"
             ],
             [
              0.8888888888888888,
              "#fdca26"
             ],
             [
              1,
              "#f0f921"
             ]
            ],
            "type": "histogram2dcontour"
           }
          ],
          "mesh3d": [
           {
            "colorbar": {
             "outlinewidth": 0,
             "ticks": ""
            },
            "type": "mesh3d"
           }
          ],
          "parcoords": [
           {
            "line": {
             "colorbar": {
              "outlinewidth": 0,
              "ticks": ""
             }
            },
            "type": "parcoords"
           }
          ],
          "pie": [
           {
            "automargin": true,
            "type": "pie"
           }
          ],
          "scatter": [
           {
            "fillpattern": {
             "fillmode": "overlay",
             "size": 10,
             "solidity": 0.2
            },
            "type": "scatter"
           }
          ],
          "scatter3d": [
           {
            "line": {
             "colorbar": {
              "outlinewidth": 0,
              "ticks": ""
             }
            },
            "marker": {
             "colorbar": {
              "outlinewidth": 0,
              "ticks": ""
             }
            },
            "type": "scatter3d"
           }
          ],
          "scattercarpet": [
           {
            "marker": {
             "colorbar": {
              "outlinewidth": 0,
              "ticks": ""
             }
            },
            "type": "scattercarpet"
           }
          ],
          "scattergeo": [
           {
            "marker": {
             "colorbar": {
              "outlinewidth": 0,
              "ticks": ""
             }
            },
            "type": "scattergeo"
           }
          ],
          "scattergl": [
           {
            "marker": {
             "colorbar": {
              "outlinewidth": 0,
              "ticks": ""
             }
            },
            "type": "scattergl"
           }
          ],
          "scattermapbox": [
           {
            "marker": {
             "colorbar": {
              "outlinewidth": 0,
              "ticks": ""
             }
            },
            "type": "scattermapbox"
           }
          ],
          "scatterpolar": [
           {
            "marker": {
             "colorbar": {
              "outlinewidth": 0,
              "ticks": ""
             }
            },
            "type": "scatterpolar"
           }
          ],
          "scatterpolargl": [
           {
            "marker": {
             "colorbar": {
              "outlinewidth": 0,
              "ticks": ""
             }
            },
            "type": "scatterpolargl"
           }
          ],
          "scatterternary": [
           {
            "marker": {
             "colorbar": {
              "outlinewidth": 0,
              "ticks": ""
             }
            },
            "type": "scatterternary"
           }
          ],
          "surface": [
           {
            "colorbar": {
             "outlinewidth": 0,
             "ticks": ""
            },
            "colorscale": [
             [
              0,
              "#0d0887"
             ],
             [
              0.1111111111111111,
              "#46039f"
             ],
             [
              0.2222222222222222,
              "#7201a8"
             ],
             [
              0.3333333333333333,
              "#9c179e"
             ],
             [
              0.4444444444444444,
              "#bd3786"
             ],
             [
              0.5555555555555556,
              "#d8576b"
             ],
             [
              0.6666666666666666,
              "#ed7953"
             ],
             [
              0.7777777777777778,
              "#fb9f3a"
             ],
             [
              0.8888888888888888,
              "#fdca26"
             ],
             [
              1,
              "#f0f921"
             ]
            ],
            "type": "surface"
           }
          ],
          "table": [
           {
            "cells": {
             "fill": {
              "color": "#EBF0F8"
             },
             "line": {
              "color": "white"
             }
            },
            "header": {
             "fill": {
              "color": "#C8D4E3"
             },
             "line": {
              "color": "white"
             }
            },
            "type": "table"
           }
          ]
         },
         "layout": {
          "annotationdefaults": {
           "arrowcolor": "#2a3f5f",
           "arrowhead": 0,
           "arrowwidth": 1
          },
          "autotypenumbers": "strict",
          "coloraxis": {
           "colorbar": {
            "outlinewidth": 0,
            "ticks": ""
           }
          },
          "colorscale": {
           "diverging": [
            [
             0,
             "#8e0152"
            ],
            [
             0.1,
             "#c51b7d"
            ],
            [
             0.2,
             "#de77ae"
            ],
            [
             0.3,
             "#f1b6da"
            ],
            [
             0.4,
             "#fde0ef"
            ],
            [
             0.5,
             "#f7f7f7"
            ],
            [
             0.6,
             "#e6f5d0"
            ],
            [
             0.7,
             "#b8e186"
            ],
            [
             0.8,
             "#7fbc41"
            ],
            [
             0.9,
             "#4d9221"
            ],
            [
             1,
             "#276419"
            ]
           ],
           "sequential": [
            [
             0,
             "#0d0887"
            ],
            [
             0.1111111111111111,
             "#46039f"
            ],
            [
             0.2222222222222222,
             "#7201a8"
            ],
            [
             0.3333333333333333,
             "#9c179e"
            ],
            [
             0.4444444444444444,
             "#bd3786"
            ],
            [
             0.5555555555555556,
             "#d8576b"
            ],
            [
             0.6666666666666666,
             "#ed7953"
            ],
            [
             0.7777777777777778,
             "#fb9f3a"
            ],
            [
             0.8888888888888888,
             "#fdca26"
            ],
            [
             1,
             "#f0f921"
            ]
           ],
           "sequentialminus": [
            [
             0,
             "#0d0887"
            ],
            [
             0.1111111111111111,
             "#46039f"
            ],
            [
             0.2222222222222222,
             "#7201a8"
            ],
            [
             0.3333333333333333,
             "#9c179e"
            ],
            [
             0.4444444444444444,
             "#bd3786"
            ],
            [
             0.5555555555555556,
             "#d8576b"
            ],
            [
             0.6666666666666666,
             "#ed7953"
            ],
            [
             0.7777777777777778,
             "#fb9f3a"
            ],
            [
             0.8888888888888888,
             "#fdca26"
            ],
            [
             1,
             "#f0f921"
            ]
           ]
          },
          "colorway": [
           "#636efa",
           "#EF553B",
           "#00cc96",
           "#ab63fa",
           "#FFA15A",
           "#19d3f3",
           "#FF6692",
           "#B6E880",
           "#FF97FF",
           "#FECB52"
          ],
          "font": {
           "color": "#2a3f5f"
          },
          "geo": {
           "bgcolor": "white",
           "lakecolor": "white",
           "landcolor": "#E5ECF6",
           "showlakes": true,
           "showland": true,
           "subunitcolor": "white"
          },
          "hoverlabel": {
           "align": "left"
          },
          "hovermode": "closest",
          "mapbox": {
           "style": "light"
          },
          "paper_bgcolor": "white",
          "plot_bgcolor": "#E5ECF6",
          "polar": {
           "angularaxis": {
            "gridcolor": "white",
            "linecolor": "white",
            "ticks": ""
           },
           "bgcolor": "#E5ECF6",
           "radialaxis": {
            "gridcolor": "white",
            "linecolor": "white",
            "ticks": ""
           }
          },
          "scene": {
           "xaxis": {
            "backgroundcolor": "#E5ECF6",
            "gridcolor": "white",
            "gridwidth": 2,
            "linecolor": "white",
            "showbackground": true,
            "ticks": "",
            "zerolinecolor": "white"
           },
           "yaxis": {
            "backgroundcolor": "#E5ECF6",
            "gridcolor": "white",
            "gridwidth": 2,
            "linecolor": "white",
            "showbackground": true,
            "ticks": "",
            "zerolinecolor": "white"
           },
           "zaxis": {
            "backgroundcolor": "#E5ECF6",
            "gridcolor": "white",
            "gridwidth": 2,
            "linecolor": "white",
            "showbackground": true,
            "ticks": "",
            "zerolinecolor": "white"
           }
          },
          "shapedefaults": {
           "line": {
            "color": "#2a3f5f"
           }
          },
          "ternary": {
           "aaxis": {
            "gridcolor": "white",
            "linecolor": "white",
            "ticks": ""
           },
           "baxis": {
            "gridcolor": "white",
            "linecolor": "white",
            "ticks": ""
           },
           "bgcolor": "#E5ECF6",
           "caxis": {
            "gridcolor": "white",
            "linecolor": "white",
            "ticks": ""
           }
          },
          "title": {
           "x": 0.05
          },
          "xaxis": {
           "automargin": true,
           "gridcolor": "white",
           "linecolor": "white",
           "ticks": "",
           "title": {
            "standoff": 15
           },
           "zerolinecolor": "white",
           "zerolinewidth": 2
          },
          "yaxis": {
           "automargin": true,
           "gridcolor": "white",
           "linecolor": "white",
           "ticks": "",
           "title": {
            "standoff": 15
           },
           "zerolinecolor": "white",
           "zerolinewidth": 2
          }
         }
        },
        "title": {
         "text": "Rasio Kasus Covid di Pulau Indonesia"
        },
        "xaxis": {
         "anchor": "y",
         "domain": [
          0,
          1
         ],
         "title": {
          "text": "Pulau"
         }
        },
        "yaxis": {
         "anchor": "x",
         "domain": [
          0,
          1
         ],
         "title": {
          "text": "Jumlah"
         }
        }
       }
      }
     },
     "metadata": {},
     "output_type": "display_data"
    }
   ],
   "source": [
    "fig = make_subplots(rows=1, cols=1)\n",
    "\n",
    "fig.add_trace(go.Bar(x=analisis_2['Island'], y=analisis_2['Growth Factor of New Cases'], name='Kasus Baru'))\n",
    "fig.add_trace(go.Bar(x=analisis_2['Island'], y=analisis_2['Growth Factor of New Deaths'], name='Kasus Kematian'))                  \n",
    "\n",
    "fig.update_xaxes(title='Pulau')\n",
    "fig.update_yaxes(title='Jumlah')\n",
    "fig.update_layout(title='Rasio Kasus Covid di Pulau Indonesia', barmode='stack')\n",
    "\n",
    "fig.write_html(\"g_3.html\")\n",
    "fig.show()"
   ]
  },
  {
   "cell_type": "code",
   "execution_count": 18,
   "metadata": {},
   "outputs": [
    {
     "data": {
      "application/vnd.plotly.v1+json": {
       "config": {
        "plotlyServerURL": "https://plot.ly"
       },
       "data": [
        {
         "hovertemplate": "Category: New Cases<br>Value: %{y:.2f}<extra></extra>",
         "name": "New Cases",
         "type": "bar",
         "x": [
          "Jawa",
          "Kalimantan",
          "Maluku",
          "Nusa Tenggara",
          "Papua",
          "Sulawesi",
          "Sumatera"
         ],
         "y": [
          4382330,
          465732,
          33331,
          297493,
          82097,
          313608,
          822718
         ]
        },
        {
         "hovertemplate": "Category: New Deaths<br>Value: %{y:.2f}<extra></extra>",
         "name": "New Deaths",
         "type": "bar",
         "x": [
          "Jawa",
          "Kalimantan",
          "Maluku",
          "Nusa Tenggara",
          "Papua",
          "Sulawesi",
          "Sumatera"
         ],
         "y": [
          105515,
          11862,
          628,
          7160,
          963,
          6880,
          24811
         ]
        },
        {
         "hovertemplate": "Category: New Recovered<br>Value: %{y:.2f}<extra></extra>",
         "name": "New Recovered",
         "type": "bar",
         "x": [
          "Jawa",
          "Kalimantan",
          "Maluku",
          "Nusa Tenggara",
          "Papua",
          "Sulawesi",
          "Sumatera"
         ],
         "y": [
          4246611,
          453092,
          32640,
          289742,
          80760,
          305849,
          795859
         ]
        },
        {
         "hovertemplate": "Category: New Active Cases<br>Value: %{y:.2f}<extra></extra>",
         "name": "New Active Cases",
         "type": "bar",
         "x": [
          "Jawa",
          "Kalimantan",
          "Maluku",
          "Nusa Tenggara",
          "Papua",
          "Sulawesi",
          "Sumatera"
         ],
         "y": [
          30204,
          778,
          63,
          591,
          374,
          879,
          2048
         ]
        }
       ],
       "layout": {
        "barmode": "group",
        "template": {
         "data": {
          "bar": [
           {
            "error_x": {
             "color": "#2a3f5f"
            },
            "error_y": {
             "color": "#2a3f5f"
            },
            "marker": {
             "line": {
              "color": "#E5ECF6",
              "width": 0.5
             },
             "pattern": {
              "fillmode": "overlay",
              "size": 10,
              "solidity": 0.2
             }
            },
            "type": "bar"
           }
          ],
          "barpolar": [
           {
            "marker": {
             "line": {
              "color": "#E5ECF6",
              "width": 0.5
             },
             "pattern": {
              "fillmode": "overlay",
              "size": 10,
              "solidity": 0.2
             }
            },
            "type": "barpolar"
           }
          ],
          "carpet": [
           {
            "aaxis": {
             "endlinecolor": "#2a3f5f",
             "gridcolor": "white",
             "linecolor": "white",
             "minorgridcolor": "white",
             "startlinecolor": "#2a3f5f"
            },
            "baxis": {
             "endlinecolor": "#2a3f5f",
             "gridcolor": "white",
             "linecolor": "white",
             "minorgridcolor": "white",
             "startlinecolor": "#2a3f5f"
            },
            "type": "carpet"
           }
          ],
          "choropleth": [
           {
            "colorbar": {
             "outlinewidth": 0,
             "ticks": ""
            },
            "type": "choropleth"
           }
          ],
          "contour": [
           {
            "colorbar": {
             "outlinewidth": 0,
             "ticks": ""
            },
            "colorscale": [
             [
              0,
              "#0d0887"
             ],
             [
              0.1111111111111111,
              "#46039f"
             ],
             [
              0.2222222222222222,
              "#7201a8"
             ],
             [
              0.3333333333333333,
              "#9c179e"
             ],
             [
              0.4444444444444444,
              "#bd3786"
             ],
             [
              0.5555555555555556,
              "#d8576b"
             ],
             [
              0.6666666666666666,
              "#ed7953"
             ],
             [
              0.7777777777777778,
              "#fb9f3a"
             ],
             [
              0.8888888888888888,
              "#fdca26"
             ],
             [
              1,
              "#f0f921"
             ]
            ],
            "type": "contour"
           }
          ],
          "contourcarpet": [
           {
            "colorbar": {
             "outlinewidth": 0,
             "ticks": ""
            },
            "type": "contourcarpet"
           }
          ],
          "heatmap": [
           {
            "colorbar": {
             "outlinewidth": 0,
             "ticks": ""
            },
            "colorscale": [
             [
              0,
              "#0d0887"
             ],
             [
              0.1111111111111111,
              "#46039f"
             ],
             [
              0.2222222222222222,
              "#7201a8"
             ],
             [
              0.3333333333333333,
              "#9c179e"
             ],
             [
              0.4444444444444444,
              "#bd3786"
             ],
             [
              0.5555555555555556,
              "#d8576b"
             ],
             [
              0.6666666666666666,
              "#ed7953"
             ],
             [
              0.7777777777777778,
              "#fb9f3a"
             ],
             [
              0.8888888888888888,
              "#fdca26"
             ],
             [
              1,
              "#f0f921"
             ]
            ],
            "type": "heatmap"
           }
          ],
          "heatmapgl": [
           {
            "colorbar": {
             "outlinewidth": 0,
             "ticks": ""
            },
            "colorscale": [
             [
              0,
              "#0d0887"
             ],
             [
              0.1111111111111111,
              "#46039f"
             ],
             [
              0.2222222222222222,
              "#7201a8"
             ],
             [
              0.3333333333333333,
              "#9c179e"
             ],
             [
              0.4444444444444444,
              "#bd3786"
             ],
             [
              0.5555555555555556,
              "#d8576b"
             ],
             [
              0.6666666666666666,
              "#ed7953"
             ],
             [
              0.7777777777777778,
              "#fb9f3a"
             ],
             [
              0.8888888888888888,
              "#fdca26"
             ],
             [
              1,
              "#f0f921"
             ]
            ],
            "type": "heatmapgl"
           }
          ],
          "histogram": [
           {
            "marker": {
             "pattern": {
              "fillmode": "overlay",
              "size": 10,
              "solidity": 0.2
             }
            },
            "type": "histogram"
           }
          ],
          "histogram2d": [
           {
            "colorbar": {
             "outlinewidth": 0,
             "ticks": ""
            },
            "colorscale": [
             [
              0,
              "#0d0887"
             ],
             [
              0.1111111111111111,
              "#46039f"
             ],
             [
              0.2222222222222222,
              "#7201a8"
             ],
             [
              0.3333333333333333,
              "#9c179e"
             ],
             [
              0.4444444444444444,
              "#bd3786"
             ],
             [
              0.5555555555555556,
              "#d8576b"
             ],
             [
              0.6666666666666666,
              "#ed7953"
             ],
             [
              0.7777777777777778,
              "#fb9f3a"
             ],
             [
              0.8888888888888888,
              "#fdca26"
             ],
             [
              1,
              "#f0f921"
             ]
            ],
            "type": "histogram2d"
           }
          ],
          "histogram2dcontour": [
           {
            "colorbar": {
             "outlinewidth": 0,
             "ticks": ""
            },
            "colorscale": [
             [
              0,
              "#0d0887"
             ],
             [
              0.1111111111111111,
              "#46039f"
             ],
             [
              0.2222222222222222,
              "#7201a8"
             ],
             [
              0.3333333333333333,
              "#9c179e"
             ],
             [
              0.4444444444444444,
              "#bd3786"
             ],
             [
              0.5555555555555556,
              "#d8576b"
             ],
             [
              0.6666666666666666,
              "#ed7953"
             ],
             [
              0.7777777777777778,
              "#fb9f3a"
             ],
             [
              0.8888888888888888,
              "#fdca26"
             ],
             [
              1,
              "#f0f921"
             ]
            ],
            "type": "histogram2dcontour"
           }
          ],
          "mesh3d": [
           {
            "colorbar": {
             "outlinewidth": 0,
             "ticks": ""
            },
            "type": "mesh3d"
           }
          ],
          "parcoords": [
           {
            "line": {
             "colorbar": {
              "outlinewidth": 0,
              "ticks": ""
             }
            },
            "type": "parcoords"
           }
          ],
          "pie": [
           {
            "automargin": true,
            "type": "pie"
           }
          ],
          "scatter": [
           {
            "fillpattern": {
             "fillmode": "overlay",
             "size": 10,
             "solidity": 0.2
            },
            "type": "scatter"
           }
          ],
          "scatter3d": [
           {
            "line": {
             "colorbar": {
              "outlinewidth": 0,
              "ticks": ""
             }
            },
            "marker": {
             "colorbar": {
              "outlinewidth": 0,
              "ticks": ""
             }
            },
            "type": "scatter3d"
           }
          ],
          "scattercarpet": [
           {
            "marker": {
             "colorbar": {
              "outlinewidth": 0,
              "ticks": ""
             }
            },
            "type": "scattercarpet"
           }
          ],
          "scattergeo": [
           {
            "marker": {
             "colorbar": {
              "outlinewidth": 0,
              "ticks": ""
             }
            },
            "type": "scattergeo"
           }
          ],
          "scattergl": [
           {
            "marker": {
             "colorbar": {
              "outlinewidth": 0,
              "ticks": ""
             }
            },
            "type": "scattergl"
           }
          ],
          "scattermapbox": [
           {
            "marker": {
             "colorbar": {
              "outlinewidth": 0,
              "ticks": ""
             }
            },
            "type": "scattermapbox"
           }
          ],
          "scatterpolar": [
           {
            "marker": {
             "colorbar": {
              "outlinewidth": 0,
              "ticks": ""
             }
            },
            "type": "scatterpolar"
           }
          ],
          "scatterpolargl": [
           {
            "marker": {
             "colorbar": {
              "outlinewidth": 0,
              "ticks": ""
             }
            },
            "type": "scatterpolargl"
           }
          ],
          "scatterternary": [
           {
            "marker": {
             "colorbar": {
              "outlinewidth": 0,
              "ticks": ""
             }
            },
            "type": "scatterternary"
           }
          ],
          "surface": [
           {
            "colorbar": {
             "outlinewidth": 0,
             "ticks": ""
            },
            "colorscale": [
             [
              0,
              "#0d0887"
             ],
             [
              0.1111111111111111,
              "#46039f"
             ],
             [
              0.2222222222222222,
              "#7201a8"
             ],
             [
              0.3333333333333333,
              "#9c179e"
             ],
             [
              0.4444444444444444,
              "#bd3786"
             ],
             [
              0.5555555555555556,
              "#d8576b"
             ],
             [
              0.6666666666666666,
              "#ed7953"
             ],
             [
              0.7777777777777778,
              "#fb9f3a"
             ],
             [
              0.8888888888888888,
              "#fdca26"
             ],
             [
              1,
              "#f0f921"
             ]
            ],
            "type": "surface"
           }
          ],
          "table": [
           {
            "cells": {
             "fill": {
              "color": "#EBF0F8"
             },
             "line": {
              "color": "white"
             }
            },
            "header": {
             "fill": {
              "color": "#C8D4E3"
             },
             "line": {
              "color": "white"
             }
            },
            "type": "table"
           }
          ]
         },
         "layout": {
          "annotationdefaults": {
           "arrowcolor": "#2a3f5f",
           "arrowhead": 0,
           "arrowwidth": 1
          },
          "autotypenumbers": "strict",
          "coloraxis": {
           "colorbar": {
            "outlinewidth": 0,
            "ticks": ""
           }
          },
          "colorscale": {
           "diverging": [
            [
             0,
             "#8e0152"
            ],
            [
             0.1,
             "#c51b7d"
            ],
            [
             0.2,
             "#de77ae"
            ],
            [
             0.3,
             "#f1b6da"
            ],
            [
             0.4,
             "#fde0ef"
            ],
            [
             0.5,
             "#f7f7f7"
            ],
            [
             0.6,
             "#e6f5d0"
            ],
            [
             0.7,
             "#b8e186"
            ],
            [
             0.8,
             "#7fbc41"
            ],
            [
             0.9,
             "#4d9221"
            ],
            [
             1,
             "#276419"
            ]
           ],
           "sequential": [
            [
             0,
             "#0d0887"
            ],
            [
             0.1111111111111111,
             "#46039f"
            ],
            [
             0.2222222222222222,
             "#7201a8"
            ],
            [
             0.3333333333333333,
             "#9c179e"
            ],
            [
             0.4444444444444444,
             "#bd3786"
            ],
            [
             0.5555555555555556,
             "#d8576b"
            ],
            [
             0.6666666666666666,
             "#ed7953"
            ],
            [
             0.7777777777777778,
             "#fb9f3a"
            ],
            [
             0.8888888888888888,
             "#fdca26"
            ],
            [
             1,
             "#f0f921"
            ]
           ],
           "sequentialminus": [
            [
             0,
             "#0d0887"
            ],
            [
             0.1111111111111111,
             "#46039f"
            ],
            [
             0.2222222222222222,
             "#7201a8"
            ],
            [
             0.3333333333333333,
             "#9c179e"
            ],
            [
             0.4444444444444444,
             "#bd3786"
            ],
            [
             0.5555555555555556,
             "#d8576b"
            ],
            [
             0.6666666666666666,
             "#ed7953"
            ],
            [
             0.7777777777777778,
             "#fb9f3a"
            ],
            [
             0.8888888888888888,
             "#fdca26"
            ],
            [
             1,
             "#f0f921"
            ]
           ]
          },
          "colorway": [
           "#636efa",
           "#EF553B",
           "#00cc96",
           "#ab63fa",
           "#FFA15A",
           "#19d3f3",
           "#FF6692",
           "#B6E880",
           "#FF97FF",
           "#FECB52"
          ],
          "font": {
           "color": "#2a3f5f"
          },
          "geo": {
           "bgcolor": "white",
           "lakecolor": "white",
           "landcolor": "#E5ECF6",
           "showlakes": true,
           "showland": true,
           "subunitcolor": "white"
          },
          "hoverlabel": {
           "align": "left"
          },
          "hovermode": "closest",
          "mapbox": {
           "style": "light"
          },
          "paper_bgcolor": "white",
          "plot_bgcolor": "#E5ECF6",
          "polar": {
           "angularaxis": {
            "gridcolor": "white",
            "linecolor": "white",
            "ticks": ""
           },
           "bgcolor": "#E5ECF6",
           "radialaxis": {
            "gridcolor": "white",
            "linecolor": "white",
            "ticks": ""
           }
          },
          "scene": {
           "xaxis": {
            "backgroundcolor": "#E5ECF6",
            "gridcolor": "white",
            "gridwidth": 2,
            "linecolor": "white",
            "showbackground": true,
            "ticks": "",
            "zerolinecolor": "white"
           },
           "yaxis": {
            "backgroundcolor": "#E5ECF6",
            "gridcolor": "white",
            "gridwidth": 2,
            "linecolor": "white",
            "showbackground": true,
            "ticks": "",
            "zerolinecolor": "white"
           },
           "zaxis": {
            "backgroundcolor": "#E5ECF6",
            "gridcolor": "white",
            "gridwidth": 2,
            "linecolor": "white",
            "showbackground": true,
            "ticks": "",
            "zerolinecolor": "white"
           }
          },
          "shapedefaults": {
           "line": {
            "color": "#2a3f5f"
           }
          },
          "ternary": {
           "aaxis": {
            "gridcolor": "white",
            "linecolor": "white",
            "ticks": ""
           },
           "baxis": {
            "gridcolor": "white",
            "linecolor": "white",
            "ticks": ""
           },
           "bgcolor": "#E5ECF6",
           "caxis": {
            "gridcolor": "white",
            "linecolor": "white",
            "ticks": ""
           }
          },
          "title": {
           "x": 0.05
          },
          "xaxis": {
           "automargin": true,
           "gridcolor": "white",
           "linecolor": "white",
           "ticks": "",
           "title": {
            "standoff": 15
           },
           "zerolinecolor": "white",
           "zerolinewidth": 2
          },
          "yaxis": {
           "automargin": true,
           "gridcolor": "white",
           "linecolor": "white",
           "ticks": "",
           "title": {
            "standoff": 15
           },
           "zerolinecolor": "white",
           "zerolinewidth": 2
          }
         }
        },
        "title": {
         "text": "Rincian Kasus Covid di Pulau Indonesia"
        },
        "xaxis": {
         "anchor": "y",
         "domain": [
          0,
          1
         ],
         "title": {
          "text": "Pulau"
         }
        },
        "yaxis": {
         "anchor": "x",
         "domain": [
          0,
          1
         ],
         "title": {
          "text": "Jumlah"
         }
        }
       }
      }
     },
     "metadata": {},
     "output_type": "display_data"
    }
   ],
   "source": [
    "values = analisis_2.iloc[:, 1:5]\n",
    "\n",
    "fig = make_subplots(rows=1, cols=1)\n",
    "\n",
    "for col in values.columns:\n",
    "    fig.add_trace(go.Bar(x=analisis_2['Island'], y=values[col], name=col,\n",
    "                            hovertemplate=f'Category: {col}<br>' +\n",
    "                                        'Value: %{y:.2f}<extra></extra>'))\n",
    "\n",
    "fig.update_xaxes(title='Pulau')\n",
    "fig.update_yaxes(title='Jumlah')\n",
    "fig.update_layout(title='Rincian Kasus Covid di Pulau Indonesia', barmode='group')\n",
    "\n",
    "fig.write_html(\"g_4.html\")\n",
    "fig.show()"
   ]
  },
  {
   "cell_type": "code",
   "execution_count": 19,
   "metadata": {},
   "outputs": [
    {
     "data": {
      "application/vnd.plotly.v1+json": {
       "config": {
        "plotlyServerURL": "https://plot.ly"
       },
       "data": [
        {
         "hovertemplate": "Category: New Cases per Million<br>Value: %{y:.2f}<extra></extra>",
         "name": "New Cases per Million",
         "type": "bar",
         "x": [
          "Jawa",
          "Kalimantan",
          "Maluku",
          "Nusa Tenggara",
          "Papua",
          "Sulawesi",
          "Sumatera"
         ],
         "y": [
          281491.87999999913,
          185377.11000000164,
          21302.72999999998,
          63894.55000000015,
          39704.79999999993,
          87541.48000000029,
          191792.02999999773
         ]
        },
        {
         "hovertemplate": "Category: New Deaths per Million<br>Value: %{y:.2f}<extra></extra>",
         "name": "New Deaths per Million",
         "type": "bar",
         "x": [
          "Jawa",
          "Kalimantan",
          "Maluku",
          "Nusa Tenggara",
          "Papua",
          "Sulawesi",
          "Sumatera"
         ],
         "y": [
          5391.300000000037,
          4397.090000000002,
          413.88000000000034,
          1574.7600000000095,
          470.15999999999923,
          2191.230000000011,
          5342.039999999948
         ]
        }
       ],
       "layout": {
        "barmode": "group",
        "template": {
         "data": {
          "bar": [
           {
            "error_x": {
             "color": "#2a3f5f"
            },
            "error_y": {
             "color": "#2a3f5f"
            },
            "marker": {
             "line": {
              "color": "#E5ECF6",
              "width": 0.5
             },
             "pattern": {
              "fillmode": "overlay",
              "size": 10,
              "solidity": 0.2
             }
            },
            "type": "bar"
           }
          ],
          "barpolar": [
           {
            "marker": {
             "line": {
              "color": "#E5ECF6",
              "width": 0.5
             },
             "pattern": {
              "fillmode": "overlay",
              "size": 10,
              "solidity": 0.2
             }
            },
            "type": "barpolar"
           }
          ],
          "carpet": [
           {
            "aaxis": {
             "endlinecolor": "#2a3f5f",
             "gridcolor": "white",
             "linecolor": "white",
             "minorgridcolor": "white",
             "startlinecolor": "#2a3f5f"
            },
            "baxis": {
             "endlinecolor": "#2a3f5f",
             "gridcolor": "white",
             "linecolor": "white",
             "minorgridcolor": "white",
             "startlinecolor": "#2a3f5f"
            },
            "type": "carpet"
           }
          ],
          "choropleth": [
           {
            "colorbar": {
             "outlinewidth": 0,
             "ticks": ""
            },
            "type": "choropleth"
           }
          ],
          "contour": [
           {
            "colorbar": {
             "outlinewidth": 0,
             "ticks": ""
            },
            "colorscale": [
             [
              0,
              "#0d0887"
             ],
             [
              0.1111111111111111,
              "#46039f"
             ],
             [
              0.2222222222222222,
              "#7201a8"
             ],
             [
              0.3333333333333333,
              "#9c179e"
             ],
             [
              0.4444444444444444,
              "#bd3786"
             ],
             [
              0.5555555555555556,
              "#d8576b"
             ],
             [
              0.6666666666666666,
              "#ed7953"
             ],
             [
              0.7777777777777778,
              "#fb9f3a"
             ],
             [
              0.8888888888888888,
              "#fdca26"
             ],
             [
              1,
              "#f0f921"
             ]
            ],
            "type": "contour"
           }
          ],
          "contourcarpet": [
           {
            "colorbar": {
             "outlinewidth": 0,
             "ticks": ""
            },
            "type": "contourcarpet"
           }
          ],
          "heatmap": [
           {
            "colorbar": {
             "outlinewidth": 0,
             "ticks": ""
            },
            "colorscale": [
             [
              0,
              "#0d0887"
             ],
             [
              0.1111111111111111,
              "#46039f"
             ],
             [
              0.2222222222222222,
              "#7201a8"
             ],
             [
              0.3333333333333333,
              "#9c179e"
             ],
             [
              0.4444444444444444,
              "#bd3786"
             ],
             [
              0.5555555555555556,
              "#d8576b"
             ],
             [
              0.6666666666666666,
              "#ed7953"
             ],
             [
              0.7777777777777778,
              "#fb9f3a"
             ],
             [
              0.8888888888888888,
              "#fdca26"
             ],
             [
              1,
              "#f0f921"
             ]
            ],
            "type": "heatmap"
           }
          ],
          "heatmapgl": [
           {
            "colorbar": {
             "outlinewidth": 0,
             "ticks": ""
            },
            "colorscale": [
             [
              0,
              "#0d0887"
             ],
             [
              0.1111111111111111,
              "#46039f"
             ],
             [
              0.2222222222222222,
              "#7201a8"
             ],
             [
              0.3333333333333333,
              "#9c179e"
             ],
             [
              0.4444444444444444,
              "#bd3786"
             ],
             [
              0.5555555555555556,
              "#d8576b"
             ],
             [
              0.6666666666666666,
              "#ed7953"
             ],
             [
              0.7777777777777778,
              "#fb9f3a"
             ],
             [
              0.8888888888888888,
              "#fdca26"
             ],
             [
              1,
              "#f0f921"
             ]
            ],
            "type": "heatmapgl"
           }
          ],
          "histogram": [
           {
            "marker": {
             "pattern": {
              "fillmode": "overlay",
              "size": 10,
              "solidity": 0.2
             }
            },
            "type": "histogram"
           }
          ],
          "histogram2d": [
           {
            "colorbar": {
             "outlinewidth": 0,
             "ticks": ""
            },
            "colorscale": [
             [
              0,
              "#0d0887"
             ],
             [
              0.1111111111111111,
              "#46039f"
             ],
             [
              0.2222222222222222,
              "#7201a8"
             ],
             [
              0.3333333333333333,
              "#9c179e"
             ],
             [
              0.4444444444444444,
              "#bd3786"
             ],
             [
              0.5555555555555556,
              "#d8576b"
             ],
             [
              0.6666666666666666,
              "#ed7953"
             ],
             [
              0.7777777777777778,
              "#fb9f3a"
             ],
             [
              0.8888888888888888,
              "#fdca26"
             ],
             [
              1,
              "#f0f921"
             ]
            ],
            "type": "histogram2d"
           }
          ],
          "histogram2dcontour": [
           {
            "colorbar": {
             "outlinewidth": 0,
             "ticks": ""
            },
            "colorscale": [
             [
              0,
              "#0d0887"
             ],
             [
              0.1111111111111111,
              "#46039f"
             ],
             [
              0.2222222222222222,
              "#7201a8"
             ],
             [
              0.3333333333333333,
              "#9c179e"
             ],
             [
              0.4444444444444444,
              "#bd3786"
             ],
             [
              0.5555555555555556,
              "#d8576b"
             ],
             [
              0.6666666666666666,
              "#ed7953"
             ],
             [
              0.7777777777777778,
              "#fb9f3a"
             ],
             [
              0.8888888888888888,
              "#fdca26"
             ],
             [
              1,
              "#f0f921"
             ]
            ],
            "type": "histogram2dcontour"
           }
          ],
          "mesh3d": [
           {
            "colorbar": {
             "outlinewidth": 0,
             "ticks": ""
            },
            "type": "mesh3d"
           }
          ],
          "parcoords": [
           {
            "line": {
             "colorbar": {
              "outlinewidth": 0,
              "ticks": ""
             }
            },
            "type": "parcoords"
           }
          ],
          "pie": [
           {
            "automargin": true,
            "type": "pie"
           }
          ],
          "scatter": [
           {
            "fillpattern": {
             "fillmode": "overlay",
             "size": 10,
             "solidity": 0.2
            },
            "type": "scatter"
           }
          ],
          "scatter3d": [
           {
            "line": {
             "colorbar": {
              "outlinewidth": 0,
              "ticks": ""
             }
            },
            "marker": {
             "colorbar": {
              "outlinewidth": 0,
              "ticks": ""
             }
            },
            "type": "scatter3d"
           }
          ],
          "scattercarpet": [
           {
            "marker": {
             "colorbar": {
              "outlinewidth": 0,
              "ticks": ""
             }
            },
            "type": "scattercarpet"
           }
          ],
          "scattergeo": [
           {
            "marker": {
             "colorbar": {
              "outlinewidth": 0,
              "ticks": ""
             }
            },
            "type": "scattergeo"
           }
          ],
          "scattergl": [
           {
            "marker": {
             "colorbar": {
              "outlinewidth": 0,
              "ticks": ""
             }
            },
            "type": "scattergl"
           }
          ],
          "scattermapbox": [
           {
            "marker": {
             "colorbar": {
              "outlinewidth": 0,
              "ticks": ""
             }
            },
            "type": "scattermapbox"
           }
          ],
          "scatterpolar": [
           {
            "marker": {
             "colorbar": {
              "outlinewidth": 0,
              "ticks": ""
             }
            },
            "type": "scatterpolar"
           }
          ],
          "scatterpolargl": [
           {
            "marker": {
             "colorbar": {
              "outlinewidth": 0,
              "ticks": ""
             }
            },
            "type": "scatterpolargl"
           }
          ],
          "scatterternary": [
           {
            "marker": {
             "colorbar": {
              "outlinewidth": 0,
              "ticks": ""
             }
            },
            "type": "scatterternary"
           }
          ],
          "surface": [
           {
            "colorbar": {
             "outlinewidth": 0,
             "ticks": ""
            },
            "colorscale": [
             [
              0,
              "#0d0887"
             ],
             [
              0.1111111111111111,
              "#46039f"
             ],
             [
              0.2222222222222222,
              "#7201a8"
             ],
             [
              0.3333333333333333,
              "#9c179e"
             ],
             [
              0.4444444444444444,
              "#bd3786"
             ],
             [
              0.5555555555555556,
              "#d8576b"
             ],
             [
              0.6666666666666666,
              "#ed7953"
             ],
             [
              0.7777777777777778,
              "#fb9f3a"
             ],
             [
              0.8888888888888888,
              "#fdca26"
             ],
             [
              1,
              "#f0f921"
             ]
            ],
            "type": "surface"
           }
          ],
          "table": [
           {
            "cells": {
             "fill": {
              "color": "#EBF0F8"
             },
             "line": {
              "color": "white"
             }
            },
            "header": {
             "fill": {
              "color": "#C8D4E3"
             },
             "line": {
              "color": "white"
             }
            },
            "type": "table"
           }
          ]
         },
         "layout": {
          "annotationdefaults": {
           "arrowcolor": "#2a3f5f",
           "arrowhead": 0,
           "arrowwidth": 1
          },
          "autotypenumbers": "strict",
          "coloraxis": {
           "colorbar": {
            "outlinewidth": 0,
            "ticks": ""
           }
          },
          "colorscale": {
           "diverging": [
            [
             0,
             "#8e0152"
            ],
            [
             0.1,
             "#c51b7d"
            ],
            [
             0.2,
             "#de77ae"
            ],
            [
             0.3,
             "#f1b6da"
            ],
            [
             0.4,
             "#fde0ef"
            ],
            [
             0.5,
             "#f7f7f7"
            ],
            [
             0.6,
             "#e6f5d0"
            ],
            [
             0.7,
             "#b8e186"
            ],
            [
             0.8,
             "#7fbc41"
            ],
            [
             0.9,
             "#4d9221"
            ],
            [
             1,
             "#276419"
            ]
           ],
           "sequential": [
            [
             0,
             "#0d0887"
            ],
            [
             0.1111111111111111,
             "#46039f"
            ],
            [
             0.2222222222222222,
             "#7201a8"
            ],
            [
             0.3333333333333333,
             "#9c179e"
            ],
            [
             0.4444444444444444,
             "#bd3786"
            ],
            [
             0.5555555555555556,
             "#d8576b"
            ],
            [
             0.6666666666666666,
             "#ed7953"
            ],
            [
             0.7777777777777778,
             "#fb9f3a"
            ],
            [
             0.8888888888888888,
             "#fdca26"
            ],
            [
             1,
             "#f0f921"
            ]
           ],
           "sequentialminus": [
            [
             0,
             "#0d0887"
            ],
            [
             0.1111111111111111,
             "#46039f"
            ],
            [
             0.2222222222222222,
             "#7201a8"
            ],
            [
             0.3333333333333333,
             "#9c179e"
            ],
            [
             0.4444444444444444,
             "#bd3786"
            ],
            [
             0.5555555555555556,
             "#d8576b"
            ],
            [
             0.6666666666666666,
             "#ed7953"
            ],
            [
             0.7777777777777778,
             "#fb9f3a"
            ],
            [
             0.8888888888888888,
             "#fdca26"
            ],
            [
             1,
             "#f0f921"
            ]
           ]
          },
          "colorway": [
           "#636efa",
           "#EF553B",
           "#00cc96",
           "#ab63fa",
           "#FFA15A",
           "#19d3f3",
           "#FF6692",
           "#B6E880",
           "#FF97FF",
           "#FECB52"
          ],
          "font": {
           "color": "#2a3f5f"
          },
          "geo": {
           "bgcolor": "white",
           "lakecolor": "white",
           "landcolor": "#E5ECF6",
           "showlakes": true,
           "showland": true,
           "subunitcolor": "white"
          },
          "hoverlabel": {
           "align": "left"
          },
          "hovermode": "closest",
          "mapbox": {
           "style": "light"
          },
          "paper_bgcolor": "white",
          "plot_bgcolor": "#E5ECF6",
          "polar": {
           "angularaxis": {
            "gridcolor": "white",
            "linecolor": "white",
            "ticks": ""
           },
           "bgcolor": "#E5ECF6",
           "radialaxis": {
            "gridcolor": "white",
            "linecolor": "white",
            "ticks": ""
           }
          },
          "scene": {
           "xaxis": {
            "backgroundcolor": "#E5ECF6",
            "gridcolor": "white",
            "gridwidth": 2,
            "linecolor": "white",
            "showbackground": true,
            "ticks": "",
            "zerolinecolor": "white"
           },
           "yaxis": {
            "backgroundcolor": "#E5ECF6",
            "gridcolor": "white",
            "gridwidth": 2,
            "linecolor": "white",
            "showbackground": true,
            "ticks": "",
            "zerolinecolor": "white"
           },
           "zaxis": {
            "backgroundcolor": "#E5ECF6",
            "gridcolor": "white",
            "gridwidth": 2,
            "linecolor": "white",
            "showbackground": true,
            "ticks": "",
            "zerolinecolor": "white"
           }
          },
          "shapedefaults": {
           "line": {
            "color": "#2a3f5f"
           }
          },
          "ternary": {
           "aaxis": {
            "gridcolor": "white",
            "linecolor": "white",
            "ticks": ""
           },
           "baxis": {
            "gridcolor": "white",
            "linecolor": "white",
            "ticks": ""
           },
           "bgcolor": "#E5ECF6",
           "caxis": {
            "gridcolor": "white",
            "linecolor": "white",
            "ticks": ""
           }
          },
          "title": {
           "x": 0.05
          },
          "xaxis": {
           "automargin": true,
           "gridcolor": "white",
           "linecolor": "white",
           "ticks": "",
           "title": {
            "standoff": 15
           },
           "zerolinecolor": "white",
           "zerolinewidth": 2
          },
          "yaxis": {
           "automargin": true,
           "gridcolor": "white",
           "linecolor": "white",
           "ticks": "",
           "title": {
            "standoff": 15
           },
           "zerolinecolor": "white",
           "zerolinewidth": 2
          }
         }
        },
        "title": {
         "text": "Rincian Kasus Covid per Populasi di Pulau Indonesia"
        },
        "xaxis": {
         "anchor": "y",
         "domain": [
          0,
          1
         ],
         "title": {
          "text": "Pulau"
         }
        },
        "yaxis": {
         "anchor": "x",
         "domain": [
          0,
          1
         ],
         "title": {
          "text": "Jumlah"
         }
        }
       }
      }
     },
     "metadata": {},
     "output_type": "display_data"
    }
   ],
   "source": [
    "values = analisis_2.iloc[:, 8:10]\n",
    "\n",
    "fig = make_subplots(rows=1, cols=1)\n",
    "\n",
    "for col in values.columns:\n",
    "    fig.add_trace(go.Bar(x=analisis_2['Island'], y=values[col], name=col,\n",
    "                            hovertemplate=f'Category: {col}<br>' +\n",
    "                                        'Value: %{y:.2f}<extra></extra>'))\n",
    "\n",
    "fig.update_xaxes(title='Pulau')\n",
    "fig.update_yaxes(title='Jumlah')\n",
    "fig.update_layout(title='Rincian Kasus Covid per Populasi di Pulau Indonesia', barmode='group')\n",
    "\n",
    "fig.write_html(\"g_5.html\")\n",
    "fig.show()"
   ]
  },
  {
   "cell_type": "markdown",
   "metadata": {},
   "source": [
    "Analisis Kasus Covid Indonesia Berdasarkan Pulau & Tahun"
   ]
  },
  {
   "cell_type": "code",
   "execution_count": 20,
   "metadata": {},
   "outputs": [
    {
     "name": "stdout",
     "output_type": "stream",
     "text": [
      "<class 'pandas.core.frame.DataFrame'>\n",
      "Index: 30893 entries, 0 to 31820\n",
      "Data columns (total 20 columns):\n",
      " #   Column                       Non-Null Count  Dtype         \n",
      "---  ------                       --------------  -----         \n",
      " 0   Date                         30893 non-null  datetime64[ns]\n",
      " 1   New Cases                    30893 non-null  int64         \n",
      " 2   New Deaths                   30893 non-null  int64         \n",
      " 3   New Recovered                30893 non-null  int64         \n",
      " 4   New Active Cases             30893 non-null  int64         \n",
      " 5   Total Cases                  30893 non-null  int64         \n",
      " 6   Total Deaths                 30893 non-null  int64         \n",
      " 7   Total Recovered              30893 non-null  int64         \n",
      " 8   Total Active Cases           30893 non-null  int64         \n",
      " 9   Area (km2)                   30893 non-null  int64         \n",
      " 10  Population                   30893 non-null  int64         \n",
      " 11  Population Density           30893 non-null  float64       \n",
      " 12  New Cases per Million        30893 non-null  float64       \n",
      " 13  Total Cases per Million      30893 non-null  float64       \n",
      " 14  New Deaths per Million       30893 non-null  float64       \n",
      " 15  Total Deaths per Million     30893 non-null  float64       \n",
      " 16  Total Deaths per 100rb       30893 non-null  float64       \n",
      " 17  Growth Factor of New Cases   28958 non-null  float64       \n",
      " 18  Growth Factor of New Deaths  27451 non-null  float64       \n",
      " 19  Island                       30893 non-null  object        \n",
      "dtypes: datetime64[ns](1), float64(8), int64(10), object(1)\n",
      "memory usage: 4.9+ MB\n"
     ]
    }
   ],
   "source": [
    "analisis_3 = data.dropna(subset=['Island'])\n",
    "analisis_3 = analisis_3.select_dtypes(exclude=['object']) \t\n",
    "analisis_3 = analisis_3.drop(columns=[\"City or Regency\", \"Total Regencies\", \"Total Cities\", \"Total Districts\", \n",
    "                                      \"Total Urban Villages\", \"Total Rural Villages\", \"Longitude\", \"Latitude\"])\n",
    "analisis_3 = analisis_3.join(data[\"Island\"])\n",
    "analisis_3.info()"
   ]
  },
  {
   "cell_type": "code",
   "execution_count": 21,
   "metadata": {},
   "outputs": [
    {
     "data": {
      "text/html": [
       "<div>\n",
       "<style scoped>\n",
       "    .dataframe tbody tr th:only-of-type {\n",
       "        vertical-align: middle;\n",
       "    }\n",
       "\n",
       "    .dataframe tbody tr th {\n",
       "        vertical-align: top;\n",
       "    }\n",
       "\n",
       "    .dataframe thead th {\n",
       "        text-align: right;\n",
       "    }\n",
       "</style>\n",
       "<table border=\"1\" class=\"dataframe\">\n",
       "  <thead>\n",
       "    <tr style=\"text-align: right;\">\n",
       "      <th></th>\n",
       "      <th>Year</th>\n",
       "      <th>Island</th>\n",
       "      <th>Total Cases</th>\n",
       "      <th>Total Deaths</th>\n",
       "      <th>Total Recovered</th>\n",
       "      <th>Total Active Cases</th>\n",
       "      <th>Total Cases per Million</th>\n",
       "      <th>Total Deaths per Million</th>\n",
       "      <th>Total Deaths per 100rb</th>\n",
       "    </tr>\n",
       "  </thead>\n",
       "  <tbody>\n",
       "    <tr>\n",
       "      <th>0</th>\n",
       "      <td>2020</td>\n",
       "      <td>Jawa</td>\n",
       "      <td>84410</td>\n",
       "      <td>6399</td>\n",
       "      <td>75172</td>\n",
       "      <td>2839</td>\n",
       "      <td>2085.28</td>\n",
       "      <td>158.08</td>\n",
       "      <td>15.81</td>\n",
       "    </tr>\n",
       "    <tr>\n",
       "      <th>1</th>\n",
       "      <td>2021</td>\n",
       "      <td>Jawa</td>\n",
       "      <td>708850</td>\n",
       "      <td>14756</td>\n",
       "      <td>693628</td>\n",
       "      <td>466</td>\n",
       "      <td>15695.95</td>\n",
       "      <td>326.74</td>\n",
       "      <td>32.67</td>\n",
       "    </tr>\n",
       "    <tr>\n",
       "      <th>2</th>\n",
       "      <td>2022</td>\n",
       "      <td>Jawa</td>\n",
       "      <td>1173731</td>\n",
       "      <td>15937</td>\n",
       "      <td>1144358</td>\n",
       "      <td>13436</td>\n",
       "      <td>25989.74</td>\n",
       "      <td>352.89</td>\n",
       "      <td>35.29</td>\n",
       "    </tr>\n",
       "    <tr>\n",
       "      <th>3</th>\n",
       "      <td>2020</td>\n",
       "      <td>Kalimantan</td>\n",
       "      <td>3794</td>\n",
       "      <td>57</td>\n",
       "      <td>2045</td>\n",
       "      <td>1692</td>\n",
       "      <td>5851.26</td>\n",
       "      <td>87.91</td>\n",
       "      <td>8.79</td>\n",
       "    </tr>\n",
       "    <tr>\n",
       "      <th>4</th>\n",
       "      <td>2021</td>\n",
       "      <td>Kalimantan</td>\n",
       "      <td>45660</td>\n",
       "      <td>1433</td>\n",
       "      <td>44196</td>\n",
       "      <td>31</td>\n",
       "      <td>17764.54</td>\n",
       "      <td>557.52</td>\n",
       "      <td>55.75</td>\n",
       "    </tr>\n",
       "  </tbody>\n",
       "</table>\n",
       "</div>"
      ],
      "text/plain": [
       "   Year      Island  Total Cases  Total Deaths  Total Recovered  \\\n",
       "0  2020        Jawa        84410          6399            75172   \n",
       "1  2021        Jawa       708850         14756           693628   \n",
       "2  2022        Jawa      1173731         15937          1144358   \n",
       "3  2020  Kalimantan         3794            57             2045   \n",
       "4  2021  Kalimantan        45660          1433            44196   \n",
       "\n",
       "   Total Active Cases  Total Cases per Million  Total Deaths per Million  \\\n",
       "0                2839                  2085.28                    158.08   \n",
       "1                 466                 15695.95                    326.74   \n",
       "2               13436                 25989.74                    352.89   \n",
       "3                1692                  5851.26                     87.91   \n",
       "4                  31                 17764.54                    557.52   \n",
       "\n",
       "   Total Deaths per 100rb  \n",
       "0                   15.81  \n",
       "1                   32.67  \n",
       "2                   35.29  \n",
       "3                    8.79  \n",
       "4                   55.75  "
      ]
     },
     "execution_count": 21,
     "metadata": {},
     "output_type": "execute_result"
    }
   ],
   "source": [
    "selected_col = \", \".join([f'\"{col}\"' for col in analisis_3.iloc[:, np.r_[5:9, 13, 15:17]]])\n",
    "\n",
    "analisis_3_1 = query(f\"\"\"WITH RankedData AS\n",
    "                        (SELECT *, ROW_NUMBER() OVER (PARTITION BY Island, YEAR(Date) ORDER BY Date DESC) AS RowNum\n",
    "                        FROM analisis_3)                        \n",
    "                    SELECT Year(Date) AS Year, Island, {selected_col}\n",
    "                    FROM RankedData WHERE RowNum = 1\n",
    "                    ORDER BY Island, Year\"\"\")\n",
    "\n",
    "analisis_3_1.head()"
   ]
  },
  {
   "cell_type": "code",
   "execution_count": 22,
   "metadata": {},
   "outputs": [
    {
     "data": {
      "text/html": [
       "<div>\n",
       "<style scoped>\n",
       "    .dataframe tbody tr th:only-of-type {\n",
       "        vertical-align: middle;\n",
       "    }\n",
       "\n",
       "    .dataframe tbody tr th {\n",
       "        vertical-align: top;\n",
       "    }\n",
       "\n",
       "    .dataframe thead th {\n",
       "        text-align: right;\n",
       "    }\n",
       "</style>\n",
       "<table border=\"1\" class=\"dataframe\">\n",
       "  <thead>\n",
       "    <tr style=\"text-align: right;\">\n",
       "      <th></th>\n",
       "      <th>Year</th>\n",
       "      <th>Island</th>\n",
       "      <th>New Cases</th>\n",
       "      <th>New Deaths</th>\n",
       "      <th>New Recovered</th>\n",
       "      <th>New Active Cases</th>\n",
       "      <th>Area (km2)</th>\n",
       "      <th>Population</th>\n",
       "      <th>Population Density</th>\n",
       "      <th>New Cases per Million</th>\n",
       "      <th>New Deaths per Million</th>\n",
       "      <th>Growth Factor of New Cases</th>\n",
       "      <th>Growth Factor of New Deaths</th>\n",
       "    </tr>\n",
       "  </thead>\n",
       "  <tbody>\n",
       "    <tr>\n",
       "      <th>0</th>\n",
       "      <td>2020</td>\n",
       "      <td>Jawa</td>\n",
       "      <td>471167.0</td>\n",
       "      <td>15462.0</td>\n",
       "      <td>394639.0</td>\n",
       "      <td>61066.0</td>\n",
       "      <td>38400928.0</td>\n",
       "      <td>4.390332e+10</td>\n",
       "      <td>6633814.38</td>\n",
       "      <td>28329.58</td>\n",
       "      <td>707.99</td>\n",
       "      <td>2409.35</td>\n",
       "      <td>1892.71</td>\n",
       "    </tr>\n",
       "    <tr>\n",
       "      <th>1</th>\n",
       "      <td>2021</td>\n",
       "      <td>Jawa</td>\n",
       "      <td>2279735.0</td>\n",
       "      <td>80928.0</td>\n",
       "      <td>2257536.0</td>\n",
       "      <td>-58729.0</td>\n",
       "      <td>47246330.0</td>\n",
       "      <td>5.372944e+10</td>\n",
       "      <td>7969709.30</td>\n",
       "      <td>146039.81</td>\n",
       "      <td>4141.75</td>\n",
       "      <td>2516.23</td>\n",
       "      <td>2651.40</td>\n",
       "    </tr>\n",
       "    <tr>\n",
       "      <th>2</th>\n",
       "      <td>2022</td>\n",
       "      <td>Jawa</td>\n",
       "      <td>1631428.0</td>\n",
       "      <td>9125.0</td>\n",
       "      <td>1594436.0</td>\n",
       "      <td>27867.0</td>\n",
       "      <td>33396036.0</td>\n",
       "      <td>3.797862e+10</td>\n",
       "      <td>5633383.56</td>\n",
       "      <td>107122.49</td>\n",
       "      <td>541.56</td>\n",
       "      <td>1821.05</td>\n",
       "      <td>1286.86</td>\n",
       "    </tr>\n",
       "    <tr>\n",
       "      <th>3</th>\n",
       "      <td>2020</td>\n",
       "      <td>Kalimantan</td>\n",
       "      <td>59031.0</td>\n",
       "      <td>1607.0</td>\n",
       "      <td>47839.0</td>\n",
       "      <td>9585.0</td>\n",
       "      <td>153707402.0</td>\n",
       "      <td>4.565876e+09</td>\n",
       "      <td>54160.77</td>\n",
       "      <td>21641.83</td>\n",
       "      <td>524.11</td>\n",
       "      <td>1648.20</td>\n",
       "      <td>1312.12</td>\n",
       "    </tr>\n",
       "    <tr>\n",
       "      <th>4</th>\n",
       "      <td>2021</td>\n",
       "      <td>Kalimantan</td>\n",
       "      <td>292526.0</td>\n",
       "      <td>9539.0</td>\n",
       "      <td>292438.0</td>\n",
       "      <td>-9451.0</td>\n",
       "      <td>198615115.0</td>\n",
       "      <td>5.919114e+09</td>\n",
       "      <td>70627.50</td>\n",
       "      <td>121196.47</td>\n",
       "      <td>3608.47</td>\n",
       "      <td>2165.87</td>\n",
       "      <td>1730.44</td>\n",
       "    </tr>\n",
       "  </tbody>\n",
       "</table>\n",
       "</div>"
      ],
      "text/plain": [
       "   Year      Island  New Cases  New Deaths  New Recovered  New Active Cases  \\\n",
       "0  2020        Jawa   471167.0     15462.0       394639.0           61066.0   \n",
       "1  2021        Jawa  2279735.0     80928.0      2257536.0          -58729.0   \n",
       "2  2022        Jawa  1631428.0      9125.0      1594436.0           27867.0   \n",
       "3  2020  Kalimantan    59031.0      1607.0        47839.0            9585.0   \n",
       "4  2021  Kalimantan   292526.0      9539.0       292438.0           -9451.0   \n",
       "\n",
       "    Area (km2)    Population  Population Density  New Cases per Million  \\\n",
       "0   38400928.0  4.390332e+10          6633814.38               28329.58   \n",
       "1   47246330.0  5.372944e+10          7969709.30              146039.81   \n",
       "2   33396036.0  3.797862e+10          5633383.56              107122.49   \n",
       "3  153707402.0  4.565876e+09            54160.77               21641.83   \n",
       "4  198615115.0  5.919114e+09            70627.50              121196.47   \n",
       "\n",
       "   New Deaths per Million  Growth Factor of New Cases  \\\n",
       "0                  707.99                     2409.35   \n",
       "1                 4141.75                     2516.23   \n",
       "2                  541.56                     1821.05   \n",
       "3                  524.11                     1648.20   \n",
       "4                 3608.47                     2165.87   \n",
       "\n",
       "   Growth Factor of New Deaths  \n",
       "0                      1892.71  \n",
       "1                      2651.40  \n",
       "2                      1286.86  \n",
       "3                      1312.12  \n",
       "4                      1730.44  "
      ]
     },
     "execution_count": 22,
     "metadata": {},
     "output_type": "execute_result"
    }
   ],
   "source": [
    "sum_col = \", \".join([f'SUM(\"{col}\") AS \"{col}\"' for col in analisis_3.iloc[:, np.r_[1:5, 9:13, 14, 17:19]]])\n",
    "\n",
    "analisis_3_2 = query(f'''SELECT Year(Date) AS Year, Island, {sum_col}\n",
    "                    FROM analisis_3 GROUP BY Island, Year(Date)\n",
    "                    ORDER BY Island, Year(Date)''')\n",
    "analisis_3_2.head()"
   ]
  },
  {
   "cell_type": "code",
   "execution_count": 23,
   "metadata": {},
   "outputs": [
    {
     "data": {
      "text/html": [
       "<div>\n",
       "<style scoped>\n",
       "    .dataframe tbody tr th:only-of-type {\n",
       "        vertical-align: middle;\n",
       "    }\n",
       "\n",
       "    .dataframe tbody tr th {\n",
       "        vertical-align: top;\n",
       "    }\n",
       "\n",
       "    .dataframe thead th {\n",
       "        text-align: right;\n",
       "    }\n",
       "</style>\n",
       "<table border=\"1\" class=\"dataframe\">\n",
       "  <thead>\n",
       "    <tr style=\"text-align: right;\">\n",
       "      <th></th>\n",
       "      <th>Year</th>\n",
       "      <th>Island</th>\n",
       "      <th>New Cases</th>\n",
       "      <th>New Deaths</th>\n",
       "      <th>New Recovered</th>\n",
       "      <th>New Active Cases</th>\n",
       "      <th>Area (km2)</th>\n",
       "      <th>Population</th>\n",
       "      <th>Population Density</th>\n",
       "      <th>New Cases per Million</th>\n",
       "      <th>New Deaths per Million</th>\n",
       "      <th>Growth Factor of New Cases</th>\n",
       "      <th>Growth Factor of New Deaths</th>\n",
       "      <th>Total Cases</th>\n",
       "      <th>Total Deaths</th>\n",
       "      <th>Total Recovered</th>\n",
       "      <th>Total Active Cases</th>\n",
       "      <th>Total Cases per Million</th>\n",
       "      <th>Total Deaths per Million</th>\n",
       "      <th>Total Deaths per 100rb</th>\n",
       "    </tr>\n",
       "  </thead>\n",
       "  <tbody>\n",
       "    <tr>\n",
       "      <th>0</th>\n",
       "      <td>2020</td>\n",
       "      <td>Jawa</td>\n",
       "      <td>471167.0</td>\n",
       "      <td>15462.0</td>\n",
       "      <td>394639.0</td>\n",
       "      <td>61066.0</td>\n",
       "      <td>38400928.0</td>\n",
       "      <td>4.390332e+10</td>\n",
       "      <td>6633814.38</td>\n",
       "      <td>28329.58</td>\n",
       "      <td>707.99</td>\n",
       "      <td>2409.35</td>\n",
       "      <td>1892.71</td>\n",
       "      <td>84410</td>\n",
       "      <td>6399</td>\n",
       "      <td>75172</td>\n",
       "      <td>2839</td>\n",
       "      <td>2085.28</td>\n",
       "      <td>158.08</td>\n",
       "      <td>15.81</td>\n",
       "    </tr>\n",
       "    <tr>\n",
       "      <th>1</th>\n",
       "      <td>2021</td>\n",
       "      <td>Jawa</td>\n",
       "      <td>2279735.0</td>\n",
       "      <td>80928.0</td>\n",
       "      <td>2257536.0</td>\n",
       "      <td>-58729.0</td>\n",
       "      <td>47246330.0</td>\n",
       "      <td>5.372944e+10</td>\n",
       "      <td>7969709.30</td>\n",
       "      <td>146039.81</td>\n",
       "      <td>4141.75</td>\n",
       "      <td>2516.23</td>\n",
       "      <td>2651.40</td>\n",
       "      <td>708850</td>\n",
       "      <td>14756</td>\n",
       "      <td>693628</td>\n",
       "      <td>466</td>\n",
       "      <td>15695.95</td>\n",
       "      <td>326.74</td>\n",
       "      <td>32.67</td>\n",
       "    </tr>\n",
       "    <tr>\n",
       "      <th>2</th>\n",
       "      <td>2022</td>\n",
       "      <td>Jawa</td>\n",
       "      <td>1631428.0</td>\n",
       "      <td>9125.0</td>\n",
       "      <td>1594436.0</td>\n",
       "      <td>27867.0</td>\n",
       "      <td>33396036.0</td>\n",
       "      <td>3.797862e+10</td>\n",
       "      <td>5633383.56</td>\n",
       "      <td>107122.49</td>\n",
       "      <td>541.56</td>\n",
       "      <td>1821.05</td>\n",
       "      <td>1286.86</td>\n",
       "      <td>1173731</td>\n",
       "      <td>15937</td>\n",
       "      <td>1144358</td>\n",
       "      <td>13436</td>\n",
       "      <td>25989.74</td>\n",
       "      <td>352.89</td>\n",
       "      <td>35.29</td>\n",
       "    </tr>\n",
       "    <tr>\n",
       "      <th>3</th>\n",
       "      <td>2020</td>\n",
       "      <td>Kalimantan</td>\n",
       "      <td>59031.0</td>\n",
       "      <td>1607.0</td>\n",
       "      <td>47839.0</td>\n",
       "      <td>9585.0</td>\n",
       "      <td>153707402.0</td>\n",
       "      <td>4.565876e+09</td>\n",
       "      <td>54160.77</td>\n",
       "      <td>21641.83</td>\n",
       "      <td>524.11</td>\n",
       "      <td>1648.20</td>\n",
       "      <td>1312.12</td>\n",
       "      <td>3794</td>\n",
       "      <td>57</td>\n",
       "      <td>2045</td>\n",
       "      <td>1692</td>\n",
       "      <td>5851.26</td>\n",
       "      <td>87.91</td>\n",
       "      <td>8.79</td>\n",
       "    </tr>\n",
       "    <tr>\n",
       "      <th>4</th>\n",
       "      <td>2021</td>\n",
       "      <td>Kalimantan</td>\n",
       "      <td>292526.0</td>\n",
       "      <td>9539.0</td>\n",
       "      <td>292438.0</td>\n",
       "      <td>-9451.0</td>\n",
       "      <td>198615115.0</td>\n",
       "      <td>5.919114e+09</td>\n",
       "      <td>70627.50</td>\n",
       "      <td>121196.47</td>\n",
       "      <td>3608.47</td>\n",
       "      <td>2165.87</td>\n",
       "      <td>1730.44</td>\n",
       "      <td>45660</td>\n",
       "      <td>1433</td>\n",
       "      <td>44196</td>\n",
       "      <td>31</td>\n",
       "      <td>17764.54</td>\n",
       "      <td>557.52</td>\n",
       "      <td>55.75</td>\n",
       "    </tr>\n",
       "  </tbody>\n",
       "</table>\n",
       "</div>"
      ],
      "text/plain": [
       "   Year      Island  New Cases  New Deaths  New Recovered  New Active Cases  \\\n",
       "0  2020        Jawa   471167.0     15462.0       394639.0           61066.0   \n",
       "1  2021        Jawa  2279735.0     80928.0      2257536.0          -58729.0   \n",
       "2  2022        Jawa  1631428.0      9125.0      1594436.0           27867.0   \n",
       "3  2020  Kalimantan    59031.0      1607.0        47839.0            9585.0   \n",
       "4  2021  Kalimantan   292526.0      9539.0       292438.0           -9451.0   \n",
       "\n",
       "    Area (km2)    Population  Population Density  New Cases per Million  \\\n",
       "0   38400928.0  4.390332e+10          6633814.38               28329.58   \n",
       "1   47246330.0  5.372944e+10          7969709.30              146039.81   \n",
       "2   33396036.0  3.797862e+10          5633383.56              107122.49   \n",
       "3  153707402.0  4.565876e+09            54160.77               21641.83   \n",
       "4  198615115.0  5.919114e+09            70627.50              121196.47   \n",
       "\n",
       "   New Deaths per Million  Growth Factor of New Cases  \\\n",
       "0                  707.99                     2409.35   \n",
       "1                 4141.75                     2516.23   \n",
       "2                  541.56                     1821.05   \n",
       "3                  524.11                     1648.20   \n",
       "4                 3608.47                     2165.87   \n",
       "\n",
       "   Growth Factor of New Deaths  Total Cases  Total Deaths  Total Recovered  \\\n",
       "0                      1892.71        84410          6399            75172   \n",
       "1                      2651.40       708850         14756           693628   \n",
       "2                      1286.86      1173731         15937          1144358   \n",
       "3                      1312.12         3794            57             2045   \n",
       "4                      1730.44        45660          1433            44196   \n",
       "\n",
       "   Total Active Cases  Total Cases per Million  Total Deaths per Million  \\\n",
       "0                2839                  2085.28                    158.08   \n",
       "1                 466                 15695.95                    326.74   \n",
       "2               13436                 25989.74                    352.89   \n",
       "3                1692                  5851.26                     87.91   \n",
       "4                  31                 17764.54                    557.52   \n",
       "\n",
       "   Total Deaths per 100rb  \n",
       "0                   15.81  \n",
       "1                   32.67  \n",
       "2                   35.29  \n",
       "3                    8.79  \n",
       "4                   55.75  "
      ]
     },
     "execution_count": 23,
     "metadata": {},
     "output_type": "execute_result"
    }
   ],
   "source": [
    "analisis_3 = query('''SELECT analisis_3_2.*, \n",
    "                        analisis_3_1.\"Total Cases\", \n",
    "                        analisis_3_1.\"Total Deaths\", \n",
    "                        analisis_3_1.\"Total Recovered\", \n",
    "                        analisis_3_1.\"Total Active Cases\",\n",
    "                        analisis_3_1.\"Total Cases per Million\", \n",
    "                        analisis_3_1.\"Total Deaths per Million\",\n",
    "                        analisis_3_1.\"Total Deaths per 100rb\"\n",
    "                    FROM analisis_3_1\n",
    "                    FULL OUTER JOIN analisis_3_2\n",
    "                    ON analisis_3_1.Island = analisis_3_2.Island AND analisis_3_1.Year = analisis_3_2.Year\n",
    "                    ORDER BY analisis_3_2.Island, analisis_3_2.Year''')\n",
    "\n",
    "analisis_3.head()"
   ]
  },
  {
   "cell_type": "code",
   "execution_count": 24,
   "metadata": {},
   "outputs": [
    {
     "data": {
      "text/html": [
       "<div>\n",
       "<style scoped>\n",
       "    .dataframe tbody tr th:only-of-type {\n",
       "        vertical-align: middle;\n",
       "    }\n",
       "\n",
       "    .dataframe tbody tr th {\n",
       "        vertical-align: top;\n",
       "    }\n",
       "\n",
       "    .dataframe thead th {\n",
       "        text-align: right;\n",
       "    }\n",
       "</style>\n",
       "<table border=\"1\" class=\"dataframe\">\n",
       "  <thead>\n",
       "    <tr style=\"text-align: right;\">\n",
       "      <th></th>\n",
       "      <th>Year</th>\n",
       "      <th>Island</th>\n",
       "      <th>New Cases</th>\n",
       "      <th>New Deaths</th>\n",
       "      <th>New Recovered</th>\n",
       "      <th>New Active Cases</th>\n",
       "      <th>Area (km2)</th>\n",
       "      <th>Population</th>\n",
       "      <th>Population Density</th>\n",
       "      <th>New Cases per Million</th>\n",
       "      <th>New Deaths per Million</th>\n",
       "      <th>Growth Factor of New Cases</th>\n",
       "      <th>Growth Factor of New Deaths</th>\n",
       "      <th>Total Cases</th>\n",
       "      <th>Total Deaths</th>\n",
       "      <th>Total Recovered</th>\n",
       "      <th>Total Active Cases</th>\n",
       "      <th>Total Cases per Million</th>\n",
       "      <th>Total Deaths per Million</th>\n",
       "      <th>Total Deaths per 100rb</th>\n",
       "    </tr>\n",
       "  </thead>\n",
       "  <tbody>\n",
       "    <tr>\n",
       "      <th>0</th>\n",
       "      <td>2020</td>\n",
       "      <td>Jawa</td>\n",
       "      <td>471167.0</td>\n",
       "      <td>15462.0</td>\n",
       "      <td>394639.0</td>\n",
       "      <td>61066.0</td>\n",
       "      <td>129442</td>\n",
       "      <td>147203954</td>\n",
       "      <td>21834.82</td>\n",
       "      <td>28329.58</td>\n",
       "      <td>707.99</td>\n",
       "      <td>2409.35</td>\n",
       "      <td>1892.71</td>\n",
       "      <td>84410</td>\n",
       "      <td>6399</td>\n",
       "      <td>75172</td>\n",
       "      <td>2839</td>\n",
       "      <td>2085.28</td>\n",
       "      <td>158.08</td>\n",
       "      <td>15.81</td>\n",
       "    </tr>\n",
       "    <tr>\n",
       "      <th>1</th>\n",
       "      <td>2021</td>\n",
       "      <td>Jawa</td>\n",
       "      <td>2279735.0</td>\n",
       "      <td>80928.0</td>\n",
       "      <td>2257536.0</td>\n",
       "      <td>-58729.0</td>\n",
       "      <td>129442</td>\n",
       "      <td>147203954</td>\n",
       "      <td>21834.82</td>\n",
       "      <td>146039.81</td>\n",
       "      <td>4141.75</td>\n",
       "      <td>2516.23</td>\n",
       "      <td>2651.40</td>\n",
       "      <td>708850</td>\n",
       "      <td>14756</td>\n",
       "      <td>693628</td>\n",
       "      <td>466</td>\n",
       "      <td>15695.95</td>\n",
       "      <td>326.74</td>\n",
       "      <td>32.67</td>\n",
       "    </tr>\n",
       "    <tr>\n",
       "      <th>2</th>\n",
       "      <td>2022</td>\n",
       "      <td>Jawa</td>\n",
       "      <td>1631428.0</td>\n",
       "      <td>9125.0</td>\n",
       "      <td>1594436.0</td>\n",
       "      <td>27867.0</td>\n",
       "      <td>129442</td>\n",
       "      <td>147203954</td>\n",
       "      <td>21834.82</td>\n",
       "      <td>107122.49</td>\n",
       "      <td>541.56</td>\n",
       "      <td>1821.05</td>\n",
       "      <td>1286.86</td>\n",
       "      <td>1173731</td>\n",
       "      <td>15937</td>\n",
       "      <td>1144358</td>\n",
       "      <td>13436</td>\n",
       "      <td>25989.74</td>\n",
       "      <td>352.89</td>\n",
       "      <td>35.29</td>\n",
       "    </tr>\n",
       "    <tr>\n",
       "      <th>3</th>\n",
       "      <td>2020</td>\n",
       "      <td>Kalimantan</td>\n",
       "      <td>59031.0</td>\n",
       "      <td>1607.0</td>\n",
       "      <td>47839.0</td>\n",
       "      <td>9585.0</td>\n",
       "      <td>544151</td>\n",
       "      <td>16216750</td>\n",
       "      <td>193.50</td>\n",
       "      <td>21641.83</td>\n",
       "      <td>524.11</td>\n",
       "      <td>1648.20</td>\n",
       "      <td>1312.12</td>\n",
       "      <td>3794</td>\n",
       "      <td>57</td>\n",
       "      <td>2045</td>\n",
       "      <td>1692</td>\n",
       "      <td>5851.26</td>\n",
       "      <td>87.91</td>\n",
       "      <td>8.79</td>\n",
       "    </tr>\n",
       "    <tr>\n",
       "      <th>4</th>\n",
       "      <td>2021</td>\n",
       "      <td>Kalimantan</td>\n",
       "      <td>292526.0</td>\n",
       "      <td>9539.0</td>\n",
       "      <td>292438.0</td>\n",
       "      <td>-9451.0</td>\n",
       "      <td>544151</td>\n",
       "      <td>16216750</td>\n",
       "      <td>193.50</td>\n",
       "      <td>121196.47</td>\n",
       "      <td>3608.47</td>\n",
       "      <td>2165.87</td>\n",
       "      <td>1730.44</td>\n",
       "      <td>45660</td>\n",
       "      <td>1433</td>\n",
       "      <td>44196</td>\n",
       "      <td>31</td>\n",
       "      <td>17764.54</td>\n",
       "      <td>557.52</td>\n",
       "      <td>55.75</td>\n",
       "    </tr>\n",
       "  </tbody>\n",
       "</table>\n",
       "</div>"
      ],
      "text/plain": [
       "   Year      Island  New Cases  New Deaths  New Recovered  New Active Cases  \\\n",
       "0  2020        Jawa   471167.0     15462.0       394639.0           61066.0   \n",
       "1  2021        Jawa  2279735.0     80928.0      2257536.0          -58729.0   \n",
       "2  2022        Jawa  1631428.0      9125.0      1594436.0           27867.0   \n",
       "3  2020  Kalimantan    59031.0      1607.0        47839.0            9585.0   \n",
       "4  2021  Kalimantan   292526.0      9539.0       292438.0           -9451.0   \n",
       "\n",
       "   Area (km2)  Population  Population Density  New Cases per Million  \\\n",
       "0      129442   147203954            21834.82               28329.58   \n",
       "1      129442   147203954            21834.82              146039.81   \n",
       "2      129442   147203954            21834.82              107122.49   \n",
       "3      544151    16216750              193.50               21641.83   \n",
       "4      544151    16216750              193.50              121196.47   \n",
       "\n",
       "   New Deaths per Million  Growth Factor of New Cases  \\\n",
       "0                  707.99                     2409.35   \n",
       "1                 4141.75                     2516.23   \n",
       "2                  541.56                     1821.05   \n",
       "3                  524.11                     1648.20   \n",
       "4                 3608.47                     2165.87   \n",
       "\n",
       "   Growth Factor of New Deaths  Total Cases  Total Deaths  Total Recovered  \\\n",
       "0                      1892.71        84410          6399            75172   \n",
       "1                      2651.40       708850         14756           693628   \n",
       "2                      1286.86      1173731         15937          1144358   \n",
       "3                      1312.12         3794            57             2045   \n",
       "4                      1730.44        45660          1433            44196   \n",
       "\n",
       "   Total Active Cases  Total Cases per Million  Total Deaths per Million  \\\n",
       "0                2839                  2085.28                    158.08   \n",
       "1                 466                 15695.95                    326.74   \n",
       "2               13436                 25989.74                    352.89   \n",
       "3                1692                  5851.26                     87.91   \n",
       "4                  31                 17764.54                    557.52   \n",
       "\n",
       "   Total Deaths per 100rb  \n",
       "0                   15.81  \n",
       "1                   32.67  \n",
       "2                   35.29  \n",
       "3                    8.79  \n",
       "4                   55.75  "
      ]
     },
     "execution_count": 24,
     "metadata": {},
     "output_type": "execute_result"
    }
   ],
   "source": [
    "for column in ['Area (km2)', 'Population', 'Population Density']:    \n",
    "    if column == 'Area (km2)':\n",
    "        analisis_3['Area (km2)'] = analisis_3['Island'].map(lambda x: new_dict[x][0])\n",
    "    if column == 'Population':\n",
    "        analisis_3['Population'] = analisis_3['Island'].map(lambda x: new_dict[x][1])    \n",
    "    if column == 'Population Density':\n",
    "        analisis_3['Population Density'] = analisis_3['Island'].map(lambda x: new_dict[x][2])  \n",
    "\n",
    "analisis_3.head()"
   ]
  },
  {
   "cell_type": "code",
   "execution_count": 25,
   "metadata": {},
   "outputs": [
    {
     "data": {
      "application/vnd.plotly.v1+json": {
       "config": {
        "plotlyServerURL": "https://plot.ly"
       },
       "data": [
        {
         "customdata": [
          [
           "Jawa",
           2020
          ]
         ],
         "hovertemplate": "Category: Growth Factor of New Cases<br>Pulau: %{customdata[0]}<br>Tahun: %{customdata[1]}<br>Value: %{y:.2f}<extra></extra>",
         "marker": {
          "color": "rgb(157, 146, 89)"
         },
         "name": "Jawa, Growth Factor of New Cases, 2020",
         "showlegend": true,
         "type": "bar",
         "x": [
          "Jawa, 2020"
         ],
         "xaxis": "x",
         "y": [
          2409.350000000006
         ],
         "yaxis": "y"
        },
        {
         "customdata": [
          [
           "Kalimantan",
           2020
          ]
         ],
         "hovertemplate": "Category: Growth Factor of New Cases<br>Pulau: %{customdata[0]}<br>Tahun: %{customdata[1]}<br>Value: %{y:.2f}<extra></extra>",
         "marker": {
          "color": "rgb(232, 1, 70)"
         },
         "name": "Kalimantan, Growth Factor of New Cases, 2020",
         "showlegend": true,
         "type": "bar",
         "x": [
          "Kalimantan, 2020"
         ],
         "xaxis": "x",
         "y": [
          1648.200000000003
         ],
         "yaxis": "y"
        },
        {
         "customdata": [
          [
           "Maluku",
           2020
          ]
         ],
         "hovertemplate": "Category: Growth Factor of New Cases<br>Pulau: %{customdata[0]}<br>Tahun: %{customdata[1]}<br>Value: %{y:.2f}<extra></extra>",
         "marker": {
          "color": "rgb(231, 52, 103)"
         },
         "name": "Maluku, Growth Factor of New Cases, 2020",
         "showlegend": true,
         "type": "bar",
         "x": [
          "Maluku, 2020"
         ],
         "xaxis": "x",
         "y": [
          813.7399999999999
         ],
         "yaxis": "y"
        },
        {
         "customdata": [
          [
           "Nusa Tenggara",
           2020
          ]
         ],
         "hovertemplate": "Category: Growth Factor of New Cases<br>Pulau: %{customdata[0]}<br>Tahun: %{customdata[1]}<br>Value: %{y:.2f}<extra></extra>",
         "marker": {
          "color": "rgb(111, 124, 220)"
         },
         "name": "Nusa Tenggara, Growth Factor of New Cases, 2020",
         "showlegend": true,
         "type": "bar",
         "x": [
          "Nusa Tenggara, 2020"
         ],
         "xaxis": "x",
         "y": [
          1058.8599999999997
         ],
         "yaxis": "y"
        },
        {
         "customdata": [
          [
           "Papua",
           2020
          ]
         ],
         "hovertemplate": "Category: Growth Factor of New Cases<br>Pulau: %{customdata[0]}<br>Tahun: %{customdata[1]}<br>Value: %{y:.2f}<extra></extra>",
         "marker": {
          "color": "rgb(31, 145, 26)"
         },
         "name": "Papua, Growth Factor of New Cases, 2020",
         "showlegend": true,
         "type": "bar",
         "x": [
          "Papua, 2020"
         ],
         "xaxis": "x",
         "y": [
          975.5300000000003
         ],
         "yaxis": "y"
        },
        {
         "customdata": [
          [
           "Sulawesi",
           2020
          ]
         ],
         "hovertemplate": "Category: Growth Factor of New Cases<br>Pulau: %{customdata[0]}<br>Tahun: %{customdata[1]}<br>Value: %{y:.2f}<extra></extra>",
         "marker": {
          "color": "rgb(86, 157, 115)"
         },
         "name": "Sulawesi, Growth Factor of New Cases, 2020",
         "showlegend": true,
         "type": "bar",
         "x": [
          "Sulawesi, 2020"
         ],
         "xaxis": "x",
         "y": [
          2638.3299999999936
         ],
         "yaxis": "y"
        },
        {
         "customdata": [
          [
           "Sumatera",
           2020
          ]
         ],
         "hovertemplate": "Category: Growth Factor of New Cases<br>Pulau: %{customdata[0]}<br>Tahun: %{customdata[1]}<br>Value: %{y:.2f}<extra></extra>",
         "marker": {
          "color": "rgb(195, 189, 116)"
         },
         "name": "Sumatera, Growth Factor of New Cases, 2020",
         "showlegend": true,
         "type": "bar",
         "x": [
          "Sumatera, 2020"
         ],
         "xaxis": "x",
         "y": [
          3530.2400000000002
         ],
         "yaxis": "y"
        },
        {
         "customdata": [
          [
           "Jawa",
           2021
          ]
         ],
         "hovertemplate": "Category: Growth Factor of New Cases<br>Pulau: %{customdata[0]}<br>Tahun: %{customdata[1]}<br>Value: %{y:.2f}<extra></extra>",
         "marker": {
          "color": "rgb(157, 146, 89)"
         },
         "name": "Jawa, Growth Factor of New Cases, 2021",
         "showlegend": true,
         "type": "bar",
         "x": [
          "Jawa, 2021"
         ],
         "xaxis": "x",
         "y": [
          2516.23
         ],
         "yaxis": "y"
        },
        {
         "customdata": [
          [
           "Kalimantan",
           2021
          ]
         ],
         "hovertemplate": "Category: Growth Factor of New Cases<br>Pulau: %{customdata[0]}<br>Tahun: %{customdata[1]}<br>Value: %{y:.2f}<extra></extra>",
         "marker": {
          "color": "rgb(232, 1, 70)"
         },
         "name": "Kalimantan, Growth Factor of New Cases, 2021",
         "showlegend": true,
         "type": "bar",
         "x": [
          "Kalimantan, 2021"
         ],
         "xaxis": "x",
         "y": [
          2165.870000000001
         ],
         "yaxis": "y"
        },
        {
         "customdata": [
          [
           "Maluku",
           2021
          ]
         ],
         "hovertemplate": "Category: Growth Factor of New Cases<br>Pulau: %{customdata[0]}<br>Tahun: %{customdata[1]}<br>Value: %{y:.2f}<extra></extra>",
         "marker": {
          "color": "rgb(231, 52, 103)"
         },
         "name": "Maluku, Growth Factor of New Cases, 2021",
         "showlegend": true,
         "type": "bar",
         "x": [
          "Maluku, 2021"
         ],
         "xaxis": "x",
         "y": [
          988.5999999999995
         ],
         "yaxis": "y"
        },
        {
         "customdata": [
          [
           "Nusa Tenggara",
           2021
          ]
         ],
         "hovertemplate": "Category: Growth Factor of New Cases<br>Pulau: %{customdata[0]}<br>Tahun: %{customdata[1]}<br>Value: %{y:.2f}<extra></extra>",
         "marker": {
          "color": "rgb(111, 124, 220)"
         },
         "name": "Nusa Tenggara, Growth Factor of New Cases, 2021",
         "showlegend": true,
         "type": "bar",
         "x": [
          "Nusa Tenggara, 2021"
         ],
         "xaxis": "x",
         "y": [
          1754.410000000002
         ],
         "yaxis": "y"
        },
        {
         "customdata": [
          [
           "Papua",
           2021
          ]
         ],
         "hovertemplate": "Category: Growth Factor of New Cases<br>Pulau: %{customdata[0]}<br>Tahun: %{customdata[1]}<br>Value: %{y:.2f}<extra></extra>",
         "marker": {
          "color": "rgb(31, 145, 26)"
         },
         "name": "Papua, Growth Factor of New Cases, 2021",
         "showlegend": true,
         "type": "bar",
         "x": [
          "Papua, 2021"
         ],
         "xaxis": "x",
         "y": [
          1041.1900000000005
         ],
         "yaxis": "y"
        },
        {
         "customdata": [
          [
           "Sulawesi",
           2021
          ]
         ],
         "hovertemplate": "Category: Growth Factor of New Cases<br>Pulau: %{customdata[0]}<br>Tahun: %{customdata[1]}<br>Value: %{y:.2f}<extra></extra>",
         "marker": {
          "color": "rgb(86, 157, 115)"
         },
         "name": "Sulawesi, Growth Factor of New Cases, 2021",
         "showlegend": true,
         "type": "bar",
         "x": [
          "Sulawesi, 2021"
         ],
         "xaxis": "x",
         "y": [
          3148.800000000003
         ],
         "yaxis": "y"
        },
        {
         "customdata": [
          [
           "Sumatera",
           2021
          ]
         ],
         "hovertemplate": "Category: Growth Factor of New Cases<br>Pulau: %{customdata[0]}<br>Tahun: %{customdata[1]}<br>Value: %{y:.2f}<extra></extra>",
         "marker": {
          "color": "rgb(195, 189, 116)"
         },
         "name": "Sumatera, Growth Factor of New Cases, 2021",
         "showlegend": true,
         "type": "bar",
         "x": [
          "Sumatera, 2021"
         ],
         "xaxis": "x",
         "y": [
          4354.910000000005
         ],
         "yaxis": "y"
        },
        {
         "customdata": [
          [
           "Jawa",
           2022
          ]
         ],
         "hovertemplate": "Category: Growth Factor of New Cases<br>Pulau: %{customdata[0]}<br>Tahun: %{customdata[1]}<br>Value: %{y:.2f}<extra></extra>",
         "marker": {
          "color": "rgb(157, 146, 89)"
         },
         "name": "Jawa, Growth Factor of New Cases, 2022",
         "showlegend": true,
         "type": "bar",
         "x": [
          "Jawa, 2022"
         ],
         "xaxis": "x",
         "y": [
          1821.0500000000018
         ],
         "yaxis": "y"
        },
        {
         "customdata": [
          [
           "Kalimantan",
           2022
          ]
         ],
         "hovertemplate": "Category: Growth Factor of New Cases<br>Pulau: %{customdata[0]}<br>Tahun: %{customdata[1]}<br>Value: %{y:.2f}<extra></extra>",
         "marker": {
          "color": "rgb(232, 1, 70)"
         },
         "name": "Kalimantan, Growth Factor of New Cases, 2022",
         "showlegend": true,
         "type": "bar",
         "x": [
          "Kalimantan, 2022"
         ],
         "xaxis": "x",
         "y": [
          1460.2700000000007
         ],
         "yaxis": "y"
        },
        {
         "customdata": [
          [
           "Maluku",
           2022
          ]
         ],
         "hovertemplate": "Category: Growth Factor of New Cases<br>Pulau: %{customdata[0]}<br>Tahun: %{customdata[1]}<br>Value: %{y:.2f}<extra></extra>",
         "marker": {
          "color": "rgb(231, 52, 103)"
         },
         "name": "Maluku, Growth Factor of New Cases, 2022",
         "showlegend": true,
         "type": "bar",
         "x": [
          "Maluku, 2022"
         ],
         "xaxis": "x",
         "y": [
          438.28999999999974
         ],
         "yaxis": "y"
        },
        {
         "customdata": [
          [
           "Nusa Tenggara",
           2022
          ]
         ],
         "hovertemplate": "Category: Growth Factor of New Cases<br>Pulau: %{customdata[0]}<br>Tahun: %{customdata[1]}<br>Value: %{y:.2f}<extra></extra>",
         "marker": {
          "color": "rgb(111, 124, 220)"
         },
         "name": "Nusa Tenggara, Growth Factor of New Cases, 2022",
         "showlegend": true,
         "type": "bar",
         "x": [
          "Nusa Tenggara, 2022"
         ],
         "xaxis": "x",
         "y": [
          839.1299999999997
         ],
         "yaxis": "y"
        },
        {
         "customdata": [
          [
           "Papua",
           2022
          ]
         ],
         "hovertemplate": "Category: Growth Factor of New Cases<br>Pulau: %{customdata[0]}<br>Tahun: %{customdata[1]}<br>Value: %{y:.2f}<extra></extra>",
         "marker": {
          "color": "rgb(31, 145, 26)"
         },
         "name": "Papua, Growth Factor of New Cases, 2022",
         "showlegend": true,
         "type": "bar",
         "x": [
          "Papua, 2022"
         ],
         "xaxis": "x",
         "y": [
          671.0000000000003
         ],
         "yaxis": "y"
        },
        {
         "customdata": [
          [
           "Sulawesi",
           2022
          ]
         ],
         "hovertemplate": "Category: Growth Factor of New Cases<br>Pulau: %{customdata[0]}<br>Tahun: %{customdata[1]}<br>Value: %{y:.2f}<extra></extra>",
         "marker": {
          "color": "rgb(86, 157, 115)"
         },
         "name": "Sulawesi, Growth Factor of New Cases, 2022",
         "showlegend": true,
         "type": "bar",
         "x": [
          "Sulawesi, 2022"
         ],
         "xaxis": "x",
         "y": [
          1573.2199999999991
         ],
         "yaxis": "y"
        },
        {
         "customdata": [
          [
           "Sumatera",
           2022
          ]
         ],
         "hovertemplate": "Category: Growth Factor of New Cases<br>Pulau: %{customdata[0]}<br>Tahun: %{customdata[1]}<br>Value: %{y:.2f}<extra></extra>",
         "marker": {
          "color": "rgb(195, 189, 116)"
         },
         "name": "Sumatera, Growth Factor of New Cases, 2022",
         "showlegend": true,
         "type": "bar",
         "x": [
          "Sumatera, 2022"
         ],
         "xaxis": "x",
         "y": [
          2844.5499999999993
         ],
         "yaxis": "y"
        },
        {
         "customdata": [
          [
           "Jawa",
           2020
          ]
         ],
         "hovertemplate": "Category: Growth Factor of New Deaths<br>Pulau: %{customdata[0]}<br>Tahun: %{customdata[1]}<br>Value: %{y:.2f}<extra></extra>",
         "marker": {
          "color": "rgb(213, 151, 255)"
         },
         "name": "Jawa, Growth Factor of New Deaths, 2020",
         "showlegend": true,
         "type": "bar",
         "x": [
          "Jawa, 2020"
         ],
         "xaxis": "x",
         "y": [
          1892.7100000000012
         ],
         "yaxis": "y"
        },
        {
         "customdata": [
          [
           "Kalimantan",
           2020
          ]
         ],
         "hovertemplate": "Category: Growth Factor of New Deaths<br>Pulau: %{customdata[0]}<br>Tahun: %{customdata[1]}<br>Value: %{y:.2f}<extra></extra>",
         "marker": {
          "color": "rgb(93, 255, 165)"
         },
         "name": "Kalimantan, Growth Factor of New Deaths, 2020",
         "showlegend": true,
         "type": "bar",
         "x": [
          "Kalimantan, 2020"
         ],
         "xaxis": "x",
         "y": [
          1312.1200000000006
         ],
         "yaxis": "y"
        },
        {
         "customdata": [
          [
           "Maluku",
           2020
          ]
         ],
         "hovertemplate": "Category: Growth Factor of New Deaths<br>Pulau: %{customdata[0]}<br>Tahun: %{customdata[1]}<br>Value: %{y:.2f}<extra></extra>",
         "marker": {
          "color": "rgb(134, 243, 183)"
         },
         "name": "Maluku, Growth Factor of New Deaths, 2020",
         "showlegend": true,
         "type": "bar",
         "x": [
          "Maluku, 2020"
         ],
         "xaxis": "x",
         "y": [
          419.08
         ],
         "yaxis": "y"
        },
        {
         "customdata": [
          [
           "Nusa Tenggara",
           2020
          ]
         ],
         "hovertemplate": "Category: Growth Factor of New Deaths<br>Pulau: %{customdata[0]}<br>Tahun: %{customdata[1]}<br>Value: %{y:.2f}<extra></extra>",
         "marker": {
          "color": "rgb(110, 169, 152)"
         },
         "name": "Nusa Tenggara, Growth Factor of New Deaths, 2020",
         "showlegend": true,
         "type": "bar",
         "x": [
          "Nusa Tenggara, 2020"
         ],
         "xaxis": "x",
         "y": [
          802.7700000000001
         ],
         "yaxis": "y"
        },
        {
         "customdata": [
          [
           "Papua",
           2020
          ]
         ],
         "hovertemplate": "Category: Growth Factor of New Deaths<br>Pulau: %{customdata[0]}<br>Tahun: %{customdata[1]}<br>Value: %{y:.2f}<extra></extra>",
         "marker": {
          "color": "rgb(38, 254, 62)"
         },
         "name": "Papua, Growth Factor of New Deaths, 2020",
         "showlegend": true,
         "type": "bar",
         "x": [
          "Papua, 2020"
         ],
         "xaxis": "x",
         "y": [
          409.99000000000007
         ],
         "yaxis": "y"
        },
        {
         "customdata": [
          [
           "Sulawesi",
           2020
          ]
         ],
         "hovertemplate": "Category: Growth Factor of New Deaths<br>Pulau: %{customdata[0]}<br>Tahun: %{customdata[1]}<br>Value: %{y:.2f}<extra></extra>",
         "marker": {
          "color": "rgb(151, 169, 190)"
         },
         "name": "Sulawesi, Growth Factor of New Deaths, 2020",
         "showlegend": true,
         "type": "bar",
         "x": [
          "Sulawesi, 2020"
         ],
         "xaxis": "x",
         "y": [
          1280.17
         ],
         "yaxis": "y"
        },
        {
         "customdata": [
          [
           "Sumatera",
           2020
          ]
         ],
         "hovertemplate": "Category: Growth Factor of New Deaths<br>Pulau: %{customdata[0]}<br>Tahun: %{customdata[1]}<br>Value: %{y:.2f}<extra></extra>",
         "marker": {
          "color": "rgb(80, 248, 61)"
         },
         "name": "Sumatera, Growth Factor of New Deaths, 2020",
         "showlegend": true,
         "type": "bar",
         "x": [
          "Sumatera, 2020"
         ],
         "xaxis": "x",
         "y": [
          2434.25
         ],
         "yaxis": "y"
        },
        {
         "customdata": [
          [
           "Jawa",
           2021
          ]
         ],
         "hovertemplate": "Category: Growth Factor of New Deaths<br>Pulau: %{customdata[0]}<br>Tahun: %{customdata[1]}<br>Value: %{y:.2f}<extra></extra>",
         "marker": {
          "color": "rgb(213, 151, 255)"
         },
         "name": "Jawa, Growth Factor of New Deaths, 2021",
         "showlegend": true,
         "type": "bar",
         "x": [
          "Jawa, 2021"
         ],
         "xaxis": "x",
         "y": [
          2651.400000000005
         ],
         "yaxis": "y"
        },
        {
         "customdata": [
          [
           "Kalimantan",
           2021
          ]
         ],
         "hovertemplate": "Category: Growth Factor of New Deaths<br>Pulau: %{customdata[0]}<br>Tahun: %{customdata[1]}<br>Value: %{y:.2f}<extra></extra>",
         "marker": {
          "color": "rgb(93, 255, 165)"
         },
         "name": "Kalimantan, Growth Factor of New Deaths, 2021",
         "showlegend": true,
         "type": "bar",
         "x": [
          "Kalimantan, 2021"
         ],
         "xaxis": "x",
         "y": [
          1730.4400000000026
         ],
         "yaxis": "y"
        },
        {
         "customdata": [
          [
           "Maluku",
           2021
          ]
         ],
         "hovertemplate": "Category: Growth Factor of New Deaths<br>Pulau: %{customdata[0]}<br>Tahun: %{customdata[1]}<br>Value: %{y:.2f}<extra></extra>",
         "marker": {
          "color": "rgb(134, 243, 183)"
         },
         "name": "Maluku, Growth Factor of New Deaths, 2021",
         "showlegend": true,
         "type": "bar",
         "x": [
          "Maluku, 2021"
         ],
         "xaxis": "x",
         "y": [
          570.1399999999999
         ],
         "yaxis": "y"
        },
        {
         "customdata": [
          [
           "Nusa Tenggara",
           2021
          ]
         ],
         "hovertemplate": "Category: Growth Factor of New Deaths<br>Pulau: %{customdata[0]}<br>Tahun: %{customdata[1]}<br>Value: %{y:.2f}<extra></extra>",
         "marker": {
          "color": "rgb(110, 169, 152)"
         },
         "name": "Nusa Tenggara, Growth Factor of New Deaths, 2021",
         "showlegend": true,
         "type": "bar",
         "x": [
          "Nusa Tenggara, 2021"
         ],
         "xaxis": "x",
         "y": [
          1076.46
         ],
         "yaxis": "y"
        },
        {
         "customdata": [
          [
           "Papua",
           2021
          ]
         ],
         "hovertemplate": "Category: Growth Factor of New Deaths<br>Pulau: %{customdata[0]}<br>Tahun: %{customdata[1]}<br>Value: %{y:.2f}<extra></extra>",
         "marker": {
          "color": "rgb(38, 254, 62)"
         },
         "name": "Papua, Growth Factor of New Deaths, 2021",
         "showlegend": true,
         "type": "bar",
         "x": [
          "Papua, 2021"
         ],
         "xaxis": "x",
         "y": [
          570.8400000000001
         ],
         "yaxis": "y"
        },
        {
         "customdata": [
          [
           "Sulawesi",
           2021
          ]
         ],
         "hovertemplate": "Category: Growth Factor of New Deaths<br>Pulau: %{customdata[0]}<br>Tahun: %{customdata[1]}<br>Value: %{y:.2f}<extra></extra>",
         "marker": {
          "color": "rgb(151, 169, 190)"
         },
         "name": "Sulawesi, Growth Factor of New Deaths, 2021",
         "showlegend": true,
         "type": "bar",
         "x": [
          "Sulawesi, 2021"
         ],
         "xaxis": "x",
         "y": [
          1880.5900000000017
         ],
         "yaxis": "y"
        },
        {
         "customdata": [
          [
           "Sumatera",
           2021
          ]
         ],
         "hovertemplate": "Category: Growth Factor of New Deaths<br>Pulau: %{customdata[0]}<br>Tahun: %{customdata[1]}<br>Value: %{y:.2f}<extra></extra>",
         "marker": {
          "color": "rgb(80, 248, 61)"
         },
         "name": "Sumatera, Growth Factor of New Deaths, 2021",
         "showlegend": true,
         "type": "bar",
         "x": [
          "Sumatera, 2021"
         ],
         "xaxis": "x",
         "y": [
          3841.310000000002
         ],
         "yaxis": "y"
        },
        {
         "customdata": [
          [
           "Jawa",
           2022
          ]
         ],
         "hovertemplate": "Category: Growth Factor of New Deaths<br>Pulau: %{customdata[0]}<br>Tahun: %{customdata[1]}<br>Value: %{y:.2f}<extra></extra>",
         "marker": {
          "color": "rgb(213, 151, 255)"
         },
         "name": "Jawa, Growth Factor of New Deaths, 2022",
         "showlegend": true,
         "type": "bar",
         "x": [
          "Jawa, 2022"
         ],
         "xaxis": "x",
         "y": [
          1286.860000000001
         ],
         "yaxis": "y"
        },
        {
         "customdata": [
          [
           "Kalimantan",
           2022
          ]
         ],
         "hovertemplate": "Category: Growth Factor of New Deaths<br>Pulau: %{customdata[0]}<br>Tahun: %{customdata[1]}<br>Value: %{y:.2f}<extra></extra>",
         "marker": {
          "color": "rgb(93, 255, 165)"
         },
         "name": "Kalimantan, Growth Factor of New Deaths, 2022",
         "showlegend": true,
         "type": "bar",
         "x": [
          "Kalimantan, 2022"
         ],
         "xaxis": "x",
         "y": [
          1053.9700000000003
         ],
         "yaxis": "y"
        },
        {
         "customdata": [
          [
           "Maluku",
           2022
          ]
         ],
         "hovertemplate": "Category: Growth Factor of New Deaths<br>Pulau: %{customdata[0]}<br>Tahun: %{customdata[1]}<br>Value: %{y:.2f}<extra></extra>",
         "marker": {
          "color": "rgb(134, 243, 183)"
         },
         "name": "Maluku, Growth Factor of New Deaths, 2022",
         "showlegend": true,
         "type": "bar",
         "x": [
          "Maluku, 2022"
         ],
         "xaxis": "x",
         "y": [
          440
         ],
         "yaxis": "y"
        },
        {
         "customdata": [
          [
           "Nusa Tenggara",
           2022
          ]
         ],
         "hovertemplate": "Category: Growth Factor of New Deaths<br>Pulau: %{customdata[0]}<br>Tahun: %{customdata[1]}<br>Value: %{y:.2f}<extra></extra>",
         "marker": {
          "color": "rgb(110, 169, 152)"
         },
         "name": "Nusa Tenggara, Growth Factor of New Deaths, 2022",
         "showlegend": true,
         "type": "bar",
         "x": [
          "Nusa Tenggara, 2022"
         ],
         "xaxis": "x",
         "y": [
          642.3699999999999
         ],
         "yaxis": "y"
        },
        {
         "customdata": [
          [
           "Papua",
           2022
          ]
         ],
         "hovertemplate": "Category: Growth Factor of New Deaths<br>Pulau: %{customdata[0]}<br>Tahun: %{customdata[1]}<br>Value: %{y:.2f}<extra></extra>",
         "marker": {
          "color": "rgb(38, 254, 62)"
         },
         "name": "Papua, Growth Factor of New Deaths, 2022",
         "showlegend": true,
         "type": "bar",
         "x": [
          "Papua, 2022"
         ],
         "xaxis": "x",
         "y": [
          462.6
         ],
         "yaxis": "y"
        },
        {
         "customdata": [
          [
           "Sulawesi",
           2022
          ]
         ],
         "hovertemplate": "Category: Growth Factor of New Deaths<br>Pulau: %{customdata[0]}<br>Tahun: %{customdata[1]}<br>Value: %{y:.2f}<extra></extra>",
         "marker": {
          "color": "rgb(151, 169, 190)"
         },
         "name": "Sulawesi, Growth Factor of New Deaths, 2022",
         "showlegend": true,
         "type": "bar",
         "x": [
          "Sulawesi, 2022"
         ],
         "xaxis": "x",
         "y": [
          1333.04
         ],
         "yaxis": "y"
        },
        {
         "customdata": [
          [
           "Sumatera",
           2022
          ]
         ],
         "hovertemplate": "Category: Growth Factor of New Deaths<br>Pulau: %{customdata[0]}<br>Tahun: %{customdata[1]}<br>Value: %{y:.2f}<extra></extra>",
         "marker": {
          "color": "rgb(80, 248, 61)"
         },
         "name": "Sumatera, Growth Factor of New Deaths, 2022",
         "showlegend": true,
         "type": "bar",
         "x": [
          "Sumatera, 2022"
         ],
         "xaxis": "x",
         "y": [
          2216.6600000000003
         ],
         "yaxis": "y"
        }
       ],
       "layout": {
        "barmode": "stack",
        "shapes": [
         {
          "line": {
           "color": "black",
           "width": 1
          },
          "type": "line",
          "x0": 6.5,
          "x1": 6.5,
          "xref": "x",
          "y0": -0.05,
          "y1": 0.05,
          "yref": "y domain"
         },
         {
          "line": {
           "color": "black",
           "width": 1
          },
          "type": "line",
          "x0": 13.5,
          "x1": 13.5,
          "xref": "x",
          "y0": -0.05,
          "y1": 0.05,
          "yref": "y domain"
         }
        ],
        "template": {
         "data": {
          "bar": [
           {
            "error_x": {
             "color": "#2a3f5f"
            },
            "error_y": {
             "color": "#2a3f5f"
            },
            "marker": {
             "line": {
              "color": "#E5ECF6",
              "width": 0.5
             },
             "pattern": {
              "fillmode": "overlay",
              "size": 10,
              "solidity": 0.2
             }
            },
            "type": "bar"
           }
          ],
          "barpolar": [
           {
            "marker": {
             "line": {
              "color": "#E5ECF6",
              "width": 0.5
             },
             "pattern": {
              "fillmode": "overlay",
              "size": 10,
              "solidity": 0.2
             }
            },
            "type": "barpolar"
           }
          ],
          "carpet": [
           {
            "aaxis": {
             "endlinecolor": "#2a3f5f",
             "gridcolor": "white",
             "linecolor": "white",
             "minorgridcolor": "white",
             "startlinecolor": "#2a3f5f"
            },
            "baxis": {
             "endlinecolor": "#2a3f5f",
             "gridcolor": "white",
             "linecolor": "white",
             "minorgridcolor": "white",
             "startlinecolor": "#2a3f5f"
            },
            "type": "carpet"
           }
          ],
          "choropleth": [
           {
            "colorbar": {
             "outlinewidth": 0,
             "ticks": ""
            },
            "type": "choropleth"
           }
          ],
          "contour": [
           {
            "colorbar": {
             "outlinewidth": 0,
             "ticks": ""
            },
            "colorscale": [
             [
              0,
              "#0d0887"
             ],
             [
              0.1111111111111111,
              "#46039f"
             ],
             [
              0.2222222222222222,
              "#7201a8"
             ],
             [
              0.3333333333333333,
              "#9c179e"
             ],
             [
              0.4444444444444444,
              "#bd3786"
             ],
             [
              0.5555555555555556,
              "#d8576b"
             ],
             [
              0.6666666666666666,
              "#ed7953"
             ],
             [
              0.7777777777777778,
              "#fb9f3a"
             ],
             [
              0.8888888888888888,
              "#fdca26"
             ],
             [
              1,
              "#f0f921"
             ]
            ],
            "type": "contour"
           }
          ],
          "contourcarpet": [
           {
            "colorbar": {
             "outlinewidth": 0,
             "ticks": ""
            },
            "type": "contourcarpet"
           }
          ],
          "heatmap": [
           {
            "colorbar": {
             "outlinewidth": 0,
             "ticks": ""
            },
            "colorscale": [
             [
              0,
              "#0d0887"
             ],
             [
              0.1111111111111111,
              "#46039f"
             ],
             [
              0.2222222222222222,
              "#7201a8"
             ],
             [
              0.3333333333333333,
              "#9c179e"
             ],
             [
              0.4444444444444444,
              "#bd3786"
             ],
             [
              0.5555555555555556,
              "#d8576b"
             ],
             [
              0.6666666666666666,
              "#ed7953"
             ],
             [
              0.7777777777777778,
              "#fb9f3a"
             ],
             [
              0.8888888888888888,
              "#fdca26"
             ],
             [
              1,
              "#f0f921"
             ]
            ],
            "type": "heatmap"
           }
          ],
          "heatmapgl": [
           {
            "colorbar": {
             "outlinewidth": 0,
             "ticks": ""
            },
            "colorscale": [
             [
              0,
              "#0d0887"
             ],
             [
              0.1111111111111111,
              "#46039f"
             ],
             [
              0.2222222222222222,
              "#7201a8"
             ],
             [
              0.3333333333333333,
              "#9c179e"
             ],
             [
              0.4444444444444444,
              "#bd3786"
             ],
             [
              0.5555555555555556,
              "#d8576b"
             ],
             [
              0.6666666666666666,
              "#ed7953"
             ],
             [
              0.7777777777777778,
              "#fb9f3a"
             ],
             [
              0.8888888888888888,
              "#fdca26"
             ],
             [
              1,
              "#f0f921"
             ]
            ],
            "type": "heatmapgl"
           }
          ],
          "histogram": [
           {
            "marker": {
             "pattern": {
              "fillmode": "overlay",
              "size": 10,
              "solidity": 0.2
             }
            },
            "type": "histogram"
           }
          ],
          "histogram2d": [
           {
            "colorbar": {
             "outlinewidth": 0,
             "ticks": ""
            },
            "colorscale": [
             [
              0,
              "#0d0887"
             ],
             [
              0.1111111111111111,
              "#46039f"
             ],
             [
              0.2222222222222222,
              "#7201a8"
             ],
             [
              0.3333333333333333,
              "#9c179e"
             ],
             [
              0.4444444444444444,
              "#bd3786"
             ],
             [
              0.5555555555555556,
              "#d8576b"
             ],
             [
              0.6666666666666666,
              "#ed7953"
             ],
             [
              0.7777777777777778,
              "#fb9f3a"
             ],
             [
              0.8888888888888888,
              "#fdca26"
             ],
             [
              1,
              "#f0f921"
             ]
            ],
            "type": "histogram2d"
           }
          ],
          "histogram2dcontour": [
           {
            "colorbar": {
             "outlinewidth": 0,
             "ticks": ""
            },
            "colorscale": [
             [
              0,
              "#0d0887"
             ],
             [
              0.1111111111111111,
              "#46039f"
             ],
             [
              0.2222222222222222,
              "#7201a8"
             ],
             [
              0.3333333333333333,
              "#9c179e"
             ],
             [
              0.4444444444444444,
              "#bd3786"
             ],
             [
              0.5555555555555556,
              "#d8576b"
             ],
             [
              0.6666666666666666,
              "#ed7953"
             ],
             [
              0.7777777777777778,
              "#fb9f3a"
             ],
             [
              0.8888888888888888,
              "#fdca26"
             ],
             [
              1,
              "#f0f921"
             ]
            ],
            "type": "histogram2dcontour"
           }
          ],
          "mesh3d": [
           {
            "colorbar": {
             "outlinewidth": 0,
             "ticks": ""
            },
            "type": "mesh3d"
           }
          ],
          "parcoords": [
           {
            "line": {
             "colorbar": {
              "outlinewidth": 0,
              "ticks": ""
             }
            },
            "type": "parcoords"
           }
          ],
          "pie": [
           {
            "automargin": true,
            "type": "pie"
           }
          ],
          "scatter": [
           {
            "fillpattern": {
             "fillmode": "overlay",
             "size": 10,
             "solidity": 0.2
            },
            "type": "scatter"
           }
          ],
          "scatter3d": [
           {
            "line": {
             "colorbar": {
              "outlinewidth": 0,
              "ticks": ""
             }
            },
            "marker": {
             "colorbar": {
              "outlinewidth": 0,
              "ticks": ""
             }
            },
            "type": "scatter3d"
           }
          ],
          "scattercarpet": [
           {
            "marker": {
             "colorbar": {
              "outlinewidth": 0,
              "ticks": ""
             }
            },
            "type": "scattercarpet"
           }
          ],
          "scattergeo": [
           {
            "marker": {
             "colorbar": {
              "outlinewidth": 0,
              "ticks": ""
             }
            },
            "type": "scattergeo"
           }
          ],
          "scattergl": [
           {
            "marker": {
             "colorbar": {
              "outlinewidth": 0,
              "ticks": ""
             }
            },
            "type": "scattergl"
           }
          ],
          "scattermapbox": [
           {
            "marker": {
             "colorbar": {
              "outlinewidth": 0,
              "ticks": ""
             }
            },
            "type": "scattermapbox"
           }
          ],
          "scatterpolar": [
           {
            "marker": {
             "colorbar": {
              "outlinewidth": 0,
              "ticks": ""
             }
            },
            "type": "scatterpolar"
           }
          ],
          "scatterpolargl": [
           {
            "marker": {
             "colorbar": {
              "outlinewidth": 0,
              "ticks": ""
             }
            },
            "type": "scatterpolargl"
           }
          ],
          "scatterternary": [
           {
            "marker": {
             "colorbar": {
              "outlinewidth": 0,
              "ticks": ""
             }
            },
            "type": "scatterternary"
           }
          ],
          "surface": [
           {
            "colorbar": {
             "outlinewidth": 0,
             "ticks": ""
            },
            "colorscale": [
             [
              0,
              "#0d0887"
             ],
             [
              0.1111111111111111,
              "#46039f"
             ],
             [
              0.2222222222222222,
              "#7201a8"
             ],
             [
              0.3333333333333333,
              "#9c179e"
             ],
             [
              0.4444444444444444,
              "#bd3786"
             ],
             [
              0.5555555555555556,
              "#d8576b"
             ],
             [
              0.6666666666666666,
              "#ed7953"
             ],
             [
              0.7777777777777778,
              "#fb9f3a"
             ],
             [
              0.8888888888888888,
              "#fdca26"
             ],
             [
              1,
              "#f0f921"
             ]
            ],
            "type": "surface"
           }
          ],
          "table": [
           {
            "cells": {
             "fill": {
              "color": "#EBF0F8"
             },
             "line": {
              "color": "white"
             }
            },
            "header": {
             "fill": {
              "color": "#C8D4E3"
             },
             "line": {
              "color": "white"
             }
            },
            "type": "table"
           }
          ]
         },
         "layout": {
          "annotationdefaults": {
           "arrowcolor": "#2a3f5f",
           "arrowhead": 0,
           "arrowwidth": 1
          },
          "autotypenumbers": "strict",
          "coloraxis": {
           "colorbar": {
            "outlinewidth": 0,
            "ticks": ""
           }
          },
          "colorscale": {
           "diverging": [
            [
             0,
             "#8e0152"
            ],
            [
             0.1,
             "#c51b7d"
            ],
            [
             0.2,
             "#de77ae"
            ],
            [
             0.3,
             "#f1b6da"
            ],
            [
             0.4,
             "#fde0ef"
            ],
            [
             0.5,
             "#f7f7f7"
            ],
            [
             0.6,
             "#e6f5d0"
            ],
            [
             0.7,
             "#b8e186"
            ],
            [
             0.8,
             "#7fbc41"
            ],
            [
             0.9,
             "#4d9221"
            ],
            [
             1,
             "#276419"
            ]
           ],
           "sequential": [
            [
             0,
             "#0d0887"
            ],
            [
             0.1111111111111111,
             "#46039f"
            ],
            [
             0.2222222222222222,
             "#7201a8"
            ],
            [
             0.3333333333333333,
             "#9c179e"
            ],
            [
             0.4444444444444444,
             "#bd3786"
            ],
            [
             0.5555555555555556,
             "#d8576b"
            ],
            [
             0.6666666666666666,
             "#ed7953"
            ],
            [
             0.7777777777777778,
             "#fb9f3a"
            ],
            [
             0.8888888888888888,
             "#fdca26"
            ],
            [
             1,
             "#f0f921"
            ]
           ],
           "sequentialminus": [
            [
             0,
             "#0d0887"
            ],
            [
             0.1111111111111111,
             "#46039f"
            ],
            [
             0.2222222222222222,
             "#7201a8"
            ],
            [
             0.3333333333333333,
             "#9c179e"
            ],
            [
             0.4444444444444444,
             "#bd3786"
            ],
            [
             0.5555555555555556,
             "#d8576b"
            ],
            [
             0.6666666666666666,
             "#ed7953"
            ],
            [
             0.7777777777777778,
             "#fb9f3a"
            ],
            [
             0.8888888888888888,
             "#fdca26"
            ],
            [
             1,
             "#f0f921"
            ]
           ]
          },
          "colorway": [
           "#636efa",
           "#EF553B",
           "#00cc96",
           "#ab63fa",
           "#FFA15A",
           "#19d3f3",
           "#FF6692",
           "#B6E880",
           "#FF97FF",
           "#FECB52"
          ],
          "font": {
           "color": "#2a3f5f"
          },
          "geo": {
           "bgcolor": "white",
           "lakecolor": "white",
           "landcolor": "#E5ECF6",
           "showlakes": true,
           "showland": true,
           "subunitcolor": "white"
          },
          "hoverlabel": {
           "align": "left"
          },
          "hovermode": "closest",
          "mapbox": {
           "style": "light"
          },
          "paper_bgcolor": "white",
          "plot_bgcolor": "#E5ECF6",
          "polar": {
           "angularaxis": {
            "gridcolor": "white",
            "linecolor": "white",
            "ticks": ""
           },
           "bgcolor": "#E5ECF6",
           "radialaxis": {
            "gridcolor": "white",
            "linecolor": "white",
            "ticks": ""
           }
          },
          "scene": {
           "xaxis": {
            "backgroundcolor": "#E5ECF6",
            "gridcolor": "white",
            "gridwidth": 2,
            "linecolor": "white",
            "showbackground": true,
            "ticks": "",
            "zerolinecolor": "white"
           },
           "yaxis": {
            "backgroundcolor": "#E5ECF6",
            "gridcolor": "white",
            "gridwidth": 2,
            "linecolor": "white",
            "showbackground": true,
            "ticks": "",
            "zerolinecolor": "white"
           },
           "zaxis": {
            "backgroundcolor": "#E5ECF6",
            "gridcolor": "white",
            "gridwidth": 2,
            "linecolor": "white",
            "showbackground": true,
            "ticks": "",
            "zerolinecolor": "white"
           }
          },
          "shapedefaults": {
           "line": {
            "color": "#2a3f5f"
           }
          },
          "ternary": {
           "aaxis": {
            "gridcolor": "white",
            "linecolor": "white",
            "ticks": ""
           },
           "baxis": {
            "gridcolor": "white",
            "linecolor": "white",
            "ticks": ""
           },
           "bgcolor": "#E5ECF6",
           "caxis": {
            "gridcolor": "white",
            "linecolor": "white",
            "ticks": ""
           }
          },
          "title": {
           "x": 0.05
          },
          "xaxis": {
           "automargin": true,
           "gridcolor": "white",
           "linecolor": "white",
           "ticks": "",
           "title": {
            "standoff": 15
           },
           "zerolinecolor": "white",
           "zerolinewidth": 2
          },
          "yaxis": {
           "automargin": true,
           "gridcolor": "white",
           "linecolor": "white",
           "ticks": "",
           "title": {
            "standoff": 15
           },
           "zerolinecolor": "white",
           "zerolinewidth": 2
          }
         }
        },
        "title": {
         "text": "Rasio Kasus Covid di Pulau Indonesia pada Tahun 2020 - 2022"
        },
        "xaxis": {
         "anchor": "y",
         "domain": [
          0,
          1
         ],
         "ticktext": [
          "2020",
          "2021",
          "2022"
         ],
         "tickvals": [
          3,
          10,
          17
         ],
         "title": {
          "text": "Tahun"
         },
         "type": "category"
        },
        "yaxis": {
         "anchor": "x",
         "domain": [
          0,
          1
         ],
         "title": {
          "text": "Jumlah"
         }
        }
       }
      }
     },
     "metadata": {},
     "output_type": "display_data"
    }
   ],
   "source": [
    "value = analisis_3.iloc[:, 11:13]\n",
    "tick_positions = []\n",
    "tick_labels = []\n",
    "\n",
    "for i, year in enumerate(analisis_3[\"Year\"].unique(), start=0):\n",
    "    tick_positions.append(7*i+3)\n",
    "    tick_labels.append(str(year))\n",
    "\n",
    "fig = make_subplots(rows=1, cols=1)\n",
    "\n",
    "def generate_color_palette(categories):\n",
    "    colors = []\n",
    "    for i in range(categories):\n",
    "        color = f'rgb({np.random.randint(0, 256)}, {np.random.randint(0, 256)}, {np.random.randint(0, 256)})'\n",
    "        colors.append(color)\n",
    "    return colors\n",
    "\n",
    "color_palette_dict = {}\n",
    "\n",
    "legend_items = [] \n",
    "\n",
    "for col in value.columns:\n",
    "    for year in analisis_3[\"Year\"].unique():\n",
    "        island_data = analisis_3[analisis_3[\"Year\"] == year]\n",
    "        for island in analisis_3['Island'].unique():\n",
    "            island_data_subset = island_data[island_data[\"Island\"] == island]\n",
    "            num_categories = len(island_data_subset[col].unique())\n",
    "            # Generate color palette if not already generated for the island and category\n",
    "            if (island, col) not in color_palette_dict:\n",
    "                color_palette_dict[(island, col)] = generate_color_palette(num_categories)\n",
    "            color_palette = color_palette_dict[(island, col)]\n",
    "            for category, color in zip(island_data_subset[col].unique(), color_palette):\n",
    "                subset_by_category = island_data_subset[island_data_subset[col] == category]\n",
    "                fig.add_trace(go.Bar(x=island_data_subset['Island'] + ', ' + str(year), \n",
    "                                     y=subset_by_category[col],                                      \n",
    "                                     name=f'{island}, {col}, {year}',\n",
    "                                     #legendgroup=f'{color}',\n",
    "                                     hovertemplate=f'Category: {col}<br>' +\n",
    "                                                   'Pulau: %{customdata[0]}<br>' +\n",
    "                                                   'Tahun: %{customdata[1]}<br>' +\n",
    "                                                   'Value: %{y:.2f}<extra></extra>',\n",
    "                                     customdata=subset_by_category[['Island', 'Year']],                                     \n",
    "                                     marker_color=color,\n",
    "                                     showlegend=True),\n",
    "                              row=1, col=1)\n",
    "\n",
    "for year in tick_positions[1:]:\n",
    "    fig.add_vline(x=year-3.5, line=dict(color=\"black\", width=1), y0=-0.05, y1=0.05)    \n",
    "\n",
    "fig.update_xaxes(title_text='Tahun', row=1, col=1, type='category', tickvals=tick_positions, ticktext=tick_labels)\n",
    "fig.update_yaxes(title_text='Jumlah')\n",
    "fig.update_layout(title='Rasio Kasus Covid di Pulau Indonesia pada Tahun 2020 - 2022', barmode='stack')\n",
    "\n",
    "fig.write_html(\"g_6.html\")\n",
    "fig.show()"
   ]
  },
  {
   "cell_type": "code",
   "execution_count": 26,
   "metadata": {},
   "outputs": [
    {
     "data": {
      "application/vnd.plotly.v1+json": {
       "config": {
        "plotlyServerURL": "https://plot.ly"
       },
       "data": [
        {
         "customdata": [
          [
           "Jawa",
           2020
          ]
         ],
         "hovertemplate": "Category: New Cases<br>Pulau: %{customdata[0]}<br>Tahun: %{customdata[1]}<br>Value: %{y:.2f}<extra></extra>",
         "marker": {
          "color": "rgb(132, 130, 148)"
         },
         "name": "Jawa, New Cases, 2020",
         "showlegend": true,
         "type": "bar",
         "x": [
          "Jawa, 2020"
         ],
         "xaxis": "x",
         "y": [
          471167
         ],
         "yaxis": "y"
        },
        {
         "customdata": [
          [
           "Kalimantan",
           2020
          ]
         ],
         "hovertemplate": "Category: New Cases<br>Pulau: %{customdata[0]}<br>Tahun: %{customdata[1]}<br>Value: %{y:.2f}<extra></extra>",
         "marker": {
          "color": "rgb(1, 198, 134)"
         },
         "name": "Kalimantan, New Cases, 2020",
         "showlegend": true,
         "type": "bar",
         "x": [
          "Kalimantan, 2020"
         ],
         "xaxis": "x",
         "y": [
          59031
         ],
         "yaxis": "y"
        },
        {
         "customdata": [
          [
           "Maluku",
           2020
          ]
         ],
         "hovertemplate": "Category: New Cases<br>Pulau: %{customdata[0]}<br>Tahun: %{customdata[1]}<br>Value: %{y:.2f}<extra></extra>",
         "marker": {
          "color": "rgb(84, 23, 252)"
         },
         "name": "Maluku, New Cases, 2020",
         "showlegend": true,
         "type": "bar",
         "x": [
          "Maluku, 2020"
         ],
         "xaxis": "x",
         "y": [
          8493
         ],
         "yaxis": "y"
        },
        {
         "customdata": [
          [
           "Nusa Tenggara",
           2020
          ]
         ],
         "hovertemplate": "Category: New Cases<br>Pulau: %{customdata[0]}<br>Tahun: %{customdata[1]}<br>Value: %{y:.2f}<extra></extra>",
         "marker": {
          "color": "rgb(60, 152, 230)"
         },
         "name": "Nusa Tenggara, New Cases, 2020",
         "showlegend": true,
         "type": "bar",
         "x": [
          "Nusa Tenggara, 2020"
         ],
         "xaxis": "x",
         "y": [
          25424
         ],
         "yaxis": "y"
        },
        {
         "customdata": [
          [
           "Papua",
           2020
          ]
         ],
         "hovertemplate": "Category: New Cases<br>Pulau: %{customdata[0]}<br>Tahun: %{customdata[1]}<br>Value: %{y:.2f}<extra></extra>",
         "marker": {
          "color": "rgb(66, 174, 27)"
         },
         "name": "Papua, New Cases, 2020",
         "showlegend": true,
         "type": "bar",
         "x": [
          "Papua, 2020"
         ],
         "xaxis": "x",
         "y": [
          19188
         ],
         "yaxis": "y"
        },
        {
         "customdata": [
          [
           "Sulawesi",
           2020
          ]
         ],
         "hovertemplate": "Category: New Cases<br>Pulau: %{customdata[0]}<br>Tahun: %{customdata[1]}<br>Value: %{y:.2f}<extra></extra>",
         "marker": {
          "color": "rgb(144, 54, 23)"
         },
         "name": "Sulawesi, New Cases, 2020",
         "showlegend": true,
         "type": "bar",
         "x": [
          "Sulawesi, 2020"
         ],
         "xaxis": "x",
         "y": [
          57955
         ],
         "yaxis": "y"
        },
        {
         "customdata": [
          [
           "Sumatera",
           2020
          ]
         ],
         "hovertemplate": "Category: New Cases<br>Pulau: %{customdata[0]}<br>Tahun: %{customdata[1]}<br>Value: %{y:.2f}<extra></extra>",
         "marker": {
          "color": "rgb(249, 93, 179)"
         },
         "name": "Sumatera, New Cases, 2020",
         "showlegend": true,
         "type": "bar",
         "x": [
          "Sumatera, 2020"
         ],
         "xaxis": "x",
         "y": [
          109590
         ],
         "yaxis": "y"
        },
        {
         "customdata": [
          [
           "Jawa",
           2021
          ]
         ],
         "hovertemplate": "Category: New Cases<br>Pulau: %{customdata[0]}<br>Tahun: %{customdata[1]}<br>Value: %{y:.2f}<extra></extra>",
         "marker": {
          "color": "rgb(132, 130, 148)"
         },
         "name": "Jawa, New Cases, 2021",
         "showlegend": true,
         "type": "bar",
         "x": [
          "Jawa, 2021"
         ],
         "xaxis": "x",
         "y": [
          2279735
         ],
         "yaxis": "y"
        },
        {
         "customdata": [
          [
           "Kalimantan",
           2021
          ]
         ],
         "hovertemplate": "Category: New Cases<br>Pulau: %{customdata[0]}<br>Tahun: %{customdata[1]}<br>Value: %{y:.2f}<extra></extra>",
         "marker": {
          "color": "rgb(1, 198, 134)"
         },
         "name": "Kalimantan, New Cases, 2021",
         "showlegend": true,
         "type": "bar",
         "x": [
          "Kalimantan, 2021"
         ],
         "xaxis": "x",
         "y": [
          292526
         ],
         "yaxis": "y"
        },
        {
         "customdata": [
          [
           "Maluku",
           2021
          ]
         ],
         "hovertemplate": "Category: New Cases<br>Pulau: %{customdata[0]}<br>Tahun: %{customdata[1]}<br>Value: %{y:.2f}<extra></extra>",
         "marker": {
          "color": "rgb(84, 23, 252)"
         },
         "name": "Maluku, New Cases, 2021",
         "showlegend": true,
         "type": "bar",
         "x": [
          "Maluku, 2021"
         ],
         "xaxis": "x",
         "y": [
          18208
         ],
         "yaxis": "y"
        },
        {
         "customdata": [
          [
           "Nusa Tenggara",
           2021
          ]
         ],
         "hovertemplate": "Category: New Cases<br>Pulau: %{customdata[0]}<br>Tahun: %{customdata[1]}<br>Value: %{y:.2f}<extra></extra>",
         "marker": {
          "color": "rgb(60, 152, 230)"
         },
         "name": "Nusa Tenggara, New Cases, 2021",
         "showlegend": true,
         "type": "bar",
         "x": [
          "Nusa Tenggara, 2021"
         ],
         "xaxis": "x",
         "y": [
          181025
         ],
         "yaxis": "y"
        },
        {
         "customdata": [
          [
           "Papua",
           2021
          ]
         ],
         "hovertemplate": "Category: New Cases<br>Pulau: %{customdata[0]}<br>Tahun: %{customdata[1]}<br>Value: %{y:.2f}<extra></extra>",
         "marker": {
          "color": "rgb(66, 174, 27)"
         },
         "name": "Papua, New Cases, 2021",
         "showlegend": true,
         "type": "bar",
         "x": [
          "Papua, 2021"
         ],
         "xaxis": "x",
         "y": [
          38846
         ],
         "yaxis": "y"
        },
        {
         "customdata": [
          [
           "Sulawesi",
           2021
          ]
         ],
         "hovertemplate": "Category: New Cases<br>Pulau: %{customdata[0]}<br>Tahun: %{customdata[1]}<br>Value: %{y:.2f}<extra></extra>",
         "marker": {
          "color": "rgb(144, 54, 23)"
         },
         "name": "Sulawesi, New Cases, 2021",
         "showlegend": true,
         "type": "bar",
         "x": [
          "Sulawesi, 2021"
         ],
         "xaxis": "x",
         "y": [
          178487
         ],
         "yaxis": "y"
        },
        {
         "customdata": [
          [
           "Sumatera",
           2021
          ]
         ],
         "hovertemplate": "Category: New Cases<br>Pulau: %{customdata[0]}<br>Tahun: %{customdata[1]}<br>Value: %{y:.2f}<extra></extra>",
         "marker": {
          "color": "rgb(249, 93, 179)"
         },
         "name": "Sumatera, New Cases, 2021",
         "showlegend": true,
         "type": "bar",
         "x": [
          "Sumatera, 2021"
         ],
         "xaxis": "x",
         "y": [
          522974
         ],
         "yaxis": "y"
        },
        {
         "customdata": [
          [
           "Jawa",
           2022
          ]
         ],
         "hovertemplate": "Category: New Cases<br>Pulau: %{customdata[0]}<br>Tahun: %{customdata[1]}<br>Value: %{y:.2f}<extra></extra>",
         "marker": {
          "color": "rgb(132, 130, 148)"
         },
         "name": "Jawa, New Cases, 2022",
         "showlegend": true,
         "type": "bar",
         "x": [
          "Jawa, 2022"
         ],
         "xaxis": "x",
         "y": [
          1631428
         ],
         "yaxis": "y"
        },
        {
         "customdata": [
          [
           "Kalimantan",
           2022
          ]
         ],
         "hovertemplate": "Category: New Cases<br>Pulau: %{customdata[0]}<br>Tahun: %{customdata[1]}<br>Value: %{y:.2f}<extra></extra>",
         "marker": {
          "color": "rgb(1, 198, 134)"
         },
         "name": "Kalimantan, New Cases, 2022",
         "showlegend": true,
         "type": "bar",
         "x": [
          "Kalimantan, 2022"
         ],
         "xaxis": "x",
         "y": [
          114175
         ],
         "yaxis": "y"
        },
        {
         "customdata": [
          [
           "Maluku",
           2022
          ]
         ],
         "hovertemplate": "Category: New Cases<br>Pulau: %{customdata[0]}<br>Tahun: %{customdata[1]}<br>Value: %{y:.2f}<extra></extra>",
         "marker": {
          "color": "rgb(84, 23, 252)"
         },
         "name": "Maluku, New Cases, 2022",
         "showlegend": true,
         "type": "bar",
         "x": [
          "Maluku, 2022"
         ],
         "xaxis": "x",
         "y": [
          6630
         ],
         "yaxis": "y"
        },
        {
         "customdata": [
          [
           "Nusa Tenggara",
           2022
          ]
         ],
         "hovertemplate": "Category: New Cases<br>Pulau: %{customdata[0]}<br>Tahun: %{customdata[1]}<br>Value: %{y:.2f}<extra></extra>",
         "marker": {
          "color": "rgb(60, 152, 230)"
         },
         "name": "Nusa Tenggara, New Cases, 2022",
         "showlegend": true,
         "type": "bar",
         "x": [
          "Nusa Tenggara, 2022"
         ],
         "xaxis": "x",
         "y": [
          91044
         ],
         "yaxis": "y"
        },
        {
         "customdata": [
          [
           "Papua",
           2022
          ]
         ],
         "hovertemplate": "Category: New Cases<br>Pulau: %{customdata[0]}<br>Tahun: %{customdata[1]}<br>Value: %{y:.2f}<extra></extra>",
         "marker": {
          "color": "rgb(66, 174, 27)"
         },
         "name": "Papua, New Cases, 2022",
         "showlegend": true,
         "type": "bar",
         "x": [
          "Papua, 2022"
         ],
         "xaxis": "x",
         "y": [
          24063
         ],
         "yaxis": "y"
        },
        {
         "customdata": [
          [
           "Sulawesi",
           2022
          ]
         ],
         "hovertemplate": "Category: New Cases<br>Pulau: %{customdata[0]}<br>Tahun: %{customdata[1]}<br>Value: %{y:.2f}<extra></extra>",
         "marker": {
          "color": "rgb(144, 54, 23)"
         },
         "name": "Sulawesi, New Cases, 2022",
         "showlegend": true,
         "type": "bar",
         "x": [
          "Sulawesi, 2022"
         ],
         "xaxis": "x",
         "y": [
          77166
         ],
         "yaxis": "y"
        },
        {
         "customdata": [
          [
           "Sumatera",
           2022
          ]
         ],
         "hovertemplate": "Category: New Cases<br>Pulau: %{customdata[0]}<br>Tahun: %{customdata[1]}<br>Value: %{y:.2f}<extra></extra>",
         "marker": {
          "color": "rgb(249, 93, 179)"
         },
         "name": "Sumatera, New Cases, 2022",
         "showlegend": true,
         "type": "bar",
         "x": [
          "Sumatera, 2022"
         ],
         "xaxis": "x",
         "y": [
          190154
         ],
         "yaxis": "y"
        },
        {
         "customdata": [
          [
           "Jawa",
           2020
          ]
         ],
         "hovertemplate": "Category: New Deaths<br>Pulau: %{customdata[0]}<br>Tahun: %{customdata[1]}<br>Value: %{y:.2f}<extra></extra>",
         "marker": {
          "color": "rgb(72, 84, 221)"
         },
         "name": "Jawa, New Deaths, 2020",
         "showlegend": true,
         "type": "bar",
         "x": [
          "Jawa, 2020"
         ],
         "xaxis": "x",
         "y": [
          15462
         ],
         "yaxis": "y"
        },
        {
         "customdata": [
          [
           "Kalimantan",
           2020
          ]
         ],
         "hovertemplate": "Category: New Deaths<br>Pulau: %{customdata[0]}<br>Tahun: %{customdata[1]}<br>Value: %{y:.2f}<extra></extra>",
         "marker": {
          "color": "rgb(107, 12, 42)"
         },
         "name": "Kalimantan, New Deaths, 2020",
         "showlegend": true,
         "type": "bar",
         "x": [
          "Kalimantan, 2020"
         ],
         "xaxis": "x",
         "y": [
          1607
         ],
         "yaxis": "y"
        },
        {
         "customdata": [
          [
           "Maluku",
           2020
          ]
         ],
         "hovertemplate": "Category: New Deaths<br>Pulau: %{customdata[0]}<br>Tahun: %{customdata[1]}<br>Value: %{y:.2f}<extra></extra>",
         "marker": {
          "color": "rgb(138, 233, 204)"
         },
         "name": "Maluku, New Deaths, 2020",
         "showlegend": true,
         "type": "bar",
         "x": [
          "Maluku, 2020"
         ],
         "xaxis": "x",
         "y": [
          160
         ],
         "yaxis": "y"
        },
        {
         "customdata": [
          [
           "Nusa Tenggara",
           2020
          ]
         ],
         "hovertemplate": "Category: New Deaths<br>Pulau: %{customdata[0]}<br>Tahun: %{customdata[1]}<br>Value: %{y:.2f}<extra></extra>",
         "marker": {
          "color": "rgb(87, 68, 35)"
         },
         "name": "Nusa Tenggara, New Deaths, 2020",
         "showlegend": true,
         "type": "bar",
         "x": [
          "Nusa Tenggara, 2020"
         ],
         "xaxis": "x",
         "y": [
          826
         ],
         "yaxis": "y"
        },
        {
         "customdata": [
          [
           "Papua",
           2020
          ]
         ],
         "hovertemplate": "Category: New Deaths<br>Pulau: %{customdata[0]}<br>Tahun: %{customdata[1]}<br>Value: %{y:.2f}<extra></extra>",
         "marker": {
          "color": "rgb(171, 88, 234)"
         },
         "name": "Papua, New Deaths, 2020",
         "showlegend": true,
         "type": "bar",
         "x": [
          "Papua, 2020"
         ],
         "xaxis": "x",
         "y": [
          253
         ],
         "yaxis": "y"
        },
        {
         "customdata": [
          [
           "Sulawesi",
           2020
          ]
         ],
         "hovertemplate": "Category: New Deaths<br>Pulau: %{customdata[0]}<br>Tahun: %{customdata[1]}<br>Value: %{y:.2f}<extra></extra>",
         "marker": {
          "color": "rgb(59, 168, 27)"
         },
         "name": "Sulawesi, New Deaths, 2020",
         "showlegend": true,
         "type": "bar",
         "x": [
          "Sulawesi, 2020"
         ],
         "xaxis": "x",
         "y": [
          1294
         ],
         "yaxis": "y"
        },
        {
         "customdata": [
          [
           "Sumatera",
           2020
          ]
         ],
         "hovertemplate": "Category: New Deaths<br>Pulau: %{customdata[0]}<br>Tahun: %{customdata[1]}<br>Value: %{y:.2f}<extra></extra>",
         "marker": {
          "color": "rgb(42, 113, 136)"
         },
         "name": "Sumatera, New Deaths, 2020",
         "showlegend": true,
         "type": "bar",
         "x": [
          "Sumatera, 2020"
         ],
         "xaxis": "x",
         "y": [
          3391
         ],
         "yaxis": "y"
        },
        {
         "customdata": [
          [
           "Jawa",
           2021
          ]
         ],
         "hovertemplate": "Category: New Deaths<br>Pulau: %{customdata[0]}<br>Tahun: %{customdata[1]}<br>Value: %{y:.2f}<extra></extra>",
         "marker": {
          "color": "rgb(72, 84, 221)"
         },
         "name": "Jawa, New Deaths, 2021",
         "showlegend": true,
         "type": "bar",
         "x": [
          "Jawa, 2021"
         ],
         "xaxis": "x",
         "y": [
          80928
         ],
         "yaxis": "y"
        },
        {
         "customdata": [
          [
           "Kalimantan",
           2021
          ]
         ],
         "hovertemplate": "Category: New Deaths<br>Pulau: %{customdata[0]}<br>Tahun: %{customdata[1]}<br>Value: %{y:.2f}<extra></extra>",
         "marker": {
          "color": "rgb(107, 12, 42)"
         },
         "name": "Kalimantan, New Deaths, 2021",
         "showlegend": true,
         "type": "bar",
         "x": [
          "Kalimantan, 2021"
         ],
         "xaxis": "x",
         "y": [
          9539
         ],
         "yaxis": "y"
        },
        {
         "customdata": [
          [
           "Maluku",
           2021
          ]
         ],
         "hovertemplate": "Category: New Deaths<br>Pulau: %{customdata[0]}<br>Tahun: %{customdata[1]}<br>Value: %{y:.2f}<extra></extra>",
         "marker": {
          "color": "rgb(138, 233, 204)"
         },
         "name": "Maluku, New Deaths, 2021",
         "showlegend": true,
         "type": "bar",
         "x": [
          "Maluku, 2021"
         ],
         "xaxis": "x",
         "y": [
          407
         ],
         "yaxis": "y"
        },
        {
         "customdata": [
          [
           "Nusa Tenggara",
           2021
          ]
         ],
         "hovertemplate": "Category: New Deaths<br>Pulau: %{customdata[0]}<br>Tahun: %{customdata[1]}<br>Value: %{y:.2f}<extra></extra>",
         "marker": {
          "color": "rgb(87, 68, 35)"
         },
         "name": "Nusa Tenggara, New Deaths, 2021",
         "showlegend": true,
         "type": "bar",
         "x": [
          "Nusa Tenggara, 2021"
         ],
         "xaxis": "x",
         "y": [
          5400
         ],
         "yaxis": "y"
        },
        {
         "customdata": [
          [
           "Papua",
           2021
          ]
         ],
         "hovertemplate": "Category: New Deaths<br>Pulau: %{customdata[0]}<br>Tahun: %{customdata[1]}<br>Value: %{y:.2f}<extra></extra>",
         "marker": {
          "color": "rgb(171, 88, 234)"
         },
         "name": "Papua, New Deaths, 2021",
         "showlegend": true,
         "type": "bar",
         "x": [
          "Papua, 2021"
         ],
         "xaxis": "x",
         "y": [
          662
         ],
         "yaxis": "y"
        },
        {
         "customdata": [
          [
           "Sulawesi",
           2021
          ]
         ],
         "hovertemplate": "Category: New Deaths<br>Pulau: %{customdata[0]}<br>Tahun: %{customdata[1]}<br>Value: %{y:.2f}<extra></extra>",
         "marker": {
          "color": "rgb(59, 168, 27)"
         },
         "name": "Sulawesi, New Deaths, 2021",
         "showlegend": true,
         "type": "bar",
         "x": [
          "Sulawesi, 2021"
         ],
         "xaxis": "x",
         "y": [
          4950
         ],
         "yaxis": "y"
        },
        {
         "customdata": [
          [
           "Sumatera",
           2021
          ]
         ],
         "hovertemplate": "Category: New Deaths<br>Pulau: %{customdata[0]}<br>Tahun: %{customdata[1]}<br>Value: %{y:.2f}<extra></extra>",
         "marker": {
          "color": "rgb(42, 113, 136)"
         },
         "name": "Sumatera, New Deaths, 2021",
         "showlegend": true,
         "type": "bar",
         "x": [
          "Sumatera, 2021"
         ],
         "xaxis": "x",
         "y": [
          19257
         ],
         "yaxis": "y"
        },
        {
         "customdata": [
          [
           "Jawa",
           2022
          ]
         ],
         "hovertemplate": "Category: New Deaths<br>Pulau: %{customdata[0]}<br>Tahun: %{customdata[1]}<br>Value: %{y:.2f}<extra></extra>",
         "marker": {
          "color": "rgb(72, 84, 221)"
         },
         "name": "Jawa, New Deaths, 2022",
         "showlegend": true,
         "type": "bar",
         "x": [
          "Jawa, 2022"
         ],
         "xaxis": "x",
         "y": [
          9125
         ],
         "yaxis": "y"
        },
        {
         "customdata": [
          [
           "Kalimantan",
           2022
          ]
         ],
         "hovertemplate": "Category: New Deaths<br>Pulau: %{customdata[0]}<br>Tahun: %{customdata[1]}<br>Value: %{y:.2f}<extra></extra>",
         "marker": {
          "color": "rgb(107, 12, 42)"
         },
         "name": "Kalimantan, New Deaths, 2022",
         "showlegend": true,
         "type": "bar",
         "x": [
          "Kalimantan, 2022"
         ],
         "xaxis": "x",
         "y": [
          716
         ],
         "yaxis": "y"
        },
        {
         "customdata": [
          [
           "Maluku",
           2022
          ]
         ],
         "hovertemplate": "Category: New Deaths<br>Pulau: %{customdata[0]}<br>Tahun: %{customdata[1]}<br>Value: %{y:.2f}<extra></extra>",
         "marker": {
          "color": "rgb(138, 233, 204)"
         },
         "name": "Maluku, New Deaths, 2022",
         "showlegend": true,
         "type": "bar",
         "x": [
          "Maluku, 2022"
         ],
         "xaxis": "x",
         "y": [
          61
         ],
         "yaxis": "y"
        },
        {
         "customdata": [
          [
           "Nusa Tenggara",
           2022
          ]
         ],
         "hovertemplate": "Category: New Deaths<br>Pulau: %{customdata[0]}<br>Tahun: %{customdata[1]}<br>Value: %{y:.2f}<extra></extra>",
         "marker": {
          "color": "rgb(87, 68, 35)"
         },
         "name": "Nusa Tenggara, New Deaths, 2022",
         "showlegend": true,
         "type": "bar",
         "x": [
          "Nusa Tenggara, 2022"
         ],
         "xaxis": "x",
         "y": [
          934
         ],
         "yaxis": "y"
        },
        {
         "customdata": [
          [
           "Papua",
           2022
          ]
         ],
         "hovertemplate": "Category: New Deaths<br>Pulau: %{customdata[0]}<br>Tahun: %{customdata[1]}<br>Value: %{y:.2f}<extra></extra>",
         "marker": {
          "color": "rgb(171, 88, 234)"
         },
         "name": "Papua, New Deaths, 2022",
         "showlegend": true,
         "type": "bar",
         "x": [
          "Papua, 2022"
         ],
         "xaxis": "x",
         "y": [
          48
         ],
         "yaxis": "y"
        },
        {
         "customdata": [
          [
           "Sulawesi",
           2022
          ]
         ],
         "hovertemplate": "Category: New Deaths<br>Pulau: %{customdata[0]}<br>Tahun: %{customdata[1]}<br>Value: %{y:.2f}<extra></extra>",
         "marker": {
          "color": "rgb(59, 168, 27)"
         },
         "name": "Sulawesi, New Deaths, 2022",
         "showlegend": true,
         "type": "bar",
         "x": [
          "Sulawesi, 2022"
         ],
         "xaxis": "x",
         "y": [
          636
         ],
         "yaxis": "y"
        },
        {
         "customdata": [
          [
           "Sumatera",
           2022
          ]
         ],
         "hovertemplate": "Category: New Deaths<br>Pulau: %{customdata[0]}<br>Tahun: %{customdata[1]}<br>Value: %{y:.2f}<extra></extra>",
         "marker": {
          "color": "rgb(42, 113, 136)"
         },
         "name": "Sumatera, New Deaths, 2022",
         "showlegend": true,
         "type": "bar",
         "x": [
          "Sumatera, 2022"
         ],
         "xaxis": "x",
         "y": [
          2163
         ],
         "yaxis": "y"
        },
        {
         "customdata": [
          [
           "Jawa",
           2020
          ]
         ],
         "hovertemplate": "Category: New Recovered<br>Pulau: %{customdata[0]}<br>Tahun: %{customdata[1]}<br>Value: %{y:.2f}<extra></extra>",
         "marker": {
          "color": "rgb(129, 119, 76)"
         },
         "name": "Jawa, New Recovered, 2020",
         "showlegend": true,
         "type": "bar",
         "x": [
          "Jawa, 2020"
         ],
         "xaxis": "x",
         "y": [
          394639
         ],
         "yaxis": "y"
        },
        {
         "customdata": [
          [
           "Kalimantan",
           2020
          ]
         ],
         "hovertemplate": "Category: New Recovered<br>Pulau: %{customdata[0]}<br>Tahun: %{customdata[1]}<br>Value: %{y:.2f}<extra></extra>",
         "marker": {
          "color": "rgb(238, 254, 116)"
         },
         "name": "Kalimantan, New Recovered, 2020",
         "showlegend": true,
         "type": "bar",
         "x": [
          "Kalimantan, 2020"
         ],
         "xaxis": "x",
         "y": [
          47839
         ],
         "yaxis": "y"
        },
        {
         "customdata": [
          [
           "Maluku",
           2020
          ]
         ],
         "hovertemplate": "Category: New Recovered<br>Pulau: %{customdata[0]}<br>Tahun: %{customdata[1]}<br>Value: %{y:.2f}<extra></extra>",
         "marker": {
          "color": "rgb(120, 142, 44)"
         },
         "name": "Maluku, New Recovered, 2020",
         "showlegend": true,
         "type": "bar",
         "x": [
          "Maluku, 2020"
         ],
         "xaxis": "x",
         "y": [
          6910
         ],
         "yaxis": "y"
        },
        {
         "customdata": [
          [
           "Nusa Tenggara",
           2020
          ]
         ],
         "hovertemplate": "Category: New Recovered<br>Pulau: %{customdata[0]}<br>Tahun: %{customdata[1]}<br>Value: %{y:.2f}<extra></extra>",
         "marker": {
          "color": "rgb(90, 32, 157)"
         },
         "name": "Nusa Tenggara, New Recovered, 2020",
         "showlegend": true,
         "type": "bar",
         "x": [
          "Nusa Tenggara, 2020"
         ],
         "xaxis": "x",
         "y": [
          21902
         ],
         "yaxis": "y"
        },
        {
         "customdata": [
          [
           "Papua",
           2020
          ]
         ],
         "hovertemplate": "Category: New Recovered<br>Pulau: %{customdata[0]}<br>Tahun: %{customdata[1]}<br>Value: %{y:.2f}<extra></extra>",
         "marker": {
          "color": "rgb(16, 197, 68)"
         },
         "name": "Papua, New Recovered, 2020",
         "showlegend": true,
         "type": "bar",
         "x": [
          "Papua, 2020"
         ],
         "xaxis": "x",
         "y": [
          12503
         ],
         "yaxis": "y"
        },
        {
         "customdata": [
          [
           "Sulawesi",
           2020
          ]
         ],
         "hovertemplate": "Category: New Recovered<br>Pulau: %{customdata[0]}<br>Tahun: %{customdata[1]}<br>Value: %{y:.2f}<extra></extra>",
         "marker": {
          "color": "rgb(204, 244, 4)"
         },
         "name": "Sulawesi, New Recovered, 2020",
         "showlegend": true,
         "type": "bar",
         "x": [
          "Sulawesi, 2020"
         ],
         "xaxis": "x",
         "y": [
          46227
         ],
         "yaxis": "y"
        },
        {
         "customdata": [
          [
           "Sumatera",
           2020
          ]
         ],
         "hovertemplate": "Category: New Recovered<br>Pulau: %{customdata[0]}<br>Tahun: %{customdata[1]}<br>Value: %{y:.2f}<extra></extra>",
         "marker": {
          "color": "rgb(244, 181, 105)"
         },
         "name": "Sumatera, New Recovered, 2020",
         "showlegend": true,
         "type": "bar",
         "x": [
          "Sumatera, 2020"
         ],
         "xaxis": "x",
         "y": [
          93740
         ],
         "yaxis": "y"
        },
        {
         "customdata": [
          [
           "Jawa",
           2021
          ]
         ],
         "hovertemplate": "Category: New Recovered<br>Pulau: %{customdata[0]}<br>Tahun: %{customdata[1]}<br>Value: %{y:.2f}<extra></extra>",
         "marker": {
          "color": "rgb(129, 119, 76)"
         },
         "name": "Jawa, New Recovered, 2021",
         "showlegend": true,
         "type": "bar",
         "x": [
          "Jawa, 2021"
         ],
         "xaxis": "x",
         "y": [
          2257536
         ],
         "yaxis": "y"
        },
        {
         "customdata": [
          [
           "Kalimantan",
           2021
          ]
         ],
         "hovertemplate": "Category: New Recovered<br>Pulau: %{customdata[0]}<br>Tahun: %{customdata[1]}<br>Value: %{y:.2f}<extra></extra>",
         "marker": {
          "color": "rgb(238, 254, 116)"
         },
         "name": "Kalimantan, New Recovered, 2021",
         "showlegend": true,
         "type": "bar",
         "x": [
          "Kalimantan, 2021"
         ],
         "xaxis": "x",
         "y": [
          292438
         ],
         "yaxis": "y"
        },
        {
         "customdata": [
          [
           "Maluku",
           2021
          ]
         ],
         "hovertemplate": "Category: New Recovered<br>Pulau: %{customdata[0]}<br>Tahun: %{customdata[1]}<br>Value: %{y:.2f}<extra></extra>",
         "marker": {
          "color": "rgb(120, 142, 44)"
         },
         "name": "Maluku, New Recovered, 2021",
         "showlegend": true,
         "type": "bar",
         "x": [
          "Maluku, 2021"
         ],
         "xaxis": "x",
         "y": [
          19216
         ],
         "yaxis": "y"
        },
        {
         "customdata": [
          [
           "Nusa Tenggara",
           2021
          ]
         ],
         "hovertemplate": "Category: New Recovered<br>Pulau: %{customdata[0]}<br>Tahun: %{customdata[1]}<br>Value: %{y:.2f}<extra></extra>",
         "marker": {
          "color": "rgb(90, 32, 157)"
         },
         "name": "Nusa Tenggara, New Recovered, 2021",
         "showlegend": true,
         "type": "bar",
         "x": [
          "Nusa Tenggara, 2021"
         ],
         "xaxis": "x",
         "y": [
          178132
         ],
         "yaxis": "y"
        },
        {
         "customdata": [
          [
           "Papua",
           2021
          ]
         ],
         "hovertemplate": "Category: New Recovered<br>Pulau: %{customdata[0]}<br>Tahun: %{customdata[1]}<br>Value: %{y:.2f}<extra></extra>",
         "marker": {
          "color": "rgb(16, 197, 68)"
         },
         "name": "Papua, New Recovered, 2021",
         "showlegend": true,
         "type": "bar",
         "x": [
          "Papua, 2021"
         ],
         "xaxis": "x",
         "y": [
          44394
         ],
         "yaxis": "y"
        },
        {
         "customdata": [
          [
           "Sulawesi",
           2021
          ]
         ],
         "hovertemplate": "Category: New Recovered<br>Pulau: %{customdata[0]}<br>Tahun: %{customdata[1]}<br>Value: %{y:.2f}<extra></extra>",
         "marker": {
          "color": "rgb(204, 244, 4)"
         },
         "name": "Sulawesi, New Recovered, 2021",
         "showlegend": true,
         "type": "bar",
         "x": [
          "Sulawesi, 2021"
         ],
         "xaxis": "x",
         "y": [
          183769
         ],
         "yaxis": "y"
        },
        {
         "customdata": [
          [
           "Sumatera",
           2021
          ]
         ],
         "hovertemplate": "Category: New Recovered<br>Pulau: %{customdata[0]}<br>Tahun: %{customdata[1]}<br>Value: %{y:.2f}<extra></extra>",
         "marker": {
          "color": "rgb(244, 181, 105)"
         },
         "name": "Sumatera, New Recovered, 2021",
         "showlegend": true,
         "type": "bar",
         "x": [
          "Sumatera, 2021"
         ],
         "xaxis": "x",
         "y": [
          514827
         ],
         "yaxis": "y"
        },
        {
         "customdata": [
          [
           "Jawa",
           2022
          ]
         ],
         "hovertemplate": "Category: New Recovered<br>Pulau: %{customdata[0]}<br>Tahun: %{customdata[1]}<br>Value: %{y:.2f}<extra></extra>",
         "marker": {
          "color": "rgb(129, 119, 76)"
         },
         "name": "Jawa, New Recovered, 2022",
         "showlegend": true,
         "type": "bar",
         "x": [
          "Jawa, 2022"
         ],
         "xaxis": "x",
         "y": [
          1594436
         ],
         "yaxis": "y"
        },
        {
         "customdata": [
          [
           "Kalimantan",
           2022
          ]
         ],
         "hovertemplate": "Category: New Recovered<br>Pulau: %{customdata[0]}<br>Tahun: %{customdata[1]}<br>Value: %{y:.2f}<extra></extra>",
         "marker": {
          "color": "rgb(238, 254, 116)"
         },
         "name": "Kalimantan, New Recovered, 2022",
         "showlegend": true,
         "type": "bar",
         "x": [
          "Kalimantan, 2022"
         ],
         "xaxis": "x",
         "y": [
          112815
         ],
         "yaxis": "y"
        },
        {
         "customdata": [
          [
           "Maluku",
           2022
          ]
         ],
         "hovertemplate": "Category: New Recovered<br>Pulau: %{customdata[0]}<br>Tahun: %{customdata[1]}<br>Value: %{y:.2f}<extra></extra>",
         "marker": {
          "color": "rgb(120, 142, 44)"
         },
         "name": "Maluku, New Recovered, 2022",
         "showlegend": true,
         "type": "bar",
         "x": [
          "Maluku, 2022"
         ],
         "xaxis": "x",
         "y": [
          6514
         ],
         "yaxis": "y"
        },
        {
         "customdata": [
          [
           "Nusa Tenggara",
           2022
          ]
         ],
         "hovertemplate": "Category: New Recovered<br>Pulau: %{customdata[0]}<br>Tahun: %{customdata[1]}<br>Value: %{y:.2f}<extra></extra>",
         "marker": {
          "color": "rgb(90, 32, 157)"
         },
         "name": "Nusa Tenggara, New Recovered, 2022",
         "showlegend": true,
         "type": "bar",
         "x": [
          "Nusa Tenggara, 2022"
         ],
         "xaxis": "x",
         "y": [
          89708
         ],
         "yaxis": "y"
        },
        {
         "customdata": [
          [
           "Papua",
           2022
          ]
         ],
         "hovertemplate": "Category: New Recovered<br>Pulau: %{customdata[0]}<br>Tahun: %{customdata[1]}<br>Value: %{y:.2f}<extra></extra>",
         "marker": {
          "color": "rgb(16, 197, 68)"
         },
         "name": "Papua, New Recovered, 2022",
         "showlegend": true,
         "type": "bar",
         "x": [
          "Papua, 2022"
         ],
         "xaxis": "x",
         "y": [
          23863
         ],
         "yaxis": "y"
        },
        {
         "customdata": [
          [
           "Sulawesi",
           2022
          ]
         ],
         "hovertemplate": "Category: New Recovered<br>Pulau: %{customdata[0]}<br>Tahun: %{customdata[1]}<br>Value: %{y:.2f}<extra></extra>",
         "marker": {
          "color": "rgb(204, 244, 4)"
         },
         "name": "Sulawesi, New Recovered, 2022",
         "showlegend": true,
         "type": "bar",
         "x": [
          "Sulawesi, 2022"
         ],
         "xaxis": "x",
         "y": [
          75853
         ],
         "yaxis": "y"
        },
        {
         "customdata": [
          [
           "Sumatera",
           2022
          ]
         ],
         "hovertemplate": "Category: New Recovered<br>Pulau: %{customdata[0]}<br>Tahun: %{customdata[1]}<br>Value: %{y:.2f}<extra></extra>",
         "marker": {
          "color": "rgb(244, 181, 105)"
         },
         "name": "Sumatera, New Recovered, 2022",
         "showlegend": true,
         "type": "bar",
         "x": [
          "Sumatera, 2022"
         ],
         "xaxis": "x",
         "y": [
          187292
         ],
         "yaxis": "y"
        },
        {
         "customdata": [
          [
           "Jawa",
           2020
          ]
         ],
         "hovertemplate": "Category: New Active Cases<br>Pulau: %{customdata[0]}<br>Tahun: %{customdata[1]}<br>Value: %{y:.2f}<extra></extra>",
         "marker": {
          "color": "rgb(151, 124, 1)"
         },
         "name": "Jawa, New Active Cases, 2020",
         "showlegend": true,
         "type": "bar",
         "x": [
          "Jawa, 2020"
         ],
         "xaxis": "x",
         "y": [
          61066
         ],
         "yaxis": "y"
        },
        {
         "customdata": [
          [
           "Kalimantan",
           2020
          ]
         ],
         "hovertemplate": "Category: New Active Cases<br>Pulau: %{customdata[0]}<br>Tahun: %{customdata[1]}<br>Value: %{y:.2f}<extra></extra>",
         "marker": {
          "color": "rgb(100, 209, 21)"
         },
         "name": "Kalimantan, New Active Cases, 2020",
         "showlegend": true,
         "type": "bar",
         "x": [
          "Kalimantan, 2020"
         ],
         "xaxis": "x",
         "y": [
          9585
         ],
         "yaxis": "y"
        },
        {
         "customdata": [
          [
           "Maluku",
           2020
          ]
         ],
         "hovertemplate": "Category: New Active Cases<br>Pulau: %{customdata[0]}<br>Tahun: %{customdata[1]}<br>Value: %{y:.2f}<extra></extra>",
         "marker": {
          "color": "rgb(35, 209, 60)"
         },
         "name": "Maluku, New Active Cases, 2020",
         "showlegend": true,
         "type": "bar",
         "x": [
          "Maluku, 2020"
         ],
         "xaxis": "x",
         "y": [
          1423
         ],
         "yaxis": "y"
        },
        {
         "customdata": [
          [
           "Nusa Tenggara",
           2020
          ]
         ],
         "hovertemplate": "Category: New Active Cases<br>Pulau: %{customdata[0]}<br>Tahun: %{customdata[1]}<br>Value: %{y:.2f}<extra></extra>",
         "marker": {
          "color": "rgb(69, 59, 194)"
         },
         "name": "Nusa Tenggara, New Active Cases, 2020",
         "showlegend": true,
         "type": "bar",
         "x": [
          "Nusa Tenggara, 2020"
         ],
         "xaxis": "x",
         "y": [
          2696
         ],
         "yaxis": "y"
        },
        {
         "customdata": [
          [
           "Papua",
           2020
          ]
         ],
         "hovertemplate": "Category: New Active Cases<br>Pulau: %{customdata[0]}<br>Tahun: %{customdata[1]}<br>Value: %{y:.2f}<extra></extra>",
         "marker": {
          "color": "rgb(160, 35, 121)"
         },
         "name": "Papua, New Active Cases, 2020",
         "showlegend": true,
         "type": "bar",
         "x": [
          "Papua, 2020"
         ],
         "xaxis": "x",
         "y": [
          6432
         ],
         "yaxis": "y"
        },
        {
         "customdata": [
          [
           "Sulawesi",
           2020
          ]
         ],
         "hovertemplate": "Category: New Active Cases<br>Pulau: %{customdata[0]}<br>Tahun: %{customdata[1]}<br>Value: %{y:.2f}<extra></extra>",
         "marker": {
          "color": "rgb(232, 85, 106)"
         },
         "name": "Sulawesi, New Active Cases, 2020",
         "showlegend": true,
         "type": "bar",
         "x": [
          "Sulawesi, 2020"
         ],
         "xaxis": "x",
         "y": [
          10434
         ],
         "yaxis": "y"
        },
        {
         "customdata": [
          [
           "Sumatera",
           2020
          ]
         ],
         "hovertemplate": "Category: New Active Cases<br>Pulau: %{customdata[0]}<br>Tahun: %{customdata[1]}<br>Value: %{y:.2f}<extra></extra>",
         "marker": {
          "color": "rgb(39, 249, 236)"
         },
         "name": "Sumatera, New Active Cases, 2020",
         "showlegend": true,
         "type": "bar",
         "x": [
          "Sumatera, 2020"
         ],
         "xaxis": "x",
         "y": [
          12459
         ],
         "yaxis": "y"
        },
        {
         "customdata": [
          [
           "Jawa",
           2021
          ]
         ],
         "hovertemplate": "Category: New Active Cases<br>Pulau: %{customdata[0]}<br>Tahun: %{customdata[1]}<br>Value: %{y:.2f}<extra></extra>",
         "marker": {
          "color": "rgb(151, 124, 1)"
         },
         "name": "Jawa, New Active Cases, 2021",
         "showlegend": true,
         "type": "bar",
         "x": [
          "Jawa, 2021"
         ],
         "xaxis": "x",
         "y": [
          -58729
         ],
         "yaxis": "y"
        },
        {
         "customdata": [
          [
           "Kalimantan",
           2021
          ]
         ],
         "hovertemplate": "Category: New Active Cases<br>Pulau: %{customdata[0]}<br>Tahun: %{customdata[1]}<br>Value: %{y:.2f}<extra></extra>",
         "marker": {
          "color": "rgb(100, 209, 21)"
         },
         "name": "Kalimantan, New Active Cases, 2021",
         "showlegend": true,
         "type": "bar",
         "x": [
          "Kalimantan, 2021"
         ],
         "xaxis": "x",
         "y": [
          -9451
         ],
         "yaxis": "y"
        },
        {
         "customdata": [
          [
           "Maluku",
           2021
          ]
         ],
         "hovertemplate": "Category: New Active Cases<br>Pulau: %{customdata[0]}<br>Tahun: %{customdata[1]}<br>Value: %{y:.2f}<extra></extra>",
         "marker": {
          "color": "rgb(35, 209, 60)"
         },
         "name": "Maluku, New Active Cases, 2021",
         "showlegend": true,
         "type": "bar",
         "x": [
          "Maluku, 2021"
         ],
         "xaxis": "x",
         "y": [
          -1415
         ],
         "yaxis": "y"
        },
        {
         "customdata": [
          [
           "Nusa Tenggara",
           2021
          ]
         ],
         "hovertemplate": "Category: New Active Cases<br>Pulau: %{customdata[0]}<br>Tahun: %{customdata[1]}<br>Value: %{y:.2f}<extra></extra>",
         "marker": {
          "color": "rgb(69, 59, 194)"
         },
         "name": "Nusa Tenggara, New Active Cases, 2021",
         "showlegend": true,
         "type": "bar",
         "x": [
          "Nusa Tenggara, 2021"
         ],
         "xaxis": "x",
         "y": [
          -2507
         ],
         "yaxis": "y"
        },
        {
         "customdata": [
          [
           "Papua",
           2021
          ]
         ],
         "hovertemplate": "Category: New Active Cases<br>Pulau: %{customdata[0]}<br>Tahun: %{customdata[1]}<br>Value: %{y:.2f}<extra></extra>",
         "marker": {
          "color": "rgb(160, 35, 121)"
         },
         "name": "Papua, New Active Cases, 2021",
         "showlegend": true,
         "type": "bar",
         "x": [
          "Papua, 2021"
         ],
         "xaxis": "x",
         "y": [
          -6210
         ],
         "yaxis": "y"
        },
        {
         "customdata": [
          [
           "Sulawesi",
           2021
          ]
         ],
         "hovertemplate": "Category: New Active Cases<br>Pulau: %{customdata[0]}<br>Tahun: %{customdata[1]}<br>Value: %{y:.2f}<extra></extra>",
         "marker": {
          "color": "rgb(232, 85, 106)"
         },
         "name": "Sulawesi, New Active Cases, 2021",
         "showlegend": true,
         "type": "bar",
         "x": [
          "Sulawesi, 2021"
         ],
         "xaxis": "x",
         "y": [
          -10232
         ],
         "yaxis": "y"
        },
        {
         "customdata": [
          [
           "Sumatera",
           2021
          ]
         ],
         "hovertemplate": "Category: New Active Cases<br>Pulau: %{customdata[0]}<br>Tahun: %{customdata[1]}<br>Value: %{y:.2f}<extra></extra>",
         "marker": {
          "color": "rgb(39, 249, 236)"
         },
         "name": "Sumatera, New Active Cases, 2021",
         "showlegend": true,
         "type": "bar",
         "x": [
          "Sumatera, 2021"
         ],
         "xaxis": "x",
         "y": [
          -11110
         ],
         "yaxis": "y"
        },
        {
         "customdata": [
          [
           "Jawa",
           2022
          ]
         ],
         "hovertemplate": "Category: New Active Cases<br>Pulau: %{customdata[0]}<br>Tahun: %{customdata[1]}<br>Value: %{y:.2f}<extra></extra>",
         "marker": {
          "color": "rgb(151, 124, 1)"
         },
         "name": "Jawa, New Active Cases, 2022",
         "showlegend": true,
         "type": "bar",
         "x": [
          "Jawa, 2022"
         ],
         "xaxis": "x",
         "y": [
          27867
         ],
         "yaxis": "y"
        },
        {
         "customdata": [
          [
           "Kalimantan",
           2022
          ]
         ],
         "hovertemplate": "Category: New Active Cases<br>Pulau: %{customdata[0]}<br>Tahun: %{customdata[1]}<br>Value: %{y:.2f}<extra></extra>",
         "marker": {
          "color": "rgb(100, 209, 21)"
         },
         "name": "Kalimantan, New Active Cases, 2022",
         "showlegend": true,
         "type": "bar",
         "x": [
          "Kalimantan, 2022"
         ],
         "xaxis": "x",
         "y": [
          644
         ],
         "yaxis": "y"
        },
        {
         "customdata": [
          [
           "Maluku",
           2022
          ]
         ],
         "hovertemplate": "Category: New Active Cases<br>Pulau: %{customdata[0]}<br>Tahun: %{customdata[1]}<br>Value: %{y:.2f}<extra></extra>",
         "marker": {
          "color": "rgb(35, 209, 60)"
         },
         "name": "Maluku, New Active Cases, 2022",
         "showlegend": true,
         "type": "bar",
         "x": [
          "Maluku, 2022"
         ],
         "xaxis": "x",
         "y": [
          55
         ],
         "yaxis": "y"
        },
        {
         "customdata": [
          [
           "Nusa Tenggara",
           2022
          ]
         ],
         "hovertemplate": "Category: New Active Cases<br>Pulau: %{customdata[0]}<br>Tahun: %{customdata[1]}<br>Value: %{y:.2f}<extra></extra>",
         "marker": {
          "color": "rgb(69, 59, 194)"
         },
         "name": "Nusa Tenggara, New Active Cases, 2022",
         "showlegend": true,
         "type": "bar",
         "x": [
          "Nusa Tenggara, 2022"
         ],
         "xaxis": "x",
         "y": [
          402
         ],
         "yaxis": "y"
        },
        {
         "customdata": [
          [
           "Papua",
           2022
          ]
         ],
         "hovertemplate": "Category: New Active Cases<br>Pulau: %{customdata[0]}<br>Tahun: %{customdata[1]}<br>Value: %{y:.2f}<extra></extra>",
         "marker": {
          "color": "rgb(160, 35, 121)"
         },
         "name": "Papua, New Active Cases, 2022",
         "showlegend": true,
         "type": "bar",
         "x": [
          "Papua, 2022"
         ],
         "xaxis": "x",
         "y": [
          152
         ],
         "yaxis": "y"
        },
        {
         "customdata": [
          [
           "Sulawesi",
           2022
          ]
         ],
         "hovertemplate": "Category: New Active Cases<br>Pulau: %{customdata[0]}<br>Tahun: %{customdata[1]}<br>Value: %{y:.2f}<extra></extra>",
         "marker": {
          "color": "rgb(232, 85, 106)"
         },
         "name": "Sulawesi, New Active Cases, 2022",
         "showlegend": true,
         "type": "bar",
         "x": [
          "Sulawesi, 2022"
         ],
         "xaxis": "x",
         "y": [
          677
         ],
         "yaxis": "y"
        },
        {
         "customdata": [
          [
           "Sumatera",
           2022
          ]
         ],
         "hovertemplate": "Category: New Active Cases<br>Pulau: %{customdata[0]}<br>Tahun: %{customdata[1]}<br>Value: %{y:.2f}<extra></extra>",
         "marker": {
          "color": "rgb(39, 249, 236)"
         },
         "name": "Sumatera, New Active Cases, 2022",
         "showlegend": true,
         "type": "bar",
         "x": [
          "Sumatera, 2022"
         ],
         "xaxis": "x",
         "y": [
          699
         ],
         "yaxis": "y"
        },
        {
         "customdata": [
          [
           "Jawa",
           2020
          ]
         ],
         "hovertemplate": "Category: Total Cases<br>Pulau: %{customdata[0]}<br>Tahun: %{customdata[1]}<br>Value: %{y:.2f}<extra></extra>",
         "marker": {
          "color": "rgb(50, 41, 15)"
         },
         "name": "Jawa, Total Cases, 2020",
         "showlegend": true,
         "type": "bar",
         "x": [
          "Jawa, 2020"
         ],
         "xaxis": "x2",
         "y": [
          84410
         ],
         "yaxis": "y2"
        },
        {
         "customdata": [
          [
           "Kalimantan",
           2020
          ]
         ],
         "hovertemplate": "Category: Total Cases<br>Pulau: %{customdata[0]}<br>Tahun: %{customdata[1]}<br>Value: %{y:.2f}<extra></extra>",
         "marker": {
          "color": "rgb(52, 7, 169)"
         },
         "name": "Kalimantan, Total Cases, 2020",
         "showlegend": true,
         "type": "bar",
         "x": [
          "Kalimantan, 2020"
         ],
         "xaxis": "x2",
         "y": [
          3794
         ],
         "yaxis": "y2"
        },
        {
         "customdata": [
          [
           "Maluku",
           2020
          ]
         ],
         "hovertemplate": "Category: Total Cases<br>Pulau: %{customdata[0]}<br>Tahun: %{customdata[1]}<br>Value: %{y:.2f}<extra></extra>",
         "marker": {
          "color": "rgb(90, 30, 157)"
         },
         "name": "Maluku, Total Cases, 2020",
         "showlegend": true,
         "type": "bar",
         "x": [
          "Maluku, 2020"
         ],
         "xaxis": "x2",
         "y": [
          5722
         ],
         "yaxis": "y2"
        },
        {
         "customdata": [
          [
           "Nusa Tenggara",
           2020
          ]
         ],
         "hovertemplate": "Category: Total Cases<br>Pulau: %{customdata[0]}<br>Tahun: %{customdata[1]}<br>Value: %{y:.2f}<extra></extra>",
         "marker": {
          "color": "rgb(58, 64, 200)"
         },
         "name": "Nusa Tenggara, Total Cases, 2020",
         "showlegend": true,
         "type": "bar",
         "x": [
          "Nusa Tenggara, 2020"
         ],
         "xaxis": "x2",
         "y": [
          17593
         ],
         "yaxis": "y2"
        },
        {
         "customdata": [
          [
           "Papua",
           2020
          ]
         ],
         "hovertemplate": "Category: Total Cases<br>Pulau: %{customdata[0]}<br>Tahun: %{customdata[1]}<br>Value: %{y:.2f}<extra></extra>",
         "marker": {
          "color": "rgb(73, 229, 10)"
         },
         "name": "Papua, Total Cases, 2020",
         "showlegend": true,
         "type": "bar",
         "x": [
          "Papua, 2020"
         ],
         "xaxis": "x2",
         "y": [
          5979
         ],
         "yaxis": "y2"
        },
        {
         "customdata": [
          [
           "Sulawesi",
           2020
          ]
         ],
         "hovertemplate": "Category: Total Cases<br>Pulau: %{customdata[0]}<br>Tahun: %{customdata[1]}<br>Value: %{y:.2f}<extra></extra>",
         "marker": {
          "color": "rgb(64, 80, 33)"
         },
         "name": "Sulawesi, Total Cases, 2020",
         "showlegend": true,
         "type": "bar",
         "x": [
          "Sulawesi, 2020"
         ],
         "xaxis": "x2",
         "y": [
          3840
         ],
         "yaxis": "y2"
        },
        {
         "customdata": [
          [
           "Sumatera",
           2020
          ]
         ],
         "hovertemplate": "Category: Total Cases<br>Pulau: %{customdata[0]}<br>Tahun: %{customdata[1]}<br>Value: %{y:.2f}<extra></extra>",
         "marker": {
          "color": "rgb(162, 76, 77)"
         },
         "name": "Sumatera, Total Cases, 2020",
         "showlegend": true,
         "type": "bar",
         "x": [
          "Sumatera, 2020"
         ],
         "xaxis": "x2",
         "y": [
          18149
         ],
         "yaxis": "y2"
        },
        {
         "customdata": [
          [
           "Jawa",
           2021
          ]
         ],
         "hovertemplate": "Category: Total Cases<br>Pulau: %{customdata[0]}<br>Tahun: %{customdata[1]}<br>Value: %{y:.2f}<extra></extra>",
         "marker": {
          "color": "rgb(50, 41, 15)"
         },
         "name": "Jawa, Total Cases, 2021",
         "showlegend": true,
         "type": "bar",
         "x": [
          "Jawa, 2021"
         ],
         "xaxis": "x2",
         "y": [
          708850
         ],
         "yaxis": "y2"
        },
        {
         "customdata": [
          [
           "Kalimantan",
           2021
          ]
         ],
         "hovertemplate": "Category: Total Cases<br>Pulau: %{customdata[0]}<br>Tahun: %{customdata[1]}<br>Value: %{y:.2f}<extra></extra>",
         "marker": {
          "color": "rgb(52, 7, 169)"
         },
         "name": "Kalimantan, Total Cases, 2021",
         "showlegend": true,
         "type": "bar",
         "x": [
          "Kalimantan, 2021"
         ],
         "xaxis": "x2",
         "y": [
          45660
         ],
         "yaxis": "y2"
        },
        {
         "customdata": [
          [
           "Maluku",
           2021
          ]
         ],
         "hovertemplate": "Category: Total Cases<br>Pulau: %{customdata[0]}<br>Tahun: %{customdata[1]}<br>Value: %{y:.2f}<extra></extra>",
         "marker": {
          "color": "rgb(90, 30, 157)"
         },
         "name": "Maluku, Total Cases, 2021",
         "showlegend": true,
         "type": "bar",
         "x": [
          "Maluku, 2021"
         ],
         "xaxis": "x2",
         "y": [
          14596
         ],
         "yaxis": "y2"
        },
        {
         "customdata": [
          [
           "Nusa Tenggara",
           2021
          ]
         ],
         "hovertemplate": "Category: Total Cases<br>Pulau: %{customdata[0]}<br>Tahun: %{customdata[1]}<br>Value: %{y:.2f}<extra></extra>",
         "marker": {
          "color": "rgb(58, 64, 200)"
         },
         "name": "Nusa Tenggara, Total Cases, 2021",
         "showlegend": true,
         "type": "bar",
         "x": [
          "Nusa Tenggara, 2021"
         ],
         "xaxis": "x2",
         "y": [
          114389
         ],
         "yaxis": "y2"
        },
        {
         "customdata": [
          [
           "Papua",
           2021
          ]
         ],
         "hovertemplate": "Category: Total Cases<br>Pulau: %{customdata[0]}<br>Tahun: %{customdata[1]}<br>Value: %{y:.2f}<extra></extra>",
         "marker": {
          "color": "rgb(73, 229, 10)"
         },
         "name": "Papua, Total Cases, 2021",
         "showlegend": true,
         "type": "bar",
         "x": [
          "Papua, 2021"
         ],
         "xaxis": "x2",
         "y": [
          23660
         ],
         "yaxis": "y2"
        },
        {
         "customdata": [
          [
           "Sulawesi",
           2021
          ]
         ],
         "hovertemplate": "Category: Total Cases<br>Pulau: %{customdata[0]}<br>Tahun: %{customdata[1]}<br>Value: %{y:.2f}<extra></extra>",
         "marker": {
          "color": "rgb(64, 80, 33)"
         },
         "name": "Sulawesi, Total Cases, 2021",
         "showlegend": true,
         "type": "bar",
         "x": [
          "Sulawesi, 2021"
         ],
         "xaxis": "x2",
         "y": [
          47253
         ],
         "yaxis": "y2"
        },
        {
         "customdata": [
          [
           "Sumatera",
           2021
          ]
         ],
         "hovertemplate": "Category: Total Cases<br>Pulau: %{customdata[0]}<br>Tahun: %{customdata[1]}<br>Value: %{y:.2f}<extra></extra>",
         "marker": {
          "color": "rgb(162, 76, 77)"
         },
         "name": "Sumatera, Total Cases, 2021",
         "showlegend": true,
         "type": "bar",
         "x": [
          "Sumatera, 2021"
         ],
         "xaxis": "x2",
         "y": [
          106123
         ],
         "yaxis": "y2"
        },
        {
         "customdata": [
          [
           "Jawa",
           2022
          ]
         ],
         "hovertemplate": "Category: Total Cases<br>Pulau: %{customdata[0]}<br>Tahun: %{customdata[1]}<br>Value: %{y:.2f}<extra></extra>",
         "marker": {
          "color": "rgb(50, 41, 15)"
         },
         "name": "Jawa, Total Cases, 2022",
         "showlegend": true,
         "type": "bar",
         "x": [
          "Jawa, 2022"
         ],
         "xaxis": "x2",
         "y": [
          1173731
         ],
         "yaxis": "y2"
        },
        {
         "customdata": [
          [
           "Kalimantan",
           2022
          ]
         ],
         "hovertemplate": "Category: Total Cases<br>Pulau: %{customdata[0]}<br>Tahun: %{customdata[1]}<br>Value: %{y:.2f}<extra></extra>",
         "marker": {
          "color": "rgb(52, 7, 169)"
         },
         "name": "Kalimantan, Total Cases, 2022",
         "showlegend": true,
         "type": "bar",
         "x": [
          "Kalimantan, 2022"
         ],
         "xaxis": "x2",
         "y": [
          58217
         ],
         "yaxis": "y2"
        },
        {
         "customdata": [
          [
           "Maluku",
           2022
          ]
         ],
         "hovertemplate": "Category: Total Cases<br>Pulau: %{customdata[0]}<br>Tahun: %{customdata[1]}<br>Value: %{y:.2f}<extra></extra>",
         "marker": {
          "color": "rgb(90, 30, 157)"
         },
         "name": "Maluku, Total Cases, 2022",
         "showlegend": true,
         "type": "bar",
         "x": [
          "Maluku, 2022"
         ],
         "xaxis": "x2",
         "y": [
          18736
         ],
         "yaxis": "y2"
        },
        {
         "customdata": [
          [
           "Nusa Tenggara",
           2022
          ]
         ],
         "hovertemplate": "Category: Total Cases<br>Pulau: %{customdata[0]}<br>Tahun: %{customdata[1]}<br>Value: %{y:.2f}<extra></extra>",
         "marker": {
          "color": "rgb(58, 64, 200)"
         },
         "name": "Nusa Tenggara, Total Cases, 2022",
         "showlegend": true,
         "type": "bar",
         "x": [
          "Nusa Tenggara, 2022"
         ],
         "xaxis": "x2",
         "y": [
          94415
         ],
         "yaxis": "y2"
        },
        {
         "customdata": [
          [
           "Papua",
           2022
          ]
         ],
         "hovertemplate": "Category: Total Cases<br>Pulau: %{customdata[0]}<br>Tahun: %{customdata[1]}<br>Value: %{y:.2f}<extra></extra>",
         "marker": {
          "color": "rgb(73, 229, 10)"
         },
         "name": "Papua, Total Cases, 2022",
         "showlegend": true,
         "type": "bar",
         "x": [
          "Papua, 2022"
         ],
         "xaxis": "x2",
         "y": [
          32170
         ],
         "yaxis": "y2"
        },
        {
         "customdata": [
          [
           "Sulawesi",
           2022
          ]
         ],
         "hovertemplate": "Category: Total Cases<br>Pulau: %{customdata[0]}<br>Tahun: %{customdata[1]}<br>Value: %{y:.2f}<extra></extra>",
         "marker": {
          "color": "rgb(64, 80, 33)"
         },
         "name": "Sulawesi, Total Cases, 2022",
         "showlegend": true,
         "type": "bar",
         "x": [
          "Sulawesi, 2022"
         ],
         "xaxis": "x2",
         "y": [
          61099
         ],
         "yaxis": "y2"
        },
        {
         "customdata": [
          [
           "Sumatera",
           2022
          ]
         ],
         "hovertemplate": "Category: Total Cases<br>Pulau: %{customdata[0]}<br>Tahun: %{customdata[1]}<br>Value: %{y:.2f}<extra></extra>",
         "marker": {
          "color": "rgb(162, 76, 77)"
         },
         "name": "Sumatera, Total Cases, 2022",
         "showlegend": true,
         "type": "bar",
         "x": [
          "Sumatera, 2022"
         ],
         "xaxis": "x2",
         "y": [
          158866
         ],
         "yaxis": "y2"
        },
        {
         "customdata": [
          [
           "Jawa",
           2020
          ]
         ],
         "hovertemplate": "Category: Total Deaths<br>Pulau: %{customdata[0]}<br>Tahun: %{customdata[1]}<br>Value: %{y:.2f}<extra></extra>",
         "marker": {
          "color": "rgb(135, 176, 241)"
         },
         "name": "Jawa, Total Deaths, 2020",
         "showlegend": true,
         "type": "bar",
         "x": [
          "Jawa, 2020"
         ],
         "xaxis": "x2",
         "y": [
          6399
         ],
         "yaxis": "y2"
        },
        {
         "customdata": [
          [
           "Kalimantan",
           2020
          ]
         ],
         "hovertemplate": "Category: Total Deaths<br>Pulau: %{customdata[0]}<br>Tahun: %{customdata[1]}<br>Value: %{y:.2f}<extra></extra>",
         "marker": {
          "color": "rgb(179, 141, 51)"
         },
         "name": "Kalimantan, Total Deaths, 2020",
         "showlegend": true,
         "type": "bar",
         "x": [
          "Kalimantan, 2020"
         ],
         "xaxis": "x2",
         "y": [
          57
         ],
         "yaxis": "y2"
        },
        {
         "customdata": [
          [
           "Maluku",
           2020
          ]
         ],
         "hovertemplate": "Category: Total Deaths<br>Pulau: %{customdata[0]}<br>Tahun: %{customdata[1]}<br>Value: %{y:.2f}<extra></extra>",
         "marker": {
          "color": "rgb(104, 2, 159)"
         },
         "name": "Maluku, Total Deaths, 2020",
         "showlegend": true,
         "type": "bar",
         "x": [
          "Maluku, 2020"
         ],
         "xaxis": "x2",
         "y": [
          72
         ],
         "yaxis": "y2"
        },
        {
         "customdata": [
          [
           "Nusa Tenggara",
           2020
          ]
         ],
         "hovertemplate": "Category: Total Deaths<br>Pulau: %{customdata[0]}<br>Tahun: %{customdata[1]}<br>Value: %{y:.2f}<extra></extra>",
         "marker": {
          "color": "rgb(205, 165, 62)"
         },
         "name": "Nusa Tenggara, Total Deaths, 2020",
         "showlegend": true,
         "type": "bar",
         "x": [
          "Nusa Tenggara, 2020"
         ],
         "xaxis": "x2",
         "y": [
          516
         ],
         "yaxis": "y2"
        },
        {
         "customdata": [
          [
           "Papua",
           2020
          ]
         ],
         "hovertemplate": "Category: Total Deaths<br>Pulau: %{customdata[0]}<br>Tahun: %{customdata[1]}<br>Value: %{y:.2f}<extra></extra>",
         "marker": {
          "color": "rgb(195, 105, 216)"
         },
         "name": "Papua, Total Deaths, 2020",
         "showlegend": true,
         "type": "bar",
         "x": [
          "Papua, 2020"
         ],
         "xaxis": "x2",
         "y": [
          99
         ],
         "yaxis": "y2"
        },
        {
         "customdata": [
          [
           "Sulawesi",
           2020
          ]
         ],
         "hovertemplate": "Category: Total Deaths<br>Pulau: %{customdata[0]}<br>Tahun: %{customdata[1]}<br>Value: %{y:.2f}<extra></extra>",
         "marker": {
          "color": "rgb(252, 68, 65)"
         },
         "name": "Sulawesi, Total Deaths, 2020",
         "showlegend": true,
         "type": "bar",
         "x": [
          "Sulawesi, 2020"
         ],
         "xaxis": "x2",
         "y": [
          104
         ],
         "yaxis": "y2"
        },
        {
         "customdata": [
          [
           "Sumatera",
           2020
          ]
         ],
         "hovertemplate": "Category: Total Deaths<br>Pulau: %{customdata[0]}<br>Tahun: %{customdata[1]}<br>Value: %{y:.2f}<extra></extra>",
         "marker": {
          "color": "rgb(173, 22, 201)"
         },
         "name": "Sumatera, Total Deaths, 2020",
         "showlegend": true,
         "type": "bar",
         "x": [
          "Sumatera, 2020"
         ],
         "xaxis": "x2",
         "y": [
          679
         ],
         "yaxis": "y2"
        },
        {
         "customdata": [
          [
           "Jawa",
           2021
          ]
         ],
         "hovertemplate": "Category: Total Deaths<br>Pulau: %{customdata[0]}<br>Tahun: %{customdata[1]}<br>Value: %{y:.2f}<extra></extra>",
         "marker": {
          "color": "rgb(135, 176, 241)"
         },
         "name": "Jawa, Total Deaths, 2021",
         "showlegend": true,
         "type": "bar",
         "x": [
          "Jawa, 2021"
         ],
         "xaxis": "x2",
         "y": [
          14756
         ],
         "yaxis": "y2"
        },
        {
         "customdata": [
          [
           "Kalimantan",
           2021
          ]
         ],
         "hovertemplate": "Category: Total Deaths<br>Pulau: %{customdata[0]}<br>Tahun: %{customdata[1]}<br>Value: %{y:.2f}<extra></extra>",
         "marker": {
          "color": "rgb(179, 141, 51)"
         },
         "name": "Kalimantan, Total Deaths, 2021",
         "showlegend": true,
         "type": "bar",
         "x": [
          "Kalimantan, 2021"
         ],
         "xaxis": "x2",
         "y": [
          1433
         ],
         "yaxis": "y2"
        },
        {
         "customdata": [
          [
           "Maluku",
           2021
          ]
         ],
         "hovertemplate": "Category: Total Deaths<br>Pulau: %{customdata[0]}<br>Tahun: %{customdata[1]}<br>Value: %{y:.2f}<extra></extra>",
         "marker": {
          "color": "rgb(104, 2, 159)"
         },
         "name": "Maluku, Total Deaths, 2021",
         "showlegend": true,
         "type": "bar",
         "x": [
          "Maluku, 2021"
         ],
         "xaxis": "x2",
         "y": [
          265
         ],
         "yaxis": "y2"
        },
        {
         "customdata": [
          [
           "Nusa Tenggara",
           2021
          ]
         ],
         "hovertemplate": "Category: Total Deaths<br>Pulau: %{customdata[0]}<br>Tahun: %{customdata[1]}<br>Value: %{y:.2f}<extra></extra>",
         "marker": {
          "color": "rgb(205, 165, 62)"
         },
         "name": "Nusa Tenggara, Total Deaths, 2021",
         "showlegend": true,
         "type": "bar",
         "x": [
          "Nusa Tenggara, 2021"
         ],
         "xaxis": "x2",
         "y": [
          4061
         ],
         "yaxis": "y2"
        },
        {
         "customdata": [
          [
           "Papua",
           2021
          ]
         ],
         "hovertemplate": "Category: Total Deaths<br>Pulau: %{customdata[0]}<br>Tahun: %{customdata[1]}<br>Value: %{y:.2f}<extra></extra>",
         "marker": {
          "color": "rgb(195, 105, 216)"
         },
         "name": "Papua, Total Deaths, 2021",
         "showlegend": true,
         "type": "bar",
         "x": [
          "Papua, 2021"
         ],
         "xaxis": "x2",
         "y": [
          357
         ],
         "yaxis": "y2"
        },
        {
         "customdata": [
          [
           "Sulawesi",
           2021
          ]
         ],
         "hovertemplate": "Category: Total Deaths<br>Pulau: %{customdata[0]}<br>Tahun: %{customdata[1]}<br>Value: %{y:.2f}<extra></extra>",
         "marker": {
          "color": "rgb(252, 68, 65)"
         },
         "name": "Sulawesi, Total Deaths, 2021",
         "showlegend": true,
         "type": "bar",
         "x": [
          "Sulawesi, 2021"
         ],
         "xaxis": "x2",
         "y": [
          1605
         ],
         "yaxis": "y2"
        },
        {
         "customdata": [
          [
           "Sumatera",
           2021
          ]
         ],
         "hovertemplate": "Category: Total Deaths<br>Pulau: %{customdata[0]}<br>Tahun: %{customdata[1]}<br>Value: %{y:.2f}<extra></extra>",
         "marker": {
          "color": "rgb(173, 22, 201)"
         },
         "name": "Sumatera, Total Deaths, 2021",
         "showlegend": true,
         "type": "bar",
         "x": [
          "Sumatera, 2021"
         ],
         "xaxis": "x2",
         "y": [
          2893
         ],
         "yaxis": "y2"
        },
        {
         "customdata": [
          [
           "Jawa",
           2022
          ]
         ],
         "hovertemplate": "Category: Total Deaths<br>Pulau: %{customdata[0]}<br>Tahun: %{customdata[1]}<br>Value: %{y:.2f}<extra></extra>",
         "marker": {
          "color": "rgb(135, 176, 241)"
         },
         "name": "Jawa, Total Deaths, 2022",
         "showlegend": true,
         "type": "bar",
         "x": [
          "Jawa, 2022"
         ],
         "xaxis": "x2",
         "y": [
          15937
         ],
         "yaxis": "y2"
        },
        {
         "customdata": [
          [
           "Kalimantan",
           2022
          ]
         ],
         "hovertemplate": "Category: Total Deaths<br>Pulau: %{customdata[0]}<br>Tahun: %{customdata[1]}<br>Value: %{y:.2f}<extra></extra>",
         "marker": {
          "color": "rgb(179, 141, 51)"
         },
         "name": "Kalimantan, Total Deaths, 2022",
         "showlegend": true,
         "type": "bar",
         "x": [
          "Kalimantan, 2022"
         ],
         "xaxis": "x2",
         "y": [
          1565
         ],
         "yaxis": "y2"
        },
        {
         "customdata": [
          [
           "Maluku",
           2022
          ]
         ],
         "hovertemplate": "Category: Total Deaths<br>Pulau: %{customdata[0]}<br>Tahun: %{customdata[1]}<br>Value: %{y:.2f}<extra></extra>",
         "marker": {
          "color": "rgb(104, 2, 159)"
         },
         "name": "Maluku, Total Deaths, 2022",
         "showlegend": true,
         "type": "bar",
         "x": [
          "Maluku, 2022"
         ],
         "xaxis": "x2",
         "y": [
          295
         ],
         "yaxis": "y2"
        },
        {
         "customdata": [
          [
           "Nusa Tenggara",
           2022
          ]
         ],
         "hovertemplate": "Category: Total Deaths<br>Pulau: %{customdata[0]}<br>Tahun: %{customdata[1]}<br>Value: %{y:.2f}<extra></extra>",
         "marker": {
          "color": "rgb(205, 165, 62)"
         },
         "name": "Nusa Tenggara, Total Deaths, 2022",
         "showlegend": true,
         "type": "bar",
         "x": [
          "Nusa Tenggara, 2022"
         ],
         "xaxis": "x2",
         "y": [
          1527
         ],
         "yaxis": "y2"
        },
        {
         "customdata": [
          [
           "Papua",
           2022
          ]
         ],
         "hovertemplate": "Category: Total Deaths<br>Pulau: %{customdata[0]}<br>Tahun: %{customdata[1]}<br>Value: %{y:.2f}<extra></extra>",
         "marker": {
          "color": "rgb(195, 105, 216)"
         },
         "name": "Papua, Total Deaths, 2022",
         "showlegend": true,
         "type": "bar",
         "x": [
          "Papua, 2022"
         ],
         "xaxis": "x2",
         "y": [
          385
         ],
         "yaxis": "y2"
        },
        {
         "customdata": [
          [
           "Sulawesi",
           2022
          ]
         ],
         "hovertemplate": "Category: Total Deaths<br>Pulau: %{customdata[0]}<br>Tahun: %{customdata[1]}<br>Value: %{y:.2f}<extra></extra>",
         "marker": {
          "color": "rgb(252, 68, 65)"
         },
         "name": "Sulawesi, Total Deaths, 2022",
         "showlegend": true,
         "type": "bar",
         "x": [
          "Sulawesi, 2022"
         ],
         "xaxis": "x2",
         "y": [
          1733
         ],
         "yaxis": "y2"
        },
        {
         "customdata": [
          [
           "Sumatera",
           2022
          ]
         ],
         "hovertemplate": "Category: Total Deaths<br>Pulau: %{customdata[0]}<br>Tahun: %{customdata[1]}<br>Value: %{y:.2f}<extra></extra>",
         "marker": {
          "color": "rgb(173, 22, 201)"
         },
         "name": "Sumatera, Total Deaths, 2022",
         "showlegend": true,
         "type": "bar",
         "x": [
          "Sumatera, 2022"
         ],
         "xaxis": "x2",
         "y": [
          3288
         ],
         "yaxis": "y2"
        },
        {
         "customdata": [
          [
           "Jawa",
           2020
          ]
         ],
         "hovertemplate": "Category: Total Recovered<br>Pulau: %{customdata[0]}<br>Tahun: %{customdata[1]}<br>Value: %{y:.2f}<extra></extra>",
         "marker": {
          "color": "rgb(126, 209, 65)"
         },
         "name": "Jawa, Total Recovered, 2020",
         "showlegend": true,
         "type": "bar",
         "x": [
          "Jawa, 2020"
         ],
         "xaxis": "x2",
         "y": [
          75172
         ],
         "yaxis": "y2"
        },
        {
         "customdata": [
          [
           "Kalimantan",
           2020
          ]
         ],
         "hovertemplate": "Category: Total Recovered<br>Pulau: %{customdata[0]}<br>Tahun: %{customdata[1]}<br>Value: %{y:.2f}<extra></extra>",
         "marker": {
          "color": "rgb(4, 199, 4)"
         },
         "name": "Kalimantan, Total Recovered, 2020",
         "showlegend": true,
         "type": "bar",
         "x": [
          "Kalimantan, 2020"
         ],
         "xaxis": "x2",
         "y": [
          2045
         ],
         "yaxis": "y2"
        },
        {
         "customdata": [
          [
           "Maluku",
           2020
          ]
         ],
         "hovertemplate": "Category: Total Recovered<br>Pulau: %{customdata[0]}<br>Tahun: %{customdata[1]}<br>Value: %{y:.2f}<extra></extra>",
         "marker": {
          "color": "rgb(13, 139, 30)"
         },
         "name": "Maluku, Total Recovered, 2020",
         "showlegend": true,
         "type": "bar",
         "x": [
          "Maluku, 2020"
         ],
         "xaxis": "x2",
         "y": [
          4558
         ],
         "yaxis": "y2"
        },
        {
         "customdata": [
          [
           "Nusa Tenggara",
           2020
          ]
         ],
         "hovertemplate": "Category: Total Recovered<br>Pulau: %{customdata[0]}<br>Tahun: %{customdata[1]}<br>Value: %{y:.2f}<extra></extra>",
         "marker": {
          "color": "rgb(31, 28, 173)"
         },
         "name": "Nusa Tenggara, Total Recovered, 2020",
         "showlegend": true,
         "type": "bar",
         "x": [
          "Nusa Tenggara, 2020"
         ],
         "xaxis": "x2",
         "y": [
          16147
         ],
         "yaxis": "y2"
        },
        {
         "customdata": [
          [
           "Papua",
           2020
          ]
         ],
         "hovertemplate": "Category: Total Recovered<br>Pulau: %{customdata[0]}<br>Tahun: %{customdata[1]}<br>Value: %{y:.2f}<extra></extra>",
         "marker": {
          "color": "rgb(54, 182, 54)"
         },
         "name": "Papua, Total Recovered, 2020",
         "showlegend": true,
         "type": "bar",
         "x": [
          "Papua, 2020"
         ],
         "xaxis": "x2",
         "y": [
          5450
         ],
         "yaxis": "y2"
        },
        {
         "customdata": [
          [
           "Sulawesi",
           2020
          ]
         ],
         "hovertemplate": "Category: Total Recovered<br>Pulau: %{customdata[0]}<br>Tahun: %{customdata[1]}<br>Value: %{y:.2f}<extra></extra>",
         "marker": {
          "color": "rgb(27, 191, 193)"
         },
         "name": "Sulawesi, Total Recovered, 2020",
         "showlegend": true,
         "type": "bar",
         "x": [
          "Sulawesi, 2020"
         ],
         "xaxis": "x2",
         "y": [
          3307
         ],
         "yaxis": "y2"
        },
        {
         "customdata": [
          [
           "Sumatera",
           2020
          ]
         ],
         "hovertemplate": "Category: Total Recovered<br>Pulau: %{customdata[0]}<br>Tahun: %{customdata[1]}<br>Value: %{y:.2f}<extra></extra>",
         "marker": {
          "color": "rgb(203, 185, 9)"
         },
         "name": "Sumatera, Total Recovered, 2020",
         "showlegend": true,
         "type": "bar",
         "x": [
          "Sumatera, 2020"
         ],
         "xaxis": "x2",
         "y": [
          15401
         ],
         "yaxis": "y2"
        },
        {
         "customdata": [
          [
           "Jawa",
           2021
          ]
         ],
         "hovertemplate": "Category: Total Recovered<br>Pulau: %{customdata[0]}<br>Tahun: %{customdata[1]}<br>Value: %{y:.2f}<extra></extra>",
         "marker": {
          "color": "rgb(126, 209, 65)"
         },
         "name": "Jawa, Total Recovered, 2021",
         "showlegend": true,
         "type": "bar",
         "x": [
          "Jawa, 2021"
         ],
         "xaxis": "x2",
         "y": [
          693628
         ],
         "yaxis": "y2"
        },
        {
         "customdata": [
          [
           "Kalimantan",
           2021
          ]
         ],
         "hovertemplate": "Category: Total Recovered<br>Pulau: %{customdata[0]}<br>Tahun: %{customdata[1]}<br>Value: %{y:.2f}<extra></extra>",
         "marker": {
          "color": "rgb(4, 199, 4)"
         },
         "name": "Kalimantan, Total Recovered, 2021",
         "showlegend": true,
         "type": "bar",
         "x": [
          "Kalimantan, 2021"
         ],
         "xaxis": "x2",
         "y": [
          44196
         ],
         "yaxis": "y2"
        },
        {
         "customdata": [
          [
           "Maluku",
           2021
          ]
         ],
         "hovertemplate": "Category: Total Recovered<br>Pulau: %{customdata[0]}<br>Tahun: %{customdata[1]}<br>Value: %{y:.2f}<extra></extra>",
         "marker": {
          "color": "rgb(13, 139, 30)"
         },
         "name": "Maluku, Total Recovered, 2021",
         "showlegend": true,
         "type": "bar",
         "x": [
          "Maluku, 2021"
         ],
         "xaxis": "x2",
         "y": [
          14325
         ],
         "yaxis": "y2"
        },
        {
         "customdata": [
          [
           "Nusa Tenggara",
           2021
          ]
         ],
         "hovertemplate": "Category: Total Recovered<br>Pulau: %{customdata[0]}<br>Tahun: %{customdata[1]}<br>Value: %{y:.2f}<extra></extra>",
         "marker": {
          "color": "rgb(31, 28, 173)"
         },
         "name": "Nusa Tenggara, Total Recovered, 2021",
         "showlegend": true,
         "type": "bar",
         "x": [
          "Nusa Tenggara, 2021"
         ],
         "xaxis": "x2",
         "y": [
          110273
         ],
         "yaxis": "y2"
        },
        {
         "customdata": [
          [
           "Papua",
           2021
          ]
         ],
         "hovertemplate": "Category: Total Recovered<br>Pulau: %{customdata[0]}<br>Tahun: %{customdata[1]}<br>Value: %{y:.2f}<extra></extra>",
         "marker": {
          "color": "rgb(54, 182, 54)"
         },
         "name": "Papua, Total Recovered, 2021",
         "showlegend": true,
         "type": "bar",
         "x": [
          "Papua, 2021"
         ],
         "xaxis": "x2",
         "y": [
          23194
         ],
         "yaxis": "y2"
        },
        {
         "customdata": [
          [
           "Sulawesi",
           2021
          ]
         ],
         "hovertemplate": "Category: Total Recovered<br>Pulau: %{customdata[0]}<br>Tahun: %{customdata[1]}<br>Value: %{y:.2f}<extra></extra>",
         "marker": {
          "color": "rgb(27, 191, 193)"
         },
         "name": "Sulawesi, Total Recovered, 2021",
         "showlegend": true,
         "type": "bar",
         "x": [
          "Sulawesi, 2021"
         ],
         "xaxis": "x2",
         "y": [
          45603
         ],
         "yaxis": "y2"
        },
        {
         "customdata": [
          [
           "Sumatera",
           2021
          ]
         ],
         "hovertemplate": "Category: Total Recovered<br>Pulau: %{customdata[0]}<br>Tahun: %{customdata[1]}<br>Value: %{y:.2f}<extra></extra>",
         "marker": {
          "color": "rgb(203, 185, 9)"
         },
         "name": "Sumatera, Total Recovered, 2021",
         "showlegend": true,
         "type": "bar",
         "x": [
          "Sumatera, 2021"
         ],
         "xaxis": "x2",
         "y": [
          103178
         ],
         "yaxis": "y2"
        },
        {
         "customdata": [
          [
           "Jawa",
           2022
          ]
         ],
         "hovertemplate": "Category: Total Recovered<br>Pulau: %{customdata[0]}<br>Tahun: %{customdata[1]}<br>Value: %{y:.2f}<extra></extra>",
         "marker": {
          "color": "rgb(126, 209, 65)"
         },
         "name": "Jawa, Total Recovered, 2022",
         "showlegend": true,
         "type": "bar",
         "x": [
          "Jawa, 2022"
         ],
         "xaxis": "x2",
         "y": [
          1144358
         ],
         "yaxis": "y2"
        },
        {
         "customdata": [
          [
           "Kalimantan",
           2022
          ]
         ],
         "hovertemplate": "Category: Total Recovered<br>Pulau: %{customdata[0]}<br>Tahun: %{customdata[1]}<br>Value: %{y:.2f}<extra></extra>",
         "marker": {
          "color": "rgb(4, 199, 4)"
         },
         "name": "Kalimantan, Total Recovered, 2022",
         "showlegend": true,
         "type": "bar",
         "x": [
          "Kalimantan, 2022"
         ],
         "xaxis": "x2",
         "y": [
          56473
         ],
         "yaxis": "y2"
        },
        {
         "customdata": [
          [
           "Maluku",
           2022
          ]
         ],
         "hovertemplate": "Category: Total Recovered<br>Pulau: %{customdata[0]}<br>Tahun: %{customdata[1]}<br>Value: %{y:.2f}<extra></extra>",
         "marker": {
          "color": "rgb(13, 139, 30)"
         },
         "name": "Maluku, Total Recovered, 2022",
         "showlegend": true,
         "type": "bar",
         "x": [
          "Maluku, 2022"
         ],
         "xaxis": "x2",
         "y": [
          18394
         ],
         "yaxis": "y2"
        },
        {
         "customdata": [
          [
           "Nusa Tenggara",
           2022
          ]
         ],
         "hovertemplate": "Category: Total Recovered<br>Pulau: %{customdata[0]}<br>Tahun: %{customdata[1]}<br>Value: %{y:.2f}<extra></extra>",
         "marker": {
          "color": "rgb(31, 28, 173)"
         },
         "name": "Nusa Tenggara, Total Recovered, 2022",
         "showlegend": true,
         "type": "bar",
         "x": [
          "Nusa Tenggara, 2022"
         ],
         "xaxis": "x2",
         "y": [
          92786
         ],
         "yaxis": "y2"
        },
        {
         "customdata": [
          [
           "Papua",
           2022
          ]
         ],
         "hovertemplate": "Category: Total Recovered<br>Pulau: %{customdata[0]}<br>Tahun: %{customdata[1]}<br>Value: %{y:.2f}<extra></extra>",
         "marker": {
          "color": "rgb(54, 182, 54)"
         },
         "name": "Papua, Total Recovered, 2022",
         "showlegend": true,
         "type": "bar",
         "x": [
          "Papua, 2022"
         ],
         "xaxis": "x2",
         "y": [
          31650
         ],
         "yaxis": "y2"
        },
        {
         "customdata": [
          [
           "Sulawesi",
           2022
          ]
         ],
         "hovertemplate": "Category: Total Recovered<br>Pulau: %{customdata[0]}<br>Tahun: %{customdata[1]}<br>Value: %{y:.2f}<extra></extra>",
         "marker": {
          "color": "rgb(27, 191, 193)"
         },
         "name": "Sulawesi, Total Recovered, 2022",
         "showlegend": true,
         "type": "bar",
         "x": [
          "Sulawesi, 2022"
         ],
         "xaxis": "x2",
         "y": [
          59276
         ],
         "yaxis": "y2"
        },
        {
         "customdata": [
          [
           "Sumatera",
           2022
          ]
         ],
         "hovertemplate": "Category: Total Recovered<br>Pulau: %{customdata[0]}<br>Tahun: %{customdata[1]}<br>Value: %{y:.2f}<extra></extra>",
         "marker": {
          "color": "rgb(203, 185, 9)"
         },
         "name": "Sumatera, Total Recovered, 2022",
         "showlegend": true,
         "type": "bar",
         "x": [
          "Sumatera, 2022"
         ],
         "xaxis": "x2",
         "y": [
          154924
         ],
         "yaxis": "y2"
        },
        {
         "customdata": [
          [
           "Jawa",
           2020
          ]
         ],
         "hovertemplate": "Category: Total Active Cases<br>Pulau: %{customdata[0]}<br>Tahun: %{customdata[1]}<br>Value: %{y:.2f}<extra></extra>",
         "marker": {
          "color": "rgb(170, 208, 184)"
         },
         "name": "Jawa, Total Active Cases, 2020",
         "showlegend": true,
         "type": "bar",
         "x": [
          "Jawa, 2020"
         ],
         "xaxis": "x2",
         "y": [
          2839
         ],
         "yaxis": "y2"
        },
        {
         "customdata": [
          [
           "Kalimantan",
           2020
          ]
         ],
         "hovertemplate": "Category: Total Active Cases<br>Pulau: %{customdata[0]}<br>Tahun: %{customdata[1]}<br>Value: %{y:.2f}<extra></extra>",
         "marker": {
          "color": "rgb(109, 119, 211)"
         },
         "name": "Kalimantan, Total Active Cases, 2020",
         "showlegend": true,
         "type": "bar",
         "x": [
          "Kalimantan, 2020"
         ],
         "xaxis": "x2",
         "y": [
          1692
         ],
         "yaxis": "y2"
        },
        {
         "customdata": [
          [
           "Maluku",
           2020
          ]
         ],
         "hovertemplate": "Category: Total Active Cases<br>Pulau: %{customdata[0]}<br>Tahun: %{customdata[1]}<br>Value: %{y:.2f}<extra></extra>",
         "marker": {
          "color": "rgb(18, 2, 185)"
         },
         "name": "Maluku, Total Active Cases, 2020",
         "showlegend": true,
         "type": "bar",
         "x": [
          "Maluku, 2020"
         ],
         "xaxis": "x2",
         "y": [
          1092
         ],
         "yaxis": "y2"
        },
        {
         "customdata": [
          [
           "Nusa Tenggara",
           2020
          ]
         ],
         "hovertemplate": "Category: Total Active Cases<br>Pulau: %{customdata[0]}<br>Tahun: %{customdata[1]}<br>Value: %{y:.2f}<extra></extra>",
         "marker": {
          "color": "rgb(69, 214, 157)"
         },
         "name": "Nusa Tenggara, Total Active Cases, 2020",
         "showlegend": true,
         "type": "bar",
         "x": [
          "Nusa Tenggara, 2020"
         ],
         "xaxis": "x2",
         "y": [
          930
         ],
         "yaxis": "y2"
        },
        {
         "customdata": [
          [
           "Papua",
           2020
          ]
         ],
         "hovertemplate": "Category: Total Active Cases<br>Pulau: %{customdata[0]}<br>Tahun: %{customdata[1]}<br>Value: %{y:.2f}<extra></extra>",
         "marker": {
          "color": "rgb(82, 139, 48)"
         },
         "name": "Papua, Total Active Cases, 2020",
         "showlegend": true,
         "type": "bar",
         "x": [
          "Papua, 2020"
         ],
         "xaxis": "x2",
         "y": [
          430
         ],
         "yaxis": "y2"
        },
        {
         "customdata": [
          [
           "Sulawesi",
           2020
          ]
         ],
         "hovertemplate": "Category: Total Active Cases<br>Pulau: %{customdata[0]}<br>Tahun: %{customdata[1]}<br>Value: %{y:.2f}<extra></extra>",
         "marker": {
          "color": "rgb(104, 117, 177)"
         },
         "name": "Sulawesi, Total Active Cases, 2020",
         "showlegend": true,
         "type": "bar",
         "x": [
          "Sulawesi, 2020"
         ],
         "xaxis": "x2",
         "y": [
          429
         ],
         "yaxis": "y2"
        },
        {
         "customdata": [
          [
           "Sumatera",
           2020
          ]
         ],
         "hovertemplate": "Category: Total Active Cases<br>Pulau: %{customdata[0]}<br>Tahun: %{customdata[1]}<br>Value: %{y:.2f}<extra></extra>",
         "marker": {
          "color": "rgb(187, 190, 106)"
         },
         "name": "Sumatera, Total Active Cases, 2020",
         "showlegend": true,
         "type": "bar",
         "x": [
          "Sumatera, 2020"
         ],
         "xaxis": "x2",
         "y": [
          2069
         ],
         "yaxis": "y2"
        },
        {
         "customdata": [
          [
           "Jawa",
           2021
          ]
         ],
         "hovertemplate": "Category: Total Active Cases<br>Pulau: %{customdata[0]}<br>Tahun: %{customdata[1]}<br>Value: %{y:.2f}<extra></extra>",
         "marker": {
          "color": "rgb(170, 208, 184)"
         },
         "name": "Jawa, Total Active Cases, 2021",
         "showlegend": true,
         "type": "bar",
         "x": [
          "Jawa, 2021"
         ],
         "xaxis": "x2",
         "y": [
          466
         ],
         "yaxis": "y2"
        },
        {
         "customdata": [
          [
           "Kalimantan",
           2021
          ]
         ],
         "hovertemplate": "Category: Total Active Cases<br>Pulau: %{customdata[0]}<br>Tahun: %{customdata[1]}<br>Value: %{y:.2f}<extra></extra>",
         "marker": {
          "color": "rgb(109, 119, 211)"
         },
         "name": "Kalimantan, Total Active Cases, 2021",
         "showlegend": true,
         "type": "bar",
         "x": [
          "Kalimantan, 2021"
         ],
         "xaxis": "x2",
         "y": [
          31
         ],
         "yaxis": "y2"
        },
        {
         "customdata": [
          [
           "Maluku",
           2021
          ]
         ],
         "hovertemplate": "Category: Total Active Cases<br>Pulau: %{customdata[0]}<br>Tahun: %{customdata[1]}<br>Value: %{y:.2f}<extra></extra>",
         "marker": {
          "color": "rgb(18, 2, 185)"
         },
         "name": "Maluku, Total Active Cases, 2021",
         "showlegend": true,
         "type": "bar",
         "x": [
          "Maluku, 2021"
         ],
         "xaxis": "x2",
         "y": [
          6
         ],
         "yaxis": "y2"
        },
        {
         "customdata": [
          [
           "Nusa Tenggara",
           2021
          ]
         ],
         "hovertemplate": "Category: Total Active Cases<br>Pulau: %{customdata[0]}<br>Tahun: %{customdata[1]}<br>Value: %{y:.2f}<extra></extra>",
         "marker": {
          "color": "rgb(69, 214, 157)"
         },
         "name": "Nusa Tenggara, Total Active Cases, 2021",
         "showlegend": true,
         "type": "bar",
         "x": [
          "Nusa Tenggara, 2021"
         ],
         "xaxis": "x2",
         "y": [
          55
         ],
         "yaxis": "y2"
        },
        {
         "customdata": [
          [
           "Papua",
           2021
          ]
         ],
         "hovertemplate": "Category: Total Active Cases<br>Pulau: %{customdata[0]}<br>Tahun: %{customdata[1]}<br>Value: %{y:.2f}<extra></extra>",
         "marker": {
          "color": "rgb(82, 139, 48)"
         },
         "name": "Papua, Total Active Cases, 2021",
         "showlegend": true,
         "type": "bar",
         "x": [
          "Papua, 2021"
         ],
         "xaxis": "x2",
         "y": [
          109
         ],
         "yaxis": "y2"
        },
        {
         "customdata": [
          [
           "Sulawesi",
           2021
          ]
         ],
         "hovertemplate": "Category: Total Active Cases<br>Pulau: %{customdata[0]}<br>Tahun: %{customdata[1]}<br>Value: %{y:.2f}<extra></extra>",
         "marker": {
          "color": "rgb(104, 117, 177)"
         },
         "name": "Sulawesi, Total Active Cases, 2021",
         "showlegend": true,
         "type": "bar",
         "x": [
          "Sulawesi, 2021"
         ],
         "xaxis": "x2",
         "y": [
          45
         ],
         "yaxis": "y2"
        },
        {
         "customdata": [
          [
           "Sumatera",
           2021
          ]
         ],
         "hovertemplate": "Category: Total Active Cases<br>Pulau: %{customdata[0]}<br>Tahun: %{customdata[1]}<br>Value: %{y:.2f}<extra></extra>",
         "marker": {
          "color": "rgb(187, 190, 106)"
         },
         "name": "Sumatera, Total Active Cases, 2021",
         "showlegend": true,
         "type": "bar",
         "x": [
          "Sumatera, 2021"
         ],
         "xaxis": "x2",
         "y": [
          52
         ],
         "yaxis": "y2"
        },
        {
         "customdata": [
          [
           "Jawa",
           2022
          ]
         ],
         "hovertemplate": "Category: Total Active Cases<br>Pulau: %{customdata[0]}<br>Tahun: %{customdata[1]}<br>Value: %{y:.2f}<extra></extra>",
         "marker": {
          "color": "rgb(170, 208, 184)"
         },
         "name": "Jawa, Total Active Cases, 2022",
         "showlegend": true,
         "type": "bar",
         "x": [
          "Jawa, 2022"
         ],
         "xaxis": "x2",
         "y": [
          13436
         ],
         "yaxis": "y2"
        },
        {
         "customdata": [
          [
           "Kalimantan",
           2022
          ]
         ],
         "hovertemplate": "Category: Total Active Cases<br>Pulau: %{customdata[0]}<br>Tahun: %{customdata[1]}<br>Value: %{y:.2f}<extra></extra>",
         "marker": {
          "color": "rgb(109, 119, 211)"
         },
         "name": "Kalimantan, Total Active Cases, 2022",
         "showlegend": true,
         "type": "bar",
         "x": [
          "Kalimantan, 2022"
         ],
         "xaxis": "x2",
         "y": [
          179
         ],
         "yaxis": "y2"
        },
        {
         "customdata": [
          [
           "Maluku",
           2022
          ]
         ],
         "hovertemplate": "Category: Total Active Cases<br>Pulau: %{customdata[0]}<br>Tahun: %{customdata[1]}<br>Value: %{y:.2f}<extra></extra>",
         "marker": {
          "color": "rgb(18, 2, 185)"
         },
         "name": "Maluku, Total Active Cases, 2022",
         "showlegend": true,
         "type": "bar",
         "x": [
          "Maluku, 2022"
         ],
         "xaxis": "x2",
         "y": [
          47
         ],
         "yaxis": "y2"
        },
        {
         "customdata": [
          [
           "Nusa Tenggara",
           2022
          ]
         ],
         "hovertemplate": "Category: Total Active Cases<br>Pulau: %{customdata[0]}<br>Tahun: %{customdata[1]}<br>Value: %{y:.2f}<extra></extra>",
         "marker": {
          "color": "rgb(69, 214, 157)"
         },
         "name": "Nusa Tenggara, Total Active Cases, 2022",
         "showlegend": true,
         "type": "bar",
         "x": [
          "Nusa Tenggara, 2022"
         ],
         "xaxis": "x2",
         "y": [
          102
         ],
         "yaxis": "y2"
        },
        {
         "customdata": [
          [
           "Papua",
           2022
          ]
         ],
         "hovertemplate": "Category: Total Active Cases<br>Pulau: %{customdata[0]}<br>Tahun: %{customdata[1]}<br>Value: %{y:.2f}<extra></extra>",
         "marker": {
          "color": "rgb(82, 139, 48)"
         },
         "name": "Papua, Total Active Cases, 2022",
         "showlegend": true,
         "type": "bar",
         "x": [
          "Papua, 2022"
         ],
         "xaxis": "x2",
         "y": [
          135
         ],
         "yaxis": "y2"
        },
        {
         "customdata": [
          [
           "Sulawesi",
           2022
          ]
         ],
         "hovertemplate": "Category: Total Active Cases<br>Pulau: %{customdata[0]}<br>Tahun: %{customdata[1]}<br>Value: %{y:.2f}<extra></extra>",
         "marker": {
          "color": "rgb(104, 117, 177)"
         },
         "name": "Sulawesi, Total Active Cases, 2022",
         "showlegend": true,
         "type": "bar",
         "x": [
          "Sulawesi, 2022"
         ],
         "xaxis": "x2",
         "y": [
          90
         ],
         "yaxis": "y2"
        },
        {
         "customdata": [
          [
           "Sumatera",
           2022
          ]
         ],
         "hovertemplate": "Category: Total Active Cases<br>Pulau: %{customdata[0]}<br>Tahun: %{customdata[1]}<br>Value: %{y:.2f}<extra></extra>",
         "marker": {
          "color": "rgb(187, 190, 106)"
         },
         "name": "Sumatera, Total Active Cases, 2022",
         "showlegend": true,
         "type": "bar",
         "x": [
          "Sumatera, 2022"
         ],
         "xaxis": "x2",
         "y": [
          654
         ],
         "yaxis": "y2"
        }
       ],
       "layout": {
        "annotations": [
         {
          "font": {
           "size": 16
          },
          "showarrow": false,
          "text": "Pertumbuhan Kasus",
          "x": 0.225,
          "xanchor": "center",
          "xref": "paper",
          "y": 1,
          "yanchor": "bottom",
          "yref": "paper"
         },
         {
          "font": {
           "size": 16
          },
          "showarrow": false,
          "text": "Total Pertumbuhan Kasus",
          "x": 0.775,
          "xanchor": "center",
          "xref": "paper",
          "y": 1,
          "yanchor": "bottom",
          "yref": "paper"
         }
        ],
        "barmode": "stack",
        "shapes": [
         {
          "line": {
           "color": "black",
           "width": 1
          },
          "type": "line",
          "x0": 6.5,
          "x1": 6.5,
          "xref": "x",
          "y0": -0.05,
          "y1": 0.05,
          "yref": "y domain"
         },
         {
          "line": {
           "color": "black",
           "width": 1
          },
          "type": "line",
          "x0": 6.5,
          "x1": 6.5,
          "xref": "x2",
          "y0": -0.05,
          "y1": 0.05,
          "yref": "y2 domain"
         },
         {
          "line": {
           "color": "black",
           "width": 1
          },
          "type": "line",
          "x0": 13.5,
          "x1": 13.5,
          "xref": "x",
          "y0": -0.05,
          "y1": 0.05,
          "yref": "y domain"
         },
         {
          "line": {
           "color": "black",
           "width": 1
          },
          "type": "line",
          "x0": 13.5,
          "x1": 13.5,
          "xref": "x2",
          "y0": -0.05,
          "y1": 0.05,
          "yref": "y2 domain"
         }
        ],
        "template": {
         "data": {
          "bar": [
           {
            "error_x": {
             "color": "#2a3f5f"
            },
            "error_y": {
             "color": "#2a3f5f"
            },
            "marker": {
             "line": {
              "color": "#E5ECF6",
              "width": 0.5
             },
             "pattern": {
              "fillmode": "overlay",
              "size": 10,
              "solidity": 0.2
             }
            },
            "type": "bar"
           }
          ],
          "barpolar": [
           {
            "marker": {
             "line": {
              "color": "#E5ECF6",
              "width": 0.5
             },
             "pattern": {
              "fillmode": "overlay",
              "size": 10,
              "solidity": 0.2
             }
            },
            "type": "barpolar"
           }
          ],
          "carpet": [
           {
            "aaxis": {
             "endlinecolor": "#2a3f5f",
             "gridcolor": "white",
             "linecolor": "white",
             "minorgridcolor": "white",
             "startlinecolor": "#2a3f5f"
            },
            "baxis": {
             "endlinecolor": "#2a3f5f",
             "gridcolor": "white",
             "linecolor": "white",
             "minorgridcolor": "white",
             "startlinecolor": "#2a3f5f"
            },
            "type": "carpet"
           }
          ],
          "choropleth": [
           {
            "colorbar": {
             "outlinewidth": 0,
             "ticks": ""
            },
            "type": "choropleth"
           }
          ],
          "contour": [
           {
            "colorbar": {
             "outlinewidth": 0,
             "ticks": ""
            },
            "colorscale": [
             [
              0,
              "#0d0887"
             ],
             [
              0.1111111111111111,
              "#46039f"
             ],
             [
              0.2222222222222222,
              "#7201a8"
             ],
             [
              0.3333333333333333,
              "#9c179e"
             ],
             [
              0.4444444444444444,
              "#bd3786"
             ],
             [
              0.5555555555555556,
              "#d8576b"
             ],
             [
              0.6666666666666666,
              "#ed7953"
             ],
             [
              0.7777777777777778,
              "#fb9f3a"
             ],
             [
              0.8888888888888888,
              "#fdca26"
             ],
             [
              1,
              "#f0f921"
             ]
            ],
            "type": "contour"
           }
          ],
          "contourcarpet": [
           {
            "colorbar": {
             "outlinewidth": 0,
             "ticks": ""
            },
            "type": "contourcarpet"
           }
          ],
          "heatmap": [
           {
            "colorbar": {
             "outlinewidth": 0,
             "ticks": ""
            },
            "colorscale": [
             [
              0,
              "#0d0887"
             ],
             [
              0.1111111111111111,
              "#46039f"
             ],
             [
              0.2222222222222222,
              "#7201a8"
             ],
             [
              0.3333333333333333,
              "#9c179e"
             ],
             [
              0.4444444444444444,
              "#bd3786"
             ],
             [
              0.5555555555555556,
              "#d8576b"
             ],
             [
              0.6666666666666666,
              "#ed7953"
             ],
             [
              0.7777777777777778,
              "#fb9f3a"
             ],
             [
              0.8888888888888888,
              "#fdca26"
             ],
             [
              1,
              "#f0f921"
             ]
            ],
            "type": "heatmap"
           }
          ],
          "heatmapgl": [
           {
            "colorbar": {
             "outlinewidth": 0,
             "ticks": ""
            },
            "colorscale": [
             [
              0,
              "#0d0887"
             ],
             [
              0.1111111111111111,
              "#46039f"
             ],
             [
              0.2222222222222222,
              "#7201a8"
             ],
             [
              0.3333333333333333,
              "#9c179e"
             ],
             [
              0.4444444444444444,
              "#bd3786"
             ],
             [
              0.5555555555555556,
              "#d8576b"
             ],
             [
              0.6666666666666666,
              "#ed7953"
             ],
             [
              0.7777777777777778,
              "#fb9f3a"
             ],
             [
              0.8888888888888888,
              "#fdca26"
             ],
             [
              1,
              "#f0f921"
             ]
            ],
            "type": "heatmapgl"
           }
          ],
          "histogram": [
           {
            "marker": {
             "pattern": {
              "fillmode": "overlay",
              "size": 10,
              "solidity": 0.2
             }
            },
            "type": "histogram"
           }
          ],
          "histogram2d": [
           {
            "colorbar": {
             "outlinewidth": 0,
             "ticks": ""
            },
            "colorscale": [
             [
              0,
              "#0d0887"
             ],
             [
              0.1111111111111111,
              "#46039f"
             ],
             [
              0.2222222222222222,
              "#7201a8"
             ],
             [
              0.3333333333333333,
              "#9c179e"
             ],
             [
              0.4444444444444444,
              "#bd3786"
             ],
             [
              0.5555555555555556,
              "#d8576b"
             ],
             [
              0.6666666666666666,
              "#ed7953"
             ],
             [
              0.7777777777777778,
              "#fb9f3a"
             ],
             [
              0.8888888888888888,
              "#fdca26"
             ],
             [
              1,
              "#f0f921"
             ]
            ],
            "type": "histogram2d"
           }
          ],
          "histogram2dcontour": [
           {
            "colorbar": {
             "outlinewidth": 0,
             "ticks": ""
            },
            "colorscale": [
             [
              0,
              "#0d0887"
             ],
             [
              0.1111111111111111,
              "#46039f"
             ],
             [
              0.2222222222222222,
              "#7201a8"
             ],
             [
              0.3333333333333333,
              "#9c179e"
             ],
             [
              0.4444444444444444,
              "#bd3786"
             ],
             [
              0.5555555555555556,
              "#d8576b"
             ],
             [
              0.6666666666666666,
              "#ed7953"
             ],
             [
              0.7777777777777778,
              "#fb9f3a"
             ],
             [
              0.8888888888888888,
              "#fdca26"
             ],
             [
              1,
              "#f0f921"
             ]
            ],
            "type": "histogram2dcontour"
           }
          ],
          "mesh3d": [
           {
            "colorbar": {
             "outlinewidth": 0,
             "ticks": ""
            },
            "type": "mesh3d"
           }
          ],
          "parcoords": [
           {
            "line": {
             "colorbar": {
              "outlinewidth": 0,
              "ticks": ""
             }
            },
            "type": "parcoords"
           }
          ],
          "pie": [
           {
            "automargin": true,
            "type": "pie"
           }
          ],
          "scatter": [
           {
            "fillpattern": {
             "fillmode": "overlay",
             "size": 10,
             "solidity": 0.2
            },
            "type": "scatter"
           }
          ],
          "scatter3d": [
           {
            "line": {
             "colorbar": {
              "outlinewidth": 0,
              "ticks": ""
             }
            },
            "marker": {
             "colorbar": {
              "outlinewidth": 0,
              "ticks": ""
             }
            },
            "type": "scatter3d"
           }
          ],
          "scattercarpet": [
           {
            "marker": {
             "colorbar": {
              "outlinewidth": 0,
              "ticks": ""
             }
            },
            "type": "scattercarpet"
           }
          ],
          "scattergeo": [
           {
            "marker": {
             "colorbar": {
              "outlinewidth": 0,
              "ticks": ""
             }
            },
            "type": "scattergeo"
           }
          ],
          "scattergl": [
           {
            "marker": {
             "colorbar": {
              "outlinewidth": 0,
              "ticks": ""
             }
            },
            "type": "scattergl"
           }
          ],
          "scattermapbox": [
           {
            "marker": {
             "colorbar": {
              "outlinewidth": 0,
              "ticks": ""
             }
            },
            "type": "scattermapbox"
           }
          ],
          "scatterpolar": [
           {
            "marker": {
             "colorbar": {
              "outlinewidth": 0,
              "ticks": ""
             }
            },
            "type": "scatterpolar"
           }
          ],
          "scatterpolargl": [
           {
            "marker": {
             "colorbar": {
              "outlinewidth": 0,
              "ticks": ""
             }
            },
            "type": "scatterpolargl"
           }
          ],
          "scatterternary": [
           {
            "marker": {
             "colorbar": {
              "outlinewidth": 0,
              "ticks": ""
             }
            },
            "type": "scatterternary"
           }
          ],
          "surface": [
           {
            "colorbar": {
             "outlinewidth": 0,
             "ticks": ""
            },
            "colorscale": [
             [
              0,
              "#0d0887"
             ],
             [
              0.1111111111111111,
              "#46039f"
             ],
             [
              0.2222222222222222,
              "#7201a8"
             ],
             [
              0.3333333333333333,
              "#9c179e"
             ],
             [
              0.4444444444444444,
              "#bd3786"
             ],
             [
              0.5555555555555556,
              "#d8576b"
             ],
             [
              0.6666666666666666,
              "#ed7953"
             ],
             [
              0.7777777777777778,
              "#fb9f3a"
             ],
             [
              0.8888888888888888,
              "#fdca26"
             ],
             [
              1,
              "#f0f921"
             ]
            ],
            "type": "surface"
           }
          ],
          "table": [
           {
            "cells": {
             "fill": {
              "color": "#EBF0F8"
             },
             "line": {
              "color": "white"
             }
            },
            "header": {
             "fill": {
              "color": "#C8D4E3"
             },
             "line": {
              "color": "white"
             }
            },
            "type": "table"
           }
          ]
         },
         "layout": {
          "annotationdefaults": {
           "arrowcolor": "#2a3f5f",
           "arrowhead": 0,
           "arrowwidth": 1
          },
          "autotypenumbers": "strict",
          "coloraxis": {
           "colorbar": {
            "outlinewidth": 0,
            "ticks": ""
           }
          },
          "colorscale": {
           "diverging": [
            [
             0,
             "#8e0152"
            ],
            [
             0.1,
             "#c51b7d"
            ],
            [
             0.2,
             "#de77ae"
            ],
            [
             0.3,
             "#f1b6da"
            ],
            [
             0.4,
             "#fde0ef"
            ],
            [
             0.5,
             "#f7f7f7"
            ],
            [
             0.6,
             "#e6f5d0"
            ],
            [
             0.7,
             "#b8e186"
            ],
            [
             0.8,
             "#7fbc41"
            ],
            [
             0.9,
             "#4d9221"
            ],
            [
             1,
             "#276419"
            ]
           ],
           "sequential": [
            [
             0,
             "#0d0887"
            ],
            [
             0.1111111111111111,
             "#46039f"
            ],
            [
             0.2222222222222222,
             "#7201a8"
            ],
            [
             0.3333333333333333,
             "#9c179e"
            ],
            [
             0.4444444444444444,
             "#bd3786"
            ],
            [
             0.5555555555555556,
             "#d8576b"
            ],
            [
             0.6666666666666666,
             "#ed7953"
            ],
            [
             0.7777777777777778,
             "#fb9f3a"
            ],
            [
             0.8888888888888888,
             "#fdca26"
            ],
            [
             1,
             "#f0f921"
            ]
           ],
           "sequentialminus": [
            [
             0,
             "#0d0887"
            ],
            [
             0.1111111111111111,
             "#46039f"
            ],
            [
             0.2222222222222222,
             "#7201a8"
            ],
            [
             0.3333333333333333,
             "#9c179e"
            ],
            [
             0.4444444444444444,
             "#bd3786"
            ],
            [
             0.5555555555555556,
             "#d8576b"
            ],
            [
             0.6666666666666666,
             "#ed7953"
            ],
            [
             0.7777777777777778,
             "#fb9f3a"
            ],
            [
             0.8888888888888888,
             "#fdca26"
            ],
            [
             1,
             "#f0f921"
            ]
           ]
          },
          "colorway": [
           "#636efa",
           "#EF553B",
           "#00cc96",
           "#ab63fa",
           "#FFA15A",
           "#19d3f3",
           "#FF6692",
           "#B6E880",
           "#FF97FF",
           "#FECB52"
          ],
          "font": {
           "color": "#2a3f5f"
          },
          "geo": {
           "bgcolor": "white",
           "lakecolor": "white",
           "landcolor": "#E5ECF6",
           "showlakes": true,
           "showland": true,
           "subunitcolor": "white"
          },
          "hoverlabel": {
           "align": "left"
          },
          "hovermode": "closest",
          "mapbox": {
           "style": "light"
          },
          "paper_bgcolor": "white",
          "plot_bgcolor": "#E5ECF6",
          "polar": {
           "angularaxis": {
            "gridcolor": "white",
            "linecolor": "white",
            "ticks": ""
           },
           "bgcolor": "#E5ECF6",
           "radialaxis": {
            "gridcolor": "white",
            "linecolor": "white",
            "ticks": ""
           }
          },
          "scene": {
           "xaxis": {
            "backgroundcolor": "#E5ECF6",
            "gridcolor": "white",
            "gridwidth": 2,
            "linecolor": "white",
            "showbackground": true,
            "ticks": "",
            "zerolinecolor": "white"
           },
           "yaxis": {
            "backgroundcolor": "#E5ECF6",
            "gridcolor": "white",
            "gridwidth": 2,
            "linecolor": "white",
            "showbackground": true,
            "ticks": "",
            "zerolinecolor": "white"
           },
           "zaxis": {
            "backgroundcolor": "#E5ECF6",
            "gridcolor": "white",
            "gridwidth": 2,
            "linecolor": "white",
            "showbackground": true,
            "ticks": "",
            "zerolinecolor": "white"
           }
          },
          "shapedefaults": {
           "line": {
            "color": "#2a3f5f"
           }
          },
          "ternary": {
           "aaxis": {
            "gridcolor": "white",
            "linecolor": "white",
            "ticks": ""
           },
           "baxis": {
            "gridcolor": "white",
            "linecolor": "white",
            "ticks": ""
           },
           "bgcolor": "#E5ECF6",
           "caxis": {
            "gridcolor": "white",
            "linecolor": "white",
            "ticks": ""
           }
          },
          "title": {
           "x": 0.05
          },
          "xaxis": {
           "automargin": true,
           "gridcolor": "white",
           "linecolor": "white",
           "ticks": "",
           "title": {
            "standoff": 15
           },
           "zerolinecolor": "white",
           "zerolinewidth": 2
          },
          "yaxis": {
           "automargin": true,
           "gridcolor": "white",
           "linecolor": "white",
           "ticks": "",
           "title": {
            "standoff": 15
           },
           "zerolinecolor": "white",
           "zerolinewidth": 2
          }
         }
        },
        "title": {
         "text": "Rincian Kasus Covid di Pulau Indonesia pada Tahun 2020 - 2022"
        },
        "xaxis": {
         "anchor": "y",
         "domain": [
          0,
          0.45
         ],
         "ticktext": [
          "2020",
          "2021",
          "2022"
         ],
         "tickvals": [
          3,
          10,
          17
         ],
         "title": {
          "text": "Tahun"
         },
         "type": "category"
        },
        "xaxis2": {
         "anchor": "y2",
         "domain": [
          0.55,
          1
         ],
         "ticktext": [
          "2020",
          "2021",
          "2022"
         ],
         "tickvals": [
          3,
          10,
          17
         ],
         "title": {
          "text": "Tahun"
         },
         "type": "category"
        },
        "yaxis": {
         "anchor": "x",
         "domain": [
          0,
          1
         ],
         "title": {
          "text": "Jumlah"
         }
        },
        "yaxis2": {
         "anchor": "x2",
         "domain": [
          0,
          1
         ],
         "title": {
          "text": "Jumlah"
         }
        }
       }
      }
     },
     "metadata": {},
     "output_type": "display_data"
    }
   ],
   "source": [
    "\n",
    "values_1 = analisis_3.iloc[:, 2:6]\n",
    "values_2 = analisis_3.iloc[:, 13:17]\n",
    "tick_positions = []\n",
    "tick_labels = []\n",
    "\n",
    "for i, year in enumerate(analisis_3[\"Year\"].unique(), start=0):\n",
    "    tick_positions.append(7*i+3)\n",
    "    tick_labels.append(str(year))\n",
    "\n",
    "fig = make_subplots(rows=1, cols=2, subplot_titles=(\"Pertumbuhan Kasus\", \"Total Pertumbuhan Kasus\"))\n",
    "\n",
    "def generate_color_palette(categories):\n",
    "    colors = []\n",
    "    for i in range(categories):\n",
    "        color = f'rgb({np.random.randint(0, 256)}, {np.random.randint(0, 256)}, {np.random.randint(0, 256)})'\n",
    "        colors.append(color)\n",
    "    return colors\n",
    "\n",
    "color_palette_dict = {}\n",
    "\n",
    "legend_items = [] \n",
    "\n",
    "for col in values_1.columns:\n",
    "    for year in analisis_3[\"Year\"].unique():\n",
    "        island_data = analisis_3[analisis_3[\"Year\"] == year]\n",
    "        for island in analisis_3['Island'].unique():\n",
    "            island_data_subset = island_data[island_data[\"Island\"] == island]\n",
    "            num_categories = len(island_data_subset[col].unique())\n",
    "            # Generate color palette if not already generated for the island and category\n",
    "            if (island, col) not in color_palette_dict:\n",
    "                color_palette_dict[(island, col)] = generate_color_palette(num_categories)\n",
    "            color_palette = color_palette_dict[(island, col)]\n",
    "            for category, color in zip(island_data_subset[col].unique(), color_palette):\n",
    "                subset_by_category = island_data_subset[island_data_subset[col] == category]\n",
    "                fig.add_trace(go.Bar(x=island_data_subset['Island'] + ', ' + str(year), \n",
    "                                     y=subset_by_category[col], \n",
    "                                     name=f'{island}, {col}, {year}',\n",
    "                                     #legendgroup=f'{color}',\n",
    "                                     hovertemplate=f'Category: {col}<br>' +\n",
    "                                                   'Pulau: %{customdata[0]}<br>' +\n",
    "                                                   'Tahun: %{customdata[1]}<br>' +\n",
    "                                                   'Value: %{y:.2f}<extra></extra>',\n",
    "                                     customdata=subset_by_category[['Island', 'Year']],                                        \n",
    "                                     marker_color=color,\n",
    "                                     showlegend=True),\n",
    "                              row=1, col=1)\n",
    "\n",
    "for col in values_2.columns:\n",
    "    for year in analisis_3[\"Year\"].unique():\n",
    "        island_data = analisis_3[analisis_3[\"Year\"] == year]\n",
    "        for island in analisis_3['Island'].unique():\n",
    "            island_data_subset = island_data[island_data[\"Island\"] == island]\n",
    "            num_categories = len(island_data_subset[col].unique())\n",
    "            # Generate color palette if not already generated for the island and category\n",
    "            if (island, col) not in color_palette_dict:\n",
    "                color_palette_dict[(island, col)] = generate_color_palette(num_categories)\n",
    "            color_palette = color_palette_dict[(island, col)]\n",
    "            for category, color in zip(island_data_subset[col].unique(), color_palette):\n",
    "                subset_by_category = island_data_subset[island_data_subset[col] == category]\n",
    "                fig.add_trace(go.Bar(x=island_data_subset['Island'] + ', ' + str(year), \n",
    "                                     y=subset_by_category[col],                                      \n",
    "                                     name=f'{island}, {col}, {year}',\n",
    "                                     #legendgroup=f'{color}',\n",
    "                                     hovertemplate=f'Category: {col}<br>' +\n",
    "                                                   'Pulau: %{customdata[0]}<br>' +\n",
    "                                                   'Tahun: %{customdata[1]}<br>' +\n",
    "                                                   'Value: %{y:.2f}<extra></extra>',\n",
    "                                     customdata=subset_by_category[['Island', 'Year']],                                        \n",
    "                                     marker_color=color,\n",
    "                                     showlegend=True),\n",
    "                              row=1, col=2)\n",
    "\n",
    "for year in tick_positions[1:]:\n",
    "    fig.add_vline(x=year-3.5, line=dict(color=\"black\", width=1), y0=-0.05, y1=0.05)        \n",
    "\n",
    "fig.update_xaxes(title_text='Tahun', row=1, col=1, type='category', tickvals=tick_positions, ticktext=tick_labels)\n",
    "fig.update_xaxes(title_text='Tahun', row=1, col=2, type='category', tickvals=tick_positions, ticktext=tick_labels)\n",
    "fig.update_yaxes(title_text='Jumlah')\n",
    "fig.update_layout(title='Rincian Kasus Covid di Pulau Indonesia pada Tahun 2020 - 2022', barmode='stack')\n",
    "\n",
    "fig.write_html(\"g_7.html\")\n",
    "fig.show()"
   ]
  },
  {
   "cell_type": "code",
   "execution_count": 27,
   "metadata": {},
   "outputs": [
    {
     "data": {
      "application/vnd.plotly.v1+json": {
       "config": {
        "plotlyServerURL": "https://plot.ly"
       },
       "data": [
        {
         "customdata": [
          [
           147203954,
           21834.82,
           129442,
           "Jawa",
           2020
          ]
         ],
         "hovertemplate": "Category: New Cases per Million<br>Pulau: %{customdata[3]}<br>Tahun: %{customdata[4]}<br>Value: %{y:.2f}<br>Population: %{customdata[0]:.2f}<br>Population Density: %{customdata[1]:.2f}<br>Area (km2): %{customdata[2]:.2f}<br><extra></extra>",
         "marker": {
          "color": "rgb(217, 4, 43)"
         },
         "name": "Jawa, New Cases per Million, 2020",
         "showlegend": true,
         "type": "bar",
         "x": [
          "2020, Jawa"
         ],
         "xaxis": "x",
         "y": [
          28329.579999999998
         ],
         "yaxis": "y"
        },
        {
         "customdata": [
          [
           16216750,
           193.5,
           544151,
           "Kalimantan",
           2020
          ]
         ],
         "hovertemplate": "Category: New Cases per Million<br>Pulau: %{customdata[3]}<br>Tahun: %{customdata[4]}<br>Value: %{y:.2f}<br>Population: %{customdata[0]:.2f}<br>Population Density: %{customdata[1]:.2f}<br>Area (km2): %{customdata[2]:.2f}<br><extra></extra>",
         "marker": {
          "color": "rgb(201, 186, 172)"
         },
         "name": "Kalimantan, New Cases per Million, 2020",
         "showlegend": true,
         "type": "bar",
         "x": [
          "2020, Kalimantan"
         ],
         "xaxis": "x",
         "y": [
          21641.829999999973
         ],
         "yaxis": "y"
        },
        {
         "customdata": [
          [
           3154900,
           80.25999999999999,
           78897,
           "Maluku",
           2020
          ]
         ],
         "hovertemplate": "Category: New Cases per Million<br>Pulau: %{customdata[3]}<br>Tahun: %{customdata[4]}<br>Value: %{y:.2f}<br>Population: %{customdata[0]:.2f}<br>Population Density: %{customdata[1]:.2f}<br>Area (km2): %{customdata[2]:.2f}<br><extra></extra>",
         "marker": {
          "color": "rgb(46, 99, 165)"
         },
         "name": "Maluku, New Cases per Million, 2020",
         "showlegend": true,
         "type": "bar",
         "x": [
          "2020, Maluku"
         ],
         "xaxis": "x",
         "y": [
          5216.449999999995
         ],
         "yaxis": "y"
        },
        {
         "customdata": [
          [
           14897739,
           1124.27,
           73070,
           "Nusa Tenggara",
           2020
          ]
         ],
         "hovertemplate": "Category: New Cases per Million<br>Pulau: %{customdata[3]}<br>Tahun: %{customdata[4]}<br>Value: %{y:.2f}<br>Population: %{customdata[0]:.2f}<br>Population Density: %{customdata[1]:.2f}<br>Area (km2): %{customdata[2]:.2f}<br><extra></extra>",
         "marker": {
          "color": "rgb(29, 147, 197)"
         },
         "name": "Nusa Tenggara, New Cases per Million, 2020",
         "showlegend": true,
         "type": "bar",
         "x": [
          "2020, Nusa Tenggara"
         ],
         "xaxis": "x",
         "y": [
          5647.749999999997
         ],
         "yaxis": "y"
        },
        {
         "customdata": [
          [
           5481049,
           24.68,
           421991,
           "Papua",
           2020
          ]
         ],
         "hovertemplate": "Category: New Cases per Million<br>Pulau: %{customdata[3]}<br>Tahun: %{customdata[4]}<br>Value: %{y:.2f}<br>Population: %{customdata[0]:.2f}<br>Population Density: %{customdata[1]:.2f}<br>Area (km2): %{customdata[2]:.2f}<br><extra></extra>",
         "marker": {
          "color": "rgb(158, 232, 17)"
         },
         "name": "Papua, New Cases per Million, 2020",
         "showlegend": true,
         "type": "bar",
         "x": [
          "2020, Papua"
         ],
         "xaxis": "x",
         "y": [
          8284.88
         ],
         "yaxis": "y"
        },
        {
         "customdata": [
          [
           20400432,
           706.78,
           188562,
           "Sulawesi",
           2020
          ]
         ],
         "hovertemplate": "Category: New Cases per Million<br>Pulau: %{customdata[3]}<br>Tahun: %{customdata[4]}<br>Value: %{y:.2f}<br>Population: %{customdata[0]:.2f}<br>Population Density: %{customdata[1]:.2f}<br>Area (km2): %{customdata[2]:.2f}<br><extra></extra>",
         "marker": {
          "color": "rgb(132, 53, 173)"
         },
         "name": "Sulawesi, New Cases per Million, 2020",
         "showlegend": true,
         "type": "bar",
         "x": [
          "2020, Sulawesi"
         ],
         "xaxis": "x",
         "y": [
          15652.410000000022
         ],
         "yaxis": "y"
        },
        {
         "customdata": [
          [
           57830696,
           1337.37,
           480793,
           "Sumatera",
           2020
          ]
         ],
         "hovertemplate": "Category: New Cases per Million<br>Pulau: %{customdata[3]}<br>Tahun: %{customdata[4]}<br>Value: %{y:.2f}<br>Population: %{customdata[0]:.2f}<br>Population Density: %{customdata[1]:.2f}<br>Area (km2): %{customdata[2]:.2f}<br><extra></extra>",
         "marker": {
          "color": "rgb(133, 53, 252)"
         },
         "name": "Sumatera, New Cases per Million, 2020",
         "showlegend": true,
         "type": "bar",
         "x": [
          "2020, Sumatera"
         ],
         "xaxis": "x",
         "y": [
          21422.679999999986
         ],
         "yaxis": "y"
        },
        {
         "customdata": [
          [
           147203954,
           21834.82,
           129442,
           "Jawa",
           2021
          ]
         ],
         "hovertemplate": "Category: New Cases per Million<br>Pulau: %{customdata[3]}<br>Tahun: %{customdata[4]}<br>Value: %{y:.2f}<br>Population: %{customdata[0]:.2f}<br>Population Density: %{customdata[1]:.2f}<br>Area (km2): %{customdata[2]:.2f}<br><extra></extra>",
         "marker": {
          "color": "rgb(217, 4, 43)"
         },
         "name": "Jawa, New Cases per Million, 2021",
         "showlegend": true,
         "type": "bar",
         "x": [
          "2021, Jawa"
         ],
         "xaxis": "x",
         "y": [
          146039.8099999997
         ],
         "yaxis": "y"
        },
        {
         "customdata": [
          [
           16216750,
           193.5,
           544151,
           "Kalimantan",
           2021
          ]
         ],
         "hovertemplate": "Category: New Cases per Million<br>Pulau: %{customdata[3]}<br>Tahun: %{customdata[4]}<br>Value: %{y:.2f}<br>Population: %{customdata[0]:.2f}<br>Population Density: %{customdata[1]:.2f}<br>Area (km2): %{customdata[2]:.2f}<br><extra></extra>",
         "marker": {
          "color": "rgb(201, 186, 172)"
         },
         "name": "Kalimantan, New Cases per Million, 2021",
         "showlegend": true,
         "type": "bar",
         "x": [
          "2021, Kalimantan"
         ],
         "xaxis": "x",
         "y": [
          121196.46999999986
         ],
         "yaxis": "y"
        },
        {
         "customdata": [
          [
           3154900,
           80.25999999999999,
           78897,
           "Maluku",
           2021
          ]
         ],
         "hovertemplate": "Category: New Cases per Million<br>Pulau: %{customdata[3]}<br>Tahun: %{customdata[4]}<br>Value: %{y:.2f}<br>Population: %{customdata[0]:.2f}<br>Population Density: %{customdata[1]:.2f}<br>Area (km2): %{customdata[2]:.2f}<br><extra></extra>",
         "marker": {
          "color": "rgb(46, 99, 165)"
         },
         "name": "Maluku, New Cases per Million, 2021",
         "showlegend": true,
         "type": "bar",
         "x": [
          "2021, Maluku"
         ],
         "xaxis": "x",
         "y": [
          11941.220000000047
         ],
         "yaxis": "y"
        },
        {
         "customdata": [
          [
           14897739,
           1124.27,
           73070,
           "Nusa Tenggara",
           2021
          ]
         ],
         "hovertemplate": "Category: New Cases per Million<br>Pulau: %{customdata[3]}<br>Tahun: %{customdata[4]}<br>Value: %{y:.2f}<br>Population: %{customdata[0]:.2f}<br>Population Density: %{customdata[1]:.2f}<br>Area (km2): %{customdata[2]:.2f}<br><extra></extra>",
         "marker": {
          "color": "rgb(29, 147, 197)"
         },
         "name": "Nusa Tenggara, New Cases per Million, 2021",
         "showlegend": true,
         "type": "bar",
         "x": [
          "2021, Nusa Tenggara"
         ],
         "xaxis": "x",
         "y": [
          38633.270000000026
         ],
         "yaxis": "y"
        },
        {
         "customdata": [
          [
           5481049,
           24.68,
           421991,
           "Papua",
           2021
          ]
         ],
         "hovertemplate": "Category: New Cases per Million<br>Pulau: %{customdata[3]}<br>Tahun: %{customdata[4]}<br>Value: %{y:.2f}<br>Population: %{customdata[0]:.2f}<br>Population Density: %{customdata[1]:.2f}<br>Area (km2): %{customdata[2]:.2f}<br><extra></extra>",
         "marker": {
          "color": "rgb(158, 232, 17)"
         },
         "name": "Papua, New Cases per Million, 2021",
         "showlegend": true,
         "type": "bar",
         "x": [
          "2021, Papua"
         ],
         "xaxis": "x",
         "y": [
          20376.379999999965
         ],
         "yaxis": "y"
        },
        {
         "customdata": [
          [
           20400432,
           706.78,
           188562,
           "Sulawesi",
           2021
          ]
         ],
         "hovertemplate": "Category: New Cases per Million<br>Pulau: %{customdata[3]}<br>Tahun: %{customdata[4]}<br>Value: %{y:.2f}<br>Population: %{customdata[0]:.2f}<br>Population Density: %{customdata[1]:.2f}<br>Area (km2): %{customdata[2]:.2f}<br><extra></extra>",
         "marker": {
          "color": "rgb(132, 53, 173)"
         },
         "name": "Sulawesi, New Cases per Million, 2021",
         "showlegend": true,
         "type": "bar",
         "x": [
          "2021, Sulawesi"
         ],
         "xaxis": "x",
         "y": [
          50795.21999999979
         ],
         "yaxis": "y"
        },
        {
         "customdata": [
          [
           57830696,
           1337.37,
           480793,
           "Sumatera",
           2021
          ]
         ],
         "hovertemplate": "Category: New Cases per Million<br>Pulau: %{customdata[3]}<br>Tahun: %{customdata[4]}<br>Value: %{y:.2f}<br>Population: %{customdata[0]:.2f}<br>Population Density: %{customdata[1]:.2f}<br>Area (km2): %{customdata[2]:.2f}<br><extra></extra>",
         "marker": {
          "color": "rgb(133, 53, 252)"
         },
         "name": "Sumatera, New Cases per Million, 2021",
         "showlegend": true,
         "type": "bar",
         "x": [
          "2021, Sumatera"
         ],
         "xaxis": "x",
         "y": [
          129443.57999999999
         ],
         "yaxis": "y"
        },
        {
         "customdata": [
          [
           147203954,
           21834.82,
           129442,
           "Jawa",
           2022
          ]
         ],
         "hovertemplate": "Category: New Cases per Million<br>Pulau: %{customdata[3]}<br>Tahun: %{customdata[4]}<br>Value: %{y:.2f}<br>Population: %{customdata[0]:.2f}<br>Population Density: %{customdata[1]:.2f}<br>Area (km2): %{customdata[2]:.2f}<br><extra></extra>",
         "marker": {
          "color": "rgb(217, 4, 43)"
         },
         "name": "Jawa, New Cases per Million, 2022",
         "showlegend": true,
         "type": "bar",
         "x": [
          "2022, Jawa"
         ],
         "xaxis": "x",
         "y": [
          107122.4900000002
         ],
         "yaxis": "y"
        },
        {
         "customdata": [
          [
           16216750,
           193.5,
           544151,
           "Kalimantan",
           2022
          ]
         ],
         "hovertemplate": "Category: New Cases per Million<br>Pulau: %{customdata[3]}<br>Tahun: %{customdata[4]}<br>Value: %{y:.2f}<br>Population: %{customdata[0]:.2f}<br>Population Density: %{customdata[1]:.2f}<br>Area (km2): %{customdata[2]:.2f}<br><extra></extra>",
         "marker": {
          "color": "rgb(201, 186, 172)"
         },
         "name": "Kalimantan, New Cases per Million, 2022",
         "showlegend": true,
         "type": "bar",
         "x": [
          "2022, Kalimantan"
         ],
         "xaxis": "x",
         "y": [
          42538.80999999992
         ],
         "yaxis": "y"
        },
        {
         "customdata": [
          [
           3154900,
           80.25999999999999,
           78897,
           "Maluku",
           2022
          ]
         ],
         "hovertemplate": "Category: New Cases per Million<br>Pulau: %{customdata[3]}<br>Tahun: %{customdata[4]}<br>Value: %{y:.2f}<br>Population: %{customdata[0]:.2f}<br>Population Density: %{customdata[1]:.2f}<br>Area (km2): %{customdata[2]:.2f}<br><extra></extra>",
         "marker": {
          "color": "rgb(46, 99, 165)"
         },
         "name": "Maluku, New Cases per Million, 2022",
         "showlegend": true,
         "type": "bar",
         "x": [
          "2022, Maluku"
         ],
         "xaxis": "x",
         "y": [
          4145.060000000004
         ],
         "yaxis": "y"
        },
        {
         "customdata": [
          [
           14897739,
           1124.27,
           73070,
           "Nusa Tenggara",
           2022
          ]
         ],
         "hovertemplate": "Category: New Cases per Million<br>Pulau: %{customdata[3]}<br>Tahun: %{customdata[4]}<br>Value: %{y:.2f}<br>Population: %{customdata[0]:.2f}<br>Population Density: %{customdata[1]:.2f}<br>Area (km2): %{customdata[2]:.2f}<br><extra></extra>",
         "marker": {
          "color": "rgb(29, 147, 197)"
         },
         "name": "Nusa Tenggara, New Cases per Million, 2022",
         "showlegend": true,
         "type": "bar",
         "x": [
          "2022, Nusa Tenggara"
         ],
         "xaxis": "x",
         "y": [
          19613.529999999908
         ],
         "yaxis": "y"
        },
        {
         "customdata": [
          [
           5481049,
           24.68,
           421991,
           "Papua",
           2022
          ]
         ],
         "hovertemplate": "Category: New Cases per Million<br>Pulau: %{customdata[3]}<br>Tahun: %{customdata[4]}<br>Value: %{y:.2f}<br>Population: %{customdata[0]:.2f}<br>Population Density: %{customdata[1]:.2f}<br>Area (km2): %{customdata[2]:.2f}<br><extra></extra>",
         "marker": {
          "color": "rgb(158, 232, 17)"
         },
         "name": "Papua, New Cases per Million, 2022",
         "showlegend": true,
         "type": "bar",
         "x": [
          "2022, Papua"
         ],
         "xaxis": "x",
         "y": [
          11043.539999999935
         ],
         "yaxis": "y"
        },
        {
         "customdata": [
          [
           20400432,
           706.78,
           188562,
           "Sulawesi",
           2022
          ]
         ],
         "hovertemplate": "Category: New Cases per Million<br>Pulau: %{customdata[3]}<br>Tahun: %{customdata[4]}<br>Value: %{y:.2f}<br>Population: %{customdata[0]:.2f}<br>Population Density: %{customdata[1]:.2f}<br>Area (km2): %{customdata[2]:.2f}<br><extra></extra>",
         "marker": {
          "color": "rgb(132, 53, 173)"
         },
         "name": "Sulawesi, New Cases per Million, 2022",
         "showlegend": true,
         "type": "bar",
         "x": [
          "2022, Sulawesi"
         ],
         "xaxis": "x",
         "y": [
          21093.84999999987
         ],
         "yaxis": "y"
        },
        {
         "customdata": [
          [
           57830696,
           1337.37,
           480793,
           "Sumatera",
           2022
          ]
         ],
         "hovertemplate": "Category: New Cases per Million<br>Pulau: %{customdata[3]}<br>Tahun: %{customdata[4]}<br>Value: %{y:.2f}<br>Population: %{customdata[0]:.2f}<br>Population Density: %{customdata[1]:.2f}<br>Area (km2): %{customdata[2]:.2f}<br><extra></extra>",
         "marker": {
          "color": "rgb(133, 53, 252)"
         },
         "name": "Sumatera, New Cases per Million, 2022",
         "showlegend": true,
         "type": "bar",
         "x": [
          "2022, Sumatera"
         ],
         "xaxis": "x",
         "y": [
          40925.770000000244
         ],
         "yaxis": "y"
        },
        {
         "customdata": [
          [
           147203954,
           21834.82,
           129442,
           "Jawa",
           2020
          ]
         ],
         "hovertemplate": "Category: New Deaths per Million<br>Pulau: %{customdata[3]}<br>Tahun: %{customdata[4]}<br>Value: %{y:.2f}<br>Population: %{customdata[0]:.2f}<br>Population Density: %{customdata[1]:.2f}<br>Area (km2): %{customdata[2]:.2f}<br><extra></extra>",
         "marker": {
          "color": "rgb(220, 45, 39)"
         },
         "name": "Jawa, New Deaths per Million, 2020",
         "showlegend": true,
         "type": "bar",
         "x": [
          "2020, Jawa"
         ],
         "xaxis": "x",
         "y": [
          707.9899999999993
         ],
         "yaxis": "y"
        },
        {
         "customdata": [
          [
           16216750,
           193.5,
           544151,
           "Kalimantan",
           2020
          ]
         ],
         "hovertemplate": "Category: New Deaths per Million<br>Pulau: %{customdata[3]}<br>Tahun: %{customdata[4]}<br>Value: %{y:.2f}<br>Population: %{customdata[0]:.2f}<br>Population Density: %{customdata[1]:.2f}<br>Area (km2): %{customdata[2]:.2f}<br><extra></extra>",
         "marker": {
          "color": "rgb(29, 62, 194)"
         },
         "name": "Kalimantan, New Deaths per Million, 2020",
         "showlegend": true,
         "type": "bar",
         "x": [
          "2020, Kalimantan"
         ],
         "xaxis": "x",
         "y": [
          524.1099999999994
         ],
         "yaxis": "y"
        },
        {
         "customdata": [
          [
           3154900,
           80.25999999999999,
           78897,
           "Maluku",
           2020
          ]
         ],
         "hovertemplate": "Category: New Deaths per Million<br>Pulau: %{customdata[3]}<br>Tahun: %{customdata[4]}<br>Value: %{y:.2f}<br>Population: %{customdata[0]:.2f}<br>Population Density: %{customdata[1]:.2f}<br>Area (km2): %{customdata[2]:.2f}<br><extra></extra>",
         "marker": {
          "color": "rgb(187, 127, 65)"
         },
         "name": "Maluku, New Deaths per Million, 2020",
         "showlegend": true,
         "type": "bar",
         "x": [
          "2020, Maluku"
         ],
         "xaxis": "x",
         "y": [
          106.2600000000002
         ],
         "yaxis": "y"
        },
        {
         "customdata": [
          [
           14897739,
           1124.27,
           73070,
           "Nusa Tenggara",
           2020
          ]
         ],
         "hovertemplate": "Category: New Deaths per Million<br>Pulau: %{customdata[3]}<br>Tahun: %{customdata[4]}<br>Value: %{y:.2f}<br>Population: %{customdata[0]:.2f}<br>Population Density: %{customdata[1]:.2f}<br>Area (km2): %{customdata[2]:.2f}<br><extra></extra>",
         "marker": {
          "color": "rgb(64, 41, 64)"
         },
         "name": "Nusa Tenggara, New Deaths per Million, 2020",
         "showlegend": true,
         "type": "bar",
         "x": [
          "2020, Nusa Tenggara"
         ],
         "xaxis": "x",
         "y": [
          180.90000000000012
         ],
         "yaxis": "y"
        },
        {
         "customdata": [
          [
           5481049,
           24.68,
           421991,
           "Papua",
           2020
          ]
         ],
         "hovertemplate": "Category: New Deaths per Million<br>Pulau: %{customdata[3]}<br>Tahun: %{customdata[4]}<br>Value: %{y:.2f}<br>Population: %{customdata[0]:.2f}<br>Population Density: %{customdata[1]:.2f}<br>Area (km2): %{customdata[2]:.2f}<br><extra></extra>",
         "marker": {
          "color": "rgb(47, 4, 131)"
         },
         "name": "Papua, New Deaths per Million, 2020",
         "showlegend": true,
         "type": "bar",
         "x": [
          "2020, Papua"
         ],
         "xaxis": "x",
         "y": [
          121.63
         ],
         "yaxis": "y"
        },
        {
         "customdata": [
          [
           20400432,
           706.78,
           188562,
           "Sulawesi",
           2020
          ]
         ],
         "hovertemplate": "Category: New Deaths per Million<br>Pulau: %{customdata[3]}<br>Tahun: %{customdata[4]}<br>Value: %{y:.2f}<br>Population: %{customdata[0]:.2f}<br>Population Density: %{customdata[1]:.2f}<br>Area (km2): %{customdata[2]:.2f}<br><extra></extra>",
         "marker": {
          "color": "rgb(133, 116, 211)"
         },
         "name": "Sulawesi, New Deaths per Million, 2020",
         "showlegend": true,
         "type": "bar",
         "x": [
          "2020, Sulawesi"
         ],
         "xaxis": "x",
         "y": [
          382.2799999999981
         ],
         "yaxis": "y"
        },
        {
         "customdata": [
          [
           57830696,
           1337.37,
           480793,
           "Sumatera",
           2020
          ]
         ],
         "hovertemplate": "Category: New Deaths per Million<br>Pulau: %{customdata[3]}<br>Tahun: %{customdata[4]}<br>Value: %{y:.2f}<br>Population: %{customdata[0]:.2f}<br>Population Density: %{customdata[1]:.2f}<br>Area (km2): %{customdata[2]:.2f}<br><extra></extra>",
         "marker": {
          "color": "rgb(161, 73, 88)"
         },
         "name": "Sumatera, New Deaths per Million, 2020",
         "showlegend": true,
         "type": "bar",
         "x": [
          "2020, Sumatera"
         ],
         "xaxis": "x",
         "y": [
          593.430000000002
         ],
         "yaxis": "y"
        },
        {
         "customdata": [
          [
           147203954,
           21834.82,
           129442,
           "Jawa",
           2021
          ]
         ],
         "hovertemplate": "Category: New Deaths per Million<br>Pulau: %{customdata[3]}<br>Tahun: %{customdata[4]}<br>Value: %{y:.2f}<br>Population: %{customdata[0]:.2f}<br>Population Density: %{customdata[1]:.2f}<br>Area (km2): %{customdata[2]:.2f}<br><extra></extra>",
         "marker": {
          "color": "rgb(220, 45, 39)"
         },
         "name": "Jawa, New Deaths per Million, 2021",
         "showlegend": true,
         "type": "bar",
         "x": [
          "2021, Jawa"
         ],
         "xaxis": "x",
         "y": [
          4141.750000000017
         ],
         "yaxis": "y"
        },
        {
         "customdata": [
          [
           16216750,
           193.5,
           544151,
           "Kalimantan",
           2021
          ]
         ],
         "hovertemplate": "Category: New Deaths per Million<br>Pulau: %{customdata[3]}<br>Tahun: %{customdata[4]}<br>Value: %{y:.2f}<br>Population: %{customdata[0]:.2f}<br>Population Density: %{customdata[1]:.2f}<br>Area (km2): %{customdata[2]:.2f}<br><extra></extra>",
         "marker": {
          "color": "rgb(29, 62, 194)"
         },
         "name": "Kalimantan, New Deaths per Million, 2021",
         "showlegend": true,
         "type": "bar",
         "x": [
          "2021, Kalimantan"
         ],
         "xaxis": "x",
         "y": [
          3608.4699999999925
         ],
         "yaxis": "y"
        },
        {
         "customdata": [
          [
           3154900,
           80.25999999999999,
           78897,
           "Maluku",
           2021
          ]
         ],
         "hovertemplate": "Category: New Deaths per Million<br>Pulau: %{customdata[3]}<br>Tahun: %{customdata[4]}<br>Value: %{y:.2f}<br>Population: %{customdata[0]:.2f}<br>Population Density: %{customdata[1]:.2f}<br>Area (km2): %{customdata[2]:.2f}<br><extra></extra>",
         "marker": {
          "color": "rgb(187, 127, 65)"
         },
         "name": "Maluku, New Deaths per Million, 2021",
         "showlegend": true,
         "type": "bar",
         "x": [
          "2021, Maluku"
         ],
         "xaxis": "x",
         "y": [
          267.7900000000001
         ],
         "yaxis": "y"
        },
        {
         "customdata": [
          [
           14897739,
           1124.27,
           73070,
           "Nusa Tenggara",
           2021
          ]
         ],
         "hovertemplate": "Category: New Deaths per Million<br>Pulau: %{customdata[3]}<br>Tahun: %{customdata[4]}<br>Value: %{y:.2f}<br>Population: %{customdata[0]:.2f}<br>Population Density: %{customdata[1]:.2f}<br>Area (km2): %{customdata[2]:.2f}<br><extra></extra>",
         "marker": {
          "color": "rgb(64, 41, 64)"
         },
         "name": "Nusa Tenggara, New Deaths per Million, 2021",
         "showlegend": true,
         "type": "bar",
         "x": [
          "2021, Nusa Tenggara"
         ],
         "xaxis": "x",
         "y": [
          1185.9700000000034
         ],
         "yaxis": "y"
        },
        {
         "customdata": [
          [
           5481049,
           24.68,
           421991,
           "Papua",
           2021
          ]
         ],
         "hovertemplate": "Category: New Deaths per Million<br>Pulau: %{customdata[3]}<br>Tahun: %{customdata[4]}<br>Value: %{y:.2f}<br>Population: %{customdata[0]:.2f}<br>Population Density: %{customdata[1]:.2f}<br>Area (km2): %{customdata[2]:.2f}<br><extra></extra>",
         "marker": {
          "color": "rgb(47, 4, 131)"
         },
         "name": "Papua, New Deaths per Million, 2021",
         "showlegend": true,
         "type": "bar",
         "x": [
          "2021, Papua"
         ],
         "xaxis": "x",
         "y": [
          319.3099999999999
         ],
         "yaxis": "y"
        },
        {
         "customdata": [
          [
           20400432,
           706.78,
           188562,
           "Sulawesi",
           2021
          ]
         ],
         "hovertemplate": "Category: New Deaths per Million<br>Pulau: %{customdata[3]}<br>Tahun: %{customdata[4]}<br>Value: %{y:.2f}<br>Population: %{customdata[0]:.2f}<br>Population Density: %{customdata[1]:.2f}<br>Area (km2): %{customdata[2]:.2f}<br><extra></extra>",
         "marker": {
          "color": "rgb(133, 116, 211)"
         },
         "name": "Sulawesi, New Deaths per Million, 2021",
         "showlegend": true,
         "type": "bar",
         "x": [
          "2021, Sulawesi"
         ],
         "xaxis": "x",
         "y": [
          1614.9600000000005
         ],
         "yaxis": "y"
        },
        {
         "customdata": [
          [
           57830696,
           1337.37,
           480793,
           "Sumatera",
           2021
          ]
         ],
         "hovertemplate": "Category: New Deaths per Million<br>Pulau: %{customdata[3]}<br>Tahun: %{customdata[4]}<br>Value: %{y:.2f}<br>Population: %{customdata[0]:.2f}<br>Population Density: %{customdata[1]:.2f}<br>Area (km2): %{customdata[2]:.2f}<br><extra></extra>",
         "marker": {
          "color": "rgb(161, 73, 88)"
         },
         "name": "Sumatera, New Deaths per Million, 2021",
         "showlegend": true,
         "type": "bar",
         "x": [
          "2021, Sumatera"
         ],
         "xaxis": "x",
         "y": [
          4288.439999999982
         ],
         "yaxis": "y"
        },
        {
         "customdata": [
          [
           147203954,
           21834.82,
           129442,
           "Jawa",
           2022
          ]
         ],
         "hovertemplate": "Category: New Deaths per Million<br>Pulau: %{customdata[3]}<br>Tahun: %{customdata[4]}<br>Value: %{y:.2f}<br>Population: %{customdata[0]:.2f}<br>Population Density: %{customdata[1]:.2f}<br>Area (km2): %{customdata[2]:.2f}<br><extra></extra>",
         "marker": {
          "color": "rgb(220, 45, 39)"
         },
         "name": "Jawa, New Deaths per Million, 2022",
         "showlegend": true,
         "type": "bar",
         "x": [
          "2022, Jawa"
         ],
         "xaxis": "x",
         "y": [
          541.559999999995
         ],
         "yaxis": "y"
        },
        {
         "customdata": [
          [
           16216750,
           193.5,
           544151,
           "Kalimantan",
           2022
          ]
         ],
         "hovertemplate": "Category: New Deaths per Million<br>Pulau: %{customdata[3]}<br>Tahun: %{customdata[4]}<br>Value: %{y:.2f}<br>Population: %{customdata[0]:.2f}<br>Population Density: %{customdata[1]:.2f}<br>Area (km2): %{customdata[2]:.2f}<br><extra></extra>",
         "marker": {
          "color": "rgb(29, 62, 194)"
         },
         "name": "Kalimantan, New Deaths per Million, 2022",
         "showlegend": true,
         "type": "bar",
         "x": [
          "2022, Kalimantan"
         ],
         "xaxis": "x",
         "y": [
          264.5099999999997
         ],
         "yaxis": "y"
        },
        {
         "customdata": [
          [
           3154900,
           80.25999999999999,
           78897,
           "Maluku",
           2022
          ]
         ],
         "hovertemplate": "Category: New Deaths per Million<br>Pulau: %{customdata[3]}<br>Tahun: %{customdata[4]}<br>Value: %{y:.2f}<br>Population: %{customdata[0]:.2f}<br>Population Density: %{customdata[1]:.2f}<br>Area (km2): %{customdata[2]:.2f}<br><extra></extra>",
         "marker": {
          "color": "rgb(187, 127, 65)"
         },
         "name": "Maluku, New Deaths per Million, 2022",
         "showlegend": true,
         "type": "bar",
         "x": [
          "2022, Maluku"
         ],
         "xaxis": "x",
         "y": [
          39.82999999999999
         ],
         "yaxis": "y"
        },
        {
         "customdata": [
          [
           14897739,
           1124.27,
           73070,
           "Nusa Tenggara",
           2022
          ]
         ],
         "hovertemplate": "Category: New Deaths per Million<br>Pulau: %{customdata[3]}<br>Tahun: %{customdata[4]}<br>Value: %{y:.2f}<br>Population: %{customdata[0]:.2f}<br>Population Density: %{customdata[1]:.2f}<br>Area (km2): %{customdata[2]:.2f}<br><extra></extra>",
         "marker": {
          "color": "rgb(64, 41, 64)"
         },
         "name": "Nusa Tenggara, New Deaths per Million, 2022",
         "showlegend": true,
         "type": "bar",
         "x": [
          "2022, Nusa Tenggara"
         ],
         "xaxis": "x",
         "y": [
          207.8900000000005
         ],
         "yaxis": "y"
        },
        {
         "customdata": [
          [
           5481049,
           24.68,
           421991,
           "Papua",
           2022
          ]
         ],
         "hovertemplate": "Category: New Deaths per Million<br>Pulau: %{customdata[3]}<br>Tahun: %{customdata[4]}<br>Value: %{y:.2f}<br>Population: %{customdata[0]:.2f}<br>Population Density: %{customdata[1]:.2f}<br>Area (km2): %{customdata[2]:.2f}<br><extra></extra>",
         "marker": {
          "color": "rgb(47, 4, 131)"
         },
         "name": "Papua, New Deaths per Million, 2022",
         "showlegend": true,
         "type": "bar",
         "x": [
          "2022, Papua"
         ],
         "xaxis": "x",
         "y": [
          29.22
         ],
         "yaxis": "y"
        },
        {
         "customdata": [
          [
           20400432,
           706.78,
           188562,
           "Sulawesi",
           2022
          ]
         ],
         "hovertemplate": "Category: New Deaths per Million<br>Pulau: %{customdata[3]}<br>Tahun: %{customdata[4]}<br>Value: %{y:.2f}<br>Population: %{customdata[0]:.2f}<br>Population Density: %{customdata[1]:.2f}<br>Area (km2): %{customdata[2]:.2f}<br><extra></extra>",
         "marker": {
          "color": "rgb(133, 116, 211)"
         },
         "name": "Sulawesi, New Deaths per Million, 2022",
         "showlegend": true,
         "type": "bar",
         "x": [
          "2022, Sulawesi"
         ],
         "xaxis": "x",
         "y": [
          193.9900000000001
         ],
         "yaxis": "y"
        },
        {
         "customdata": [
          [
           57830696,
           1337.37,
           480793,
           "Sumatera",
           2022
          ]
         ],
         "hovertemplate": "Category: New Deaths per Million<br>Pulau: %{customdata[3]}<br>Tahun: %{customdata[4]}<br>Value: %{y:.2f}<br>Population: %{customdata[0]:.2f}<br>Population Density: %{customdata[1]:.2f}<br>Area (km2): %{customdata[2]:.2f}<br><extra></extra>",
         "marker": {
          "color": "rgb(161, 73, 88)"
         },
         "name": "Sumatera, New Deaths per Million, 2022",
         "showlegend": true,
         "type": "bar",
         "x": [
          "2022, Sumatera"
         ],
         "xaxis": "x",
         "y": [
          460.1700000000016
         ],
         "yaxis": "y"
        },
        {
         "customdata": [
          [
           147203954,
           21834.82,
           129442,
           "Jawa",
           2020
          ]
         ],
         "hovertemplate": "Category: Total Cases per Million<br>Pulau: %{customdata[3]}<br>Tahun: %{customdata[4]}<br>Value: %{y:.2f}<br>Population: %{customdata[0]:.2f}<br>Population Density: %{customdata[1]:.2f}<br>Area (km2): %{customdata[2]:.2f}<br><extra></extra>",
         "marker": {
          "color": "rgb(158, 58, 227)"
         },
         "name": "Jawa, Total Cases per Million, 2020",
         "showlegend": true,
         "type": "bar",
         "x": [
          "2020, Jawa"
         ],
         "xaxis": "x2",
         "y": [
          2085.28
         ],
         "yaxis": "y2"
        },
        {
         "customdata": [
          [
           16216750,
           193.5,
           544151,
           "Kalimantan",
           2020
          ]
         ],
         "hovertemplate": "Category: Total Cases per Million<br>Pulau: %{customdata[3]}<br>Tahun: %{customdata[4]}<br>Value: %{y:.2f}<br>Population: %{customdata[0]:.2f}<br>Population Density: %{customdata[1]:.2f}<br>Area (km2): %{customdata[2]:.2f}<br><extra></extra>",
         "marker": {
          "color": "rgb(131, 49, 207)"
         },
         "name": "Kalimantan, Total Cases per Million, 2020",
         "showlegend": true,
         "type": "bar",
         "x": [
          "2020, Kalimantan"
         ],
         "xaxis": "x2",
         "y": [
          5851.26
         ],
         "yaxis": "y2"
        },
        {
         "customdata": [
          [
           3154900,
           80.25999999999999,
           78897,
           "Maluku",
           2020
          ]
         ],
         "hovertemplate": "Category: Total Cases per Million<br>Pulau: %{customdata[3]}<br>Tahun: %{customdata[4]}<br>Value: %{y:.2f}<br>Population: %{customdata[0]:.2f}<br>Population Density: %{customdata[1]:.2f}<br>Area (km2): %{customdata[2]:.2f}<br><extra></extra>",
         "marker": {
          "color": "rgb(175, 122, 79)"
         },
         "name": "Maluku, Total Cases per Million, 2020",
         "showlegend": true,
         "type": "bar",
         "x": [
          "2020, Maluku"
         ],
         "xaxis": "x2",
         "y": [
          3097.83
         ],
         "yaxis": "y2"
        },
        {
         "customdata": [
          [
           14897739,
           1124.27,
           73070,
           "Nusa Tenggara",
           2020
          ]
         ],
         "hovertemplate": "Category: Total Cases per Million<br>Pulau: %{customdata[3]}<br>Tahun: %{customdata[4]}<br>Value: %{y:.2f}<br>Population: %{customdata[0]:.2f}<br>Population Density: %{customdata[1]:.2f}<br>Area (km2): %{customdata[2]:.2f}<br><extra></extra>",
         "marker": {
          "color": "rgb(77, 202, 25)"
         },
         "name": "Nusa Tenggara, Total Cases per Million, 2020",
         "showlegend": true,
         "type": "bar",
         "x": [
          "2020, Nusa Tenggara"
         ],
         "xaxis": "x2",
         "y": [
          4172.74
         ],
         "yaxis": "y2"
        },
        {
         "customdata": [
          [
           5481049,
           24.68,
           421991,
           "Papua",
           2020
          ]
         ],
         "hovertemplate": "Category: Total Cases per Million<br>Pulau: %{customdata[3]}<br>Tahun: %{customdata[4]}<br>Value: %{y:.2f}<br>Population: %{customdata[0]:.2f}<br>Population Density: %{customdata[1]:.2f}<br>Area (km2): %{customdata[2]:.2f}<br><extra></extra>",
         "marker": {
          "color": "rgb(116, 249, 201)"
         },
         "name": "Papua, Total Cases per Million, 2020",
         "showlegend": true,
         "type": "bar",
         "x": [
          "2020, Papua"
         ],
         "xaxis": "x2",
         "y": [
          5241.51
         ],
         "yaxis": "y2"
        },
        {
         "customdata": [
          [
           20400432,
           706.78,
           188562,
           "Sulawesi",
           2020
          ]
         ],
         "hovertemplate": "Category: Total Cases per Million<br>Pulau: %{customdata[3]}<br>Tahun: %{customdata[4]}<br>Value: %{y:.2f}<br>Population: %{customdata[0]:.2f}<br>Population Density: %{customdata[1]:.2f}<br>Area (km2): %{customdata[2]:.2f}<br><extra></extra>",
         "marker": {
          "color": "rgb(165, 52, 90)"
         },
         "name": "Sulawesi, Total Cases per Million, 2020",
         "showlegend": true,
         "type": "bar",
         "x": [
          "2020, Sulawesi"
         ],
         "xaxis": "x2",
         "y": [
          3252.44
         ],
         "yaxis": "y2"
        },
        {
         "customdata": [
          [
           57830696,
           1337.37,
           480793,
           "Sumatera",
           2020
          ]
         ],
         "hovertemplate": "Category: Total Cases per Million<br>Pulau: %{customdata[3]}<br>Tahun: %{customdata[4]}<br>Value: %{y:.2f}<br>Population: %{customdata[0]:.2f}<br>Population Density: %{customdata[1]:.2f}<br>Area (km2): %{customdata[2]:.2f}<br><extra></extra>",
         "marker": {
          "color": "rgb(14, 235, 44)"
         },
         "name": "Sumatera, Total Cases per Million, 2020",
         "showlegend": true,
         "type": "bar",
         "x": [
          "2020, Sumatera"
         ],
         "xaxis": "x2",
         "y": [
          1220.11
         ],
         "yaxis": "y2"
        },
        {
         "customdata": [
          [
           147203954,
           21834.82,
           129442,
           "Jawa",
           2021
          ]
         ],
         "hovertemplate": "Category: Total Cases per Million<br>Pulau: %{customdata[3]}<br>Tahun: %{customdata[4]}<br>Value: %{y:.2f}<br>Population: %{customdata[0]:.2f}<br>Population Density: %{customdata[1]:.2f}<br>Area (km2): %{customdata[2]:.2f}<br><extra></extra>",
         "marker": {
          "color": "rgb(158, 58, 227)"
         },
         "name": "Jawa, Total Cases per Million, 2021",
         "showlegend": true,
         "type": "bar",
         "x": [
          "2021, Jawa"
         ],
         "xaxis": "x2",
         "y": [
          15695.95
         ],
         "yaxis": "y2"
        },
        {
         "customdata": [
          [
           16216750,
           193.5,
           544151,
           "Kalimantan",
           2021
          ]
         ],
         "hovertemplate": "Category: Total Cases per Million<br>Pulau: %{customdata[3]}<br>Tahun: %{customdata[4]}<br>Value: %{y:.2f}<br>Population: %{customdata[0]:.2f}<br>Population Density: %{customdata[1]:.2f}<br>Area (km2): %{customdata[2]:.2f}<br><extra></extra>",
         "marker": {
          "color": "rgb(131, 49, 207)"
         },
         "name": "Kalimantan, Total Cases per Million, 2021",
         "showlegend": true,
         "type": "bar",
         "x": [
          "2021, Kalimantan"
         ],
         "xaxis": "x2",
         "y": [
          17764.54
         ],
         "yaxis": "y2"
        },
        {
         "customdata": [
          [
           3154900,
           80.25999999999999,
           78897,
           "Maluku",
           2021
          ]
         ],
         "hovertemplate": "Category: Total Cases per Million<br>Pulau: %{customdata[3]}<br>Tahun: %{customdata[4]}<br>Value: %{y:.2f}<br>Population: %{customdata[0]:.2f}<br>Population Density: %{customdata[1]:.2f}<br>Area (km2): %{customdata[2]:.2f}<br><extra></extra>",
         "marker": {
          "color": "rgb(175, 122, 79)"
         },
         "name": "Maluku, Total Cases per Million, 2021",
         "showlegend": true,
         "type": "bar",
         "x": [
          "2021, Maluku"
         ],
         "xaxis": "x2",
         "y": [
          7902.13
         ],
         "yaxis": "y2"
        },
        {
         "customdata": [
          [
           14897739,
           1124.27,
           73070,
           "Nusa Tenggara",
           2021
          ]
         ],
         "hovertemplate": "Category: Total Cases per Million<br>Pulau: %{customdata[3]}<br>Tahun: %{customdata[4]}<br>Value: %{y:.2f}<br>Population: %{customdata[0]:.2f}<br>Population Density: %{customdata[1]:.2f}<br>Area (km2): %{customdata[2]:.2f}<br><extra></extra>",
         "marker": {
          "color": "rgb(77, 202, 25)"
         },
         "name": "Nusa Tenggara, Total Cases per Million, 2021",
         "showlegend": true,
         "type": "bar",
         "x": [
          "2021, Nusa Tenggara"
         ],
         "xaxis": "x2",
         "y": [
          27131.02
         ],
         "yaxis": "y2"
        },
        {
         "customdata": [
          [
           5481049,
           24.68,
           421991,
           "Papua",
           2021
          ]
         ],
         "hovertemplate": "Category: Total Cases per Million<br>Pulau: %{customdata[3]}<br>Tahun: %{customdata[4]}<br>Value: %{y:.2f}<br>Population: %{customdata[0]:.2f}<br>Population Density: %{customdata[1]:.2f}<br>Area (km2): %{customdata[2]:.2f}<br><extra></extra>",
         "marker": {
          "color": "rgb(116, 249, 201)"
         },
         "name": "Papua, Total Cases per Million, 2021",
         "showlegend": true,
         "type": "bar",
         "x": [
          "2021, Papua"
         ],
         "xaxis": "x2",
         "y": [
          20741.63
         ],
         "yaxis": "y2"
        },
        {
         "customdata": [
          [
           20400432,
           706.78,
           188562,
           "Sulawesi",
           2021
          ]
         ],
         "hovertemplate": "Category: Total Cases per Million<br>Pulau: %{customdata[3]}<br>Tahun: %{customdata[4]}<br>Value: %{y:.2f}<br>Population: %{customdata[0]:.2f}<br>Population Density: %{customdata[1]:.2f}<br>Area (km2): %{customdata[2]:.2f}<br><extra></extra>",
         "marker": {
          "color": "rgb(165, 52, 90)"
         },
         "name": "Sulawesi, Total Cases per Million, 2021",
         "showlegend": true,
         "type": "bar",
         "x": [
          "2021, Sulawesi"
         ],
         "xaxis": "x2",
         "y": [
          15987.8
         ],
         "yaxis": "y2"
        },
        {
         "customdata": [
          [
           57830696,
           1337.37,
           480793,
           "Sumatera",
           2021
          ]
         ],
         "hovertemplate": "Category: Total Cases per Million<br>Pulau: %{customdata[3]}<br>Tahun: %{customdata[4]}<br>Value: %{y:.2f}<br>Population: %{customdata[0]:.2f}<br>Population Density: %{customdata[1]:.2f}<br>Area (km2): %{customdata[2]:.2f}<br><extra></extra>",
         "marker": {
          "color": "rgb(14, 235, 44)"
         },
         "name": "Sumatera, Total Cases per Million, 2021",
         "showlegend": true,
         "type": "bar",
         "x": [
          "2021, Sumatera"
         ],
         "xaxis": "x2",
         "y": [
          7134.37
         ],
         "yaxis": "y2"
        },
        {
         "customdata": [
          [
           147203954,
           21834.82,
           129442,
           "Jawa",
           2022
          ]
         ],
         "hovertemplate": "Category: Total Cases per Million<br>Pulau: %{customdata[3]}<br>Tahun: %{customdata[4]}<br>Value: %{y:.2f}<br>Population: %{customdata[0]:.2f}<br>Population Density: %{customdata[1]:.2f}<br>Area (km2): %{customdata[2]:.2f}<br><extra></extra>",
         "marker": {
          "color": "rgb(158, 58, 227)"
         },
         "name": "Jawa, Total Cases per Million, 2022",
         "showlegend": true,
         "type": "bar",
         "x": [
          "2022, Jawa"
         ],
         "xaxis": "x2",
         "y": [
          25989.74
         ],
         "yaxis": "y2"
        },
        {
         "customdata": [
          [
           16216750,
           193.5,
           544151,
           "Kalimantan",
           2022
          ]
         ],
         "hovertemplate": "Category: Total Cases per Million<br>Pulau: %{customdata[3]}<br>Tahun: %{customdata[4]}<br>Value: %{y:.2f}<br>Population: %{customdata[0]:.2f}<br>Population Density: %{customdata[1]:.2f}<br>Area (km2): %{customdata[2]:.2f}<br><extra></extra>",
         "marker": {
          "color": "rgb(131, 49, 207)"
         },
         "name": "Kalimantan, Total Cases per Million, 2022",
         "showlegend": true,
         "type": "bar",
         "x": [
          "2022, Kalimantan"
         ],
         "xaxis": "x2",
         "y": [
          22649.98
         ],
         "yaxis": "y2"
        },
        {
         "customdata": [
          [
           3154900,
           80.25999999999999,
           78897,
           "Maluku",
           2022
          ]
         ],
         "hovertemplate": "Category: Total Cases per Million<br>Pulau: %{customdata[3]}<br>Tahun: %{customdata[4]}<br>Value: %{y:.2f}<br>Population: %{customdata[0]:.2f}<br>Population Density: %{customdata[1]:.2f}<br>Area (km2): %{customdata[2]:.2f}<br><extra></extra>",
         "marker": {
          "color": "rgb(175, 122, 79)"
         },
         "name": "Maluku, Total Cases per Million, 2022",
         "showlegend": true,
         "type": "bar",
         "x": [
          "2022, Maluku"
         ],
         "xaxis": "x2",
         "y": [
          10143.48
         ],
         "yaxis": "y2"
        },
        {
         "customdata": [
          [
           14897739,
           1124.27,
           73070,
           "Nusa Tenggara",
           2022
          ]
         ],
         "hovertemplate": "Category: Total Cases per Million<br>Pulau: %{customdata[3]}<br>Tahun: %{customdata[4]}<br>Value: %{y:.2f}<br>Population: %{customdata[0]:.2f}<br>Population Density: %{customdata[1]:.2f}<br>Area (km2): %{customdata[2]:.2f}<br><extra></extra>",
         "marker": {
          "color": "rgb(77, 202, 25)"
         },
         "name": "Nusa Tenggara, Total Cases per Million, 2022",
         "showlegend": true,
         "type": "bar",
         "x": [
          "2022, Nusa Tenggara"
         ],
         "xaxis": "x2",
         "y": [
          17447.68
         ],
         "yaxis": "y2"
        },
        {
         "customdata": [
          [
           5481049,
           24.68,
           421991,
           "Papua",
           2022
          ]
         ],
         "hovertemplate": "Category: Total Cases per Million<br>Pulau: %{customdata[3]}<br>Tahun: %{customdata[4]}<br>Value: %{y:.2f}<br>Population: %{customdata[0]:.2f}<br>Population Density: %{customdata[1]:.2f}<br>Area (km2): %{customdata[2]:.2f}<br><extra></extra>",
         "marker": {
          "color": "rgb(116, 249, 201)"
         },
         "name": "Papua, Total Cases per Million, 2022",
         "showlegend": true,
         "type": "bar",
         "x": [
          "2022, Papua"
         ],
         "xaxis": "x2",
         "y": [
          28201.96
         ],
         "yaxis": "y2"
        },
        {
         "customdata": [
          [
           20400432,
           706.78,
           188562,
           "Sulawesi",
           2022
          ]
         ],
         "hovertemplate": "Category: Total Cases per Million<br>Pulau: %{customdata[3]}<br>Tahun: %{customdata[4]}<br>Value: %{y:.2f}<br>Population: %{customdata[0]:.2f}<br>Population Density: %{customdata[1]:.2f}<br>Area (km2): %{customdata[2]:.2f}<br><extra></extra>",
         "marker": {
          "color": "rgb(165, 52, 90)"
         },
         "name": "Sulawesi, Total Cases per Million, 2022",
         "showlegend": true,
         "type": "bar",
         "x": [
          "2022, Sulawesi"
         ],
         "xaxis": "x2",
         "y": [
          20672.51
         ],
         "yaxis": "y2"
        },
        {
         "customdata": [
          [
           57830696,
           1337.37,
           480793,
           "Sumatera",
           2022
          ]
         ],
         "hovertemplate": "Category: Total Cases per Million<br>Pulau: %{customdata[3]}<br>Tahun: %{customdata[4]}<br>Value: %{y:.2f}<br>Population: %{customdata[0]:.2f}<br>Population Density: %{customdata[1]:.2f}<br>Area (km2): %{customdata[2]:.2f}<br><extra></extra>",
         "marker": {
          "color": "rgb(14, 235, 44)"
         },
         "name": "Sumatera, Total Cases per Million, 2022",
         "showlegend": true,
         "type": "bar",
         "x": [
          "2022, Sumatera"
         ],
         "xaxis": "x2",
         "y": [
          10680.15
         ],
         "yaxis": "y2"
        },
        {
         "customdata": [
          [
           147203954,
           21834.82,
           129442,
           "Jawa",
           2020
          ]
         ],
         "hovertemplate": "Category: Total Deaths per Million<br>Pulau: %{customdata[3]}<br>Tahun: %{customdata[4]}<br>Value: %{y:.2f}<br>Population: %{customdata[0]:.2f}<br>Population Density: %{customdata[1]:.2f}<br>Area (km2): %{customdata[2]:.2f}<br><extra></extra>",
         "marker": {
          "color": "rgb(15, 222, 44)"
         },
         "name": "Jawa, Total Deaths per Million, 2020",
         "showlegend": true,
         "type": "bar",
         "x": [
          "2020, Jawa"
         ],
         "xaxis": "x2",
         "y": [
          158.08
         ],
         "yaxis": "y2"
        },
        {
         "customdata": [
          [
           16216750,
           193.5,
           544151,
           "Kalimantan",
           2020
          ]
         ],
         "hovertemplate": "Category: Total Deaths per Million<br>Pulau: %{customdata[3]}<br>Tahun: %{customdata[4]}<br>Value: %{y:.2f}<br>Population: %{customdata[0]:.2f}<br>Population Density: %{customdata[1]:.2f}<br>Area (km2): %{customdata[2]:.2f}<br><extra></extra>",
         "marker": {
          "color": "rgb(166, 212, 44)"
         },
         "name": "Kalimantan, Total Deaths per Million, 2020",
         "showlegend": true,
         "type": "bar",
         "x": [
          "2020, Kalimantan"
         ],
         "xaxis": "x2",
         "y": [
          87.91
         ],
         "yaxis": "y2"
        },
        {
         "customdata": [
          [
           3154900,
           80.25999999999999,
           78897,
           "Maluku",
           2020
          ]
         ],
         "hovertemplate": "Category: Total Deaths per Million<br>Pulau: %{customdata[3]}<br>Tahun: %{customdata[4]}<br>Value: %{y:.2f}<br>Population: %{customdata[0]:.2f}<br>Population Density: %{customdata[1]:.2f}<br>Area (km2): %{customdata[2]:.2f}<br><extra></extra>",
         "marker": {
          "color": "rgb(156, 80, 253)"
         },
         "name": "Maluku, Total Deaths per Million, 2020",
         "showlegend": true,
         "type": "bar",
         "x": [
          "2020, Maluku"
         ],
         "xaxis": "x2",
         "y": [
          38.98
         ],
         "yaxis": "y2"
        },
        {
         "customdata": [
          [
           14897739,
           1124.27,
           73070,
           "Nusa Tenggara",
           2020
          ]
         ],
         "hovertemplate": "Category: Total Deaths per Million<br>Pulau: %{customdata[3]}<br>Tahun: %{customdata[4]}<br>Value: %{y:.2f}<br>Population: %{customdata[0]:.2f}<br>Population Density: %{customdata[1]:.2f}<br>Area (km2): %{customdata[2]:.2f}<br><extra></extra>",
         "marker": {
          "color": "rgb(222, 62, 219)"
         },
         "name": "Nusa Tenggara, Total Deaths per Million, 2020",
         "showlegend": true,
         "type": "bar",
         "x": [
          "2020, Nusa Tenggara"
         ],
         "xaxis": "x2",
         "y": [
          122.39
         ],
         "yaxis": "y2"
        },
        {
         "customdata": [
          [
           5481049,
           24.68,
           421991,
           "Papua",
           2020
          ]
         ],
         "hovertemplate": "Category: Total Deaths per Million<br>Pulau: %{customdata[3]}<br>Tahun: %{customdata[4]}<br>Value: %{y:.2f}<br>Population: %{customdata[0]:.2f}<br>Population Density: %{customdata[1]:.2f}<br>Area (km2): %{customdata[2]:.2f}<br><extra></extra>",
         "marker": {
          "color": "rgb(51, 28, 11)"
         },
         "name": "Papua, Total Deaths per Million, 2020",
         "showlegend": true,
         "type": "bar",
         "x": [
          "2020, Papua"
         ],
         "xaxis": "x2",
         "y": [
          86.79
         ],
         "yaxis": "y2"
        },
        {
         "customdata": [
          [
           20400432,
           706.78,
           188562,
           "Sulawesi",
           2020
          ]
         ],
         "hovertemplate": "Category: Total Deaths per Million<br>Pulau: %{customdata[3]}<br>Tahun: %{customdata[4]}<br>Value: %{y:.2f}<br>Population: %{customdata[0]:.2f}<br>Population Density: %{customdata[1]:.2f}<br>Area (km2): %{customdata[2]:.2f}<br><extra></extra>",
         "marker": {
          "color": "rgb(45, 42, 162)"
         },
         "name": "Sulawesi, Total Deaths per Million, 2020",
         "showlegend": true,
         "type": "bar",
         "x": [
          "2020, Sulawesi"
         ],
         "xaxis": "x2",
         "y": [
          88.09
         ],
         "yaxis": "y2"
        },
        {
         "customdata": [
          [
           57830696,
           1337.37,
           480793,
           "Sumatera",
           2020
          ]
         ],
         "hovertemplate": "Category: Total Deaths per Million<br>Pulau: %{customdata[3]}<br>Tahun: %{customdata[4]}<br>Value: %{y:.2f}<br>Population: %{customdata[0]:.2f}<br>Population Density: %{customdata[1]:.2f}<br>Area (km2): %{customdata[2]:.2f}<br><extra></extra>",
         "marker": {
          "color": "rgb(235, 170, 68)"
         },
         "name": "Sumatera, Total Deaths per Million, 2020",
         "showlegend": true,
         "type": "bar",
         "x": [
          "2020, Sumatera"
         ],
         "xaxis": "x2",
         "y": [
          45.65
         ],
         "yaxis": "y2"
        },
        {
         "customdata": [
          [
           147203954,
           21834.82,
           129442,
           "Jawa",
           2021
          ]
         ],
         "hovertemplate": "Category: Total Deaths per Million<br>Pulau: %{customdata[3]}<br>Tahun: %{customdata[4]}<br>Value: %{y:.2f}<br>Population: %{customdata[0]:.2f}<br>Population Density: %{customdata[1]:.2f}<br>Area (km2): %{customdata[2]:.2f}<br><extra></extra>",
         "marker": {
          "color": "rgb(15, 222, 44)"
         },
         "name": "Jawa, Total Deaths per Million, 2021",
         "showlegend": true,
         "type": "bar",
         "x": [
          "2021, Jawa"
         ],
         "xaxis": "x2",
         "y": [
          326.74
         ],
         "yaxis": "y2"
        },
        {
         "customdata": [
          [
           16216750,
           193.5,
           544151,
           "Kalimantan",
           2021
          ]
         ],
         "hovertemplate": "Category: Total Deaths per Million<br>Pulau: %{customdata[3]}<br>Tahun: %{customdata[4]}<br>Value: %{y:.2f}<br>Population: %{customdata[0]:.2f}<br>Population Density: %{customdata[1]:.2f}<br>Area (km2): %{customdata[2]:.2f}<br><extra></extra>",
         "marker": {
          "color": "rgb(166, 212, 44)"
         },
         "name": "Kalimantan, Total Deaths per Million, 2021",
         "showlegend": true,
         "type": "bar",
         "x": [
          "2021, Kalimantan"
         ],
         "xaxis": "x2",
         "y": [
          557.52
         ],
         "yaxis": "y2"
        },
        {
         "customdata": [
          [
           3154900,
           80.25999999999999,
           78897,
           "Maluku",
           2021
          ]
         ],
         "hovertemplate": "Category: Total Deaths per Million<br>Pulau: %{customdata[3]}<br>Tahun: %{customdata[4]}<br>Value: %{y:.2f}<br>Population: %{customdata[0]:.2f}<br>Population Density: %{customdata[1]:.2f}<br>Area (km2): %{customdata[2]:.2f}<br><extra></extra>",
         "marker": {
          "color": "rgb(156, 80, 253)"
         },
         "name": "Maluku, Total Deaths per Million, 2021",
         "showlegend": true,
         "type": "bar",
         "x": [
          "2021, Maluku"
         ],
         "xaxis": "x2",
         "y": [
          143.47
         ],
         "yaxis": "y2"
        },
        {
         "customdata": [
          [
           14897739,
           1124.27,
           73070,
           "Nusa Tenggara",
           2021
          ]
         ],
         "hovertemplate": "Category: Total Deaths per Million<br>Pulau: %{customdata[3]}<br>Tahun: %{customdata[4]}<br>Value: %{y:.2f}<br>Population: %{customdata[0]:.2f}<br>Population Density: %{customdata[1]:.2f}<br>Area (km2): %{customdata[2]:.2f}<br><extra></extra>",
         "marker": {
          "color": "rgb(222, 62, 219)"
         },
         "name": "Nusa Tenggara, Total Deaths per Million, 2021",
         "showlegend": true,
         "type": "bar",
         "x": [
          "2021, Nusa Tenggara"
         ],
         "xaxis": "x2",
         "y": [
          963.2
         ],
         "yaxis": "y2"
        },
        {
         "customdata": [
          [
           5481049,
           24.68,
           421991,
           "Papua",
           2021
          ]
         ],
         "hovertemplate": "Category: Total Deaths per Million<br>Pulau: %{customdata[3]}<br>Tahun: %{customdata[4]}<br>Value: %{y:.2f}<br>Population: %{customdata[0]:.2f}<br>Population Density: %{customdata[1]:.2f}<br>Area (km2): %{customdata[2]:.2f}<br><extra></extra>",
         "marker": {
          "color": "rgb(51, 28, 11)"
         },
         "name": "Papua, Total Deaths per Million, 2021",
         "showlegend": true,
         "type": "bar",
         "x": [
          "2021, Papua"
         ],
         "xaxis": "x2",
         "y": [
          312.97
         ],
         "yaxis": "y2"
        },
        {
         "customdata": [
          [
           20400432,
           706.78,
           188562,
           "Sulawesi",
           2021
          ]
         ],
         "hovertemplate": "Category: Total Deaths per Million<br>Pulau: %{customdata[3]}<br>Tahun: %{customdata[4]}<br>Value: %{y:.2f}<br>Population: %{customdata[0]:.2f}<br>Population Density: %{customdata[1]:.2f}<br>Area (km2): %{customdata[2]:.2f}<br><extra></extra>",
         "marker": {
          "color": "rgb(45, 42, 162)"
         },
         "name": "Sulawesi, Total Deaths per Million, 2021",
         "showlegend": true,
         "type": "bar",
         "x": [
          "2021, Sulawesi"
         ],
         "xaxis": "x2",
         "y": [
          543.04
         ],
         "yaxis": "y2"
        },
        {
         "customdata": [
          [
           57830696,
           1337.37,
           480793,
           "Sumatera",
           2021
          ]
         ],
         "hovertemplate": "Category: Total Deaths per Million<br>Pulau: %{customdata[3]}<br>Tahun: %{customdata[4]}<br>Value: %{y:.2f}<br>Population: %{customdata[0]:.2f}<br>Population Density: %{customdata[1]:.2f}<br>Area (km2): %{customdata[2]:.2f}<br><extra></extra>",
         "marker": {
          "color": "rgb(235, 170, 68)"
         },
         "name": "Sumatera, Total Deaths per Million, 2021",
         "showlegend": true,
         "type": "bar",
         "x": [
          "2021, Sumatera"
         ],
         "xaxis": "x2",
         "y": [
          194.49
         ],
         "yaxis": "y2"
        },
        {
         "customdata": [
          [
           147203954,
           21834.82,
           129442,
           "Jawa",
           2022
          ]
         ],
         "hovertemplate": "Category: Total Deaths per Million<br>Pulau: %{customdata[3]}<br>Tahun: %{customdata[4]}<br>Value: %{y:.2f}<br>Population: %{customdata[0]:.2f}<br>Population Density: %{customdata[1]:.2f}<br>Area (km2): %{customdata[2]:.2f}<br><extra></extra>",
         "marker": {
          "color": "rgb(15, 222, 44)"
         },
         "name": "Jawa, Total Deaths per Million, 2022",
         "showlegend": true,
         "type": "bar",
         "x": [
          "2022, Jawa"
         ],
         "xaxis": "x2",
         "y": [
          352.89
         ],
         "yaxis": "y2"
        },
        {
         "customdata": [
          [
           16216750,
           193.5,
           544151,
           "Kalimantan",
           2022
          ]
         ],
         "hovertemplate": "Category: Total Deaths per Million<br>Pulau: %{customdata[3]}<br>Tahun: %{customdata[4]}<br>Value: %{y:.2f}<br>Population: %{customdata[0]:.2f}<br>Population Density: %{customdata[1]:.2f}<br>Area (km2): %{customdata[2]:.2f}<br><extra></extra>",
         "marker": {
          "color": "rgb(166, 212, 44)"
         },
         "name": "Kalimantan, Total Deaths per Million, 2022",
         "showlegend": true,
         "type": "bar",
         "x": [
          "2022, Kalimantan"
         ],
         "xaxis": "x2",
         "y": [
          608.88
         ],
         "yaxis": "y2"
        },
        {
         "customdata": [
          [
           3154900,
           80.25999999999999,
           78897,
           "Maluku",
           2022
          ]
         ],
         "hovertemplate": "Category: Total Deaths per Million<br>Pulau: %{customdata[3]}<br>Tahun: %{customdata[4]}<br>Value: %{y:.2f}<br>Population: %{customdata[0]:.2f}<br>Population Density: %{customdata[1]:.2f}<br>Area (km2): %{customdata[2]:.2f}<br><extra></extra>",
         "marker": {
          "color": "rgb(156, 80, 253)"
         },
         "name": "Maluku, Total Deaths per Million, 2022",
         "showlegend": true,
         "type": "bar",
         "x": [
          "2022, Maluku"
         ],
         "xaxis": "x2",
         "y": [
          159.71
         ],
         "yaxis": "y2"
        },
        {
         "customdata": [
          [
           14897739,
           1124.27,
           73070,
           "Nusa Tenggara",
           2022
          ]
         ],
         "hovertemplate": "Category: Total Deaths per Million<br>Pulau: %{customdata[3]}<br>Tahun: %{customdata[4]}<br>Value: %{y:.2f}<br>Population: %{customdata[0]:.2f}<br>Population Density: %{customdata[1]:.2f}<br>Area (km2): %{customdata[2]:.2f}<br><extra></extra>",
         "marker": {
          "color": "rgb(222, 62, 219)"
         },
         "name": "Nusa Tenggara, Total Deaths per Million, 2022",
         "showlegend": true,
         "type": "bar",
         "x": [
          "2022, Nusa Tenggara"
         ],
         "xaxis": "x2",
         "y": [
          282.19
         ],
         "yaxis": "y2"
        },
        {
         "customdata": [
          [
           5481049,
           24.68,
           421991,
           "Papua",
           2022
          ]
         ],
         "hovertemplate": "Category: Total Deaths per Million<br>Pulau: %{customdata[3]}<br>Tahun: %{customdata[4]}<br>Value: %{y:.2f}<br>Population: %{customdata[0]:.2f}<br>Population Density: %{customdata[1]:.2f}<br>Area (km2): %{customdata[2]:.2f}<br><extra></extra>",
         "marker": {
          "color": "rgb(51, 28, 11)"
         },
         "name": "Papua, Total Deaths per Million, 2022",
         "showlegend": true,
         "type": "bar",
         "x": [
          "2022, Papua"
         ],
         "xaxis": "x2",
         "y": [
          337.51
         ],
         "yaxis": "y2"
        },
        {
         "customdata": [
          [
           20400432,
           706.78,
           188562,
           "Sulawesi",
           2022
          ]
         ],
         "hovertemplate": "Category: Total Deaths per Million<br>Pulau: %{customdata[3]}<br>Tahun: %{customdata[4]}<br>Value: %{y:.2f}<br>Population: %{customdata[0]:.2f}<br>Population Density: %{customdata[1]:.2f}<br>Area (km2): %{customdata[2]:.2f}<br><extra></extra>",
         "marker": {
          "color": "rgb(45, 42, 162)"
         },
         "name": "Sulawesi, Total Deaths per Million, 2022",
         "showlegend": true,
         "type": "bar",
         "x": [
          "2022, Sulawesi"
         ],
         "xaxis": "x2",
         "y": [
          586.35
         ],
         "yaxis": "y2"
        },
        {
         "customdata": [
          [
           57830696,
           1337.37,
           480793,
           "Sumatera",
           2022
          ]
         ],
         "hovertemplate": "Category: Total Deaths per Million<br>Pulau: %{customdata[3]}<br>Tahun: %{customdata[4]}<br>Value: %{y:.2f}<br>Population: %{customdata[0]:.2f}<br>Population Density: %{customdata[1]:.2f}<br>Area (km2): %{customdata[2]:.2f}<br><extra></extra>",
         "marker": {
          "color": "rgb(235, 170, 68)"
         },
         "name": "Sumatera, Total Deaths per Million, 2022",
         "showlegend": true,
         "type": "bar",
         "x": [
          "2022, Sumatera"
         ],
         "xaxis": "x2",
         "y": [
          221.04
         ],
         "yaxis": "y2"
        },
        {
         "customdata": [
          [
           147203954,
           21834.82,
           129442,
           "Jawa",
           2020
          ]
         ],
         "hovertemplate": "Category: Total Deaths per 100rb<br>Pulau: %{customdata[3]}<br>Tahun: %{customdata[4]}<br>Value: %{y:.2f}<br>Population: %{customdata[0]:.2f}<br>Population Density: %{customdata[1]:.2f}<br>Area (km2): %{customdata[2]:.2f}<br><extra></extra>",
         "marker": {
          "color": "rgb(79, 163, 66)"
         },
         "name": "Jawa, Total Deaths per 100rb, 2020",
         "showlegend": true,
         "type": "bar",
         "x": [
          "2020, Jawa"
         ],
         "xaxis": "x2",
         "y": [
          15.81
         ],
         "yaxis": "y2"
        },
        {
         "customdata": [
          [
           16216750,
           193.5,
           544151,
           "Kalimantan",
           2020
          ]
         ],
         "hovertemplate": "Category: Total Deaths per 100rb<br>Pulau: %{customdata[3]}<br>Tahun: %{customdata[4]}<br>Value: %{y:.2f}<br>Population: %{customdata[0]:.2f}<br>Population Density: %{customdata[1]:.2f}<br>Area (km2): %{customdata[2]:.2f}<br><extra></extra>",
         "marker": {
          "color": "rgb(218, 133, 19)"
         },
         "name": "Kalimantan, Total Deaths per 100rb, 2020",
         "showlegend": true,
         "type": "bar",
         "x": [
          "2020, Kalimantan"
         ],
         "xaxis": "x2",
         "y": [
          8.79
         ],
         "yaxis": "y2"
        },
        {
         "customdata": [
          [
           3154900,
           80.25999999999999,
           78897,
           "Maluku",
           2020
          ]
         ],
         "hovertemplate": "Category: Total Deaths per 100rb<br>Pulau: %{customdata[3]}<br>Tahun: %{customdata[4]}<br>Value: %{y:.2f}<br>Population: %{customdata[0]:.2f}<br>Population Density: %{customdata[1]:.2f}<br>Area (km2): %{customdata[2]:.2f}<br><extra></extra>",
         "marker": {
          "color": "rgb(91, 202, 30)"
         },
         "name": "Maluku, Total Deaths per 100rb, 2020",
         "showlegend": true,
         "type": "bar",
         "x": [
          "2020, Maluku"
         ],
         "xaxis": "x2",
         "y": [
          3.9
         ],
         "yaxis": "y2"
        },
        {
         "customdata": [
          [
           14897739,
           1124.27,
           73070,
           "Nusa Tenggara",
           2020
          ]
         ],
         "hovertemplate": "Category: Total Deaths per 100rb<br>Pulau: %{customdata[3]}<br>Tahun: %{customdata[4]}<br>Value: %{y:.2f}<br>Population: %{customdata[0]:.2f}<br>Population Density: %{customdata[1]:.2f}<br>Area (km2): %{customdata[2]:.2f}<br><extra></extra>",
         "marker": {
          "color": "rgb(170, 39, 189)"
         },
         "name": "Nusa Tenggara, Total Deaths per 100rb, 2020",
         "showlegend": true,
         "type": "bar",
         "x": [
          "2020, Nusa Tenggara"
         ],
         "xaxis": "x2",
         "y": [
          12.24
         ],
         "yaxis": "y2"
        },
        {
         "customdata": [
          [
           5481049,
           24.68,
           421991,
           "Papua",
           2020
          ]
         ],
         "hovertemplate": "Category: Total Deaths per 100rb<br>Pulau: %{customdata[3]}<br>Tahun: %{customdata[4]}<br>Value: %{y:.2f}<br>Population: %{customdata[0]:.2f}<br>Population Density: %{customdata[1]:.2f}<br>Area (km2): %{customdata[2]:.2f}<br><extra></extra>",
         "marker": {
          "color": "rgb(99, 133, 196)"
         },
         "name": "Papua, Total Deaths per 100rb, 2020",
         "showlegend": true,
         "type": "bar",
         "x": [
          "2020, Papua"
         ],
         "xaxis": "x2",
         "y": [
          8.68
         ],
         "yaxis": "y2"
        },
        {
         "customdata": [
          [
           20400432,
           706.78,
           188562,
           "Sulawesi",
           2020
          ]
         ],
         "hovertemplate": "Category: Total Deaths per 100rb<br>Pulau: %{customdata[3]}<br>Tahun: %{customdata[4]}<br>Value: %{y:.2f}<br>Population: %{customdata[0]:.2f}<br>Population Density: %{customdata[1]:.2f}<br>Area (km2): %{customdata[2]:.2f}<br><extra></extra>",
         "marker": {
          "color": "rgb(210, 58, 194)"
         },
         "name": "Sulawesi, Total Deaths per 100rb, 2020",
         "showlegend": true,
         "type": "bar",
         "x": [
          "2020, Sulawesi"
         ],
         "xaxis": "x2",
         "y": [
          8.81
         ],
         "yaxis": "y2"
        },
        {
         "customdata": [
          [
           57830696,
           1337.37,
           480793,
           "Sumatera",
           2020
          ]
         ],
         "hovertemplate": "Category: Total Deaths per 100rb<br>Pulau: %{customdata[3]}<br>Tahun: %{customdata[4]}<br>Value: %{y:.2f}<br>Population: %{customdata[0]:.2f}<br>Population Density: %{customdata[1]:.2f}<br>Area (km2): %{customdata[2]:.2f}<br><extra></extra>",
         "marker": {
          "color": "rgb(47, 13, 251)"
         },
         "name": "Sumatera, Total Deaths per 100rb, 2020",
         "showlegend": true,
         "type": "bar",
         "x": [
          "2020, Sumatera"
         ],
         "xaxis": "x2",
         "y": [
          4.56
         ],
         "yaxis": "y2"
        },
        {
         "customdata": [
          [
           147203954,
           21834.82,
           129442,
           "Jawa",
           2021
          ]
         ],
         "hovertemplate": "Category: Total Deaths per 100rb<br>Pulau: %{customdata[3]}<br>Tahun: %{customdata[4]}<br>Value: %{y:.2f}<br>Population: %{customdata[0]:.2f}<br>Population Density: %{customdata[1]:.2f}<br>Area (km2): %{customdata[2]:.2f}<br><extra></extra>",
         "marker": {
          "color": "rgb(79, 163, 66)"
         },
         "name": "Jawa, Total Deaths per 100rb, 2021",
         "showlegend": true,
         "type": "bar",
         "x": [
          "2021, Jawa"
         ],
         "xaxis": "x2",
         "y": [
          32.67
         ],
         "yaxis": "y2"
        },
        {
         "customdata": [
          [
           16216750,
           193.5,
           544151,
           "Kalimantan",
           2021
          ]
         ],
         "hovertemplate": "Category: Total Deaths per 100rb<br>Pulau: %{customdata[3]}<br>Tahun: %{customdata[4]}<br>Value: %{y:.2f}<br>Population: %{customdata[0]:.2f}<br>Population Density: %{customdata[1]:.2f}<br>Area (km2): %{customdata[2]:.2f}<br><extra></extra>",
         "marker": {
          "color": "rgb(218, 133, 19)"
         },
         "name": "Kalimantan, Total Deaths per 100rb, 2021",
         "showlegend": true,
         "type": "bar",
         "x": [
          "2021, Kalimantan"
         ],
         "xaxis": "x2",
         "y": [
          55.75
         ],
         "yaxis": "y2"
        },
        {
         "customdata": [
          [
           3154900,
           80.25999999999999,
           78897,
           "Maluku",
           2021
          ]
         ],
         "hovertemplate": "Category: Total Deaths per 100rb<br>Pulau: %{customdata[3]}<br>Tahun: %{customdata[4]}<br>Value: %{y:.2f}<br>Population: %{customdata[0]:.2f}<br>Population Density: %{customdata[1]:.2f}<br>Area (km2): %{customdata[2]:.2f}<br><extra></extra>",
         "marker": {
          "color": "rgb(91, 202, 30)"
         },
         "name": "Maluku, Total Deaths per 100rb, 2021",
         "showlegend": true,
         "type": "bar",
         "x": [
          "2021, Maluku"
         ],
         "xaxis": "x2",
         "y": [
          14.35
         ],
         "yaxis": "y2"
        },
        {
         "customdata": [
          [
           14897739,
           1124.27,
           73070,
           "Nusa Tenggara",
           2021
          ]
         ],
         "hovertemplate": "Category: Total Deaths per 100rb<br>Pulau: %{customdata[3]}<br>Tahun: %{customdata[4]}<br>Value: %{y:.2f}<br>Population: %{customdata[0]:.2f}<br>Population Density: %{customdata[1]:.2f}<br>Area (km2): %{customdata[2]:.2f}<br><extra></extra>",
         "marker": {
          "color": "rgb(170, 39, 189)"
         },
         "name": "Nusa Tenggara, Total Deaths per 100rb, 2021",
         "showlegend": true,
         "type": "bar",
         "x": [
          "2021, Nusa Tenggara"
         ],
         "xaxis": "x2",
         "y": [
          96.32
         ],
         "yaxis": "y2"
        },
        {
         "customdata": [
          [
           5481049,
           24.68,
           421991,
           "Papua",
           2021
          ]
         ],
         "hovertemplate": "Category: Total Deaths per 100rb<br>Pulau: %{customdata[3]}<br>Tahun: %{customdata[4]}<br>Value: %{y:.2f}<br>Population: %{customdata[0]:.2f}<br>Population Density: %{customdata[1]:.2f}<br>Area (km2): %{customdata[2]:.2f}<br><extra></extra>",
         "marker": {
          "color": "rgb(99, 133, 196)"
         },
         "name": "Papua, Total Deaths per 100rb, 2021",
         "showlegend": true,
         "type": "bar",
         "x": [
          "2021, Papua"
         ],
         "xaxis": "x2",
         "y": [
          31.3
         ],
         "yaxis": "y2"
        },
        {
         "customdata": [
          [
           20400432,
           706.78,
           188562,
           "Sulawesi",
           2021
          ]
         ],
         "hovertemplate": "Category: Total Deaths per 100rb<br>Pulau: %{customdata[3]}<br>Tahun: %{customdata[4]}<br>Value: %{y:.2f}<br>Population: %{customdata[0]:.2f}<br>Population Density: %{customdata[1]:.2f}<br>Area (km2): %{customdata[2]:.2f}<br><extra></extra>",
         "marker": {
          "color": "rgb(210, 58, 194)"
         },
         "name": "Sulawesi, Total Deaths per 100rb, 2021",
         "showlegend": true,
         "type": "bar",
         "x": [
          "2021, Sulawesi"
         ],
         "xaxis": "x2",
         "y": [
          54.3
         ],
         "yaxis": "y2"
        },
        {
         "customdata": [
          [
           57830696,
           1337.37,
           480793,
           "Sumatera",
           2021
          ]
         ],
         "hovertemplate": "Category: Total Deaths per 100rb<br>Pulau: %{customdata[3]}<br>Tahun: %{customdata[4]}<br>Value: %{y:.2f}<br>Population: %{customdata[0]:.2f}<br>Population Density: %{customdata[1]:.2f}<br>Area (km2): %{customdata[2]:.2f}<br><extra></extra>",
         "marker": {
          "color": "rgb(47, 13, 251)"
         },
         "name": "Sumatera, Total Deaths per 100rb, 2021",
         "showlegend": true,
         "type": "bar",
         "x": [
          "2021, Sumatera"
         ],
         "xaxis": "x2",
         "y": [
          19.45
         ],
         "yaxis": "y2"
        },
        {
         "customdata": [
          [
           147203954,
           21834.82,
           129442,
           "Jawa",
           2022
          ]
         ],
         "hovertemplate": "Category: Total Deaths per 100rb<br>Pulau: %{customdata[3]}<br>Tahun: %{customdata[4]}<br>Value: %{y:.2f}<br>Population: %{customdata[0]:.2f}<br>Population Density: %{customdata[1]:.2f}<br>Area (km2): %{customdata[2]:.2f}<br><extra></extra>",
         "marker": {
          "color": "rgb(79, 163, 66)"
         },
         "name": "Jawa, Total Deaths per 100rb, 2022",
         "showlegend": true,
         "type": "bar",
         "x": [
          "2022, Jawa"
         ],
         "xaxis": "x2",
         "y": [
          35.29
         ],
         "yaxis": "y2"
        },
        {
         "customdata": [
          [
           16216750,
           193.5,
           544151,
           "Kalimantan",
           2022
          ]
         ],
         "hovertemplate": "Category: Total Deaths per 100rb<br>Pulau: %{customdata[3]}<br>Tahun: %{customdata[4]}<br>Value: %{y:.2f}<br>Population: %{customdata[0]:.2f}<br>Population Density: %{customdata[1]:.2f}<br>Area (km2): %{customdata[2]:.2f}<br><extra></extra>",
         "marker": {
          "color": "rgb(218, 133, 19)"
         },
         "name": "Kalimantan, Total Deaths per 100rb, 2022",
         "showlegend": true,
         "type": "bar",
         "x": [
          "2022, Kalimantan"
         ],
         "xaxis": "x2",
         "y": [
          60.89
         ],
         "yaxis": "y2"
        },
        {
         "customdata": [
          [
           3154900,
           80.25999999999999,
           78897,
           "Maluku",
           2022
          ]
         ],
         "hovertemplate": "Category: Total Deaths per 100rb<br>Pulau: %{customdata[3]}<br>Tahun: %{customdata[4]}<br>Value: %{y:.2f}<br>Population: %{customdata[0]:.2f}<br>Population Density: %{customdata[1]:.2f}<br>Area (km2): %{customdata[2]:.2f}<br><extra></extra>",
         "marker": {
          "color": "rgb(91, 202, 30)"
         },
         "name": "Maluku, Total Deaths per 100rb, 2022",
         "showlegend": true,
         "type": "bar",
         "x": [
          "2022, Maluku"
         ],
         "xaxis": "x2",
         "y": [
          15.97
         ],
         "yaxis": "y2"
        },
        {
         "customdata": [
          [
           14897739,
           1124.27,
           73070,
           "Nusa Tenggara",
           2022
          ]
         ],
         "hovertemplate": "Category: Total Deaths per 100rb<br>Pulau: %{customdata[3]}<br>Tahun: %{customdata[4]}<br>Value: %{y:.2f}<br>Population: %{customdata[0]:.2f}<br>Population Density: %{customdata[1]:.2f}<br>Area (km2): %{customdata[2]:.2f}<br><extra></extra>",
         "marker": {
          "color": "rgb(170, 39, 189)"
         },
         "name": "Nusa Tenggara, Total Deaths per 100rb, 2022",
         "showlegend": true,
         "type": "bar",
         "x": [
          "2022, Nusa Tenggara"
         ],
         "xaxis": "x2",
         "y": [
          28.22
         ],
         "yaxis": "y2"
        },
        {
         "customdata": [
          [
           5481049,
           24.68,
           421991,
           "Papua",
           2022
          ]
         ],
         "hovertemplate": "Category: Total Deaths per 100rb<br>Pulau: %{customdata[3]}<br>Tahun: %{customdata[4]}<br>Value: %{y:.2f}<br>Population: %{customdata[0]:.2f}<br>Population Density: %{customdata[1]:.2f}<br>Area (km2): %{customdata[2]:.2f}<br><extra></extra>",
         "marker": {
          "color": "rgb(99, 133, 196)"
         },
         "name": "Papua, Total Deaths per 100rb, 2022",
         "showlegend": true,
         "type": "bar",
         "x": [
          "2022, Papua"
         ],
         "xaxis": "x2",
         "y": [
          33.75
         ],
         "yaxis": "y2"
        },
        {
         "customdata": [
          [
           20400432,
           706.78,
           188562,
           "Sulawesi",
           2022
          ]
         ],
         "hovertemplate": "Category: Total Deaths per 100rb<br>Pulau: %{customdata[3]}<br>Tahun: %{customdata[4]}<br>Value: %{y:.2f}<br>Population: %{customdata[0]:.2f}<br>Population Density: %{customdata[1]:.2f}<br>Area (km2): %{customdata[2]:.2f}<br><extra></extra>",
         "marker": {
          "color": "rgb(210, 58, 194)"
         },
         "name": "Sulawesi, Total Deaths per 100rb, 2022",
         "showlegend": true,
         "type": "bar",
         "x": [
          "2022, Sulawesi"
         ],
         "xaxis": "x2",
         "y": [
          58.64
         ],
         "yaxis": "y2"
        },
        {
         "customdata": [
          [
           57830696,
           1337.37,
           480793,
           "Sumatera",
           2022
          ]
         ],
         "hovertemplate": "Category: Total Deaths per 100rb<br>Pulau: %{customdata[3]}<br>Tahun: %{customdata[4]}<br>Value: %{y:.2f}<br>Population: %{customdata[0]:.2f}<br>Population Density: %{customdata[1]:.2f}<br>Area (km2): %{customdata[2]:.2f}<br><extra></extra>",
         "marker": {
          "color": "rgb(47, 13, 251)"
         },
         "name": "Sumatera, Total Deaths per 100rb, 2022",
         "showlegend": true,
         "type": "bar",
         "x": [
          "2022, Sumatera"
         ],
         "xaxis": "x2",
         "y": [
          22.1
         ],
         "yaxis": "y2"
        }
       ],
       "layout": {
        "annotations": [
         {
          "font": {
           "size": 16
          },
          "showarrow": false,
          "text": "Pertumbuhan Kasus",
          "x": 0.225,
          "xanchor": "center",
          "xref": "paper",
          "y": 1,
          "yanchor": "bottom",
          "yref": "paper"
         },
         {
          "font": {
           "size": 16
          },
          "showarrow": false,
          "text": "Total Pertumbuhan Kasus",
          "x": 0.775,
          "xanchor": "center",
          "xref": "paper",
          "y": 1,
          "yanchor": "bottom",
          "yref": "paper"
         }
        ],
        "barmode": "stack",
        "shapes": [
         {
          "line": {
           "color": "black",
           "width": 1
          },
          "type": "line",
          "x0": 6.5,
          "x1": 6.5,
          "xref": "x",
          "y0": -0.05,
          "y1": 0.05,
          "yref": "y domain"
         },
         {
          "line": {
           "color": "black",
           "width": 1
          },
          "type": "line",
          "x0": 6.5,
          "x1": 6.5,
          "xref": "x2",
          "y0": -0.05,
          "y1": 0.05,
          "yref": "y2 domain"
         },
         {
          "line": {
           "color": "black",
           "width": 1
          },
          "type": "line",
          "x0": 13.5,
          "x1": 13.5,
          "xref": "x",
          "y0": -0.05,
          "y1": 0.05,
          "yref": "y domain"
         },
         {
          "line": {
           "color": "black",
           "width": 1
          },
          "type": "line",
          "x0": 13.5,
          "x1": 13.5,
          "xref": "x2",
          "y0": -0.05,
          "y1": 0.05,
          "yref": "y2 domain"
         }
        ],
        "template": {
         "data": {
          "bar": [
           {
            "error_x": {
             "color": "#2a3f5f"
            },
            "error_y": {
             "color": "#2a3f5f"
            },
            "marker": {
             "line": {
              "color": "#E5ECF6",
              "width": 0.5
             },
             "pattern": {
              "fillmode": "overlay",
              "size": 10,
              "solidity": 0.2
             }
            },
            "type": "bar"
           }
          ],
          "barpolar": [
           {
            "marker": {
             "line": {
              "color": "#E5ECF6",
              "width": 0.5
             },
             "pattern": {
              "fillmode": "overlay",
              "size": 10,
              "solidity": 0.2
             }
            },
            "type": "barpolar"
           }
          ],
          "carpet": [
           {
            "aaxis": {
             "endlinecolor": "#2a3f5f",
             "gridcolor": "white",
             "linecolor": "white",
             "minorgridcolor": "white",
             "startlinecolor": "#2a3f5f"
            },
            "baxis": {
             "endlinecolor": "#2a3f5f",
             "gridcolor": "white",
             "linecolor": "white",
             "minorgridcolor": "white",
             "startlinecolor": "#2a3f5f"
            },
            "type": "carpet"
           }
          ],
          "choropleth": [
           {
            "colorbar": {
             "outlinewidth": 0,
             "ticks": ""
            },
            "type": "choropleth"
           }
          ],
          "contour": [
           {
            "colorbar": {
             "outlinewidth": 0,
             "ticks": ""
            },
            "colorscale": [
             [
              0,
              "#0d0887"
             ],
             [
              0.1111111111111111,
              "#46039f"
             ],
             [
              0.2222222222222222,
              "#7201a8"
             ],
             [
              0.3333333333333333,
              "#9c179e"
             ],
             [
              0.4444444444444444,
              "#bd3786"
             ],
             [
              0.5555555555555556,
              "#d8576b"
             ],
             [
              0.6666666666666666,
              "#ed7953"
             ],
             [
              0.7777777777777778,
              "#fb9f3a"
             ],
             [
              0.8888888888888888,
              "#fdca26"
             ],
             [
              1,
              "#f0f921"
             ]
            ],
            "type": "contour"
           }
          ],
          "contourcarpet": [
           {
            "colorbar": {
             "outlinewidth": 0,
             "ticks": ""
            },
            "type": "contourcarpet"
           }
          ],
          "heatmap": [
           {
            "colorbar": {
             "outlinewidth": 0,
             "ticks": ""
            },
            "colorscale": [
             [
              0,
              "#0d0887"
             ],
             [
              0.1111111111111111,
              "#46039f"
             ],
             [
              0.2222222222222222,
              "#7201a8"
             ],
             [
              0.3333333333333333,
              "#9c179e"
             ],
             [
              0.4444444444444444,
              "#bd3786"
             ],
             [
              0.5555555555555556,
              "#d8576b"
             ],
             [
              0.6666666666666666,
              "#ed7953"
             ],
             [
              0.7777777777777778,
              "#fb9f3a"
             ],
             [
              0.8888888888888888,
              "#fdca26"
             ],
             [
              1,
              "#f0f921"
             ]
            ],
            "type": "heatmap"
           }
          ],
          "heatmapgl": [
           {
            "colorbar": {
             "outlinewidth": 0,
             "ticks": ""
            },
            "colorscale": [
             [
              0,
              "#0d0887"
             ],
             [
              0.1111111111111111,
              "#46039f"
             ],
             [
              0.2222222222222222,
              "#7201a8"
             ],
             [
              0.3333333333333333,
              "#9c179e"
             ],
             [
              0.4444444444444444,
              "#bd3786"
             ],
             [
              0.5555555555555556,
              "#d8576b"
             ],
             [
              0.6666666666666666,
              "#ed7953"
             ],
             [
              0.7777777777777778,
              "#fb9f3a"
             ],
             [
              0.8888888888888888,
              "#fdca26"
             ],
             [
              1,
              "#f0f921"
             ]
            ],
            "type": "heatmapgl"
           }
          ],
          "histogram": [
           {
            "marker": {
             "pattern": {
              "fillmode": "overlay",
              "size": 10,
              "solidity": 0.2
             }
            },
            "type": "histogram"
           }
          ],
          "histogram2d": [
           {
            "colorbar": {
             "outlinewidth": 0,
             "ticks": ""
            },
            "colorscale": [
             [
              0,
              "#0d0887"
             ],
             [
              0.1111111111111111,
              "#46039f"
             ],
             [
              0.2222222222222222,
              "#7201a8"
             ],
             [
              0.3333333333333333,
              "#9c179e"
             ],
             [
              0.4444444444444444,
              "#bd3786"
             ],
             [
              0.5555555555555556,
              "#d8576b"
             ],
             [
              0.6666666666666666,
              "#ed7953"
             ],
             [
              0.7777777777777778,
              "#fb9f3a"
             ],
             [
              0.8888888888888888,
              "#fdca26"
             ],
             [
              1,
              "#f0f921"
             ]
            ],
            "type": "histogram2d"
           }
          ],
          "histogram2dcontour": [
           {
            "colorbar": {
             "outlinewidth": 0,
             "ticks": ""
            },
            "colorscale": [
             [
              0,
              "#0d0887"
             ],
             [
              0.1111111111111111,
              "#46039f"
             ],
             [
              0.2222222222222222,
              "#7201a8"
             ],
             [
              0.3333333333333333,
              "#9c179e"
             ],
             [
              0.4444444444444444,
              "#bd3786"
             ],
             [
              0.5555555555555556,
              "#d8576b"
             ],
             [
              0.6666666666666666,
              "#ed7953"
             ],
             [
              0.7777777777777778,
              "#fb9f3a"
             ],
             [
              0.8888888888888888,
              "#fdca26"
             ],
             [
              1,
              "#f0f921"
             ]
            ],
            "type": "histogram2dcontour"
           }
          ],
          "mesh3d": [
           {
            "colorbar": {
             "outlinewidth": 0,
             "ticks": ""
            },
            "type": "mesh3d"
           }
          ],
          "parcoords": [
           {
            "line": {
             "colorbar": {
              "outlinewidth": 0,
              "ticks": ""
             }
            },
            "type": "parcoords"
           }
          ],
          "pie": [
           {
            "automargin": true,
            "type": "pie"
           }
          ],
          "scatter": [
           {
            "fillpattern": {
             "fillmode": "overlay",
             "size": 10,
             "solidity": 0.2
            },
            "type": "scatter"
           }
          ],
          "scatter3d": [
           {
            "line": {
             "colorbar": {
              "outlinewidth": 0,
              "ticks": ""
             }
            },
            "marker": {
             "colorbar": {
              "outlinewidth": 0,
              "ticks": ""
             }
            },
            "type": "scatter3d"
           }
          ],
          "scattercarpet": [
           {
            "marker": {
             "colorbar": {
              "outlinewidth": 0,
              "ticks": ""
             }
            },
            "type": "scattercarpet"
           }
          ],
          "scattergeo": [
           {
            "marker": {
             "colorbar": {
              "outlinewidth": 0,
              "ticks": ""
             }
            },
            "type": "scattergeo"
           }
          ],
          "scattergl": [
           {
            "marker": {
             "colorbar": {
              "outlinewidth": 0,
              "ticks": ""
             }
            },
            "type": "scattergl"
           }
          ],
          "scattermapbox": [
           {
            "marker": {
             "colorbar": {
              "outlinewidth": 0,
              "ticks": ""
             }
            },
            "type": "scattermapbox"
           }
          ],
          "scatterpolar": [
           {
            "marker": {
             "colorbar": {
              "outlinewidth": 0,
              "ticks": ""
             }
            },
            "type": "scatterpolar"
           }
          ],
          "scatterpolargl": [
           {
            "marker": {
             "colorbar": {
              "outlinewidth": 0,
              "ticks": ""
             }
            },
            "type": "scatterpolargl"
           }
          ],
          "scatterternary": [
           {
            "marker": {
             "colorbar": {
              "outlinewidth": 0,
              "ticks": ""
             }
            },
            "type": "scatterternary"
           }
          ],
          "surface": [
           {
            "colorbar": {
             "outlinewidth": 0,
             "ticks": ""
            },
            "colorscale": [
             [
              0,
              "#0d0887"
             ],
             [
              0.1111111111111111,
              "#46039f"
             ],
             [
              0.2222222222222222,
              "#7201a8"
             ],
             [
              0.3333333333333333,
              "#9c179e"
             ],
             [
              0.4444444444444444,
              "#bd3786"
             ],
             [
              0.5555555555555556,
              "#d8576b"
             ],
             [
              0.6666666666666666,
              "#ed7953"
             ],
             [
              0.7777777777777778,
              "#fb9f3a"
             ],
             [
              0.8888888888888888,
              "#fdca26"
             ],
             [
              1,
              "#f0f921"
             ]
            ],
            "type": "surface"
           }
          ],
          "table": [
           {
            "cells": {
             "fill": {
              "color": "#EBF0F8"
             },
             "line": {
              "color": "white"
             }
            },
            "header": {
             "fill": {
              "color": "#C8D4E3"
             },
             "line": {
              "color": "white"
             }
            },
            "type": "table"
           }
          ]
         },
         "layout": {
          "annotationdefaults": {
           "arrowcolor": "#2a3f5f",
           "arrowhead": 0,
           "arrowwidth": 1
          },
          "autotypenumbers": "strict",
          "coloraxis": {
           "colorbar": {
            "outlinewidth": 0,
            "ticks": ""
           }
          },
          "colorscale": {
           "diverging": [
            [
             0,
             "#8e0152"
            ],
            [
             0.1,
             "#c51b7d"
            ],
            [
             0.2,
             "#de77ae"
            ],
            [
             0.3,
             "#f1b6da"
            ],
            [
             0.4,
             "#fde0ef"
            ],
            [
             0.5,
             "#f7f7f7"
            ],
            [
             0.6,
             "#e6f5d0"
            ],
            [
             0.7,
             "#b8e186"
            ],
            [
             0.8,
             "#7fbc41"
            ],
            [
             0.9,
             "#4d9221"
            ],
            [
             1,
             "#276419"
            ]
           ],
           "sequential": [
            [
             0,
             "#0d0887"
            ],
            [
             0.1111111111111111,
             "#46039f"
            ],
            [
             0.2222222222222222,
             "#7201a8"
            ],
            [
             0.3333333333333333,
             "#9c179e"
            ],
            [
             0.4444444444444444,
             "#bd3786"
            ],
            [
             0.5555555555555556,
             "#d8576b"
            ],
            [
             0.6666666666666666,
             "#ed7953"
            ],
            [
             0.7777777777777778,
             "#fb9f3a"
            ],
            [
             0.8888888888888888,
             "#fdca26"
            ],
            [
             1,
             "#f0f921"
            ]
           ],
           "sequentialminus": [
            [
             0,
             "#0d0887"
            ],
            [
             0.1111111111111111,
             "#46039f"
            ],
            [
             0.2222222222222222,
             "#7201a8"
            ],
            [
             0.3333333333333333,
             "#9c179e"
            ],
            [
             0.4444444444444444,
             "#bd3786"
            ],
            [
             0.5555555555555556,
             "#d8576b"
            ],
            [
             0.6666666666666666,
             "#ed7953"
            ],
            [
             0.7777777777777778,
             "#fb9f3a"
            ],
            [
             0.8888888888888888,
             "#fdca26"
            ],
            [
             1,
             "#f0f921"
            ]
           ]
          },
          "colorway": [
           "#636efa",
           "#EF553B",
           "#00cc96",
           "#ab63fa",
           "#FFA15A",
           "#19d3f3",
           "#FF6692",
           "#B6E880",
           "#FF97FF",
           "#FECB52"
          ],
          "font": {
           "color": "#2a3f5f"
          },
          "geo": {
           "bgcolor": "white",
           "lakecolor": "white",
           "landcolor": "#E5ECF6",
           "showlakes": true,
           "showland": true,
           "subunitcolor": "white"
          },
          "hoverlabel": {
           "align": "left"
          },
          "hovermode": "closest",
          "mapbox": {
           "style": "light"
          },
          "paper_bgcolor": "white",
          "plot_bgcolor": "#E5ECF6",
          "polar": {
           "angularaxis": {
            "gridcolor": "white",
            "linecolor": "white",
            "ticks": ""
           },
           "bgcolor": "#E5ECF6",
           "radialaxis": {
            "gridcolor": "white",
            "linecolor": "white",
            "ticks": ""
           }
          },
          "scene": {
           "xaxis": {
            "backgroundcolor": "#E5ECF6",
            "gridcolor": "white",
            "gridwidth": 2,
            "linecolor": "white",
            "showbackground": true,
            "ticks": "",
            "zerolinecolor": "white"
           },
           "yaxis": {
            "backgroundcolor": "#E5ECF6",
            "gridcolor": "white",
            "gridwidth": 2,
            "linecolor": "white",
            "showbackground": true,
            "ticks": "",
            "zerolinecolor": "white"
           },
           "zaxis": {
            "backgroundcolor": "#E5ECF6",
            "gridcolor": "white",
            "gridwidth": 2,
            "linecolor": "white",
            "showbackground": true,
            "ticks": "",
            "zerolinecolor": "white"
           }
          },
          "shapedefaults": {
           "line": {
            "color": "#2a3f5f"
           }
          },
          "ternary": {
           "aaxis": {
            "gridcolor": "white",
            "linecolor": "white",
            "ticks": ""
           },
           "baxis": {
            "gridcolor": "white",
            "linecolor": "white",
            "ticks": ""
           },
           "bgcolor": "#E5ECF6",
           "caxis": {
            "gridcolor": "white",
            "linecolor": "white",
            "ticks": ""
           }
          },
          "title": {
           "x": 0.05
          },
          "xaxis": {
           "automargin": true,
           "gridcolor": "white",
           "linecolor": "white",
           "ticks": "",
           "title": {
            "standoff": 15
           },
           "zerolinecolor": "white",
           "zerolinewidth": 2
          },
          "yaxis": {
           "automargin": true,
           "gridcolor": "white",
           "linecolor": "white",
           "ticks": "",
           "title": {
            "standoff": 15
           },
           "zerolinecolor": "white",
           "zerolinewidth": 2
          }
         }
        },
        "title": {
         "text": "Rincian Kasus Covid per Populasi di Pulau Indonesia pada Tahun 2020 - 2022"
        },
        "xaxis": {
         "anchor": "y",
         "domain": [
          0,
          0.45
         ],
         "ticktext": [
          "2020",
          "2021",
          "2022"
         ],
         "tickvals": [
          3,
          10,
          17
         ],
         "title": {
          "text": "Tahun"
         },
         "type": "category"
        },
        "xaxis2": {
         "anchor": "y2",
         "domain": [
          0.55,
          1
         ],
         "ticktext": [
          "2020",
          "2021",
          "2022"
         ],
         "tickvals": [
          3,
          10,
          17
         ],
         "title": {
          "text": "Tahun"
         },
         "type": "category"
        },
        "yaxis": {
         "anchor": "x",
         "domain": [
          0,
          1
         ],
         "title": {
          "text": "Jumlah"
         }
        },
        "yaxis2": {
         "anchor": "x2",
         "domain": [
          0,
          1
         ],
         "title": {
          "text": "Jumlah"
         }
        }
       }
      }
     },
     "metadata": {},
     "output_type": "display_data"
    }
   ],
   "source": [
    "import plotly.graph_objs as go\n",
    "from plotly.subplots import make_subplots\n",
    "import numpy as np\n",
    "\n",
    "values_1 = analisis_3.iloc[:, 9:11]\n",
    "values_2 = analisis_3.iloc[:, 17:]\n",
    "tick_positions = []\n",
    "tick_labels = []\n",
    "\n",
    "for i, year in enumerate(analisis_3[\"Year\"].unique(), start=0):\n",
    "    tick_positions.append(7*i+3)\n",
    "    tick_labels.append(str(year))\n",
    "\n",
    "fig = make_subplots(rows=1, cols=2, subplot_titles=(\"Pertumbuhan Kasus\", \"Total Pertumbuhan Kasus\"))\n",
    "\n",
    "def generate_color_palette(categories):\n",
    "    colors = []\n",
    "    for i in range(categories):\n",
    "        color = f'rgb({np.random.randint(0, 256)}, {np.random.randint(0, 256)}, {np.random.randint(0, 256)})'\n",
    "        colors.append(color)\n",
    "    return colors\n",
    "\n",
    "color_palette_dict = {}\n",
    "\n",
    "for col in values_1.columns:\n",
    "    for year in analisis_3[\"Year\"].unique():\n",
    "        island_data = analisis_3[analisis_3[\"Year\"] == year]\n",
    "        for island in analisis_3['Island'].unique():\n",
    "            island_data_subset = island_data[island_data[\"Island\"] == island]\n",
    "            num_categories = len(island_data_subset[col].unique())\n",
    "            # Generate color palette if not already generated for the island and category\n",
    "            if (island, col) not in color_palette_dict:\n",
    "                color_palette_dict[(island, col)] = generate_color_palette(num_categories)\n",
    "            color_palette = color_palette_dict[(island, col)]\n",
    "            for category, color in zip(island_data_subset[col].unique(), color_palette):\n",
    "                subset_by_category = island_data_subset[island_data_subset[col] == category]\n",
    "                fig.add_trace(go.Bar(x=subset_by_category['Year'].astype(str) + ', ' + subset_by_category['Island'], \n",
    "                                     y=subset_by_category[col],                                      \n",
    "                                     name=f'{island}, {col}, {year}',\n",
    "                                     #legendgroup=f'{color}',\n",
    "                                     hovertemplate=f'Category: {col}<br>' +\n",
    "                                                   'Pulau: %{customdata[3]}<br>' +\n",
    "                                                   'Tahun: %{customdata[4]}<br>' +\n",
    "                                                   'Value: %{y:.2f}<br>' +\n",
    "                                                   'Population: %{customdata[0]:.2f}<br>' +\n",
    "                                                   'Population Density: %{customdata[1]:.2f}<br>' +\n",
    "                                                   'Area (km2): %{customdata[2]:.2f}<br><extra></extra>',\n",
    "                                     customdata=subset_by_category[['Population', 'Population Density', 'Area (km2)', 'Island', 'Year']],\n",
    "                                     marker_color=color,\n",
    "                                     showlegend=True),\n",
    "                              row=1, col=1)\n",
    "\n",
    "for col in values_2.columns:\n",
    "    for year in analisis_3[\"Year\"].unique():\n",
    "        island_data = analisis_3[analisis_3[\"Year\"] == year]\n",
    "        for island in analisis_3['Island'].unique():\n",
    "            island_data_subset = island_data[island_data[\"Island\"] == island]\n",
    "            num_categories = len(island_data_subset[col].unique())\n",
    "            # Generate color palette if not already generated for the island and category\n",
    "            if (island, col) not in color_palette_dict:\n",
    "                color_palette_dict[(island, col)] = generate_color_palette(num_categories)\n",
    "            color_palette = color_palette_dict[(island, col)]\n",
    "            for category, color in zip(island_data_subset[col].unique(), color_palette):\n",
    "                subset_by_category = island_data_subset[island_data_subset[col] == category]\n",
    "                fig.add_trace(go.Bar(x=subset_by_category['Year'].astype(str) + ', ' + subset_by_category['Island'], \n",
    "                                     y=subset_by_category[col], \n",
    "                                     name=f'{island}, {col}, {year}',\n",
    "                                     #legendgroup=f'{color}',\n",
    "                                     hovertemplate=f'Category: {col}<br>' +\n",
    "                                                   'Pulau: %{customdata[3]}<br>' +\n",
    "                                                   'Tahun: %{customdata[4]}<br>' +\n",
    "                                                   'Value: %{y:.2f}<br>' +\n",
    "                                                   'Population: %{customdata[0]:.2f}<br>' +\n",
    "                                                   'Population Density: %{customdata[1]:.2f}<br>' +\n",
    "                                                   'Area (km2): %{customdata[2]:.2f}<br><extra></extra>',\n",
    "                                     customdata=subset_by_category[['Population', 'Population Density', 'Area (km2)', 'Island', 'Year']],\n",
    "                                     marker_color=color,\n",
    "                                     showlegend=True),\n",
    "                              row=1, col=2)\n",
    "                \n",
    "for year in tick_positions[1:]:\n",
    "    fig.add_vline(x=year-3.5, line=dict(color=\"black\", width=1), y0=-0.05, y1=0.05)                     \n",
    "\n",
    "fig.update_xaxes(title_text='Tahun', row=1, col=1, type='category', tickvals=tick_positions, ticktext=tick_labels)\n",
    "fig.update_xaxes(title_text='Tahun', row=1, col=2, type='category', tickvals=tick_positions, ticktext=tick_labels)\n",
    "fig.update_yaxes(title_text='Jumlah')\n",
    "fig.update_layout(title='Rincian Kasus Covid per Populasi di Pulau Indonesia pada Tahun 2020 - 2022', barmode='stack')\n",
    "\n",
    "fig.write_html(\"g_8.html\")\n",
    "fig.show()\n"
   ]
  },
  {
   "cell_type": "code",
   "execution_count": null,
   "metadata": {},
   "outputs": [],
   "source": []
  },
  {
   "cell_type": "code",
   "execution_count": 28,
   "metadata": {},
   "outputs": [
    {
     "name": "stdout",
     "output_type": "stream",
     "text": [
      "<class 'pandas.core.frame.DataFrame'>\n",
      "RangeIndex: 31822 entries, 0 to 31821\n",
      "Data columns (total 7 columns):\n",
      " #   Column            Non-Null Count  Dtype         \n",
      "---  ------            --------------  -----         \n",
      " 0   Date              31822 non-null  datetime64[ns]\n",
      " 1   New Cases         31822 non-null  int64         \n",
      " 2   New Deaths        31822 non-null  int64         \n",
      " 3   New Recovered     31822 non-null  int64         \n",
      " 4   New Active Cases  31822 non-null  int64         \n",
      " 5   Island            30893 non-null  object        \n",
      " 6   Province          30893 non-null  object        \n",
      "dtypes: datetime64[ns](1), int64(4), object(2)\n",
      "memory usage: 1.7+ MB\n"
     ]
    }
   ],
   "source": [
    "analisis = data.select_dtypes(exclude=['object']) \t\n",
    "analisis = analisis.iloc[:, :5]\n",
    "analisis = analisis.join(data[[\"Island\", \"Province\"]])\n",
    "analisis.info()"
   ]
  },
  {
   "cell_type": "code",
   "execution_count": 29,
   "metadata": {},
   "outputs": [
    {
     "name": "stdout",
     "output_type": "stream",
     "text": [
      "<class 'pandas.core.frame.DataFrame'>\n",
      "Index: 30893 entries, 0 to 31820\n",
      "Data columns (total 7 columns):\n",
      " #   Column            Non-Null Count  Dtype         \n",
      "---  ------            --------------  -----         \n",
      " 0   Date              30893 non-null  datetime64[ns]\n",
      " 1   New Cases         30893 non-null  int64         \n",
      " 2   New Deaths        30893 non-null  int64         \n",
      " 3   New Recovered     30893 non-null  int64         \n",
      " 4   New Active Cases  30893 non-null  int64         \n",
      " 5   Island            30893 non-null  object        \n",
      " 6   Province          30893 non-null  object        \n",
      "dtypes: datetime64[ns](1), int64(4), object(2)\n",
      "memory usage: 1.9+ MB\n"
     ]
    }
   ],
   "source": [
    "analisis = analisis.dropna()\n",
    "analisis.info()"
   ]
  },
  {
   "cell_type": "code",
   "execution_count": 30,
   "metadata": {},
   "outputs": [
    {
     "data": {
      "text/html": [
       "<div>\n",
       "<style scoped>\n",
       "    .dataframe tbody tr th:only-of-type {\n",
       "        vertical-align: middle;\n",
       "    }\n",
       "\n",
       "    .dataframe tbody tr th {\n",
       "        vertical-align: top;\n",
       "    }\n",
       "\n",
       "    .dataframe thead th {\n",
       "        text-align: right;\n",
       "    }\n",
       "</style>\n",
       "<table border=\"1\" class=\"dataframe\">\n",
       "  <thead>\n",
       "    <tr style=\"text-align: right;\">\n",
       "      <th></th>\n",
       "      <th>Year</th>\n",
       "      <th>Island</th>\n",
       "      <th>Province</th>\n",
       "      <th>New Cases</th>\n",
       "      <th>New Deaths</th>\n",
       "      <th>New Recovered</th>\n",
       "      <th>New Active Cases</th>\n",
       "    </tr>\n",
       "  </thead>\n",
       "  <tbody>\n",
       "    <tr>\n",
       "      <th>0</th>\n",
       "      <td>2020</td>\n",
       "      <td>Jawa</td>\n",
       "      <td>Banten</td>\n",
       "      <td>18154.0</td>\n",
       "      <td>520.0</td>\n",
       "      <td>15583.0</td>\n",
       "      <td>2051.0</td>\n",
       "    </tr>\n",
       "    <tr>\n",
       "      <th>1</th>\n",
       "      <td>2020</td>\n",
       "      <td>Jawa</td>\n",
       "      <td>DKI Jakarta</td>\n",
       "      <td>183697.0</td>\n",
       "      <td>3250.0</td>\n",
       "      <td>164665.0</td>\n",
       "      <td>15782.0</td>\n",
       "    </tr>\n",
       "    <tr>\n",
       "      <th>2</th>\n",
       "      <td>2020</td>\n",
       "      <td>Jawa</td>\n",
       "      <td>Daerah Istimewa Yogyakarta</td>\n",
       "      <td>12155.0</td>\n",
       "      <td>259.0</td>\n",
       "      <td>8175.0</td>\n",
       "      <td>3721.0</td>\n",
       "    </tr>\n",
       "    <tr>\n",
       "      <th>3</th>\n",
       "      <td>2020</td>\n",
       "      <td>Jawa</td>\n",
       "      <td>Jawa Barat</td>\n",
       "      <td>90216.0</td>\n",
       "      <td>1446.0</td>\n",
       "      <td>74920.0</td>\n",
       "      <td>13850.0</td>\n",
       "    </tr>\n",
       "    <tr>\n",
       "      <th>4</th>\n",
       "      <td>2020</td>\n",
       "      <td>Jawa</td>\n",
       "      <td>Jawa Tengah</td>\n",
       "      <td>82546.0</td>\n",
       "      <td>3620.0</td>\n",
       "      <td>56461.0</td>\n",
       "      <td>22465.0</td>\n",
       "    </tr>\n",
       "  </tbody>\n",
       "</table>\n",
       "</div>"
      ],
      "text/plain": [
       "   Year Island                    Province  New Cases  New Deaths  \\\n",
       "0  2020   Jawa                      Banten    18154.0       520.0   \n",
       "1  2020   Jawa                 DKI Jakarta   183697.0      3250.0   \n",
       "2  2020   Jawa  Daerah Istimewa Yogyakarta    12155.0       259.0   \n",
       "3  2020   Jawa                  Jawa Barat    90216.0      1446.0   \n",
       "4  2020   Jawa                 Jawa Tengah    82546.0      3620.0   \n",
       "\n",
       "   New Recovered  New Active Cases  \n",
       "0        15583.0            2051.0  \n",
       "1       164665.0           15782.0  \n",
       "2         8175.0            3721.0  \n",
       "3        74920.0           13850.0  \n",
       "4        56461.0           22465.0  "
      ]
     },
     "execution_count": 30,
     "metadata": {},
     "output_type": "execute_result"
    }
   ],
   "source": [
    "sum_col = \", \".join([f'SUM(\"{col}\") AS \"{col}\"' for col in analisis.iloc[:, 1:5]])\n",
    "\n",
    "analisis = query(f'''SELECT YEAR(Date) AS Year, Island, Province, {sum_col}\n",
    "                    FROM analisis GROUP BY YEAR(Date), Island, Province\n",
    "                    ORDER BY YEAR(Date), Island, Province''')\n",
    "analisis.head()"
   ]
  },
  {
   "cell_type": "code",
   "execution_count": 31,
   "metadata": {},
   "outputs": [
    {
     "data": {
      "image/png": "[encoded data removed]",
      "text/plain": [
       "<Figure size 1800x600 with 3 Axes>"
      ]
     },
     "metadata": {},
     "output_type": "display_data"
    }
   ],
   "source": [
    "fig, ax = plt.subplots(1, 3, figsize=(18, 6))\n",
    "\n",
    "count_new_cases = analisis.groupby(['Year', 'Island'])['New Deaths'].sum().unstack()\n",
    "count_new_cases.plot(kind='bar', stacked=True, ax=ax[0])\n",
    "ax[0].set_xticks(range(len(count_new_cases.index)))\n",
    "ax[0].set_xticklabels(count_new_cases.index, rotation=0, ha='center')\n",
    "ax[0].legend(title='Pulau', loc='upper right')\n",
    "ax[0].set_xlabel('Tahun')\n",
    "ax[1].set_ylabel('Jumlah')\n",
    "ax[0].set_title('Kematian')\n",
    "\n",
    "count_new_deaths = analisis.groupby(['Year', 'Island'])['New Recovered'].sum().unstack()\n",
    "count_new_deaths.plot(kind='bar', stacked=False, ax=ax[1])\n",
    "ax[1].set_xticks(range(len(count_new_deaths.index)))\n",
    "ax[1].set_xticklabels(count_new_deaths.index, rotation=0, ha='center')\n",
    "ax[1].legend(title='Pulau', loc='upper right')\n",
    "ax[1].set_xlabel('Tahun')\n",
    "ax[1].set_ylabel('Jumlah')\n",
    "ax[1].set_title('Kesembuhan')\n",
    "\n",
    "count_new_deaths = analisis.groupby(['Year', 'Island'])['New Active Cases'].sum().unstack()\n",
    "count_new_deaths.plot(kind='bar', stacked=False, ax=ax[2])\n",
    "ax[2].set_xticks(range(len(count_new_deaths.index)))\n",
    "ax[2].set_xticklabels(count_new_deaths.index, rotation=0, ha='center')\n",
    "ax[2].legend(title='Pulau', loc='lower right')\n",
    "ax[2].set_xlabel('Tahun')\n",
    "ax[2].set_ylabel('Jumlah')\n",
    "ax[2].set_title('Terjangkit')\n",
    "\n",
    "plt.suptitle('Rincian Kasus Covid di Pulau Indonesia pada Tahun 2020 - 2022')\n",
    "plt.tight_layout()\n",
    "plt.show()"
   ]
  },
  {
   "cell_type": "code",
   "execution_count": 32,
   "metadata": {},
   "outputs": [
    {
     "data": {
      "image/png": "[encoded data removed]",
      "text/plain": [
       "<Figure size 640x480 with 1 Axes>"
      ]
     },
     "metadata": {},
     "output_type": "display_data"
    }
   ],
   "source": [
    "count = analisis.loc[(analisis['Island'] == 'Sumatera') & (analisis['Year'] == 2020)].groupby('Province')['New Deaths'].sum()\n",
    "\n",
    "colors = plt.cm.tab20.colors  \n",
    "wedges, texts, autotexts = plt.pie(count, labels=None, autopct='%1.1f%%', startangle=140, colors=colors[:len(count)])\n",
    "\n",
    "dummy_handles = [plt.Line2D([0], [0], marker='o', color='w', markersize=10, markerfacecolor=wedges[i].get_facecolor()) for i in range(len(count))]\n",
    "plt.legend(dummy_handles, count.index, title='Provinsi', loc='lower center', ncol=5)\n",
    "\n",
    "plt.title('Kasus Kematian Covid di Pulau Sumatera pada Tahun 2020')\n",
    "plt.axis('equal') \n",
    "plt.show()"
   ]
  },
  {
   "cell_type": "code",
   "execution_count": 33,
   "metadata": {},
   "outputs": [
    {
     "data": {
      "image/png": "[encoded data removed]",
      "text/plain": [
       "<Figure size 2000x500 with 3 Axes>"
      ]
     },
     "metadata": {},
     "output_type": "display_data"
    }
   ],
   "source": [
    "count = analisis[analisis['Island'] == 'Sumatera'].groupby(['Year', 'Province'])['New Deaths'].sum().unstack()\n",
    "years = count.index\n",
    "island_colors = {}\n",
    "\n",
    "fig, axs = plt.subplots(1, len(years), figsize=(20, 5))\n",
    "\n",
    "for i, year in enumerate(years):\n",
    "    data = count.loc[year]\n",
    "    \n",
    "    wedges, texts, autotexts = axs[i].pie(data, labels=None, autopct='%1.1f%%', startangle=140)\n",
    "    axs[i].set_title(f'Tahun {year}')\n",
    "    axs[i].set_ylabel('')\n",
    "    \n",
    "    for j, (wedge, island) in enumerate(zip(wedges, data.index)):\n",
    "        if island not in island_colors:\n",
    "            island_colors[island] = wedge.get_facecolor()\n",
    "\n",
    "legend_labels = [f'{island}' for island in island_colors.keys()]\n",
    "legend_handles = [plt.Line2D([0], [0], marker='o', color='w', markersize=10, markerfacecolor=color) \n",
    "                  for color in island_colors.values()]\n",
    "plt.legend(legend_handles, legend_labels, title='Provinsi', loc='upper center', ncol=10, \n",
    "           bbox_to_anchor=(0.5, 0), bbox_transform=axs[1].transAxes, frameon=True)\n",
    "\n",
    "plt.suptitle('Kasus Kematian Covid di Pulau Sumatera pada Tahun 2020 - 2022', y=1.05)\n",
    "plt.subplots_adjust()  \n",
    "plt.show()"
   ]
  },
  {
   "cell_type": "code",
   "execution_count": null,
   "metadata": {},
   "outputs": [],
   "source": []
  }
 ],
 "metadata": {
  "kernelspec": {
   "display_name": "py38",
   "language": "python",
   "name": "python3"
  },
  "language_info": {
   "codemirror_mode": {
    "name": "ipython",
    "version": 3
   },
   "file_extension": ".py",
   "mimetype": "text/x-python",
   "name": "python",
   "nbconvert_exporter": "python",
   "pygments_lexer": "ipython3",
   "version": "3.12.3"
  },
  "orig_nbformat": 4
 },
 "nbformat": 4,
 "nbformat_minor": 2
}
